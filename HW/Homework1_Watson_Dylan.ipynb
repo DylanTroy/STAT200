{
 "cells": [
  {
   "cell_type": "markdown",
   "metadata": {
    "id": "gtETsh5j8vHw"
   },
   "source": [
    "# **Homework 1: Data Munging and Subsetting (30 points)**\n",
    "\n",
    "#### **Dylan Watson**\n"
   ]
  },
  {
   "cell_type": "markdown",
   "metadata": {
    "id": "en9tcPcGuFyc"
   },
   "source": [
    "---\n",
    "**Instructions**: Complete the homework assignment below.\n",
    "- <font color=red>Tasks</font> indicated in red must be completed to receive credit\n",
    "- Include all code for your work\n",
    "- Include markdown cells with written answers explaining your work when prompted\n",
    "- Your completed assignment must be submitted to Canvas as a .ipynb file by the deadline listed on Canvas\n",
    "---"
   ]
  },
  {
   "cell_type": "markdown",
   "metadata": {
    "id": "MfKT4gy91QKV"
   },
   "source": [
    "####<font color=red>Organized</font> (1 points)\n",
    "* Answers should be organized in the following format for organization and readability\n",
    "\n",
    "<br>\n",
    "\n",
    "```\n",
    "# 1. \n",
    "This will be the code block to answer the first part of a task\n",
    "```\n",
    "\n",
    "1. This will be the text answer/explanation (if prompted) for the first task\n",
    "\n",
    "<br>\n",
    "\n",
    "```\n",
    "# 2. \n",
    "This will be the code block to answer the second part of a task in a separate code cell\n",
    "```\n",
    "\n",
    "2. This will be the text answer/explanation (if prompted) for the second task\n",
    "\n",
    "<br>\n",
    "\n",
    "Continue this format for the remaining subtasks\n"
   ]
  },
  {
   "cell_type": "markdown",
   "metadata": {
    "id": "YfKhJv3Q1PBh"
   },
   "source": [
    "<br>\n",
    "\n",
    "---\n",
    "\n",
    "<br>\n",
    "\n",
    "\n",
    "\n",
    "\n"
   ]
  },
  {
   "cell_type": "markdown",
   "metadata": {
    "id": "_CQFIspRN6dj"
   },
   "source": [
    "####<font color=red>Task 0</font>: Subsetting Practice  (10 points)\n",
    "\n",
    "Using subsetting to perform the following tasks using the `mtcars` dataset\n",
    "1. Select all rows of cars corresponding to 6 cylinder engines AND 3 gears\n",
    "\n",
    "2. Select first 2 rows and the 3rd and 5th columns of the `mtcars` dataset using subsetting\n",
    "\n",
    "3. Select all rows corresponding to horsepower (`hp`) greater than 300\n",
    "\n",
    "4. Using subsetting to calculate the average weight `wt` of cars with `mpg` < 15\n",
    "\n",
    "5. Using subsetting to calculate the average weight `wt` of cars with `mpg` < 15 OR `mpg` > 30\n"
   ]
  },
  {
   "cell_type": "code",
   "execution_count": 1,
   "metadata": {
    "vscode": {
     "languageId": "r"
    }
   },
   "outputs": [
    {
     "data": {
      "text/html": [
       "<table class=\"dataframe\">\n",
       "<caption>A data.frame: 2 × 11</caption>\n",
       "<thead>\n",
       "\t<tr><th></th><th scope=col>mpg</th><th scope=col>cyl</th><th scope=col>disp</th><th scope=col>hp</th><th scope=col>drat</th><th scope=col>wt</th><th scope=col>qsec</th><th scope=col>vs</th><th scope=col>am</th><th scope=col>gear</th><th scope=col>carb</th></tr>\n",
       "\t<tr><th></th><th scope=col>&lt;dbl&gt;</th><th scope=col>&lt;dbl&gt;</th><th scope=col>&lt;dbl&gt;</th><th scope=col>&lt;dbl&gt;</th><th scope=col>&lt;dbl&gt;</th><th scope=col>&lt;dbl&gt;</th><th scope=col>&lt;dbl&gt;</th><th scope=col>&lt;dbl&gt;</th><th scope=col>&lt;dbl&gt;</th><th scope=col>&lt;dbl&gt;</th><th scope=col>&lt;dbl&gt;</th></tr>\n",
       "</thead>\n",
       "<tbody>\n",
       "\t<tr><th scope=row>Hornet 4 Drive</th><td>21.4</td><td>6</td><td>258</td><td>110</td><td>3.08</td><td>3.215</td><td>19.44</td><td>1</td><td>0</td><td>3</td><td>1</td></tr>\n",
       "\t<tr><th scope=row>Valiant</th><td>18.1</td><td>6</td><td>225</td><td>105</td><td>2.76</td><td>3.460</td><td>20.22</td><td>1</td><td>0</td><td>3</td><td>1</td></tr>\n",
       "</tbody>\n",
       "</table>\n"
      ],
      "text/latex": [
       "A data.frame: 2 × 11\n",
       "\\begin{tabular}{r|lllllllllll}\n",
       "  & mpg & cyl & disp & hp & drat & wt & qsec & vs & am & gear & carb\\\\\n",
       "  & <dbl> & <dbl> & <dbl> & <dbl> & <dbl> & <dbl> & <dbl> & <dbl> & <dbl> & <dbl> & <dbl>\\\\\n",
       "\\hline\n",
       "\tHornet 4 Drive & 21.4 & 6 & 258 & 110 & 3.08 & 3.215 & 19.44 & 1 & 0 & 3 & 1\\\\\n",
       "\tValiant & 18.1 & 6 & 225 & 105 & 2.76 & 3.460 & 20.22 & 1 & 0 & 3 & 1\\\\\n",
       "\\end{tabular}\n"
      ],
      "text/markdown": [
       "\n",
       "A data.frame: 2 × 11\n",
       "\n",
       "| <!--/--> | mpg &lt;dbl&gt; | cyl &lt;dbl&gt; | disp &lt;dbl&gt; | hp &lt;dbl&gt; | drat &lt;dbl&gt; | wt &lt;dbl&gt; | qsec &lt;dbl&gt; | vs &lt;dbl&gt; | am &lt;dbl&gt; | gear &lt;dbl&gt; | carb &lt;dbl&gt; |\n",
       "|---|---|---|---|---|---|---|---|---|---|---|---|\n",
       "| Hornet 4 Drive | 21.4 | 6 | 258 | 110 | 3.08 | 3.215 | 19.44 | 1 | 0 | 3 | 1 |\n",
       "| Valiant | 18.1 | 6 | 225 | 105 | 2.76 | 3.460 | 20.22 | 1 | 0 | 3 | 1 |\n",
       "\n"
      ],
      "text/plain": [
       "               mpg  cyl disp hp  drat wt    qsec  vs am gear carb\n",
       "Hornet 4 Drive 21.4 6   258  110 3.08 3.215 19.44 1  0  3    1   \n",
       "Valiant        18.1 6   225  105 2.76 3.460 20.22 1  0  3    1   "
      ]
     },
     "metadata": {},
     "output_type": "display_data"
    },
    {
     "data": {
      "text/html": [
       "<table class=\"dataframe\">\n",
       "<caption>A data.frame: 2 × 2</caption>\n",
       "<thead>\n",
       "\t<tr><th></th><th scope=col>disp</th><th scope=col>drat</th></tr>\n",
       "\t<tr><th></th><th scope=col>&lt;dbl&gt;</th><th scope=col>&lt;dbl&gt;</th></tr>\n",
       "</thead>\n",
       "<tbody>\n",
       "\t<tr><th scope=row>Mazda RX4</th><td>160</td><td>3.9</td></tr>\n",
       "\t<tr><th scope=row>Mazda RX4 Wag</th><td>160</td><td>3.9</td></tr>\n",
       "</tbody>\n",
       "</table>\n"
      ],
      "text/latex": [
       "A data.frame: 2 × 2\n",
       "\\begin{tabular}{r|ll}\n",
       "  & disp & drat\\\\\n",
       "  & <dbl> & <dbl>\\\\\n",
       "\\hline\n",
       "\tMazda RX4 & 160 & 3.9\\\\\n",
       "\tMazda RX4 Wag & 160 & 3.9\\\\\n",
       "\\end{tabular}\n"
      ],
      "text/markdown": [
       "\n",
       "A data.frame: 2 × 2\n",
       "\n",
       "| <!--/--> | disp &lt;dbl&gt; | drat &lt;dbl&gt; |\n",
       "|---|---|---|\n",
       "| Mazda RX4 | 160 | 3.9 |\n",
       "| Mazda RX4 Wag | 160 | 3.9 |\n",
       "\n"
      ],
      "text/plain": [
       "              disp drat\n",
       "Mazda RX4     160  3.9 \n",
       "Mazda RX4 Wag 160  3.9 "
      ]
     },
     "metadata": {},
     "output_type": "display_data"
    },
    {
     "data": {
      "text/html": [
       "<table class=\"dataframe\">\n",
       "<caption>A data.frame: 1 × 11</caption>\n",
       "<thead>\n",
       "\t<tr><th></th><th scope=col>mpg</th><th scope=col>cyl</th><th scope=col>disp</th><th scope=col>hp</th><th scope=col>drat</th><th scope=col>wt</th><th scope=col>qsec</th><th scope=col>vs</th><th scope=col>am</th><th scope=col>gear</th><th scope=col>carb</th></tr>\n",
       "\t<tr><th></th><th scope=col>&lt;dbl&gt;</th><th scope=col>&lt;dbl&gt;</th><th scope=col>&lt;dbl&gt;</th><th scope=col>&lt;dbl&gt;</th><th scope=col>&lt;dbl&gt;</th><th scope=col>&lt;dbl&gt;</th><th scope=col>&lt;dbl&gt;</th><th scope=col>&lt;dbl&gt;</th><th scope=col>&lt;dbl&gt;</th><th scope=col>&lt;dbl&gt;</th><th scope=col>&lt;dbl&gt;</th></tr>\n",
       "</thead>\n",
       "<tbody>\n",
       "\t<tr><th scope=row>Maserati Bora</th><td>15</td><td>8</td><td>301</td><td>335</td><td>3.54</td><td>3.57</td><td>14.6</td><td>0</td><td>1</td><td>5</td><td>8</td></tr>\n",
       "</tbody>\n",
       "</table>\n"
      ],
      "text/latex": [
       "A data.frame: 1 × 11\n",
       "\\begin{tabular}{r|lllllllllll}\n",
       "  & mpg & cyl & disp & hp & drat & wt & qsec & vs & am & gear & carb\\\\\n",
       "  & <dbl> & <dbl> & <dbl> & <dbl> & <dbl> & <dbl> & <dbl> & <dbl> & <dbl> & <dbl> & <dbl>\\\\\n",
       "\\hline\n",
       "\tMaserati Bora & 15 & 8 & 301 & 335 & 3.54 & 3.57 & 14.6 & 0 & 1 & 5 & 8\\\\\n",
       "\\end{tabular}\n"
      ],
      "text/markdown": [
       "\n",
       "A data.frame: 1 × 11\n",
       "\n",
       "| <!--/--> | mpg &lt;dbl&gt; | cyl &lt;dbl&gt; | disp &lt;dbl&gt; | hp &lt;dbl&gt; | drat &lt;dbl&gt; | wt &lt;dbl&gt; | qsec &lt;dbl&gt; | vs &lt;dbl&gt; | am &lt;dbl&gt; | gear &lt;dbl&gt; | carb &lt;dbl&gt; |\n",
       "|---|---|---|---|---|---|---|---|---|---|---|---|\n",
       "| Maserati Bora | 15 | 8 | 301 | 335 | 3.54 | 3.57 | 14.6 | 0 | 1 | 5 | 8 |\n",
       "\n"
      ],
      "text/plain": [
       "              mpg cyl disp hp  drat wt   qsec vs am gear carb\n",
       "Maserati Bora 15  8   301  335 3.54 3.57 14.6 0  1  5    8   "
      ]
     },
     "metadata": {},
     "output_type": "display_data"
    },
    {
     "data": {
      "text/html": [
       "4.6858"
      ],
      "text/latex": [
       "4.6858"
      ],
      "text/markdown": [
       "4.6858"
      ],
      "text/plain": [
       "[1] 4.6858"
      ]
     },
     "metadata": {},
     "output_type": "display_data"
    },
    {
     "data": {
      "text/html": [
       "3.39911111111111"
      ],
      "text/latex": [
       "3.39911111111111"
      ],
      "text/markdown": [
       "3.39911111111111"
      ],
      "text/plain": [
       "[1] 3.399111"
      ]
     },
     "metadata": {},
     "output_type": "display_data"
    }
   ],
   "source": [
    "data(mtcars)\n",
    "# subset 1\n",
    "mtcars[mtcars$cyl == 6 & mtcars$gear == 3, ]\n",
    "# subset 2\n",
    "mtcars[c(1:2), c(3, 5)]\n",
    "# subset 3\n",
    "mtcars[mtcars$hp > 300, ]\n",
    "# subset 4\n",
    "mean(mtcars$wt[mtcars$mpg < 15])\n",
    "# subset 5\n",
    "mean(mtcars$wt[mtcars$mpg < 15 | mtcars$mpg > 30])"
   ]
  },
  {
   "cell_type": "markdown",
   "metadata": {
    "id": "Gw2FzJcjN6do"
   },
   "source": [
    "<br>\n",
    "\n",
    "---\n",
    "\n",
    "<br>\n",
    "\n",
    "\n",
    "\n",
    "\n"
   ]
  },
  {
   "cell_type": "markdown",
   "metadata": {
    "id": "Ek6IuNtolHgW"
   },
   "source": [
    "####<font color=red>Task 1</font>  (1 point)\n",
    "\n",
    "1. Load the `nst-est2011-06.csv` from the [census website](https://www2.census.gov/programs-surveys/popest/tables/2010-2011/state/totals/)\n",
    "2. Store the dataset as a dataframe called `events`\n"
   ]
  },
  {
   "cell_type": "code",
   "execution_count": 2,
   "metadata": {
    "vscode": {
     "languageId": "r"
    }
   },
   "outputs": [
    {
     "data": {
      "text/html": [
       "<table class=\"dataframe\">\n",
       "<caption>A data.frame: 8 × 12</caption>\n",
       "<thead>\n",
       "\t<tr><th></th><th scope=col>table.with.row.headers.in.column.A.and.column.headers.in.rows.3.through.4...leading.dots.indicate.sub.parts.</th><th scope=col>X</th><th scope=col>X.1</th><th scope=col>X.2</th><th scope=col>X.3</th><th scope=col>X.4</th><th scope=col>X.5</th><th scope=col>X.6</th><th scope=col>X.7</th><th scope=col>X.8</th><th scope=col>X.9</th><th scope=col>X.10</th></tr>\n",
       "\t<tr><th></th><th scope=col>&lt;chr&gt;</th><th scope=col>&lt;chr&gt;</th><th scope=col>&lt;chr&gt;</th><th scope=col>&lt;chr&gt;</th><th scope=col>&lt;chr&gt;</th><th scope=col>&lt;chr&gt;</th><th scope=col>&lt;chr&gt;</th><th scope=col>&lt;chr&gt;</th><th scope=col>&lt;lgl&gt;</th><th scope=col>&lt;lgl&gt;</th><th scope=col>&lt;lgl&gt;</th><th scope=col>&lt;lgl&gt;</th></tr>\n",
       "</thead>\n",
       "<tbody>\n",
       "\t<tr><th scope=row>1</th><td>Table 6. Estimates of the Annual Rates1 of the Components of Resident Population Change for the United States,\n",
       "Regions, States, and Puerto Rico: July 1, 2010 to July 1, 2011</td><td>                        </td><td>                 </td><td>            </td><td>      </td><td>             </td><td>              </td><td>        </td><td>NA</td><td>NA</td><td>NA</td><td>NA</td></tr>\n",
       "\t<tr><th scope=row>2</th><td>Geographic Area                                                                                                                                                               </td><td>Total Population Change2</td><td>Natural\n",
       "Increase</td><td>Vital Events</td><td>      </td><td>Net Migration</td><td>              </td><td>        </td><td>NA</td><td>NA</td><td>NA</td><td>NA</td></tr>\n",
       "\t<tr><th scope=row>3</th><td>                                                                                                                                                                              </td><td>                        </td><td>                 </td><td>Births      </td><td>Deaths</td><td>Total        </td><td>International3</td><td>Domestic</td><td>NA</td><td>NA</td><td>NA</td><td>NA</td></tr>\n",
       "\t<tr><th scope=row>4</th><td>United States                                                                                                                                                                 </td><td>7.3                     </td><td>5.0              </td><td>12.9        </td><td>7.9   </td><td>2.3          </td><td>2.3           </td><td>(X)     </td><td>NA</td><td>NA</td><td>NA</td><td>NA</td></tr>\n",
       "\t<tr><th scope=row>5</th><td>Northeast                                                                                                                                                                     </td><td>2.8                     </td><td>3.4              </td><td>11.6        </td><td>8.3   </td><td>-0.5         </td><td>2.6           </td><td>-3.1    </td><td>NA</td><td>NA</td><td>NA</td><td>NA</td></tr>\n",
       "\t<tr><th scope=row>6</th><td>Midwest                                                                                                                                                                       </td><td>2.7                     </td><td>4.1              </td><td>12.6        </td><td>8.5   </td><td>-1.4         </td><td>1.3           </td><td>-2.7    </td><td>NA</td><td>NA</td><td>NA</td><td>NA</td></tr>\n",
       "\t<tr><th scope=row>7</th><td>South                                                                                                                                                                         </td><td>10.3                    </td><td>5.1              </td><td>13.3        </td><td>8.2   </td><td>5.2          </td><td>2.3           </td><td>2.9     </td><td>NA</td><td>NA</td><td>NA</td><td>NA</td></tr>\n",
       "\t<tr><th scope=row>8</th><td>West                                                                                                                                                                          </td><td>10.1                    </td><td>7.0              </td><td>13.6        </td><td>6.6   </td><td>3.2          </td><td>2.9           </td><td>0.2     </td><td>NA</td><td>NA</td><td>NA</td><td>NA</td></tr>\n",
       "</tbody>\n",
       "</table>\n"
      ],
      "text/latex": [
       "A data.frame: 8 × 12\n",
       "\\begin{tabular}{r|llllllllllll}\n",
       "  & table.with.row.headers.in.column.A.and.column.headers.in.rows.3.through.4...leading.dots.indicate.sub.parts. & X & X.1 & X.2 & X.3 & X.4 & X.5 & X.6 & X.7 & X.8 & X.9 & X.10\\\\\n",
       "  & <chr> & <chr> & <chr> & <chr> & <chr> & <chr> & <chr> & <chr> & <lgl> & <lgl> & <lgl> & <lgl>\\\\\n",
       "\\hline\n",
       "\t1 & Table 6. Estimates of the Annual Rates1 of the Components of Resident Population Change for the United States,\n",
       "Regions, States, and Puerto Rico: July 1, 2010 to July 1, 2011 &                          &                   &              &        &               &                &          & NA & NA & NA & NA\\\\\n",
       "\t2 & Geographic Area                                                                                                                                                                & Total Population Change2 & Natural\n",
       "Increase & Vital Events &        & Net Migration &                &          & NA & NA & NA & NA\\\\\n",
       "\t3 &                                                                                                                                                                                &                          &                   & Births       & Deaths & Total         & International3 & Domestic & NA & NA & NA & NA\\\\\n",
       "\t4 & United States                                                                                                                                                                  & 7.3                      & 5.0               & 12.9         & 7.9    & 2.3           & 2.3            & (X)      & NA & NA & NA & NA\\\\\n",
       "\t5 & Northeast                                                                                                                                                                      & 2.8                      & 3.4               & 11.6         & 8.3    & -0.5          & 2.6            & -3.1     & NA & NA & NA & NA\\\\\n",
       "\t6 & Midwest                                                                                                                                                                        & 2.7                      & 4.1               & 12.6         & 8.5    & -1.4          & 1.3            & -2.7     & NA & NA & NA & NA\\\\\n",
       "\t7 & South                                                                                                                                                                          & 10.3                     & 5.1               & 13.3         & 8.2    & 5.2           & 2.3            & 2.9      & NA & NA & NA & NA\\\\\n",
       "\t8 & West                                                                                                                                                                           & 10.1                     & 7.0               & 13.6         & 6.6    & 3.2           & 2.9            & 0.2      & NA & NA & NA & NA\\\\\n",
       "\\end{tabular}\n"
      ],
      "text/markdown": [
       "\n",
       "A data.frame: 8 × 12\n",
       "\n",
       "| <!--/--> | table.with.row.headers.in.column.A.and.column.headers.in.rows.3.through.4...leading.dots.indicate.sub.parts. &lt;chr&gt; | X &lt;chr&gt; | X.1 &lt;chr&gt; | X.2 &lt;chr&gt; | X.3 &lt;chr&gt; | X.4 &lt;chr&gt; | X.5 &lt;chr&gt; | X.6 &lt;chr&gt; | X.7 &lt;lgl&gt; | X.8 &lt;lgl&gt; | X.9 &lt;lgl&gt; | X.10 &lt;lgl&gt; |\n",
       "|---|---|---|---|---|---|---|---|---|---|---|---|---|\n",
       "| 1 | Table 6. Estimates of the Annual Rates1 of the Components of Resident Population Change for the United States,\n",
       "Regions, States, and Puerto Rico: July 1, 2010 to July 1, 2011 | <!----> | <!----> | <!----> | <!----> | <!----> | <!----> | <!----> | NA | NA | NA | NA |\n",
       "| 2 | Geographic Area                                                                                                                                                                | Total Population Change2 | Natural\n",
       "Increase | Vital Events | <!----> | Net Migration | <!----> | <!----> | NA | NA | NA | NA |\n",
       "| 3 | <!----> | <!----> | <!----> | Births       | Deaths | Total         | International3 | Domestic | NA | NA | NA | NA |\n",
       "| 4 | United States                                                                                                                                                                  | 7.3                      | 5.0               | 12.9         | 7.9    | 2.3           | 2.3            | (X)      | NA | NA | NA | NA |\n",
       "| 5 | Northeast                                                                                                                                                                      | 2.8                      | 3.4               | 11.6         | 8.3    | -0.5          | 2.6            | -3.1     | NA | NA | NA | NA |\n",
       "| 6 | Midwest                                                                                                                                                                        | 2.7                      | 4.1               | 12.6         | 8.5    | -1.4          | 1.3            | -2.7     | NA | NA | NA | NA |\n",
       "| 7 | South                                                                                                                                                                          | 10.3                     | 5.1               | 13.3         | 8.2    | 5.2           | 2.3            | 2.9      | NA | NA | NA | NA |\n",
       "| 8 | West                                                                                                                                                                           | 10.1                     | 7.0               | 13.6         | 6.6    | 3.2           | 2.9            | 0.2      | NA | NA | NA | NA |\n",
       "\n"
      ],
      "text/plain": [
       "  table.with.row.headers.in.column.A.and.column.headers.in.rows.3.through.4...leading.dots.indicate.sub.parts.                                                                  \n",
       "1 Table 6. Estimates of the Annual Rates1 of the Components of Resident Population Change for the United States,\\nRegions, States, and Puerto Rico: July 1, 2010 to July 1, 2011\n",
       "2 Geographic Area                                                                                                                                                               \n",
       "3                                                                                                                                                                               \n",
       "4 United States                                                                                                                                                                 \n",
       "5 Northeast                                                                                                                                                                     \n",
       "6 Midwest                                                                                                                                                                       \n",
       "7 South                                                                                                                                                                         \n",
       "8 West                                                                                                                                                                          \n",
       "  X                        X.1               X.2          X.3    X.4          \n",
       "1                                                                             \n",
       "2 Total Population Change2 Natural\\nIncrease Vital Events        Net Migration\n",
       "3                                            Births       Deaths Total        \n",
       "4 7.3                      5.0               12.9         7.9    2.3          \n",
       "5 2.8                      3.4               11.6         8.3    -0.5         \n",
       "6 2.7                      4.1               12.6         8.5    -1.4         \n",
       "7 10.3                     5.1               13.3         8.2    5.2          \n",
       "8 10.1                     7.0               13.6         6.6    3.2          \n",
       "  X.5            X.6      X.7 X.8 X.9 X.10\n",
       "1                         NA  NA  NA  NA  \n",
       "2                         NA  NA  NA  NA  \n",
       "3 International3 Domestic NA  NA  NA  NA  \n",
       "4 2.3            (X)      NA  NA  NA  NA  \n",
       "5 2.6            -3.1     NA  NA  NA  NA  \n",
       "6 1.3            -2.7     NA  NA  NA  NA  \n",
       "7 2.3            2.9      NA  NA  NA  NA  \n",
       "8 2.9            0.2      NA  NA  NA  NA  "
      ]
     },
     "metadata": {},
     "output_type": "display_data"
    },
    {
     "data": {
      "text/html": [
       "<table class=\"dataframe\">\n",
       "<caption>A data.frame: 12 × 12</caption>\n",
       "<thead>\n",
       "\t<tr><th></th><th scope=col>table.with.row.headers.in.column.A.and.column.headers.in.rows.3.through.4...leading.dots.indicate.sub.parts.</th><th scope=col>X</th><th scope=col>X.1</th><th scope=col>X.2</th><th scope=col>X.3</th><th scope=col>X.4</th><th scope=col>X.5</th><th scope=col>X.6</th><th scope=col>X.7</th><th scope=col>X.8</th><th scope=col>X.9</th><th scope=col>X.10</th></tr>\n",
       "\t<tr><th></th><th scope=col>&lt;chr&gt;</th><th scope=col>&lt;chr&gt;</th><th scope=col>&lt;chr&gt;</th><th scope=col>&lt;chr&gt;</th><th scope=col>&lt;chr&gt;</th><th scope=col>&lt;chr&gt;</th><th scope=col>&lt;chr&gt;</th><th scope=col>&lt;chr&gt;</th><th scope=col>&lt;lgl&gt;</th><th scope=col>&lt;lgl&gt;</th><th scope=col>&lt;lgl&gt;</th><th scope=col>&lt;lgl&gt;</th></tr>\n",
       "</thead>\n",
       "<tbody>\n",
       "\t<tr><th scope=row>60</th><td>                                                                                                                                                                                                                                                                                                                                                                                                                                                                                                                                                                                                                                                        </td><td>    </td><td>   </td><td>    </td><td>   </td><td>    </td><td>    </td><td>   </td><td>NA</td><td>NA</td><td>NA</td><td>NA</td></tr>\n",
       "\t<tr><th scope=row>61</th><td>Puerto Rico                                                                                                                                                                                                                                                                                                                                                                                                                                                                                                                                                                                                                                             </td><td>-4.1</td><td>3.5</td><td>11.3</td><td>7.8</td><td>-7.6</td><td>-7.6</td><td>(X)</td><td>NA</td><td>NA</td><td>NA</td><td>NA</td></tr>\n",
       "\t<tr><th scope=row>62</th><td>1 Rates per 1,000 average population.                                                                                                                                                                                                                                                                                                                                                                                                                                                                                                                                                                                                                   </td><td>    </td><td>   </td><td>    </td><td>   </td><td>    </td><td>    </td><td>   </td><td>NA</td><td>NA</td><td>NA</td><td>NA</td></tr>\n",
       "\t<tr><th scope=row>63</th><td>2 Total population change includes a residual.  This residual represents the change in population that cannot be attributed to any specific demographic component.  See State and County Terms and Definitions at http://www.census.gov/popest/about/terms/stco.html.                                                                                                                                                                                                                                                                                                                                                                                   </td><td>    </td><td>   </td><td>    </td><td>   </td><td>    </td><td>    </td><td>   </td><td>NA</td><td>NA</td><td>NA</td><td>NA</td></tr>\n",
       "\t<tr><th scope=row>64</th><td>3 Net international migration for the United States, regions, and states includes the international migration of both native and foreign-born populations. Specifically, it includes: (a) the net international migration of the foreign born, (b) the net migration between the United States and Puerto Rico, (c) the net migration of natives to and from the United States, and (d) the net movement of the Armed Forces population between the United States and overseas.  Net international migration for Puerto Rico includes only the international migration of native and foreign-born populations between the United States and Puerto Rico.</td><td>    </td><td>   </td><td>    </td><td>   </td><td>    </td><td>    </td><td>   </td><td>NA</td><td>NA</td><td>NA</td><td>NA</td></tr>\n",
       "\t<tr><th scope=row>65</th><td>Dash (-) represents zero or rounds to zero.                                                                                                                                                                                                                                                                                                                                                                                                                                                                                                                                                                                                             </td><td>    </td><td>   </td><td>    </td><td>   </td><td>    </td><td>    </td><td>   </td><td>NA</td><td>NA</td><td>NA</td><td>NA</td></tr>\n",
       "\t<tr><th scope=row>66</th><td>(X) Not applicable.                                                                                                                                                                                                                                                                                                                                                                                                                                                                                                                                                                                                                                     </td><td>    </td><td>   </td><td>    </td><td>   </td><td>    </td><td>    </td><td>   </td><td>NA</td><td>NA</td><td>NA</td><td>NA</td></tr>\n",
       "\t<tr><th scope=row>67</th><td>Note:  See Geographic Terms and Definitions at http://www.census.gov/popest/about/geo/terms.html for a list of the states that are included in each region.                                                                                                                                                                                                                                                                                                                                                                                                                                                                                             </td><td>    </td><td>   </td><td>    </td><td>   </td><td>    </td><td>    </td><td>   </td><td>NA</td><td>NA</td><td>NA</td><td>NA</td></tr>\n",
       "\t<tr><th scope=row>68</th><td>Suggested Citation:                                                                                                                                                                                                                                                                                                                                                                                                                                                                                                                                                                                                                                     </td><td>    </td><td>   </td><td>    </td><td>   </td><td>    </td><td>    </td><td>   </td><td>NA</td><td>NA</td><td>NA</td><td>NA</td></tr>\n",
       "\t<tr><th scope=row>69</th><td>Table 6. Estimates of the Annual Rates1 of the Components of Resident Population Change for the United States, Regions, States, and Puerto Rico: July 1, 2010 to July 1, 2011 (NST-EST2011-06)                                                                                                                                                                                                                                                                                                                                                                                                                                                          </td><td>    </td><td>   </td><td>    </td><td>   </td><td>    </td><td>    </td><td>   </td><td>NA</td><td>NA</td><td>NA</td><td>NA</td></tr>\n",
       "\t<tr><th scope=row>70</th><td>Source: U.S. Census Bureau, Population Division                                                                                                                                                                                                                                                                                                                                                                                                                                                                                                                                                                                                         </td><td>    </td><td>   </td><td>    </td><td>   </td><td>    </td><td>    </td><td>   </td><td>NA</td><td>NA</td><td>NA</td><td>NA</td></tr>\n",
       "\t<tr><th scope=row>71</th><td>Release Date: December 2011                                                                                                                                                                                                                                                                                                                                                                                                                                                                                                                                                                                                                             </td><td>    </td><td>   </td><td>    </td><td>   </td><td>    </td><td>    </td><td>   </td><td>NA</td><td>NA</td><td>NA</td><td>NA</td></tr>\n",
       "</tbody>\n",
       "</table>\n"
      ],
      "text/latex": [
       "A data.frame: 12 × 12\n",
       "\\begin{tabular}{r|llllllllllll}\n",
       "  & table.with.row.headers.in.column.A.and.column.headers.in.rows.3.through.4...leading.dots.indicate.sub.parts. & X & X.1 & X.2 & X.3 & X.4 & X.5 & X.6 & X.7 & X.8 & X.9 & X.10\\\\\n",
       "  & <chr> & <chr> & <chr> & <chr> & <chr> & <chr> & <chr> & <chr> & <lgl> & <lgl> & <lgl> & <lgl>\\\\\n",
       "\\hline\n",
       "\t60 &                                                                                                                                                                                                                                                                                                                                                                                                                                                                                                                                                                                                                                                          &      &     &      &     &      &      &     & NA & NA & NA & NA\\\\\n",
       "\t61 & Puerto Rico                                                                                                                                                                                                                                                                                                                                                                                                                                                                                                                                                                                                                                              & -4.1 & 3.5 & 11.3 & 7.8 & -7.6 & -7.6 & (X) & NA & NA & NA & NA\\\\\n",
       "\t62 & 1 Rates per 1,000 average population.                                                                                                                                                                                                                                                                                                                                                                                                                                                                                                                                                                                                                    &      &     &      &     &      &      &     & NA & NA & NA & NA\\\\\n",
       "\t63 & 2 Total population change includes a residual.  This residual represents the change in population that cannot be attributed to any specific demographic component.  See State and County Terms and Definitions at http://www.census.gov/popest/about/terms/stco.html.                                                                                                                                                                                                                                                                                                                                                                                    &      &     &      &     &      &      &     & NA & NA & NA & NA\\\\\n",
       "\t64 & 3 Net international migration for the United States, regions, and states includes the international migration of both native and foreign-born populations. Specifically, it includes: (a) the net international migration of the foreign born, (b) the net migration between the United States and Puerto Rico, (c) the net migration of natives to and from the United States, and (d) the net movement of the Armed Forces population between the United States and overseas.  Net international migration for Puerto Rico includes only the international migration of native and foreign-born populations between the United States and Puerto Rico. &      &     &      &     &      &      &     & NA & NA & NA & NA\\\\\n",
       "\t65 & Dash (-) represents zero or rounds to zero.                                                                                                                                                                                                                                                                                                                                                                                                                                                                                                                                                                                                              &      &     &      &     &      &      &     & NA & NA & NA & NA\\\\\n",
       "\t66 & (X) Not applicable.                                                                                                                                                                                                                                                                                                                                                                                                                                                                                                                                                                                                                                      &      &     &      &     &      &      &     & NA & NA & NA & NA\\\\\n",
       "\t67 & Note:  See Geographic Terms and Definitions at http://www.census.gov/popest/about/geo/terms.html for a list of the states that are included in each region.                                                                                                                                                                                                                                                                                                                                                                                                                                                                                              &      &     &      &     &      &      &     & NA & NA & NA & NA\\\\\n",
       "\t68 & Suggested Citation:                                                                                                                                                                                                                                                                                                                                                                                                                                                                                                                                                                                                                                      &      &     &      &     &      &      &     & NA & NA & NA & NA\\\\\n",
       "\t69 & Table 6. Estimates of the Annual Rates1 of the Components of Resident Population Change for the United States, Regions, States, and Puerto Rico: July 1, 2010 to July 1, 2011 (NST-EST2011-06)                                                                                                                                                                                                                                                                                                                                                                                                                                                           &      &     &      &     &      &      &     & NA & NA & NA & NA\\\\\n",
       "\t70 & Source: U.S. Census Bureau, Population Division                                                                                                                                                                                                                                                                                                                                                                                                                                                                                                                                                                                                          &      &     &      &     &      &      &     & NA & NA & NA & NA\\\\\n",
       "\t71 & Release Date: December 2011                                                                                                                                                                                                                                                                                                                                                                                                                                                                                                                                                                                                                              &      &     &      &     &      &      &     & NA & NA & NA & NA\\\\\n",
       "\\end{tabular}\n"
      ],
      "text/markdown": [
       "\n",
       "A data.frame: 12 × 12\n",
       "\n",
       "| <!--/--> | table.with.row.headers.in.column.A.and.column.headers.in.rows.3.through.4...leading.dots.indicate.sub.parts. &lt;chr&gt; | X &lt;chr&gt; | X.1 &lt;chr&gt; | X.2 &lt;chr&gt; | X.3 &lt;chr&gt; | X.4 &lt;chr&gt; | X.5 &lt;chr&gt; | X.6 &lt;chr&gt; | X.7 &lt;lgl&gt; | X.8 &lt;lgl&gt; | X.9 &lt;lgl&gt; | X.10 &lt;lgl&gt; |\n",
       "|---|---|---|---|---|---|---|---|---|---|---|---|---|\n",
       "| 60 | <!----> | <!----> | <!----> | <!----> | <!----> | <!----> | <!----> | <!----> | NA | NA | NA | NA |\n",
       "| 61 | Puerto Rico                                                                                                                                                                                                                                                                                                                                                                                                                                                                                                                                                                                                                                              | -4.1 | 3.5 | 11.3 | 7.8 | -7.6 | -7.6 | (X) | NA | NA | NA | NA |\n",
       "| 62 | 1 Rates per 1,000 average population.                                                                                                                                                                                                                                                                                                                                                                                                                                                                                                                                                                                                                    | <!----> | <!----> | <!----> | <!----> | <!----> | <!----> | <!----> | NA | NA | NA | NA |\n",
       "| 63 | 2 Total population change includes a residual.  This residual represents the change in population that cannot be attributed to any specific demographic component.  See State and County Terms and Definitions at http://www.census.gov/popest/about/terms/stco.html.                                                                                                                                                                                                                                                                                                                                                                                    | <!----> | <!----> | <!----> | <!----> | <!----> | <!----> | <!----> | NA | NA | NA | NA |\n",
       "| 64 | 3 Net international migration for the United States, regions, and states includes the international migration of both native and foreign-born populations. Specifically, it includes: (a) the net international migration of the foreign born, (b) the net migration between the United States and Puerto Rico, (c) the net migration of natives to and from the United States, and (d) the net movement of the Armed Forces population between the United States and overseas.  Net international migration for Puerto Rico includes only the international migration of native and foreign-born populations between the United States and Puerto Rico. | <!----> | <!----> | <!----> | <!----> | <!----> | <!----> | <!----> | NA | NA | NA | NA |\n",
       "| 65 | Dash (-) represents zero or rounds to zero.                                                                                                                                                                                                                                                                                                                                                                                                                                                                                                                                                                                                              | <!----> | <!----> | <!----> | <!----> | <!----> | <!----> | <!----> | NA | NA | NA | NA |\n",
       "| 66 | (X) Not applicable.                                                                                                                                                                                                                                                                                                                                                                                                                                                                                                                                                                                                                                      | <!----> | <!----> | <!----> | <!----> | <!----> | <!----> | <!----> | NA | NA | NA | NA |\n",
       "| 67 | Note:  See Geographic Terms and Definitions at http://www.census.gov/popest/about/geo/terms.html for a list of the states that are included in each region.                                                                                                                                                                                                                                                                                                                                                                                                                                                                                              | <!----> | <!----> | <!----> | <!----> | <!----> | <!----> | <!----> | NA | NA | NA | NA |\n",
       "| 68 | Suggested Citation:                                                                                                                                                                                                                                                                                                                                                                                                                                                                                                                                                                                                                                      | <!----> | <!----> | <!----> | <!----> | <!----> | <!----> | <!----> | NA | NA | NA | NA |\n",
       "| 69 | Table 6. Estimates of the Annual Rates1 of the Components of Resident Population Change for the United States, Regions, States, and Puerto Rico: July 1, 2010 to July 1, 2011 (NST-EST2011-06)                                                                                                                                                                                                                                                                                                                                                                                                                                                           | <!----> | <!----> | <!----> | <!----> | <!----> | <!----> | <!----> | NA | NA | NA | NA |\n",
       "| 70 | Source: U.S. Census Bureau, Population Division                                                                                                                                                                                                                                                                                                                                                                                                                                                                                                                                                                                                          | <!----> | <!----> | <!----> | <!----> | <!----> | <!----> | <!----> | NA | NA | NA | NA |\n",
       "| 71 | Release Date: December 2011                                                                                                                                                                                                                                                                                                                                                                                                                                                                                                                                                                                                                              | <!----> | <!----> | <!----> | <!----> | <!----> | <!----> | <!----> | NA | NA | NA | NA |\n",
       "\n"
      ],
      "text/plain": [
       "   table.with.row.headers.in.column.A.and.column.headers.in.rows.3.through.4...leading.dots.indicate.sub.parts.                                                                                                                                                                                                                                                                                                                                                                                                                                                                                                                                            \n",
       "60                                                                                                                                                                                                                                                                                                                                                                                                                                                                                                                                                                                                                                                         \n",
       "61 Puerto Rico                                                                                                                                                                                                                                                                                                                                                                                                                                                                                                                                                                                                                                             \n",
       "62 1 Rates per 1,000 average population.                                                                                                                                                                                                                                                                                                                                                                                                                                                                                                                                                                                                                   \n",
       "63 2 Total population change includes a residual.  This residual represents the change in population that cannot be attributed to any specific demographic component.  See State and County Terms and Definitions at http://www.census.gov/popest/about/terms/stco.html.                                                                                                                                                                                                                                                                                                                                                                                   \n",
       "64 3 Net international migration for the United States, regions, and states includes the international migration of both native and foreign-born populations. Specifically, it includes: (a) the net international migration of the foreign born, (b) the net migration between the United States and Puerto Rico, (c) the net migration of natives to and from the United States, and (d) the net movement of the Armed Forces population between the United States and overseas.  Net international migration for Puerto Rico includes only the international migration of native and foreign-born populations between the United States and Puerto Rico.\n",
       "65 Dash (-) represents zero or rounds to zero.                                                                                                                                                                                                                                                                                                                                                                                                                                                                                                                                                                                                             \n",
       "66 (X) Not applicable.                                                                                                                                                                                                                                                                                                                                                                                                                                                                                                                                                                                                                                     \n",
       "67 Note:  See Geographic Terms and Definitions at http://www.census.gov/popest/about/geo/terms.html for a list of the states that are included in each region.                                                                                                                                                                                                                                                                                                                                                                                                                                                                                             \n",
       "68 Suggested Citation:                                                                                                                                                                                                                                                                                                                                                                                                                                                                                                                                                                                                                                     \n",
       "69 Table 6. Estimates of the Annual Rates1 of the Components of Resident Population Change for the United States, Regions, States, and Puerto Rico: July 1, 2010 to July 1, 2011 (NST-EST2011-06)                                                                                                                                                                                                                                                                                                                                                                                                                                                          \n",
       "70 Source: U.S. Census Bureau, Population Division                                                                                                                                                                                                                                                                                                                                                                                                                                                                                                                                                                                                         \n",
       "71 Release Date: December 2011                                                                                                                                                                                                                                                                                                                                                                                                                                                                                                                                                                                                                             \n",
       "   X    X.1 X.2  X.3 X.4  X.5  X.6 X.7 X.8 X.9 X.10\n",
       "60                                 NA  NA  NA  NA  \n",
       "61 -4.1 3.5 11.3 7.8 -7.6 -7.6 (X) NA  NA  NA  NA  \n",
       "62                                 NA  NA  NA  NA  \n",
       "63                                 NA  NA  NA  NA  \n",
       "64                                 NA  NA  NA  NA  \n",
       "65                                 NA  NA  NA  NA  \n",
       "66                                 NA  NA  NA  NA  \n",
       "67                                 NA  NA  NA  NA  \n",
       "68                                 NA  NA  NA  NA  \n",
       "69                                 NA  NA  NA  NA  \n",
       "70                                 NA  NA  NA  NA  \n",
       "71                                 NA  NA  NA  NA  "
      ]
     },
     "metadata": {},
     "output_type": "display_data"
    }
   ],
   "source": [
    "events = read.csv('nst-est2011-06.csv')\n",
    "head(events, 8)\n",
    "tail(events, 12)"
   ]
  },
  {
   "cell_type": "markdown",
   "metadata": {
    "id": "N_FOCia-ezHw"
   },
   "source": [
    "<br>\n",
    "\n",
    "---\n",
    "\n",
    "<br>\n",
    "\n",
    "\n",
    "\n",
    "\n"
   ]
  },
  {
   "cell_type": "markdown",
   "metadata": {
    "id": "kQCz5npoZtRG"
   },
   "source": [
    "####<font color=red>Task 2</font>  (2 points)\n",
    "\n",
    "1. Use the data munging techniques from lecture to create a dataframe called `states`\n",
    "  * The dataframe should have a row for every state:\n",
    "    * Exclude Puerto Rico\n",
    "    * You may include Washington DC\n",
    "  * The dataframe should have 8 columns\n",
    "    * state\n",
    "    * population change\n",
    "    * natural increase\n",
    "    * births\n",
    "    * deaths\n",
    "    * migration total\n",
    "    * international migration\n",
    "    * domestic migration\n",
    "2. Show the `head()` and `tail()` of the dataframe `states` to confirm the data is formatted properly\n"
   ]
  },
  {
   "cell_type": "code",
   "execution_count": 3,
   "metadata": {
    "vscode": {
     "languageId": "r"
    }
   },
   "outputs": [
    {
     "data": {
      "text/html": [
       "<table class=\"dataframe\">\n",
       "<caption>A data.frame: 6 × 8</caption>\n",
       "<thead>\n",
       "\t<tr><th></th><th scope=col>Geographic Area</th><th scope=col>Total Population Change</th><th scope=col>Natural Increase</th><th scope=col>Vital Events: Births</th><th scope=col>Vital Events: Deaths</th><th scope=col>Net Migration: Total</th><th scope=col>Net Migration: International</th><th scope=col>Net Migration: Domestic</th></tr>\n",
       "\t<tr><th></th><th scope=col>&lt;chr&gt;</th><th scope=col>&lt;dbl&gt;</th><th scope=col>&lt;dbl&gt;</th><th scope=col>&lt;dbl&gt;</th><th scope=col>&lt;dbl&gt;</th><th scope=col>&lt;dbl&gt;</th><th scope=col>&lt;dbl&gt;</th><th scope=col>&lt;dbl&gt;</th></tr>\n",
       "</thead>\n",
       "<tbody>\n",
       "\t<tr><th scope=row>1</th><td>Alabama   </td><td> 3.6</td><td> 2.5</td><td>12.5</td><td>10.0</td><td>1.1</td><td>0.9</td><td>0.1</td></tr>\n",
       "\t<tr><th scope=row>2</th><td>Alaska    </td><td>11.9</td><td>10.9</td><td>15.6</td><td> 4.6</td><td>1.0</td><td>1.5</td><td>0.6</td></tr>\n",
       "\t<tr><th scope=row>3</th><td>Arizona   </td><td>10.8</td><td> 6.5</td><td>13.6</td><td> 7.1</td><td>4.3</td><td>3.2</td><td>1.1</td></tr>\n",
       "\t<tr><th scope=row>4</th><td>Arkansas  </td><td> 5.6</td><td> 3.3</td><td>13.0</td><td> 9.7</td><td>2.3</td><td>1.1</td><td>1.2</td></tr>\n",
       "\t<tr><th scope=row>5</th><td>California</td><td> 9.4</td><td> 7.3</td><td>13.5</td><td> 6.2</td><td>2.1</td><td>3.5</td><td>1.4</td></tr>\n",
       "\t<tr><th scope=row>6</th><td>Colorado  </td><td>13.6</td><td> 6.9</td><td>13.0</td><td> 6.1</td><td>6.6</td><td>1.7</td><td>4.9</td></tr>\n",
       "</tbody>\n",
       "</table>\n"
      ],
      "text/latex": [
       "A data.frame: 6 × 8\n",
       "\\begin{tabular}{r|llllllll}\n",
       "  & Geographic Area & Total Population Change & Natural Increase & Vital Events: Births & Vital Events: Deaths & Net Migration: Total & Net Migration: International & Net Migration: Domestic\\\\\n",
       "  & <chr> & <dbl> & <dbl> & <dbl> & <dbl> & <dbl> & <dbl> & <dbl>\\\\\n",
       "\\hline\n",
       "\t1 & Alabama    &  3.6 &  2.5 & 12.5 & 10.0 & 1.1 & 0.9 & 0.1\\\\\n",
       "\t2 & Alaska     & 11.9 & 10.9 & 15.6 &  4.6 & 1.0 & 1.5 & 0.6\\\\\n",
       "\t3 & Arizona    & 10.8 &  6.5 & 13.6 &  7.1 & 4.3 & 3.2 & 1.1\\\\\n",
       "\t4 & Arkansas   &  5.6 &  3.3 & 13.0 &  9.7 & 2.3 & 1.1 & 1.2\\\\\n",
       "\t5 & California &  9.4 &  7.3 & 13.5 &  6.2 & 2.1 & 3.5 & 1.4\\\\\n",
       "\t6 & Colorado   & 13.6 &  6.9 & 13.0 &  6.1 & 6.6 & 1.7 & 4.9\\\\\n",
       "\\end{tabular}\n"
      ],
      "text/markdown": [
       "\n",
       "A data.frame: 6 × 8\n",
       "\n",
       "| <!--/--> | Geographic Area &lt;chr&gt; | Total Population Change &lt;dbl&gt; | Natural Increase &lt;dbl&gt; | Vital Events: Births &lt;dbl&gt; | Vital Events: Deaths &lt;dbl&gt; | Net Migration: Total &lt;dbl&gt; | Net Migration: International &lt;dbl&gt; | Net Migration: Domestic &lt;dbl&gt; |\n",
       "|---|---|---|---|---|---|---|---|---|\n",
       "| 1 | Alabama    |  3.6 |  2.5 | 12.5 | 10.0 | 1.1 | 0.9 | 0.1 |\n",
       "| 2 | Alaska     | 11.9 | 10.9 | 15.6 |  4.6 | 1.0 | 1.5 | 0.6 |\n",
       "| 3 | Arizona    | 10.8 |  6.5 | 13.6 |  7.1 | 4.3 | 3.2 | 1.1 |\n",
       "| 4 | Arkansas   |  5.6 |  3.3 | 13.0 |  9.7 | 2.3 | 1.1 | 1.2 |\n",
       "| 5 | California |  9.4 |  7.3 | 13.5 |  6.2 | 2.1 | 3.5 | 1.4 |\n",
       "| 6 | Colorado   | 13.6 |  6.9 | 13.0 |  6.1 | 6.6 | 1.7 | 4.9 |\n",
       "\n"
      ],
      "text/plain": [
       "  Geographic Area Total Population Change Natural Increase Vital Events: Births\n",
       "1 Alabama          3.6                     2.5             12.5                \n",
       "2 Alaska          11.9                    10.9             15.6                \n",
       "3 Arizona         10.8                     6.5             13.6                \n",
       "4 Arkansas         5.6                     3.3             13.0                \n",
       "5 California       9.4                     7.3             13.5                \n",
       "6 Colorado        13.6                     6.9             13.0                \n",
       "  Vital Events: Deaths Net Migration: Total Net Migration: International\n",
       "1 10.0                 1.1                  0.9                         \n",
       "2  4.6                 1.0                  1.5                         \n",
       "3  7.1                 4.3                  3.2                         \n",
       "4  9.7                 2.3                  1.1                         \n",
       "5  6.2                 2.1                  3.5                         \n",
       "6  6.1                 6.6                  1.7                         \n",
       "  Net Migration: Domestic\n",
       "1 0.1                    \n",
       "2 0.6                    \n",
       "3 1.1                    \n",
       "4 1.2                    \n",
       "5 1.4                    \n",
       "6 4.9                    "
      ]
     },
     "metadata": {},
     "output_type": "display_data"
    },
    {
     "data": {
      "text/html": [
       "<table class=\"dataframe\">\n",
       "<caption>A data.frame: 6 × 8</caption>\n",
       "<thead>\n",
       "\t<tr><th></th><th scope=col>Geographic Area</th><th scope=col>Total Population Change</th><th scope=col>Natural Increase</th><th scope=col>Vital Events: Births</th><th scope=col>Vital Events: Deaths</th><th scope=col>Net Migration: Total</th><th scope=col>Net Migration: International</th><th scope=col>Net Migration: Domestic</th></tr>\n",
       "\t<tr><th></th><th scope=col>&lt;chr&gt;</th><th scope=col>&lt;dbl&gt;</th><th scope=col>&lt;dbl&gt;</th><th scope=col>&lt;dbl&gt;</th><th scope=col>&lt;dbl&gt;</th><th scope=col>&lt;dbl&gt;</th><th scope=col>&lt;dbl&gt;</th><th scope=col>&lt;dbl&gt;</th></tr>\n",
       "</thead>\n",
       "<tbody>\n",
       "\t<tr><th scope=row>46</th><td>Vermont      </td><td> 0.8</td><td> 1.4</td><td> 9.5</td><td> 8.1</td><td>-0.5</td><td>0.6</td><td>1.1</td></tr>\n",
       "\t<tr><th scope=row>47</th><td>Virginia     </td><td> 9.0</td><td> 5.3</td><td>12.6</td><td> 7.3</td><td> 3.7</td><td>2.4</td><td>1.3</td></tr>\n",
       "\t<tr><th scope=row>48</th><td>Washington   </td><td>12.8</td><td> 5.6</td><td>12.8</td><td> 7.1</td><td> 7.2</td><td>2.5</td><td>4.6</td></tr>\n",
       "\t<tr><th scope=row>49</th><td>West Virginia</td><td> 0.5</td><td>-0.5</td><td>11.1</td><td>11.7</td><td> 1.1</td><td>0.4</td><td>0.7</td></tr>\n",
       "\t<tr><th scope=row>50</th><td>Wisconsin    </td><td> 3.5</td><td> 4.1</td><td>12.2</td><td> 8.1</td><td>-0.5</td><td>0.9</td><td>1.4</td></tr>\n",
       "\t<tr><th scope=row>51</th><td>Wyoming      </td><td> 6.4</td><td> 5.5</td><td>13.3</td><td> 7.8</td><td> 0.9</td><td>0.8</td><td>0.0</td></tr>\n",
       "</tbody>\n",
       "</table>\n"
      ],
      "text/latex": [
       "A data.frame: 6 × 8\n",
       "\\begin{tabular}{r|llllllll}\n",
       "  & Geographic Area & Total Population Change & Natural Increase & Vital Events: Births & Vital Events: Deaths & Net Migration: Total & Net Migration: International & Net Migration: Domestic\\\\\n",
       "  & <chr> & <dbl> & <dbl> & <dbl> & <dbl> & <dbl> & <dbl> & <dbl>\\\\\n",
       "\\hline\n",
       "\t46 & Vermont       &  0.8 &  1.4 &  9.5 &  8.1 & -0.5 & 0.6 & 1.1\\\\\n",
       "\t47 & Virginia      &  9.0 &  5.3 & 12.6 &  7.3 &  3.7 & 2.4 & 1.3\\\\\n",
       "\t48 & Washington    & 12.8 &  5.6 & 12.8 &  7.1 &  7.2 & 2.5 & 4.6\\\\\n",
       "\t49 & West Virginia &  0.5 & -0.5 & 11.1 & 11.7 &  1.1 & 0.4 & 0.7\\\\\n",
       "\t50 & Wisconsin     &  3.5 &  4.1 & 12.2 &  8.1 & -0.5 & 0.9 & 1.4\\\\\n",
       "\t51 & Wyoming       &  6.4 &  5.5 & 13.3 &  7.8 &  0.9 & 0.8 & 0.0\\\\\n",
       "\\end{tabular}\n"
      ],
      "text/markdown": [
       "\n",
       "A data.frame: 6 × 8\n",
       "\n",
       "| <!--/--> | Geographic Area &lt;chr&gt; | Total Population Change &lt;dbl&gt; | Natural Increase &lt;dbl&gt; | Vital Events: Births &lt;dbl&gt; | Vital Events: Deaths &lt;dbl&gt; | Net Migration: Total &lt;dbl&gt; | Net Migration: International &lt;dbl&gt; | Net Migration: Domestic &lt;dbl&gt; |\n",
       "|---|---|---|---|---|---|---|---|---|\n",
       "| 46 | Vermont       |  0.8 |  1.4 |  9.5 |  8.1 | -0.5 | 0.6 | 1.1 |\n",
       "| 47 | Virginia      |  9.0 |  5.3 | 12.6 |  7.3 |  3.7 | 2.4 | 1.3 |\n",
       "| 48 | Washington    | 12.8 |  5.6 | 12.8 |  7.1 |  7.2 | 2.5 | 4.6 |\n",
       "| 49 | West Virginia |  0.5 | -0.5 | 11.1 | 11.7 |  1.1 | 0.4 | 0.7 |\n",
       "| 50 | Wisconsin     |  3.5 |  4.1 | 12.2 |  8.1 | -0.5 | 0.9 | 1.4 |\n",
       "| 51 | Wyoming       |  6.4 |  5.5 | 13.3 |  7.8 |  0.9 | 0.8 | 0.0 |\n",
       "\n"
      ],
      "text/plain": [
       "   Geographic Area Total Population Change Natural Increase\n",
       "46 Vermont          0.8                     1.4            \n",
       "47 Virginia         9.0                     5.3            \n",
       "48 Washington      12.8                     5.6            \n",
       "49 West Virginia    0.5                    -0.5            \n",
       "50 Wisconsin        3.5                     4.1            \n",
       "51 Wyoming          6.4                     5.5            \n",
       "   Vital Events: Births Vital Events: Deaths Net Migration: Total\n",
       "46  9.5                  8.1                 -0.5                \n",
       "47 12.6                  7.3                  3.7                \n",
       "48 12.8                  7.1                  7.2                \n",
       "49 11.1                 11.7                  1.1                \n",
       "50 12.2                  8.1                 -0.5                \n",
       "51 13.3                  7.8                  0.9                \n",
       "   Net Migration: International Net Migration: Domestic\n",
       "46 0.6                          1.1                    \n",
       "47 2.4                          1.3                    \n",
       "48 2.5                          4.6                    \n",
       "49 0.4                          0.7                    \n",
       "50 0.9                          1.4                    \n",
       "51 0.8                          0.0                    "
      ]
     },
     "metadata": {},
     "output_type": "display_data"
    }
   ],
   "source": [
    "# Subset data\n",
    "nb_row = nrow(events)\n",
    "states <- events[-c(1:8, (nb_row - 11):nb_row), -(9:12)]\n",
    "\n",
    "# Change column names\n",
    "names(states) <- c(\"Geographic Area\", \"Total Population Change\", \"Natural Increase\", \"Vital Events: Births\", \"Vital Events: Deaths\", \"Net Migration: Total\", \"Net Migration: International\", \"Net Migration: Domestic\")\n",
    "\n",
    "# Remove .\n",
    "states$'Geographic Area' <- gsub('\\\\.', '', states$'Geographic Area')\n",
    "\n",
    "# Convert to numeric and remove -\n",
    "states$'Net Migration: Domestic' <- as.numeric(gsub(\"-\", \"0\", states$'Net Migration: Domestic'))\n",
    "states[, 2:7] <- apply(states[, 2:7], 2, function(x) as.numeric(as.character(x)))\n",
    "\n",
    "rownames(states) <- NULL\n",
    "\n",
    "# Check\n",
    "head(states)\n",
    "tail(states)"
   ]
  },
  {
   "cell_type": "markdown",
   "metadata": {
    "id": "_vewGCZDezY4"
   },
   "source": [
    "<br>\n",
    "\n",
    "---\n",
    "\n",
    "<br>\n",
    "\n",
    "\n",
    "\n",
    "\n"
   ]
  },
  {
   "cell_type": "markdown",
   "metadata": {
    "id": "DgdFuBwKc8KB"
   },
   "source": [
    "####<font color=red>Task 3</font>  (2 points)\n",
    "\n",
    "Use R code to answer the following. Also answer in complete sentences using text boxes where relevant.\n",
    "\n",
    "1. Which state has the lowest deaths per 1,000 people?\n",
    "2. Which state has the highest deaths per 1,000 people?"
   ]
  },
  {
   "cell_type": "code",
   "execution_count": 4,
   "metadata": {
    "vscode": {
     "languageId": "r"
    }
   },
   "outputs": [
    {
     "data": {
      "text/html": [
       "<table class=\"dataframe\">\n",
       "<caption>A data.frame: 1 × 2</caption>\n",
       "<thead>\n",
       "\t<tr><th></th><th scope=col>Geographic Area</th><th scope=col>Vital Events: Deaths</th></tr>\n",
       "\t<tr><th></th><th scope=col>&lt;chr&gt;</th><th scope=col>&lt;dbl&gt;</th></tr>\n",
       "</thead>\n",
       "<tbody>\n",
       "\t<tr><th scope=row>2</th><td>Alaska</td><td>4.6</td></tr>\n",
       "</tbody>\n",
       "</table>\n"
      ],
      "text/latex": [
       "A data.frame: 1 × 2\n",
       "\\begin{tabular}{r|ll}\n",
       "  & Geographic Area & Vital Events: Deaths\\\\\n",
       "  & <chr> & <dbl>\\\\\n",
       "\\hline\n",
       "\t2 & Alaska & 4.6\\\\\n",
       "\\end{tabular}\n"
      ],
      "text/markdown": [
       "\n",
       "A data.frame: 1 × 2\n",
       "\n",
       "| <!--/--> | Geographic Area &lt;chr&gt; | Vital Events: Deaths &lt;dbl&gt; |\n",
       "|---|---|---|\n",
       "| 2 | Alaska | 4.6 |\n",
       "\n"
      ],
      "text/plain": [
       "  Geographic Area Vital Events: Deaths\n",
       "2 Alaska          4.6                 "
      ]
     },
     "metadata": {},
     "output_type": "display_data"
    },
    {
     "data": {
      "text/html": [
       "<table class=\"dataframe\">\n",
       "<caption>A data.frame: 1 × 2</caption>\n",
       "<thead>\n",
       "\t<tr><th></th><th scope=col>Geographic Area</th><th scope=col>Vital Events: Deaths</th></tr>\n",
       "\t<tr><th></th><th scope=col>&lt;chr&gt;</th><th scope=col>&lt;dbl&gt;</th></tr>\n",
       "</thead>\n",
       "<tbody>\n",
       "\t<tr><th scope=row>49</th><td>West Virginia</td><td>11.7</td></tr>\n",
       "</tbody>\n",
       "</table>\n"
      ],
      "text/latex": [
       "A data.frame: 1 × 2\n",
       "\\begin{tabular}{r|ll}\n",
       "  & Geographic Area & Vital Events: Deaths\\\\\n",
       "  & <chr> & <dbl>\\\\\n",
       "\\hline\n",
       "\t49 & West Virginia & 11.7\\\\\n",
       "\\end{tabular}\n"
      ],
      "text/markdown": [
       "\n",
       "A data.frame: 1 × 2\n",
       "\n",
       "| <!--/--> | Geographic Area &lt;chr&gt; | Vital Events: Deaths &lt;dbl&gt; |\n",
       "|---|---|---|\n",
       "| 49 | West Virginia | 11.7 |\n",
       "\n"
      ],
      "text/plain": [
       "   Geographic Area Vital Events: Deaths\n",
       "49 West Virginia   11.7                "
      ]
     },
     "metadata": {},
     "output_type": "display_data"
    }
   ],
   "source": [
    "states[which.min(states$'Vital Events: Deaths'), c(1, 5)]\n",
    "states[which.max(states$'Vital Events: Deaths'), c(1, 5)]"
   ]
  },
  {
   "cell_type": "markdown",
   "metadata": {},
   "source": [
    "The state with the lowest deaths in the June 2011 census was Alaska at a rate of 4.6 per 1,000 people. The state with the highest deaths in the June 2011 census was West Virginia at a rate of 4.6 per 1,000 people."
   ]
  },
  {
   "cell_type": "markdown",
   "metadata": {
    "id": "YqXmj2Dee0If"
   },
   "source": [
    "<br>\n",
    "\n",
    "---\n",
    "\n",
    "<br>\n",
    "\n",
    "\n",
    "\n",
    "\n"
   ]
  },
  {
   "cell_type": "markdown",
   "metadata": {
    "id": "-4fRE57ceDZX"
   },
   "source": [
    "####<font color=red>Task 4</font>  (2 points)\n",
    "\n",
    "Use R code to answer the following. Also answer in complete sentences using text boxes where relevant.\n",
    "\n",
    "1. Which state has the lowest births per 1,000 people?\n",
    "2. Which state has the highest births per 1,000 people?"
   ]
  },
  {
   "cell_type": "code",
   "execution_count": 5,
   "metadata": {
    "vscode": {
     "languageId": "r"
    }
   },
   "outputs": [
    {
     "data": {
      "text/html": [
       "<table class=\"dataframe\">\n",
       "<caption>A data.frame: 1 × 2</caption>\n",
       "<thead>\n",
       "\t<tr><th></th><th scope=col>Geographic Area</th><th scope=col>Vital Events: Births</th></tr>\n",
       "\t<tr><th></th><th scope=col>&lt;chr&gt;</th><th scope=col>&lt;dbl&gt;</th></tr>\n",
       "</thead>\n",
       "<tbody>\n",
       "\t<tr><th scope=row>46</th><td>Vermont</td><td>9.5</td></tr>\n",
       "</tbody>\n",
       "</table>\n"
      ],
      "text/latex": [
       "A data.frame: 1 × 2\n",
       "\\begin{tabular}{r|ll}\n",
       "  & Geographic Area & Vital Events: Births\\\\\n",
       "  & <chr> & <dbl>\\\\\n",
       "\\hline\n",
       "\t46 & Vermont & 9.5\\\\\n",
       "\\end{tabular}\n"
      ],
      "text/markdown": [
       "\n",
       "A data.frame: 1 × 2\n",
       "\n",
       "| <!--/--> | Geographic Area &lt;chr&gt; | Vital Events: Births &lt;dbl&gt; |\n",
       "|---|---|---|\n",
       "| 46 | Vermont | 9.5 |\n",
       "\n"
      ],
      "text/plain": [
       "   Geographic Area Vital Events: Births\n",
       "46 Vermont         9.5                 "
      ]
     },
     "metadata": {},
     "output_type": "display_data"
    },
    {
     "data": {
      "text/html": [
       "<table class=\"dataframe\">\n",
       "<caption>A data.frame: 1 × 2</caption>\n",
       "<thead>\n",
       "\t<tr><th></th><th scope=col>Geographic Area</th><th scope=col>Vital Events: Births</th></tr>\n",
       "\t<tr><th></th><th scope=col>&lt;chr&gt;</th><th scope=col>&lt;dbl&gt;</th></tr>\n",
       "</thead>\n",
       "<tbody>\n",
       "\t<tr><th scope=row>45</th><td>Utah</td><td>18.6</td></tr>\n",
       "</tbody>\n",
       "</table>\n"
      ],
      "text/latex": [
       "A data.frame: 1 × 2\n",
       "\\begin{tabular}{r|ll}\n",
       "  & Geographic Area & Vital Events: Births\\\\\n",
       "  & <chr> & <dbl>\\\\\n",
       "\\hline\n",
       "\t45 & Utah & 18.6\\\\\n",
       "\\end{tabular}\n"
      ],
      "text/markdown": [
       "\n",
       "A data.frame: 1 × 2\n",
       "\n",
       "| <!--/--> | Geographic Area &lt;chr&gt; | Vital Events: Births &lt;dbl&gt; |\n",
       "|---|---|---|\n",
       "| 45 | Utah | 18.6 |\n",
       "\n"
      ],
      "text/plain": [
       "   Geographic Area Vital Events: Births\n",
       "45 Utah            18.6                "
      ]
     },
     "metadata": {},
     "output_type": "display_data"
    }
   ],
   "source": [
    "states[which.min(states$'Vital Events: Births'), c(1, 4)]\n",
    "states[which.max(states$'Vital Events: Births'), c(1, 4)]"
   ]
  },
  {
   "cell_type": "markdown",
   "metadata": {},
   "source": [
    "The state with the lowest births is Vermont at 9.5 per 1,000 people. The state with the greatest births is Utah at 18.6 per 1,000 people. "
   ]
  },
  {
   "cell_type": "markdown",
   "metadata": {
    "id": "9YFqSS1_e1DC"
   },
   "source": [
    "<br>\n",
    "\n",
    "---\n",
    "\n",
    "<br>\n",
    "\n",
    "\n",
    "\n",
    "\n"
   ]
  },
  {
   "cell_type": "markdown",
   "metadata": {
    "id": "eCXiTtutfH2v"
   },
   "source": [
    "####<font color=red>Task 5</font>  (2 points)\n",
    "\n",
    "Think about the results you observe from Tasks 3 and 4. \n",
    "* Are these surpising? Are these expected? Why?"
   ]
  },
  {
   "cell_type": "markdown",
   "metadata": {},
   "source": [
    "These results from tasks 3 and 4 are not surprising. Alaksa has a low death rate because it has a significantly younger avg population than most states. Vermont has a significantly older population thus it has less young families bearing children. Utah has a large mormon population which believes in significantly larger families for reasons of faith that result in a high birth rate. "
   ]
  },
  {
   "cell_type": "markdown",
   "metadata": {
    "id": "oZZEsiXYfH2w"
   },
   "source": [
    "<br>\n",
    "\n",
    "---\n",
    "\n",
    "<br>\n",
    "\n",
    "\n",
    "\n",
    "\n"
   ]
  },
  {
   "cell_type": "markdown",
   "metadata": {
    "id": "GSBNE2J9fzwW"
   },
   "source": [
    "####<font color=red>Task 6</font>  (3 points)\n",
    "\n",
    "Use R code to answer the following. Also answer in complete sentences using text boxes where relevant.\n",
    "\n",
    "1. Which states have more deaths than births per 1,000 people?\n",
    "2. Which states have a negative population change?\n",
    "3. Which states have a population change greater than 15 OR less than 0?"
   ]
  },
  {
   "cell_type": "code",
   "execution_count": 6,
   "metadata": {
    "vscode": {
     "languageId": "r"
    }
   },
   "outputs": [
    {
     "data": {
      "text/html": [
       "<table class=\"dataframe\">\n",
       "<caption>A data.frame: 1 × 3</caption>\n",
       "<thead>\n",
       "\t<tr><th></th><th scope=col>Geographic Area</th><th scope=col>Vital Events: Births</th><th scope=col>Vital Events: Deaths</th></tr>\n",
       "\t<tr><th></th><th scope=col>&lt;chr&gt;</th><th scope=col>&lt;dbl&gt;</th><th scope=col>&lt;dbl&gt;</th></tr>\n",
       "</thead>\n",
       "<tbody>\n",
       "\t<tr><th scope=row>49</th><td>West Virginia</td><td>11.1</td><td>11.7</td></tr>\n",
       "</tbody>\n",
       "</table>\n"
      ],
      "text/latex": [
       "A data.frame: 1 × 3\n",
       "\\begin{tabular}{r|lll}\n",
       "  & Geographic Area & Vital Events: Births & Vital Events: Deaths\\\\\n",
       "  & <chr> & <dbl> & <dbl>\\\\\n",
       "\\hline\n",
       "\t49 & West Virginia & 11.1 & 11.7\\\\\n",
       "\\end{tabular}\n"
      ],
      "text/markdown": [
       "\n",
       "A data.frame: 1 × 3\n",
       "\n",
       "| <!--/--> | Geographic Area &lt;chr&gt; | Vital Events: Births &lt;dbl&gt; | Vital Events: Deaths &lt;dbl&gt; |\n",
       "|---|---|---|---|\n",
       "| 49 | West Virginia | 11.1 | 11.7 |\n",
       "\n"
      ],
      "text/plain": [
       "   Geographic Area Vital Events: Births Vital Events: Deaths\n",
       "49 West Virginia   11.1                 11.7                "
      ]
     },
     "metadata": {},
     "output_type": "display_data"
    },
    {
     "data": {
      "text/html": [
       "<table class=\"dataframe\">\n",
       "<caption>A data.frame: 2 × 2</caption>\n",
       "<thead>\n",
       "\t<tr><th></th><th scope=col>Geographic Area</th><th scope=col>Total Population Change</th></tr>\n",
       "\t<tr><th></th><th scope=col>&lt;chr&gt;</th><th scope=col>&lt;dbl&gt;</th></tr>\n",
       "</thead>\n",
       "<tbody>\n",
       "\t<tr><th scope=row>23</th><td>Michigan    </td><td>-0.1</td></tr>\n",
       "\t<tr><th scope=row>40</th><td>Rhode Island</td><td>-1.2</td></tr>\n",
       "</tbody>\n",
       "</table>\n"
      ],
      "text/latex": [
       "A data.frame: 2 × 2\n",
       "\\begin{tabular}{r|ll}\n",
       "  & Geographic Area & Total Population Change\\\\\n",
       "  & <chr> & <dbl>\\\\\n",
       "\\hline\n",
       "\t23 & Michigan     & -0.1\\\\\n",
       "\t40 & Rhode Island & -1.2\\\\\n",
       "\\end{tabular}\n"
      ],
      "text/markdown": [
       "\n",
       "A data.frame: 2 × 2\n",
       "\n",
       "| <!--/--> | Geographic Area &lt;chr&gt; | Total Population Change &lt;dbl&gt; |\n",
       "|---|---|---|\n",
       "| 23 | Michigan     | -0.1 |\n",
       "| 40 | Rhode Island | -1.2 |\n",
       "\n"
      ],
      "text/plain": [
       "   Geographic Area Total Population Change\n",
       "23 Michigan        -0.1                   \n",
       "40 Rhode Island    -1.2                   "
      ]
     },
     "metadata": {},
     "output_type": "display_data"
    },
    {
     "data": {
      "text/html": [
       "<table class=\"dataframe\">\n",
       "<caption>A data.frame: 4 × 2</caption>\n",
       "<thead>\n",
       "\t<tr><th></th><th scope=col>Geographic Area</th><th scope=col>Total Population Change</th></tr>\n",
       "\t<tr><th></th><th scope=col>&lt;chr&gt;</th><th scope=col>&lt;dbl&gt;</th></tr>\n",
       "</thead>\n",
       "<tbody>\n",
       "\t<tr><th scope=row>9</th><td>District of Columbia</td><td>21.4</td></tr>\n",
       "\t<tr><th scope=row>23</th><td>Michigan            </td><td>-0.1</td></tr>\n",
       "\t<tr><th scope=row>40</th><td>Rhode Island        </td><td>-1.2</td></tr>\n",
       "\t<tr><th scope=row>44</th><td>Texas               </td><td>16.5</td></tr>\n",
       "</tbody>\n",
       "</table>\n"
      ],
      "text/latex": [
       "A data.frame: 4 × 2\n",
       "\\begin{tabular}{r|ll}\n",
       "  & Geographic Area & Total Population Change\\\\\n",
       "  & <chr> & <dbl>\\\\\n",
       "\\hline\n",
       "\t9 & District of Columbia & 21.4\\\\\n",
       "\t23 & Michigan             & -0.1\\\\\n",
       "\t40 & Rhode Island         & -1.2\\\\\n",
       "\t44 & Texas                & 16.5\\\\\n",
       "\\end{tabular}\n"
      ],
      "text/markdown": [
       "\n",
       "A data.frame: 4 × 2\n",
       "\n",
       "| <!--/--> | Geographic Area &lt;chr&gt; | Total Population Change &lt;dbl&gt; |\n",
       "|---|---|---|\n",
       "| 9 | District of Columbia | 21.4 |\n",
       "| 23 | Michigan             | -0.1 |\n",
       "| 40 | Rhode Island         | -1.2 |\n",
       "| 44 | Texas                | 16.5 |\n",
       "\n"
      ],
      "text/plain": [
       "   Geographic Area      Total Population Change\n",
       "9  District of Columbia 21.4                   \n",
       "23 Michigan             -0.1                   \n",
       "40 Rhode Island         -1.2                   \n",
       "44 Texas                16.5                   "
      ]
     },
     "metadata": {},
     "output_type": "display_data"
    }
   ],
   "source": [
    "states[states$'Vital Events: Deaths' > states$'Vital Events: Births', c(1, 4:5)]\n",
    "states[states$'Total Population Change' < 0, c(1:2)]\n",
    "states[states$'Total Population Change' > 15 | states$'Total Population Change' < 0, c(1:2)]"
   ]
  },
  {
   "cell_type": "markdown",
   "metadata": {},
   "source": [
    "The only state to have a higher death than birth rate is West Virginia. The states with negative population change are Michigan and Rhode Island. The states with a population change greater than 15 or less than 0 are DC, Michigan, Rhode Island, and Texas."
   ]
  },
  {
   "cell_type": "markdown",
   "metadata": {
    "id": "dR-aiM5kfzwY"
   },
   "source": [
    "<br>\n",
    "\n",
    "---\n",
    "\n",
    "<br>\n",
    "\n",
    "\n",
    "\n",
    "\n"
   ]
  },
  {
   "cell_type": "markdown",
   "metadata": {
    "id": "b8MTzs7xgd1Q"
   },
   "source": [
    "####<font color=red>Task 7</font>  (3 points)\n",
    "\n",
    "Use R code to answer the following. Also answer in complete sentences using text boxes where relevant.\n",
    "\n",
    "1. What is the average number of births across states with population changes greater than 10 per 1,000 people.\n",
    "2. What is the average number of births across states with population changes less than 5 per 1,000 people.\n",
    "3. Are these averages very different?"
   ]
  },
  {
   "cell_type": "code",
   "execution_count": 7,
   "metadata": {
    "vscode": {
     "languageId": "r"
    }
   },
   "outputs": [
    {
     "data": {
      "text/html": [
       "<table class=\"dataframe\">\n",
       "<caption>A data.frame: 10 × 3</caption>\n",
       "<thead>\n",
       "\t<tr><th></th><th scope=col>Geographic Area</th><th scope=col>Total Population Change</th><th scope=col>Vital Events: Births</th></tr>\n",
       "\t<tr><th></th><th scope=col>&lt;chr&gt;</th><th scope=col>&lt;dbl&gt;</th><th scope=col>&lt;dbl&gt;</th></tr>\n",
       "</thead>\n",
       "<tbody>\n",
       "\t<tr><th scope=row>2</th><td>Alaska              </td><td>11.9</td><td>15.6</td></tr>\n",
       "\t<tr><th scope=row>3</th><td>Arizona             </td><td>10.8</td><td>13.6</td></tr>\n",
       "\t<tr><th scope=row>6</th><td>Colorado            </td><td>13.6</td><td>13.0</td></tr>\n",
       "\t<tr><th scope=row>9</th><td>District of Columbia</td><td>21.4</td><td>14.7</td></tr>\n",
       "\t<tr><th scope=row>10</th><td>Florida             </td><td>11.6</td><td>11.3</td></tr>\n",
       "\t<tr><th scope=row>11</th><td>Georgia             </td><td>10.6</td><td>13.8</td></tr>\n",
       "\t<tr><th scope=row>35</th><td>North Dakota        </td><td>13.7</td><td>13.2</td></tr>\n",
       "\t<tr><th scope=row>44</th><td>Texas               </td><td>16.5</td><td>15.6</td></tr>\n",
       "\t<tr><th scope=row>45</th><td>Utah                </td><td>14.9</td><td>18.6</td></tr>\n",
       "\t<tr><th scope=row>48</th><td>Washington          </td><td>12.8</td><td>12.8</td></tr>\n",
       "</tbody>\n",
       "</table>\n"
      ],
      "text/latex": [
       "A data.frame: 10 × 3\n",
       "\\begin{tabular}{r|lll}\n",
       "  & Geographic Area & Total Population Change & Vital Events: Births\\\\\n",
       "  & <chr> & <dbl> & <dbl>\\\\\n",
       "\\hline\n",
       "\t2 & Alaska               & 11.9 & 15.6\\\\\n",
       "\t3 & Arizona              & 10.8 & 13.6\\\\\n",
       "\t6 & Colorado             & 13.6 & 13.0\\\\\n",
       "\t9 & District of Columbia & 21.4 & 14.7\\\\\n",
       "\t10 & Florida              & 11.6 & 11.3\\\\\n",
       "\t11 & Georgia              & 10.6 & 13.8\\\\\n",
       "\t35 & North Dakota         & 13.7 & 13.2\\\\\n",
       "\t44 & Texas                & 16.5 & 15.6\\\\\n",
       "\t45 & Utah                 & 14.9 & 18.6\\\\\n",
       "\t48 & Washington           & 12.8 & 12.8\\\\\n",
       "\\end{tabular}\n"
      ],
      "text/markdown": [
       "\n",
       "A data.frame: 10 × 3\n",
       "\n",
       "| <!--/--> | Geographic Area &lt;chr&gt; | Total Population Change &lt;dbl&gt; | Vital Events: Births &lt;dbl&gt; |\n",
       "|---|---|---|---|\n",
       "| 2 | Alaska               | 11.9 | 15.6 |\n",
       "| 3 | Arizona              | 10.8 | 13.6 |\n",
       "| 6 | Colorado             | 13.6 | 13.0 |\n",
       "| 9 | District of Columbia | 21.4 | 14.7 |\n",
       "| 10 | Florida              | 11.6 | 11.3 |\n",
       "| 11 | Georgia              | 10.6 | 13.8 |\n",
       "| 35 | North Dakota         | 13.7 | 13.2 |\n",
       "| 44 | Texas                | 16.5 | 15.6 |\n",
       "| 45 | Utah                 | 14.9 | 18.6 |\n",
       "| 48 | Washington           | 12.8 | 12.8 |\n",
       "\n"
      ],
      "text/plain": [
       "   Geographic Area      Total Population Change Vital Events: Births\n",
       "2  Alaska               11.9                    15.6                \n",
       "3  Arizona              10.8                    13.6                \n",
       "6  Colorado             13.6                    13.0                \n",
       "9  District of Columbia 21.4                    14.7                \n",
       "10 Florida              11.6                    11.3                \n",
       "11 Georgia              10.6                    13.8                \n",
       "35 North Dakota         13.7                    13.2                \n",
       "44 Texas                16.5                    15.6                \n",
       "45 Utah                 14.9                    18.6                \n",
       "48 Washington           12.8                    12.8                "
      ]
     },
     "metadata": {},
     "output_type": "display_data"
    },
    {
     "data": {
      "text/html": [
       "14.22"
      ],
      "text/latex": [
       "14.22"
      ],
      "text/markdown": [
       "14.22"
      ],
      "text/plain": [
       "[1] 14.22"
      ]
     },
     "metadata": {},
     "output_type": "display_data"
    },
    {
     "data": {
      "text/html": [
       "<table class=\"dataframe\">\n",
       "<caption>A data.frame: 20 × 3</caption>\n",
       "<thead>\n",
       "\t<tr><th></th><th scope=col>Geographic Area</th><th scope=col>Total Population Change</th><th scope=col>Vital Events: Births</th></tr>\n",
       "\t<tr><th></th><th scope=col>&lt;chr&gt;</th><th scope=col>&lt;dbl&gt;</th><th scope=col>&lt;dbl&gt;</th></tr>\n",
       "</thead>\n",
       "<tbody>\n",
       "\t<tr><th scope=row>1</th><td>Alabama      </td><td> 3.6</td><td>12.5</td></tr>\n",
       "\t<tr><th scope=row>7</th><td>Connecticut  </td><td> 1.5</td><td>10.4</td></tr>\n",
       "\t<tr><th scope=row>14</th><td>Illinois     </td><td> 2.1</td><td>13.0</td></tr>\n",
       "\t<tr><th scope=row>15</th><td>Indiana      </td><td> 4.0</td><td>13.0</td></tr>\n",
       "\t<tr><th scope=row>16</th><td>Iowa         </td><td> 4.0</td><td>12.5</td></tr>\n",
       "\t<tr><th scope=row>17</th><td>Kansas       </td><td> 4.2</td><td>14.0</td></tr>\n",
       "\t<tr><th scope=row>20</th><td>Maine        </td><td> 0.6</td><td> 9.7</td></tr>\n",
       "\t<tr><th scope=row>22</th><td>Massachusetts</td><td> 4.9</td><td>11.2</td></tr>\n",
       "\t<tr><th scope=row>23</th><td>Michigan     </td><td>-0.1</td><td>11.5</td></tr>\n",
       "\t<tr><th scope=row>25</th><td>Mississippi  </td><td> 2.8</td><td>13.6</td></tr>\n",
       "\t<tr><th scope=row>26</th><td>Missouri     </td><td> 2.5</td><td>12.6</td></tr>\n",
       "\t<tr><th scope=row>30</th><td>New Hampshire</td><td> 1.1</td><td> 9.7</td></tr>\n",
       "\t<tr><th scope=row>31</th><td>New Jersey   </td><td> 2.4</td><td>11.8</td></tr>\n",
       "\t<tr><th scope=row>33</th><td>New York     </td><td> 3.6</td><td>12.5</td></tr>\n",
       "\t<tr><th scope=row>36</th><td>Ohio         </td><td> 0.6</td><td>12.2</td></tr>\n",
       "\t<tr><th scope=row>39</th><td>Pennsylvania </td><td> 2.0</td><td>11.3</td></tr>\n",
       "\t<tr><th scope=row>40</th><td>Rhode Island </td><td>-1.2</td><td>10.5</td></tr>\n",
       "\t<tr><th scope=row>46</th><td>Vermont      </td><td> 0.8</td><td> 9.5</td></tr>\n",
       "\t<tr><th scope=row>49</th><td>West Virginia</td><td> 0.5</td><td>11.1</td></tr>\n",
       "\t<tr><th scope=row>50</th><td>Wisconsin    </td><td> 3.5</td><td>12.2</td></tr>\n",
       "</tbody>\n",
       "</table>\n"
      ],
      "text/latex": [
       "A data.frame: 20 × 3\n",
       "\\begin{tabular}{r|lll}\n",
       "  & Geographic Area & Total Population Change & Vital Events: Births\\\\\n",
       "  & <chr> & <dbl> & <dbl>\\\\\n",
       "\\hline\n",
       "\t1 & Alabama       &  3.6 & 12.5\\\\\n",
       "\t7 & Connecticut   &  1.5 & 10.4\\\\\n",
       "\t14 & Illinois      &  2.1 & 13.0\\\\\n",
       "\t15 & Indiana       &  4.0 & 13.0\\\\\n",
       "\t16 & Iowa          &  4.0 & 12.5\\\\\n",
       "\t17 & Kansas        &  4.2 & 14.0\\\\\n",
       "\t20 & Maine         &  0.6 &  9.7\\\\\n",
       "\t22 & Massachusetts &  4.9 & 11.2\\\\\n",
       "\t23 & Michigan      & -0.1 & 11.5\\\\\n",
       "\t25 & Mississippi   &  2.8 & 13.6\\\\\n",
       "\t26 & Missouri      &  2.5 & 12.6\\\\\n",
       "\t30 & New Hampshire &  1.1 &  9.7\\\\\n",
       "\t31 & New Jersey    &  2.4 & 11.8\\\\\n",
       "\t33 & New York      &  3.6 & 12.5\\\\\n",
       "\t36 & Ohio          &  0.6 & 12.2\\\\\n",
       "\t39 & Pennsylvania  &  2.0 & 11.3\\\\\n",
       "\t40 & Rhode Island  & -1.2 & 10.5\\\\\n",
       "\t46 & Vermont       &  0.8 &  9.5\\\\\n",
       "\t49 & West Virginia &  0.5 & 11.1\\\\\n",
       "\t50 & Wisconsin     &  3.5 & 12.2\\\\\n",
       "\\end{tabular}\n"
      ],
      "text/markdown": [
       "\n",
       "A data.frame: 20 × 3\n",
       "\n",
       "| <!--/--> | Geographic Area &lt;chr&gt; | Total Population Change &lt;dbl&gt; | Vital Events: Births &lt;dbl&gt; |\n",
       "|---|---|---|---|\n",
       "| 1 | Alabama       |  3.6 | 12.5 |\n",
       "| 7 | Connecticut   |  1.5 | 10.4 |\n",
       "| 14 | Illinois      |  2.1 | 13.0 |\n",
       "| 15 | Indiana       |  4.0 | 13.0 |\n",
       "| 16 | Iowa          |  4.0 | 12.5 |\n",
       "| 17 | Kansas        |  4.2 | 14.0 |\n",
       "| 20 | Maine         |  0.6 |  9.7 |\n",
       "| 22 | Massachusetts |  4.9 | 11.2 |\n",
       "| 23 | Michigan      | -0.1 | 11.5 |\n",
       "| 25 | Mississippi   |  2.8 | 13.6 |\n",
       "| 26 | Missouri      |  2.5 | 12.6 |\n",
       "| 30 | New Hampshire |  1.1 |  9.7 |\n",
       "| 31 | New Jersey    |  2.4 | 11.8 |\n",
       "| 33 | New York      |  3.6 | 12.5 |\n",
       "| 36 | Ohio          |  0.6 | 12.2 |\n",
       "| 39 | Pennsylvania  |  2.0 | 11.3 |\n",
       "| 40 | Rhode Island  | -1.2 | 10.5 |\n",
       "| 46 | Vermont       |  0.8 |  9.5 |\n",
       "| 49 | West Virginia |  0.5 | 11.1 |\n",
       "| 50 | Wisconsin     |  3.5 | 12.2 |\n",
       "\n"
      ],
      "text/plain": [
       "   Geographic Area Total Population Change Vital Events: Births\n",
       "1  Alabama          3.6                    12.5                \n",
       "7  Connecticut      1.5                    10.4                \n",
       "14 Illinois         2.1                    13.0                \n",
       "15 Indiana          4.0                    13.0                \n",
       "16 Iowa             4.0                    12.5                \n",
       "17 Kansas           4.2                    14.0                \n",
       "20 Maine            0.6                     9.7                \n",
       "22 Massachusetts    4.9                    11.2                \n",
       "23 Michigan        -0.1                    11.5                \n",
       "25 Mississippi      2.8                    13.6                \n",
       "26 Missouri         2.5                    12.6                \n",
       "30 New Hampshire    1.1                     9.7                \n",
       "31 New Jersey       2.4                    11.8                \n",
       "33 New York         3.6                    12.5                \n",
       "36 Ohio             0.6                    12.2                \n",
       "39 Pennsylvania     2.0                    11.3                \n",
       "40 Rhode Island    -1.2                    10.5                \n",
       "46 Vermont          0.8                     9.5                \n",
       "49 West Virginia    0.5                    11.1                \n",
       "50 Wisconsin        3.5                    12.2                "
      ]
     },
     "metadata": {},
     "output_type": "display_data"
    },
    {
     "data": {
      "text/html": [
       "11.74"
      ],
      "text/latex": [
       "11.74"
      ],
      "text/markdown": [
       "11.74"
      ],
      "text/plain": [
       "[1] 11.74"
      ]
     },
     "metadata": {},
     "output_type": "display_data"
    }
   ],
   "source": [
    "states[states$'Total Population Change' > 10, c(1:2,4)]\n",
    "mean(states$'Vital Events: Births'[states$'Total Population Change' > 10])\n",
    "states[states$'Total Population Change' < 5, c(1:2,4)]\n",
    "mean(states$'Vital Events: Births'[states$'Total Population Change' < 5])"
   ]
  },
  {
   "cell_type": "markdown",
   "metadata": {},
   "source": [
    "For states with population change greater than 10, the avg births is 14.22 per 1,000. For states with pop change less than 5, the avg births is 11.74 per 1,000. Yes there is a significant difference in birthrates between states with greater and less pop changes. "
   ]
  },
  {
   "cell_type": "markdown",
   "metadata": {
    "id": "b3jqEepbgd1R"
   },
   "source": [
    "<br>\n",
    "\n",
    "---\n",
    "\n",
    "<br>\n",
    "\n",
    "\n",
    "\n",
    "\n"
   ]
  },
  {
   "cell_type": "markdown",
   "metadata": {
    "id": "A2RcAIU6g9DB"
   },
   "source": [
    "####<font color=red>Task 8</font>  (4 points)\n",
    "\n",
    "Use R code to answer the following. Also answer in complete sentences using text boxes where relevant.\n",
    "\n",
    "1. Order the dataframe from lowest deaths per 1,000 to highest deaths per 1,000\n",
    "2. Store the dataframe as `states_sorted`\n",
    "3. Show the first few rows to ensure they are sorted correctly\n",
    "4. Which 5 states have the highest number of deaths per 1,000?"
   ]
  },
  {
   "cell_type": "code",
   "execution_count": 8,
   "metadata": {
    "vscode": {
     "languageId": "r"
    }
   },
   "outputs": [
    {
     "data": {
      "text/html": [
       "<table class=\"dataframe\">\n",
       "<caption>A data.frame: 6 × 8</caption>\n",
       "<thead>\n",
       "\t<tr><th></th><th scope=col>Geographic Area</th><th scope=col>Total Population Change</th><th scope=col>Natural Increase</th><th scope=col>Vital Events: Births</th><th scope=col>Vital Events: Deaths</th><th scope=col>Net Migration: Total</th><th scope=col>Net Migration: International</th><th scope=col>Net Migration: Domestic</th></tr>\n",
       "\t<tr><th></th><th scope=col>&lt;chr&gt;</th><th scope=col>&lt;dbl&gt;</th><th scope=col>&lt;dbl&gt;</th><th scope=col>&lt;dbl&gt;</th><th scope=col>&lt;dbl&gt;</th><th scope=col>&lt;dbl&gt;</th><th scope=col>&lt;dbl&gt;</th><th scope=col>&lt;dbl&gt;</th></tr>\n",
       "</thead>\n",
       "<tbody>\n",
       "\t<tr><th scope=row>2</th><td>Alaska    </td><td>11.9</td><td>10.9</td><td>15.6</td><td>4.6</td><td>1.0</td><td>1.5</td><td>0.6</td></tr>\n",
       "\t<tr><th scope=row>45</th><td>Utah      </td><td>14.9</td><td>13.5</td><td>18.6</td><td>5.1</td><td>1.5</td><td>1.9</td><td>0.4</td></tr>\n",
       "\t<tr><th scope=row>6</th><td>Colorado  </td><td>13.6</td><td> 6.9</td><td>13.0</td><td>6.1</td><td>6.6</td><td>1.7</td><td>4.9</td></tr>\n",
       "\t<tr><th scope=row>5</th><td>California</td><td> 9.4</td><td> 7.3</td><td>13.5</td><td>6.2</td><td>2.1</td><td>3.5</td><td>1.4</td></tr>\n",
       "\t<tr><th scope=row>44</th><td>Texas     </td><td>16.5</td><td> 9.1</td><td>15.6</td><td>6.5</td><td>7.4</td><td>2.9</td><td>4.5</td></tr>\n",
       "\t<tr><th scope=row>3</th><td>Arizona   </td><td>10.8</td><td> 6.5</td><td>13.6</td><td>7.1</td><td>4.3</td><td>3.2</td><td>1.1</td></tr>\n",
       "</tbody>\n",
       "</table>\n"
      ],
      "text/latex": [
       "A data.frame: 6 × 8\n",
       "\\begin{tabular}{r|llllllll}\n",
       "  & Geographic Area & Total Population Change & Natural Increase & Vital Events: Births & Vital Events: Deaths & Net Migration: Total & Net Migration: International & Net Migration: Domestic\\\\\n",
       "  & <chr> & <dbl> & <dbl> & <dbl> & <dbl> & <dbl> & <dbl> & <dbl>\\\\\n",
       "\\hline\n",
       "\t2 & Alaska     & 11.9 & 10.9 & 15.6 & 4.6 & 1.0 & 1.5 & 0.6\\\\\n",
       "\t45 & Utah       & 14.9 & 13.5 & 18.6 & 5.1 & 1.5 & 1.9 & 0.4\\\\\n",
       "\t6 & Colorado   & 13.6 &  6.9 & 13.0 & 6.1 & 6.6 & 1.7 & 4.9\\\\\n",
       "\t5 & California &  9.4 &  7.3 & 13.5 & 6.2 & 2.1 & 3.5 & 1.4\\\\\n",
       "\t44 & Texas      & 16.5 &  9.1 & 15.6 & 6.5 & 7.4 & 2.9 & 4.5\\\\\n",
       "\t3 & Arizona    & 10.8 &  6.5 & 13.6 & 7.1 & 4.3 & 3.2 & 1.1\\\\\n",
       "\\end{tabular}\n"
      ],
      "text/markdown": [
       "\n",
       "A data.frame: 6 × 8\n",
       "\n",
       "| <!--/--> | Geographic Area &lt;chr&gt; | Total Population Change &lt;dbl&gt; | Natural Increase &lt;dbl&gt; | Vital Events: Births &lt;dbl&gt; | Vital Events: Deaths &lt;dbl&gt; | Net Migration: Total &lt;dbl&gt; | Net Migration: International &lt;dbl&gt; | Net Migration: Domestic &lt;dbl&gt; |\n",
       "|---|---|---|---|---|---|---|---|---|\n",
       "| 2 | Alaska     | 11.9 | 10.9 | 15.6 | 4.6 | 1.0 | 1.5 | 0.6 |\n",
       "| 45 | Utah       | 14.9 | 13.5 | 18.6 | 5.1 | 1.5 | 1.9 | 0.4 |\n",
       "| 6 | Colorado   | 13.6 |  6.9 | 13.0 | 6.1 | 6.6 | 1.7 | 4.9 |\n",
       "| 5 | California |  9.4 |  7.3 | 13.5 | 6.2 | 2.1 | 3.5 | 1.4 |\n",
       "| 44 | Texas      | 16.5 |  9.1 | 15.6 | 6.5 | 7.4 | 2.9 | 4.5 |\n",
       "| 3 | Arizona    | 10.8 |  6.5 | 13.6 | 7.1 | 4.3 | 3.2 | 1.1 |\n",
       "\n"
      ],
      "text/plain": [
       "   Geographic Area Total Population Change Natural Increase\n",
       "2  Alaska          11.9                    10.9            \n",
       "45 Utah            14.9                    13.5            \n",
       "6  Colorado        13.6                     6.9            \n",
       "5  California       9.4                     7.3            \n",
       "44 Texas           16.5                     9.1            \n",
       "3  Arizona         10.8                     6.5            \n",
       "   Vital Events: Births Vital Events: Deaths Net Migration: Total\n",
       "2  15.6                 4.6                  1.0                 \n",
       "45 18.6                 5.1                  1.5                 \n",
       "6  13.0                 6.1                  6.6                 \n",
       "5  13.5                 6.2                  2.1                 \n",
       "44 15.6                 6.5                  7.4                 \n",
       "3  13.6                 7.1                  4.3                 \n",
       "   Net Migration: International Net Migration: Domestic\n",
       "2  1.5                          0.6                    \n",
       "45 1.9                          0.4                    \n",
       "6  1.7                          4.9                    \n",
       "5  3.5                          1.4                    \n",
       "44 2.9                          4.5                    \n",
       "3  3.2                          1.1                    "
      ]
     },
     "metadata": {},
     "output_type": "display_data"
    },
    {
     "data": {
      "text/html": [
       "<table class=\"dataframe\">\n",
       "<caption>A data.frame: 6 × 8</caption>\n",
       "<thead>\n",
       "\t<tr><th></th><th scope=col>Geographic Area</th><th scope=col>Total Population Change</th><th scope=col>Natural Increase</th><th scope=col>Vital Events: Births</th><th scope=col>Vital Events: Deaths</th><th scope=col>Net Migration: Total</th><th scope=col>Net Migration: International</th><th scope=col>Net Migration: Domestic</th></tr>\n",
       "\t<tr><th></th><th scope=col>&lt;chr&gt;</th><th scope=col>&lt;dbl&gt;</th><th scope=col>&lt;dbl&gt;</th><th scope=col>&lt;dbl&gt;</th><th scope=col>&lt;dbl&gt;</th><th scope=col>&lt;dbl&gt;</th><th scope=col>&lt;dbl&gt;</th><th scope=col>&lt;dbl&gt;</th></tr>\n",
       "</thead>\n",
       "<tbody>\n",
       "\t<tr><th scope=row>20</th><td>Maine        </td><td>0.6</td><td> 0.1</td><td> 9.7</td><td> 9.6</td><td> 0.5</td><td>0.4</td><td>0.1</td></tr>\n",
       "\t<tr><th scope=row>4</th><td>Arkansas     </td><td>5.6</td><td> 3.3</td><td>13.0</td><td> 9.7</td><td> 2.3</td><td>1.1</td><td>1.2</td></tr>\n",
       "\t<tr><th scope=row>25</th><td>Mississippi  </td><td>2.8</td><td> 3.9</td><td>13.6</td><td> 9.7</td><td>-1.1</td><td>0.8</td><td>1.9</td></tr>\n",
       "\t<tr><th scope=row>39</th><td>Pennsylvania </td><td>2.0</td><td> 1.4</td><td>11.3</td><td> 9.8</td><td> 0.6</td><td>1.2</td><td>0.6</td></tr>\n",
       "\t<tr><th scope=row>1</th><td>Alabama      </td><td>3.6</td><td> 2.5</td><td>12.5</td><td>10.0</td><td> 1.1</td><td>0.9</td><td>0.1</td></tr>\n",
       "\t<tr><th scope=row>49</th><td>West Virginia</td><td>0.5</td><td>-0.5</td><td>11.1</td><td>11.7</td><td> 1.1</td><td>0.4</td><td>0.7</td></tr>\n",
       "</tbody>\n",
       "</table>\n"
      ],
      "text/latex": [
       "A data.frame: 6 × 8\n",
       "\\begin{tabular}{r|llllllll}\n",
       "  & Geographic Area & Total Population Change & Natural Increase & Vital Events: Births & Vital Events: Deaths & Net Migration: Total & Net Migration: International & Net Migration: Domestic\\\\\n",
       "  & <chr> & <dbl> & <dbl> & <dbl> & <dbl> & <dbl> & <dbl> & <dbl>\\\\\n",
       "\\hline\n",
       "\t20 & Maine         & 0.6 &  0.1 &  9.7 &  9.6 &  0.5 & 0.4 & 0.1\\\\\n",
       "\t4 & Arkansas      & 5.6 &  3.3 & 13.0 &  9.7 &  2.3 & 1.1 & 1.2\\\\\n",
       "\t25 & Mississippi   & 2.8 &  3.9 & 13.6 &  9.7 & -1.1 & 0.8 & 1.9\\\\\n",
       "\t39 & Pennsylvania  & 2.0 &  1.4 & 11.3 &  9.8 &  0.6 & 1.2 & 0.6\\\\\n",
       "\t1 & Alabama       & 3.6 &  2.5 & 12.5 & 10.0 &  1.1 & 0.9 & 0.1\\\\\n",
       "\t49 & West Virginia & 0.5 & -0.5 & 11.1 & 11.7 &  1.1 & 0.4 & 0.7\\\\\n",
       "\\end{tabular}\n"
      ],
      "text/markdown": [
       "\n",
       "A data.frame: 6 × 8\n",
       "\n",
       "| <!--/--> | Geographic Area &lt;chr&gt; | Total Population Change &lt;dbl&gt; | Natural Increase &lt;dbl&gt; | Vital Events: Births &lt;dbl&gt; | Vital Events: Deaths &lt;dbl&gt; | Net Migration: Total &lt;dbl&gt; | Net Migration: International &lt;dbl&gt; | Net Migration: Domestic &lt;dbl&gt; |\n",
       "|---|---|---|---|---|---|---|---|---|\n",
       "| 20 | Maine         | 0.6 |  0.1 |  9.7 |  9.6 |  0.5 | 0.4 | 0.1 |\n",
       "| 4 | Arkansas      | 5.6 |  3.3 | 13.0 |  9.7 |  2.3 | 1.1 | 1.2 |\n",
       "| 25 | Mississippi   | 2.8 |  3.9 | 13.6 |  9.7 | -1.1 | 0.8 | 1.9 |\n",
       "| 39 | Pennsylvania  | 2.0 |  1.4 | 11.3 |  9.8 |  0.6 | 1.2 | 0.6 |\n",
       "| 1 | Alabama       | 3.6 |  2.5 | 12.5 | 10.0 |  1.1 | 0.9 | 0.1 |\n",
       "| 49 | West Virginia | 0.5 | -0.5 | 11.1 | 11.7 |  1.1 | 0.4 | 0.7 |\n",
       "\n"
      ],
      "text/plain": [
       "   Geographic Area Total Population Change Natural Increase\n",
       "20 Maine           0.6                      0.1            \n",
       "4  Arkansas        5.6                      3.3            \n",
       "25 Mississippi     2.8                      3.9            \n",
       "39 Pennsylvania    2.0                      1.4            \n",
       "1  Alabama         3.6                      2.5            \n",
       "49 West Virginia   0.5                     -0.5            \n",
       "   Vital Events: Births Vital Events: Deaths Net Migration: Total\n",
       "20  9.7                  9.6                  0.5                \n",
       "4  13.0                  9.7                  2.3                \n",
       "25 13.6                  9.7                 -1.1                \n",
       "39 11.3                  9.8                  0.6                \n",
       "1  12.5                 10.0                  1.1                \n",
       "49 11.1                 11.7                  1.1                \n",
       "   Net Migration: International Net Migration: Domestic\n",
       "20 0.4                          0.1                    \n",
       "4  1.1                          1.2                    \n",
       "25 0.8                          1.9                    \n",
       "39 1.2                          0.6                    \n",
       "1  0.9                          0.1                    \n",
       "49 0.4                          0.7                    "
      ]
     },
     "metadata": {},
     "output_type": "display_data"
    }
   ],
   "source": [
    "states_sorted <- states[order(states$'Vital Events: Deaths'), ]\n",
    "head(states_sorted)\n",
    "tail(states_sorted)"
   ]
  },
  {
   "cell_type": "markdown",
   "metadata": {},
   "source": [
    "The top 5 states by death rate are West Virginia, Alabama, Pennsylvania, Mississippi, and Arkansas."
   ]
  },
  {
   "cell_type": "markdown",
   "metadata": {
    "id": "FHMhRhqag9DD"
   },
   "source": [
    "<br>\n",
    "\n",
    "---\n",
    "\n",
    "<br>\n",
    "\n",
    "\n",
    "\n",
    "\n"
   ]
  }
 ],
 "metadata": {
  "colab": {
   "provenance": [
    {
     "file_id": "1GSNhUwEVzRoeXaygW8UJtUipRT1sQ3G0",
     "timestamp": 1609981963177
    },
    {
     "file_id": "1BYnnbqeyZAlYnxR9IHC8tpW07EpDeyKR",
     "timestamp": 1609974285905
    }
   ]
  },
  "kernelspec": {
   "display_name": "R 4.3.3",
   "language": "R",
   "name": "ir433"
  },
  "language_info": {
   "codemirror_mode": "r",
   "file_extension": ".r",
   "mimetype": "text/x-r-source",
   "name": "R",
   "pygments_lexer": "r",
   "version": "4.3.3"
  }
 },
 "nbformat": 4,
 "nbformat_minor": 4
}
