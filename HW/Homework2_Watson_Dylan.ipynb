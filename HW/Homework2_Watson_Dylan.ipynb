{
 "cells": [
  {
   "cell_type": "markdown",
   "metadata": {
    "id": "gtETsh5j8vHw"
   },
   "source": [
    "# **Homework 2: Functions and Loops (20 points)**\n",
    "\n",
    "#### **Dylan Watson**\n"
   ]
  },
  {
   "cell_type": "markdown",
   "metadata": {
    "id": "en9tcPcGuFyc"
   },
   "source": [
    "---\n",
    "**Instructions**: Complete the homework assignment below.\n",
    "- <font color=red>Tasks</font> indicated in red must be completed to receive credit\n",
    "- Include all code for your work\n",
    "- Include markdown cells with written answers explaining your work when prompted\n",
    "- Your completed assignment must be submitted to Canvas as a .ipynb file by the deadline listed on Canvas\n",
    "---"
   ]
  },
  {
   "cell_type": "markdown",
   "metadata": {
    "id": "c7sADPiGJvIe"
   },
   "source": [
    "<br>"
   ]
  },
  {
   "cell_type": "markdown",
   "metadata": {
    "id": "MfKT4gy91QKV"
   },
   "source": [
    "####<font color=red>Organized</font> (1 point)\n",
    "* Answers should be organized in the following format for organization and readability\n",
    "\n",
    "<br>\n",
    "\n",
    "```\n",
    "# 1. \n",
    "This will be the code block to answer the first part of a task\n",
    "```\n",
    "\n",
    "1. This will be the text answer/explanation (if prompted) for the first task\n",
    "\n",
    "```\n",
    "# 2. \n",
    "This will be the code block to answer the second part of a task\n",
    "```\n",
    "\n",
    "2. This will be the text answer/explanation (if prompted) for the second task\n",
    "\n",
    "<br>\n",
    "\n",
    "Continue this format for the remaining subtasks\n"
   ]
  },
  {
   "cell_type": "markdown",
   "metadata": {
    "id": "YfKhJv3Q1PBh"
   },
   "source": [
    "<br>\n",
    "\n",
    "---\n",
    "\n",
    "<br>\n",
    "\n",
    "\n",
    "\n",
    "\n"
   ]
  },
  {
   "cell_type": "markdown",
   "metadata": {
    "id": "Ek6IuNtolHgW"
   },
   "source": [
    "####<font color=red>Task 1</font>  (2 points)\n",
    "\n",
    "1. (1 point) Load the csv file on employee attrition available [here](https://raw.githubusercontent.com/nelson-wu/employee-attrition-ml/master/WA_Fn-UseC_-HR-Employee-Attrition.csv)\n",
    "\n",
    "2. (1 point) View the first few rows using `head()` to ensure the data is formatted properly\n"
   ]
  },
  {
   "cell_type": "code",
   "execution_count": 1,
   "metadata": {},
   "outputs": [],
   "source": [
    "url = \"https://raw.githubusercontent.com/nelson-wu/employee-attrition-ml/master/WA_Fn-UseC_-HR-Employee-Attrition.csv\"\n",
    "download.file(url, destfile = \"data.csv\", method = \"auto\")\n",
    "dat <- read.csv(\"data.csv\")"
   ]
  },
  {
   "cell_type": "code",
   "execution_count": 2,
   "metadata": {},
   "outputs": [
    {
     "data": {
      "text/html": [
       "<table class=\"dataframe\">\n",
       "<caption>A data.frame: 6 × 35</caption>\n",
       "<thead>\n",
       "\t<tr><th></th><th scope=col>Age</th><th scope=col>Attrition</th><th scope=col>BusinessTravel</th><th scope=col>DailyRate</th><th scope=col>Department</th><th scope=col>DistanceFromHome</th><th scope=col>Education</th><th scope=col>EducationField</th><th scope=col>EmployeeCount</th><th scope=col>EmployeeNumber</th><th scope=col>⋯</th><th scope=col>RelationshipSatisfaction</th><th scope=col>StandardHours</th><th scope=col>StockOptionLevel</th><th scope=col>TotalWorkingYears</th><th scope=col>TrainingTimesLastYear</th><th scope=col>WorkLifeBalance</th><th scope=col>YearsAtCompany</th><th scope=col>YearsInCurrentRole</th><th scope=col>YearsSinceLastPromotion</th><th scope=col>YearsWithCurrManager</th></tr>\n",
       "\t<tr><th></th><th scope=col>&lt;int&gt;</th><th scope=col>&lt;chr&gt;</th><th scope=col>&lt;chr&gt;</th><th scope=col>&lt;int&gt;</th><th scope=col>&lt;chr&gt;</th><th scope=col>&lt;int&gt;</th><th scope=col>&lt;int&gt;</th><th scope=col>&lt;chr&gt;</th><th scope=col>&lt;int&gt;</th><th scope=col>&lt;int&gt;</th><th scope=col>⋯</th><th scope=col>&lt;int&gt;</th><th scope=col>&lt;int&gt;</th><th scope=col>&lt;int&gt;</th><th scope=col>&lt;int&gt;</th><th scope=col>&lt;int&gt;</th><th scope=col>&lt;int&gt;</th><th scope=col>&lt;int&gt;</th><th scope=col>&lt;int&gt;</th><th scope=col>&lt;int&gt;</th><th scope=col>&lt;int&gt;</th></tr>\n",
       "</thead>\n",
       "<tbody>\n",
       "\t<tr><th scope=row>1</th><td>41</td><td>Yes</td><td>Travel_Rarely    </td><td>1102</td><td>Sales                 </td><td>1</td><td>2</td><td>Life Sciences</td><td>1</td><td>1</td><td>⋯</td><td>1</td><td>80</td><td>0</td><td> 8</td><td>0</td><td>1</td><td> 6</td><td>4</td><td>0</td><td>5</td></tr>\n",
       "\t<tr><th scope=row>2</th><td>49</td><td>No </td><td>Travel_Frequently</td><td> 279</td><td>Research &amp; Development</td><td>8</td><td>1</td><td>Life Sciences</td><td>1</td><td>2</td><td>⋯</td><td>4</td><td>80</td><td>1</td><td>10</td><td>3</td><td>3</td><td>10</td><td>7</td><td>1</td><td>7</td></tr>\n",
       "\t<tr><th scope=row>3</th><td>37</td><td>Yes</td><td><span style=white-space:pre-wrap>Travel_Rarely    </span></td><td>1373</td><td>Research &amp; Development</td><td>2</td><td>2</td><td><span style=white-space:pre-wrap>Other        </span></td><td>1</td><td>4</td><td>⋯</td><td>2</td><td>80</td><td>0</td><td> 7</td><td>3</td><td>3</td><td> 0</td><td>0</td><td>0</td><td>0</td></tr>\n",
       "\t<tr><th scope=row>4</th><td>33</td><td>No </td><td>Travel_Frequently</td><td>1392</td><td>Research &amp; Development</td><td>3</td><td>4</td><td>Life Sciences</td><td>1</td><td>5</td><td>⋯</td><td>3</td><td>80</td><td>0</td><td> 8</td><td>3</td><td>3</td><td> 8</td><td>7</td><td>3</td><td>0</td></tr>\n",
       "\t<tr><th scope=row>5</th><td>27</td><td>No </td><td><span style=white-space:pre-wrap>Travel_Rarely    </span></td><td> 591</td><td>Research &amp; Development</td><td>2</td><td>1</td><td><span style=white-space:pre-wrap>Medical      </span></td><td>1</td><td>7</td><td>⋯</td><td>4</td><td>80</td><td>1</td><td> 6</td><td>3</td><td>3</td><td> 2</td><td>2</td><td>2</td><td>2</td></tr>\n",
       "\t<tr><th scope=row>6</th><td>32</td><td>No </td><td>Travel_Frequently</td><td>1005</td><td>Research &amp; Development</td><td>2</td><td>2</td><td>Life Sciences</td><td>1</td><td>8</td><td>⋯</td><td>3</td><td>80</td><td>0</td><td> 8</td><td>2</td><td>2</td><td> 7</td><td>7</td><td>3</td><td>6</td></tr>\n",
       "</tbody>\n",
       "</table>\n"
      ],
      "text/latex": [
       "A data.frame: 6 × 35\n",
       "\\begin{tabular}{r|lllllllllllllllllllll}\n",
       "  & Age & Attrition & BusinessTravel & DailyRate & Department & DistanceFromHome & Education & EducationField & EmployeeCount & EmployeeNumber & ⋯ & RelationshipSatisfaction & StandardHours & StockOptionLevel & TotalWorkingYears & TrainingTimesLastYear & WorkLifeBalance & YearsAtCompany & YearsInCurrentRole & YearsSinceLastPromotion & YearsWithCurrManager\\\\\n",
       "  & <int> & <chr> & <chr> & <int> & <chr> & <int> & <int> & <chr> & <int> & <int> & ⋯ & <int> & <int> & <int> & <int> & <int> & <int> & <int> & <int> & <int> & <int>\\\\\n",
       "\\hline\n",
       "\t1 & 41 & Yes & Travel\\_Rarely     & 1102 & Sales                  & 1 & 2 & Life Sciences & 1 & 1 & ⋯ & 1 & 80 & 0 &  8 & 0 & 1 &  6 & 4 & 0 & 5\\\\\n",
       "\t2 & 49 & No  & Travel\\_Frequently &  279 & Research \\& Development & 8 & 1 & Life Sciences & 1 & 2 & ⋯ & 4 & 80 & 1 & 10 & 3 & 3 & 10 & 7 & 1 & 7\\\\\n",
       "\t3 & 37 & Yes & Travel\\_Rarely     & 1373 & Research \\& Development & 2 & 2 & Other         & 1 & 4 & ⋯ & 2 & 80 & 0 &  7 & 3 & 3 &  0 & 0 & 0 & 0\\\\\n",
       "\t4 & 33 & No  & Travel\\_Frequently & 1392 & Research \\& Development & 3 & 4 & Life Sciences & 1 & 5 & ⋯ & 3 & 80 & 0 &  8 & 3 & 3 &  8 & 7 & 3 & 0\\\\\n",
       "\t5 & 27 & No  & Travel\\_Rarely     &  591 & Research \\& Development & 2 & 1 & Medical       & 1 & 7 & ⋯ & 4 & 80 & 1 &  6 & 3 & 3 &  2 & 2 & 2 & 2\\\\\n",
       "\t6 & 32 & No  & Travel\\_Frequently & 1005 & Research \\& Development & 2 & 2 & Life Sciences & 1 & 8 & ⋯ & 3 & 80 & 0 &  8 & 2 & 2 &  7 & 7 & 3 & 6\\\\\n",
       "\\end{tabular}\n"
      ],
      "text/markdown": [
       "\n",
       "A data.frame: 6 × 35\n",
       "\n",
       "| <!--/--> | Age &lt;int&gt; | Attrition &lt;chr&gt; | BusinessTravel &lt;chr&gt; | DailyRate &lt;int&gt; | Department &lt;chr&gt; | DistanceFromHome &lt;int&gt; | Education &lt;int&gt; | EducationField &lt;chr&gt; | EmployeeCount &lt;int&gt; | EmployeeNumber &lt;int&gt; | ⋯ ⋯ | RelationshipSatisfaction &lt;int&gt; | StandardHours &lt;int&gt; | StockOptionLevel &lt;int&gt; | TotalWorkingYears &lt;int&gt; | TrainingTimesLastYear &lt;int&gt; | WorkLifeBalance &lt;int&gt; | YearsAtCompany &lt;int&gt; | YearsInCurrentRole &lt;int&gt; | YearsSinceLastPromotion &lt;int&gt; | YearsWithCurrManager &lt;int&gt; |\n",
       "|---|---|---|---|---|---|---|---|---|---|---|---|---|---|---|---|---|---|---|---|---|---|\n",
       "| 1 | 41 | Yes | Travel_Rarely     | 1102 | Sales                  | 1 | 2 | Life Sciences | 1 | 1 | ⋯ | 1 | 80 | 0 |  8 | 0 | 1 |  6 | 4 | 0 | 5 |\n",
       "| 2 | 49 | No  | Travel_Frequently |  279 | Research &amp; Development | 8 | 1 | Life Sciences | 1 | 2 | ⋯ | 4 | 80 | 1 | 10 | 3 | 3 | 10 | 7 | 1 | 7 |\n",
       "| 3 | 37 | Yes | Travel_Rarely     | 1373 | Research &amp; Development | 2 | 2 | Other         | 1 | 4 | ⋯ | 2 | 80 | 0 |  7 | 3 | 3 |  0 | 0 | 0 | 0 |\n",
       "| 4 | 33 | No  | Travel_Frequently | 1392 | Research &amp; Development | 3 | 4 | Life Sciences | 1 | 5 | ⋯ | 3 | 80 | 0 |  8 | 3 | 3 |  8 | 7 | 3 | 0 |\n",
       "| 5 | 27 | No  | Travel_Rarely     |  591 | Research &amp; Development | 2 | 1 | Medical       | 1 | 7 | ⋯ | 4 | 80 | 1 |  6 | 3 | 3 |  2 | 2 | 2 | 2 |\n",
       "| 6 | 32 | No  | Travel_Frequently | 1005 | Research &amp; Development | 2 | 2 | Life Sciences | 1 | 8 | ⋯ | 3 | 80 | 0 |  8 | 2 | 2 |  7 | 7 | 3 | 6 |\n",
       "\n"
      ],
      "text/plain": [
       "  Age Attrition BusinessTravel    DailyRate Department            \n",
       "1 41  Yes       Travel_Rarely     1102      Sales                 \n",
       "2 49  No        Travel_Frequently  279      Research & Development\n",
       "3 37  Yes       Travel_Rarely     1373      Research & Development\n",
       "4 33  No        Travel_Frequently 1392      Research & Development\n",
       "5 27  No        Travel_Rarely      591      Research & Development\n",
       "6 32  No        Travel_Frequently 1005      Research & Development\n",
       "  DistanceFromHome Education EducationField EmployeeCount EmployeeNumber ⋯\n",
       "1 1                2         Life Sciences  1             1              ⋯\n",
       "2 8                1         Life Sciences  1             2              ⋯\n",
       "3 2                2         Other          1             4              ⋯\n",
       "4 3                4         Life Sciences  1             5              ⋯\n",
       "5 2                1         Medical        1             7              ⋯\n",
       "6 2                2         Life Sciences  1             8              ⋯\n",
       "  RelationshipSatisfaction StandardHours StockOptionLevel TotalWorkingYears\n",
       "1 1                        80            0                 8               \n",
       "2 4                        80            1                10               \n",
       "3 2                        80            0                 7               \n",
       "4 3                        80            0                 8               \n",
       "5 4                        80            1                 6               \n",
       "6 3                        80            0                 8               \n",
       "  TrainingTimesLastYear WorkLifeBalance YearsAtCompany YearsInCurrentRole\n",
       "1 0                     1                6             4                 \n",
       "2 3                     3               10             7                 \n",
       "3 3                     3                0             0                 \n",
       "4 3                     3                8             7                 \n",
       "5 3                     3                2             2                 \n",
       "6 2                     2                7             7                 \n",
       "  YearsSinceLastPromotion YearsWithCurrManager\n",
       "1 0                       5                   \n",
       "2 1                       7                   \n",
       "3 0                       0                   \n",
       "4 3                       0                   \n",
       "5 2                       2                   \n",
       "6 3                       6                   "
      ]
     },
     "metadata": {},
     "output_type": "display_data"
    },
    {
     "data": {
      "text/html": [
       "1470"
      ],
      "text/latex": [
       "1470"
      ],
      "text/markdown": [
       "1470"
      ],
      "text/plain": [
       "[1] 1470"
      ]
     },
     "metadata": {},
     "output_type": "display_data"
    },
    {
     "data": {
      "text/html": [
       "<table class=\"dataframe\">\n",
       "<caption>A data.frame: 1470 × 4</caption>\n",
       "<thead>\n",
       "\t<tr><th scope=col>dat.Education</th><th scope=col>dat.MonthlyIncome</th><th scope=col>dat.Attrition</th><th scope=col>dat.RelationshipSatisfaction</th></tr>\n",
       "\t<tr><th scope=col>&lt;int&gt;</th><th scope=col>&lt;int&gt;</th><th scope=col>&lt;chr&gt;</th><th scope=col>&lt;int&gt;</th></tr>\n",
       "</thead>\n",
       "<tbody>\n",
       "\t<tr><td>2</td><td> 5993</td><td>Yes</td><td>1</td></tr>\n",
       "\t<tr><td>1</td><td> 5130</td><td>No </td><td>4</td></tr>\n",
       "\t<tr><td>2</td><td> 2090</td><td>Yes</td><td>2</td></tr>\n",
       "\t<tr><td>4</td><td> 2909</td><td>No </td><td>3</td></tr>\n",
       "\t<tr><td>1</td><td> 3468</td><td>No </td><td>4</td></tr>\n",
       "\t<tr><td>2</td><td> 3068</td><td>No </td><td>3</td></tr>\n",
       "\t<tr><td>3</td><td> 2670</td><td>No </td><td>1</td></tr>\n",
       "\t<tr><td>1</td><td> 2693</td><td>No </td><td>2</td></tr>\n",
       "\t<tr><td>3</td><td> 9526</td><td>No </td><td>2</td></tr>\n",
       "\t<tr><td>3</td><td> 5237</td><td>No </td><td>2</td></tr>\n",
       "\t<tr><td>3</td><td> 2426</td><td>No </td><td>3</td></tr>\n",
       "\t<tr><td>2</td><td> 4193</td><td>No </td><td>4</td></tr>\n",
       "\t<tr><td>1</td><td> 2911</td><td>No </td><td>4</td></tr>\n",
       "\t<tr><td>2</td><td> 2661</td><td>No </td><td>3</td></tr>\n",
       "\t<tr><td>3</td><td> 2028</td><td>Yes</td><td>2</td></tr>\n",
       "\t<tr><td>4</td><td> 9980</td><td>No </td><td>3</td></tr>\n",
       "\t<tr><td>2</td><td> 3298</td><td>No </td><td>4</td></tr>\n",
       "\t<tr><td>2</td><td> 2935</td><td>No </td><td>2</td></tr>\n",
       "\t<tr><td>4</td><td>15427</td><td>No </td><td>3</td></tr>\n",
       "\t<tr><td>3</td><td> 3944</td><td>No </td><td>3</td></tr>\n",
       "\t<tr><td>2</td><td> 4011</td><td>No </td><td>4</td></tr>\n",
       "\t<tr><td>4</td><td> 3407</td><td>Yes</td><td>2</td></tr>\n",
       "\t<tr><td>4</td><td>11994</td><td>No </td><td>3</td></tr>\n",
       "\t<tr><td>2</td><td> 1232</td><td>No </td><td>4</td></tr>\n",
       "\t<tr><td>1</td><td> 2960</td><td>Yes</td><td>3</td></tr>\n",
       "\t<tr><td>3</td><td>19094</td><td>No </td><td>4</td></tr>\n",
       "\t<tr><td>1</td><td> 3919</td><td>Yes</td><td>2</td></tr>\n",
       "\t<tr><td>4</td><td> 6825</td><td>No </td><td>4</td></tr>\n",
       "\t<tr><td>4</td><td>10248</td><td>No </td><td>4</td></tr>\n",
       "\t<tr><td>4</td><td>18947</td><td>No </td><td>4</td></tr>\n",
       "\t<tr><td>⋮</td><td>⋮</td><td>⋮</td><td>⋮</td></tr>\n",
       "\t<tr><td>2</td><td> 5131</td><td>No </td><td>2</td></tr>\n",
       "\t<tr><td>4</td><td> 6306</td><td>No </td><td>1</td></tr>\n",
       "\t<tr><td>4</td><td> 4787</td><td>Yes</td><td>2</td></tr>\n",
       "\t<tr><td>3</td><td>18880</td><td>No </td><td>1</td></tr>\n",
       "\t<tr><td>2</td><td> 2339</td><td>Yes</td><td>4</td></tr>\n",
       "\t<tr><td>4</td><td>13570</td><td>No </td><td>3</td></tr>\n",
       "\t<tr><td>3</td><td> 6712</td><td>No </td><td>4</td></tr>\n",
       "\t<tr><td>4</td><td> 5406</td><td>No </td><td>1</td></tr>\n",
       "\t<tr><td>3</td><td> 8938</td><td>No </td><td>3</td></tr>\n",
       "\t<tr><td>3</td><td> 2439</td><td>No </td><td>4</td></tr>\n",
       "\t<tr><td>4</td><td> 8837</td><td>No </td><td>3</td></tr>\n",
       "\t<tr><td>2</td><td> 5343</td><td>No </td><td>3</td></tr>\n",
       "\t<tr><td>4</td><td> 6728</td><td>Yes</td><td>4</td></tr>\n",
       "\t<tr><td>4</td><td> 6652</td><td>No </td><td>1</td></tr>\n",
       "\t<tr><td>3</td><td> 4850</td><td>No </td><td>3</td></tr>\n",
       "\t<tr><td>4</td><td> 2809</td><td>No </td><td>4</td></tr>\n",
       "\t<tr><td>4</td><td> 5689</td><td>No </td><td>4</td></tr>\n",
       "\t<tr><td>4</td><td> 2001</td><td>No </td><td>2</td></tr>\n",
       "\t<tr><td>4</td><td> 2977</td><td>No </td><td>4</td></tr>\n",
       "\t<tr><td>2</td><td> 4025</td><td>No </td><td>1</td></tr>\n",
       "\t<tr><td>4</td><td> 3785</td><td>No </td><td>2</td></tr>\n",
       "\t<tr><td>3</td><td>10854</td><td>Yes</td><td>2</td></tr>\n",
       "\t<tr><td>1</td><td>12031</td><td>No </td><td>1</td></tr>\n",
       "\t<tr><td>3</td><td> 9936</td><td>No </td><td>2</td></tr>\n",
       "\t<tr><td>3</td><td> 2966</td><td>No </td><td>4</td></tr>\n",
       "\t<tr><td>2</td><td> 2571</td><td>No </td><td>3</td></tr>\n",
       "\t<tr><td>1</td><td> 9991</td><td>No </td><td>1</td></tr>\n",
       "\t<tr><td>3</td><td> 6142</td><td>No </td><td>2</td></tr>\n",
       "\t<tr><td>3</td><td> 5390</td><td>No </td><td>4</td></tr>\n",
       "\t<tr><td>3</td><td> 4404</td><td>No </td><td>1</td></tr>\n",
       "</tbody>\n",
       "</table>\n"
      ],
      "text/latex": [
       "A data.frame: 1470 × 4\n",
       "\\begin{tabular}{llll}\n",
       " dat.Education & dat.MonthlyIncome & dat.Attrition & dat.RelationshipSatisfaction\\\\\n",
       " <int> & <int> & <chr> & <int>\\\\\n",
       "\\hline\n",
       "\t 2 &  5993 & Yes & 1\\\\\n",
       "\t 1 &  5130 & No  & 4\\\\\n",
       "\t 2 &  2090 & Yes & 2\\\\\n",
       "\t 4 &  2909 & No  & 3\\\\\n",
       "\t 1 &  3468 & No  & 4\\\\\n",
       "\t 2 &  3068 & No  & 3\\\\\n",
       "\t 3 &  2670 & No  & 1\\\\\n",
       "\t 1 &  2693 & No  & 2\\\\\n",
       "\t 3 &  9526 & No  & 2\\\\\n",
       "\t 3 &  5237 & No  & 2\\\\\n",
       "\t 3 &  2426 & No  & 3\\\\\n",
       "\t 2 &  4193 & No  & 4\\\\\n",
       "\t 1 &  2911 & No  & 4\\\\\n",
       "\t 2 &  2661 & No  & 3\\\\\n",
       "\t 3 &  2028 & Yes & 2\\\\\n",
       "\t 4 &  9980 & No  & 3\\\\\n",
       "\t 2 &  3298 & No  & 4\\\\\n",
       "\t 2 &  2935 & No  & 2\\\\\n",
       "\t 4 & 15427 & No  & 3\\\\\n",
       "\t 3 &  3944 & No  & 3\\\\\n",
       "\t 2 &  4011 & No  & 4\\\\\n",
       "\t 4 &  3407 & Yes & 2\\\\\n",
       "\t 4 & 11994 & No  & 3\\\\\n",
       "\t 2 &  1232 & No  & 4\\\\\n",
       "\t 1 &  2960 & Yes & 3\\\\\n",
       "\t 3 & 19094 & No  & 4\\\\\n",
       "\t 1 &  3919 & Yes & 2\\\\\n",
       "\t 4 &  6825 & No  & 4\\\\\n",
       "\t 4 & 10248 & No  & 4\\\\\n",
       "\t 4 & 18947 & No  & 4\\\\\n",
       "\t ⋮ & ⋮ & ⋮ & ⋮\\\\\n",
       "\t 2 &  5131 & No  & 2\\\\\n",
       "\t 4 &  6306 & No  & 1\\\\\n",
       "\t 4 &  4787 & Yes & 2\\\\\n",
       "\t 3 & 18880 & No  & 1\\\\\n",
       "\t 2 &  2339 & Yes & 4\\\\\n",
       "\t 4 & 13570 & No  & 3\\\\\n",
       "\t 3 &  6712 & No  & 4\\\\\n",
       "\t 4 &  5406 & No  & 1\\\\\n",
       "\t 3 &  8938 & No  & 3\\\\\n",
       "\t 3 &  2439 & No  & 4\\\\\n",
       "\t 4 &  8837 & No  & 3\\\\\n",
       "\t 2 &  5343 & No  & 3\\\\\n",
       "\t 4 &  6728 & Yes & 4\\\\\n",
       "\t 4 &  6652 & No  & 1\\\\\n",
       "\t 3 &  4850 & No  & 3\\\\\n",
       "\t 4 &  2809 & No  & 4\\\\\n",
       "\t 4 &  5689 & No  & 4\\\\\n",
       "\t 4 &  2001 & No  & 2\\\\\n",
       "\t 4 &  2977 & No  & 4\\\\\n",
       "\t 2 &  4025 & No  & 1\\\\\n",
       "\t 4 &  3785 & No  & 2\\\\\n",
       "\t 3 & 10854 & Yes & 2\\\\\n",
       "\t 1 & 12031 & No  & 1\\\\\n",
       "\t 3 &  9936 & No  & 2\\\\\n",
       "\t 3 &  2966 & No  & 4\\\\\n",
       "\t 2 &  2571 & No  & 3\\\\\n",
       "\t 1 &  9991 & No  & 1\\\\\n",
       "\t 3 &  6142 & No  & 2\\\\\n",
       "\t 3 &  5390 & No  & 4\\\\\n",
       "\t 3 &  4404 & No  & 1\\\\\n",
       "\\end{tabular}\n"
      ],
      "text/markdown": [
       "\n",
       "A data.frame: 1470 × 4\n",
       "\n",
       "| dat.Education &lt;int&gt; | dat.MonthlyIncome &lt;int&gt; | dat.Attrition &lt;chr&gt; | dat.RelationshipSatisfaction &lt;int&gt; |\n",
       "|---|---|---|---|\n",
       "| 2 |  5993 | Yes | 1 |\n",
       "| 1 |  5130 | No  | 4 |\n",
       "| 2 |  2090 | Yes | 2 |\n",
       "| 4 |  2909 | No  | 3 |\n",
       "| 1 |  3468 | No  | 4 |\n",
       "| 2 |  3068 | No  | 3 |\n",
       "| 3 |  2670 | No  | 1 |\n",
       "| 1 |  2693 | No  | 2 |\n",
       "| 3 |  9526 | No  | 2 |\n",
       "| 3 |  5237 | No  | 2 |\n",
       "| 3 |  2426 | No  | 3 |\n",
       "| 2 |  4193 | No  | 4 |\n",
       "| 1 |  2911 | No  | 4 |\n",
       "| 2 |  2661 | No  | 3 |\n",
       "| 3 |  2028 | Yes | 2 |\n",
       "| 4 |  9980 | No  | 3 |\n",
       "| 2 |  3298 | No  | 4 |\n",
       "| 2 |  2935 | No  | 2 |\n",
       "| 4 | 15427 | No  | 3 |\n",
       "| 3 |  3944 | No  | 3 |\n",
       "| 2 |  4011 | No  | 4 |\n",
       "| 4 |  3407 | Yes | 2 |\n",
       "| 4 | 11994 | No  | 3 |\n",
       "| 2 |  1232 | No  | 4 |\n",
       "| 1 |  2960 | Yes | 3 |\n",
       "| 3 | 19094 | No  | 4 |\n",
       "| 1 |  3919 | Yes | 2 |\n",
       "| 4 |  6825 | No  | 4 |\n",
       "| 4 | 10248 | No  | 4 |\n",
       "| 4 | 18947 | No  | 4 |\n",
       "| ⋮ | ⋮ | ⋮ | ⋮ |\n",
       "| 2 |  5131 | No  | 2 |\n",
       "| 4 |  6306 | No  | 1 |\n",
       "| 4 |  4787 | Yes | 2 |\n",
       "| 3 | 18880 | No  | 1 |\n",
       "| 2 |  2339 | Yes | 4 |\n",
       "| 4 | 13570 | No  | 3 |\n",
       "| 3 |  6712 | No  | 4 |\n",
       "| 4 |  5406 | No  | 1 |\n",
       "| 3 |  8938 | No  | 3 |\n",
       "| 3 |  2439 | No  | 4 |\n",
       "| 4 |  8837 | No  | 3 |\n",
       "| 2 |  5343 | No  | 3 |\n",
       "| 4 |  6728 | Yes | 4 |\n",
       "| 4 |  6652 | No  | 1 |\n",
       "| 3 |  4850 | No  | 3 |\n",
       "| 4 |  2809 | No  | 4 |\n",
       "| 4 |  5689 | No  | 4 |\n",
       "| 4 |  2001 | No  | 2 |\n",
       "| 4 |  2977 | No  | 4 |\n",
       "| 2 |  4025 | No  | 1 |\n",
       "| 4 |  3785 | No  | 2 |\n",
       "| 3 | 10854 | Yes | 2 |\n",
       "| 1 | 12031 | No  | 1 |\n",
       "| 3 |  9936 | No  | 2 |\n",
       "| 3 |  2966 | No  | 4 |\n",
       "| 2 |  2571 | No  | 3 |\n",
       "| 1 |  9991 | No  | 1 |\n",
       "| 3 |  6142 | No  | 2 |\n",
       "| 3 |  5390 | No  | 4 |\n",
       "| 3 |  4404 | No  | 1 |\n",
       "\n"
      ],
      "text/plain": [
       "     dat.Education dat.MonthlyIncome dat.Attrition dat.RelationshipSatisfaction\n",
       "1    2              5993             Yes           1                           \n",
       "2    1              5130             No            4                           \n",
       "3    2              2090             Yes           2                           \n",
       "4    4              2909             No            3                           \n",
       "5    1              3468             No            4                           \n",
       "6    2              3068             No            3                           \n",
       "7    3              2670             No            1                           \n",
       "8    1              2693             No            2                           \n",
       "9    3              9526             No            2                           \n",
       "10   3              5237             No            2                           \n",
       "11   3              2426             No            3                           \n",
       "12   2              4193             No            4                           \n",
       "13   1              2911             No            4                           \n",
       "14   2              2661             No            3                           \n",
       "15   3              2028             Yes           2                           \n",
       "16   4              9980             No            3                           \n",
       "17   2              3298             No            4                           \n",
       "18   2              2935             No            2                           \n",
       "19   4             15427             No            3                           \n",
       "20   3              3944             No            3                           \n",
       "21   2              4011             No            4                           \n",
       "22   4              3407             Yes           2                           \n",
       "23   4             11994             No            3                           \n",
       "24   2              1232             No            4                           \n",
       "25   1              2960             Yes           3                           \n",
       "26   3             19094             No            4                           \n",
       "27   1              3919             Yes           2                           \n",
       "28   4              6825             No            4                           \n",
       "29   4             10248             No            4                           \n",
       "30   4             18947             No            4                           \n",
       "⋮    ⋮             ⋮                 ⋮             ⋮                           \n",
       "1441 2              5131             No            2                           \n",
       "1442 4              6306             No            1                           \n",
       "1443 4              4787             Yes           2                           \n",
       "1444 3             18880             No            1                           \n",
       "1445 2              2339             Yes           4                           \n",
       "1446 4             13570             No            3                           \n",
       "1447 3              6712             No            4                           \n",
       "1448 4              5406             No            1                           \n",
       "1449 3              8938             No            3                           \n",
       "1450 3              2439             No            4                           \n",
       "1451 4              8837             No            3                           \n",
       "1452 2              5343             No            3                           \n",
       "1453 4              6728             Yes           4                           \n",
       "1454 4              6652             No            1                           \n",
       "1455 3              4850             No            3                           \n",
       "1456 4              2809             No            4                           \n",
       "1457 4              5689             No            4                           \n",
       "1458 4              2001             No            2                           \n",
       "1459 4              2977             No            4                           \n",
       "1460 2              4025             No            1                           \n",
       "1461 4              3785             No            2                           \n",
       "1462 3             10854             Yes           2                           \n",
       "1463 1             12031             No            1                           \n",
       "1464 3              9936             No            2                           \n",
       "1465 3              2966             No            4                           \n",
       "1466 2              2571             No            3                           \n",
       "1467 1              9991             No            1                           \n",
       "1468 3              6142             No            2                           \n",
       "1469 3              5390             No            4                           \n",
       "1470 3              4404             No            1                           "
      ]
     },
     "metadata": {},
     "output_type": "display_data"
    }
   ],
   "source": [
    "head(dat)\n",
    "nrow(dat)\n",
    "df = data.frame(dat$Education, dat$MonthlyIncome, dat$Attrition, dat$RelationshipSatisfaction)\n",
    "df"
   ]
  },
  {
   "cell_type": "markdown",
   "metadata": {
    "id": "RlafL3-smRVz"
   },
   "source": [
    "<br>\n",
    "\n",
    "---\n",
    "\n",
    "<br>\n",
    "\n",
    "\n",
    "\n",
    "\n"
   ]
  },
  {
   "cell_type": "markdown",
   "metadata": {
    "id": "KWXGuzqk4Yz8"
   },
   "source": [
    "####<font color=red>Task 2</font>  (6 points)\n",
    "\n",
    "1. (1 point) Find the unique values of the variable `Education`, sort the unique values, and store as a variable.\n",
    "  * 1 = Some high school\n",
    "  * 2 = High School\n",
    "  * 3 = Some college\n",
    "  * 4 = College\n",
    "  * 5 = Graduate School\n",
    "\n",
    "2. (2 point) Use a `for` loop to find the average `MonthlyIncome` for each unique `Education` level. Show code and output.\n",
    "\n",
    "3. (1 point) Which education level has the highest salary? State in a complete sentence.\n",
    "\n",
    "4. (1 point) Which education level has the lowest salary? State in a complete sentence.\n",
    "\n",
    "5. (1 point) Does the relationship between education level and monthly salary make sense? Explain.\n"
   ]
  },
  {
   "cell_type": "code",
   "execution_count": 3,
   "metadata": {},
   "outputs": [
    {
     "data": {
      "text/html": [
       "<style>\n",
       ".list-inline {list-style: none; margin:0; padding: 0}\n",
       ".list-inline>li {display: inline-block}\n",
       ".list-inline>li:not(:last-child)::after {content: \"\\00b7\"; padding: 0 .5ex}\n",
       "</style>\n",
       "<ol class=list-inline><li>1</li><li>2</li><li>3</li><li>4</li><li>5</li></ol>\n"
      ],
      "text/latex": [
       "\\begin{enumerate*}\n",
       "\\item 1\n",
       "\\item 2\n",
       "\\item 3\n",
       "\\item 4\n",
       "\\item 5\n",
       "\\end{enumerate*}\n"
      ],
      "text/markdown": [
       "1. 1\n",
       "2. 2\n",
       "3. 3\n",
       "4. 4\n",
       "5. 5\n",
       "\n",
       "\n"
      ],
      "text/plain": [
       "[1] 1 2 3 4 5"
      ]
     },
     "metadata": {},
     "output_type": "display_data"
    },
    {
     "name": "stdout",
     "output_type": "stream",
     "text": [
      "[1] 1\n",
      "[1] 5640.571\n",
      "[1] 2\n",
      "[1] 6226.645\n",
      "[1] 3\n",
      "[1] 6517.264\n",
      "[1] 4\n",
      "[1] 6832.402\n",
      "[1] 5\n",
      "[1] 8277.646\n"
     ]
    }
   ],
   "source": [
    "education_values = sort(unique(dat$Education))\n",
    "education_values\n",
    "\n",
    "for (i in education_values) {\n",
    "    print(i)\n",
    "    print(mean(dat$MonthlyIncome[dat$Education == i]))\n",
    "}"
   ]
  },
  {
   "cell_type": "markdown",
   "metadata": {},
   "source": [
    "There are 5 unique educqation values numbered 1 through 5 corresponding to some high school through graduate school. The education level with the highest salary is level 5 or graduate school. The education level with the lowest salary is 1 or some high school. There is a positive relationship between level of education and salary. Yes this positive relationship makes as higher levels of education enable higher productivity and value generation in careers like medicine, research, technology, etc."
   ]
  },
  {
   "cell_type": "markdown",
   "metadata": {
    "id": "7NG50I2s8m3k"
   },
   "source": [
    "<br>\n",
    "\n",
    "---\n",
    "\n",
    "<br>\n",
    "\n",
    "\n",
    "\n",
    "\n"
   ]
  },
  {
   "cell_type": "markdown",
   "metadata": {
    "id": "jim8jaDe8m3z"
   },
   "source": [
    "####<font color=red>Task 3</font>  (3 points)\n",
    "\n",
    "1. (2 points) Use `tapply` to find the average `MonthlyIncome` for each unique `Education` level. Show code and output.\n",
    "\n",
    "2. (1 point) Create a dataframe with two columns. One column should be unique education level. One column should be average income"
   ]
  },
  {
   "cell_type": "code",
   "execution_count": 4,
   "metadata": {},
   "outputs": [
    {
     "data": {
      "text/html": [
       "<table class=\"dataframe\">\n",
       "<caption>A data.frame: 5 × 2</caption>\n",
       "<thead>\n",
       "\t<tr><th></th><th scope=col>EducationVals</th><th scope=col>MeanMonthlyIncome</th></tr>\n",
       "\t<tr><th></th><th scope=col>&lt;int&gt;</th><th scope=col>&lt;dbl&gt;</th></tr>\n",
       "</thead>\n",
       "<tbody>\n",
       "\t<tr><th scope=row>1</th><td>1</td><td>5640.571</td></tr>\n",
       "\t<tr><th scope=row>2</th><td>2</td><td>6226.645</td></tr>\n",
       "\t<tr><th scope=row>3</th><td>3</td><td>6517.264</td></tr>\n",
       "\t<tr><th scope=row>4</th><td>4</td><td>6832.402</td></tr>\n",
       "\t<tr><th scope=row>5</th><td>5</td><td>8277.646</td></tr>\n",
       "</tbody>\n",
       "</table>\n"
      ],
      "text/latex": [
       "A data.frame: 5 × 2\n",
       "\\begin{tabular}{r|ll}\n",
       "  & EducationVals & MeanMonthlyIncome\\\\\n",
       "  & <int> & <dbl>\\\\\n",
       "\\hline\n",
       "\t1 & 1 & 5640.571\\\\\n",
       "\t2 & 2 & 6226.645\\\\\n",
       "\t3 & 3 & 6517.264\\\\\n",
       "\t4 & 4 & 6832.402\\\\\n",
       "\t5 & 5 & 8277.646\\\\\n",
       "\\end{tabular}\n"
      ],
      "text/markdown": [
       "\n",
       "A data.frame: 5 × 2\n",
       "\n",
       "| <!--/--> | EducationVals &lt;int&gt; | MeanMonthlyIncome &lt;dbl&gt; |\n",
       "|---|---|---|\n",
       "| 1 | 1 | 5640.571 |\n",
       "| 2 | 2 | 6226.645 |\n",
       "| 3 | 3 | 6517.264 |\n",
       "| 4 | 4 | 6832.402 |\n",
       "| 5 | 5 | 8277.646 |\n",
       "\n"
      ],
      "text/plain": [
       "  EducationVals MeanMonthlyIncome\n",
       "1 1             5640.571         \n",
       "2 2             6226.645         \n",
       "3 3             6517.264         \n",
       "4 4             6832.402         \n",
       "5 5             8277.646         "
      ]
     },
     "metadata": {},
     "output_type": "display_data"
    }
   ],
   "source": [
    "education_salary = data.frame(EducationVals = sort(unique(dat$Education)), MeanMonthlyIncome = tapply(dat$MonthlyIncome, dat$Education, mean))\n",
    "education_salary"
   ]
  },
  {
   "cell_type": "markdown",
   "metadata": {
    "id": "AaZs6QuP94p4"
   },
   "source": [
    "<br>\n",
    "\n",
    "---\n",
    "\n",
    "<br>\n",
    "\n",
    "\n",
    "\n",
    "\n"
   ]
  },
  {
   "cell_type": "markdown",
   "metadata": {
    "id": "0BfXkLcU94p6"
   },
   "source": [
    "####<font color=red>Task 4</font>  (2 points)\n",
    "\n",
    "1. (1 point) Use `tapply` to find the average `MonthlyIncome` for those who quit (`Attrition`=Yes) and those who did not quit (`Attrition`=No). Show code and output.\n",
    "\n",
    "2. (1 point) Do you observe differences in the monthly income between those who quit (`Attrition`=Yes) and those who do not (`Attrition`=Yes)? Explain your answer."
   ]
  },
  {
   "cell_type": "code",
   "execution_count": 5,
   "metadata": {},
   "outputs": [
    {
     "data": {
      "text/html": [
       "<table class=\"dataframe\">\n",
       "<caption>A data.frame: 2 × 2</caption>\n",
       "<thead>\n",
       "\t<tr><th></th><th scope=col>AttritionVals</th><th scope=col>MeanMonthlyIncome</th></tr>\n",
       "\t<tr><th></th><th scope=col>&lt;chr&gt;</th><th scope=col>&lt;dbl&gt;</th></tr>\n",
       "</thead>\n",
       "<tbody>\n",
       "\t<tr><th scope=row>No</th><td>No </td><td>6832.740</td></tr>\n",
       "\t<tr><th scope=row>Yes</th><td>Yes</td><td>4787.093</td></tr>\n",
       "</tbody>\n",
       "</table>\n"
      ],
      "text/latex": [
       "A data.frame: 2 × 2\n",
       "\\begin{tabular}{r|ll}\n",
       "  & AttritionVals & MeanMonthlyIncome\\\\\n",
       "  & <chr> & <dbl>\\\\\n",
       "\\hline\n",
       "\tNo & No  & 6832.740\\\\\n",
       "\tYes & Yes & 4787.093\\\\\n",
       "\\end{tabular}\n"
      ],
      "text/markdown": [
       "\n",
       "A data.frame: 2 × 2\n",
       "\n",
       "| <!--/--> | AttritionVals &lt;chr&gt; | MeanMonthlyIncome &lt;dbl&gt; |\n",
       "|---|---|---|\n",
       "| No | No  | 6832.740 |\n",
       "| Yes | Yes | 4787.093 |\n",
       "\n"
      ],
      "text/plain": [
       "    AttritionVals MeanMonthlyIncome\n",
       "No  No            6832.740         \n",
       "Yes Yes           4787.093         "
      ]
     },
     "metadata": {},
     "output_type": "display_data"
    }
   ],
   "source": [
    "attrition_salary = data.frame(AttritionVals = sort(unique(dat$Attrition)), MeanMonthlyIncome = tapply(dat$MonthlyIncome, dat$Attrition, mean))\n",
    "attrition_salary"
   ]
  },
  {
   "cell_type": "markdown",
   "metadata": {},
   "source": [
    "Yes there is a significant difference in mean monthly income of those who quit and who did not. Those who quit had a much lower mean monthly income. One theory is that those who were underpaid are more likely to seek other employment."
   ]
  },
  {
   "cell_type": "markdown",
   "metadata": {
    "id": "Vvhqh0zg--p7"
   },
   "source": [
    "<br>\n",
    "\n",
    "---\n",
    "\n",
    "<br>\n",
    "\n",
    "\n",
    "\n",
    "\n"
   ]
  },
  {
   "cell_type": "markdown",
   "metadata": {
    "id": "wbnXpBPx--p8"
   },
   "source": [
    "####<font color=red>Task 5</font>  (6 points)\n",
    "\n",
    "1. (3 points) Create a function that calculates the mean, min, max, and max minus min of a variable for each unique value of another variable\n",
    "  * Inputs\n",
    "    * variable - the variable of which you are taking mean, min, max, and max minus min\n",
    "    * factor_variable - the variable for which you are using unique values\n",
    "  * Ouput - Dataframe with \n",
    "    * row names mean, min, max, max-min\n",
    "    * a unique value of factor_variable for each column\n",
    "\n",
    "```\n",
    "vector_summary <- function(x) {\n",
    "  return(c(mean(x), min(x), max(x), max(x) - min(x)))\n",
    "}\n",
    "\n",
    "factor_summary <- function(variable, factor_variable) {\n",
    "\n",
    "\n",
    "  return(...)\n",
    "}\n",
    "```\n",
    "\n",
    "<br>\n",
    "2. (2 points) Using your function, run the following commands\n",
    "\n",
    "\n",
    "\n",
    "```\n",
    "factor_summary(dat$MonthlyIncome, dat$Education)\n",
    "```\n",
    "```\n",
    "factor_summary(dat$MonthlyIncome, dat$Attrition)\n",
    "```\n",
    "```\n",
    "factor_summary(dat$MonthlyIncome, dat$RelationshipSatisfaction)\n",
    "```\n",
    "\n",
    "<br>\n",
    "\n",
    "3. (1 point) What do you notice about the relationship between monthly income and relationship satisfaction? Explain your answer.\n",
    "\n",
    "\n"
   ]
  },
  {
   "cell_type": "code",
   "execution_count": 6,
   "metadata": {},
   "outputs": [
    {
     "data": {
      "text/html": [
       "<table class=\"dataframe\">\n",
       "<caption>A data.frame: 5 × 5</caption>\n",
       "<thead>\n",
       "\t<tr><th></th><th scope=col>Factor</th><th scope=col>Mean</th><th scope=col>Min</th><th scope=col>Max</th><th scope=col>Range</th></tr>\n",
       "\t<tr><th></th><th scope=col>&lt;int&gt;</th><th scope=col>&lt;dbl&gt;</th><th scope=col>&lt;dbl&gt;</th><th scope=col>&lt;dbl&gt;</th><th scope=col>&lt;dbl&gt;</th></tr>\n",
       "</thead>\n",
       "<tbody>\n",
       "\t<tr><th scope=row>1</th><td>1</td><td>5640.571</td><td>1009</td><td>19973</td><td>18964</td></tr>\n",
       "\t<tr><th scope=row>2</th><td>2</td><td>6226.645</td><td>1051</td><td>19613</td><td>18562</td></tr>\n",
       "\t<tr><th scope=row>3</th><td>3</td><td>6517.264</td><td>1081</td><td>19926</td><td>18845</td></tr>\n",
       "\t<tr><th scope=row>4</th><td>4</td><td>6832.402</td><td>1359</td><td>19999</td><td>18640</td></tr>\n",
       "\t<tr><th scope=row>5</th><td>5</td><td>8277.646</td><td>2127</td><td>19586</td><td>17459</td></tr>\n",
       "</tbody>\n",
       "</table>\n"
      ],
      "text/latex": [
       "A data.frame: 5 × 5\n",
       "\\begin{tabular}{r|lllll}\n",
       "  & Factor & Mean & Min & Max & Range\\\\\n",
       "  & <int> & <dbl> & <dbl> & <dbl> & <dbl>\\\\\n",
       "\\hline\n",
       "\t1 & 1 & 5640.571 & 1009 & 19973 & 18964\\\\\n",
       "\t2 & 2 & 6226.645 & 1051 & 19613 & 18562\\\\\n",
       "\t3 & 3 & 6517.264 & 1081 & 19926 & 18845\\\\\n",
       "\t4 & 4 & 6832.402 & 1359 & 19999 & 18640\\\\\n",
       "\t5 & 5 & 8277.646 & 2127 & 19586 & 17459\\\\\n",
       "\\end{tabular}\n"
      ],
      "text/markdown": [
       "\n",
       "A data.frame: 5 × 5\n",
       "\n",
       "| <!--/--> | Factor &lt;int&gt; | Mean &lt;dbl&gt; | Min &lt;dbl&gt; | Max &lt;dbl&gt; | Range &lt;dbl&gt; |\n",
       "|---|---|---|---|---|---|\n",
       "| 1 | 1 | 5640.571 | 1009 | 19973 | 18964 |\n",
       "| 2 | 2 | 6226.645 | 1051 | 19613 | 18562 |\n",
       "| 3 | 3 | 6517.264 | 1081 | 19926 | 18845 |\n",
       "| 4 | 4 | 6832.402 | 1359 | 19999 | 18640 |\n",
       "| 5 | 5 | 8277.646 | 2127 | 19586 | 17459 |\n",
       "\n"
      ],
      "text/plain": [
       "  Factor Mean     Min  Max   Range\n",
       "1 1      5640.571 1009 19973 18964\n",
       "2 2      6226.645 1051 19613 18562\n",
       "3 3      6517.264 1081 19926 18845\n",
       "4 4      6832.402 1359 19999 18640\n",
       "5 5      8277.646 2127 19586 17459"
      ]
     },
     "metadata": {},
     "output_type": "display_data"
    },
    {
     "data": {
      "text/html": [
       "<table class=\"dataframe\">\n",
       "<caption>A data.frame: 2 × 5</caption>\n",
       "<thead>\n",
       "\t<tr><th></th><th scope=col>Factor</th><th scope=col>Mean</th><th scope=col>Min</th><th scope=col>Max</th><th scope=col>Range</th></tr>\n",
       "\t<tr><th></th><th scope=col>&lt;chr&gt;</th><th scope=col>&lt;dbl&gt;</th><th scope=col>&lt;dbl&gt;</th><th scope=col>&lt;dbl&gt;</th><th scope=col>&lt;dbl&gt;</th></tr>\n",
       "</thead>\n",
       "<tbody>\n",
       "\t<tr><th scope=row>No</th><td>No </td><td>6832.740</td><td>1051</td><td>19999</td><td>18948</td></tr>\n",
       "\t<tr><th scope=row>Yes</th><td>Yes</td><td>4787.093</td><td>1009</td><td>19859</td><td>18850</td></tr>\n",
       "</tbody>\n",
       "</table>\n"
      ],
      "text/latex": [
       "A data.frame: 2 × 5\n",
       "\\begin{tabular}{r|lllll}\n",
       "  & Factor & Mean & Min & Max & Range\\\\\n",
       "  & <chr> & <dbl> & <dbl> & <dbl> & <dbl>\\\\\n",
       "\\hline\n",
       "\tNo & No  & 6832.740 & 1051 & 19999 & 18948\\\\\n",
       "\tYes & Yes & 4787.093 & 1009 & 19859 & 18850\\\\\n",
       "\\end{tabular}\n"
      ],
      "text/markdown": [
       "\n",
       "A data.frame: 2 × 5\n",
       "\n",
       "| <!--/--> | Factor &lt;chr&gt; | Mean &lt;dbl&gt; | Min &lt;dbl&gt; | Max &lt;dbl&gt; | Range &lt;dbl&gt; |\n",
       "|---|---|---|---|---|---|\n",
       "| No | No  | 6832.740 | 1051 | 19999 | 18948 |\n",
       "| Yes | Yes | 4787.093 | 1009 | 19859 | 18850 |\n",
       "\n"
      ],
      "text/plain": [
       "    Factor Mean     Min  Max   Range\n",
       "No  No     6832.740 1051 19999 18948\n",
       "Yes Yes    4787.093 1009 19859 18850"
      ]
     },
     "metadata": {},
     "output_type": "display_data"
    },
    {
     "data": {
      "text/html": [
       "<table class=\"dataframe\">\n",
       "<caption>A data.frame: 4 × 5</caption>\n",
       "<thead>\n",
       "\t<tr><th></th><th scope=col>Factor</th><th scope=col>Mean</th><th scope=col>Min</th><th scope=col>Max</th><th scope=col>Range</th></tr>\n",
       "\t<tr><th></th><th scope=col>&lt;int&gt;</th><th scope=col>&lt;dbl&gt;</th><th scope=col>&lt;dbl&gt;</th><th scope=col>&lt;dbl&gt;</th><th scope=col>&lt;dbl&gt;</th></tr>\n",
       "</thead>\n",
       "<tbody>\n",
       "\t<tr><th scope=row>1</th><td>1</td><td>6177.793</td><td>1200</td><td>19999</td><td>18799</td></tr>\n",
       "\t<tr><th scope=row>2</th><td>2</td><td>6596.983</td><td>1052</td><td>19973</td><td>18921</td></tr>\n",
       "\t<tr><th scope=row>3</th><td>3</td><td>6543.773</td><td>1081</td><td>19701</td><td>18620</td></tr>\n",
       "\t<tr><th scope=row>4</th><td>4</td><td>6601.296</td><td>1009</td><td>19943</td><td>18934</td></tr>\n",
       "</tbody>\n",
       "</table>\n"
      ],
      "text/latex": [
       "A data.frame: 4 × 5\n",
       "\\begin{tabular}{r|lllll}\n",
       "  & Factor & Mean & Min & Max & Range\\\\\n",
       "  & <int> & <dbl> & <dbl> & <dbl> & <dbl>\\\\\n",
       "\\hline\n",
       "\t1 & 1 & 6177.793 & 1200 & 19999 & 18799\\\\\n",
       "\t2 & 2 & 6596.983 & 1052 & 19973 & 18921\\\\\n",
       "\t3 & 3 & 6543.773 & 1081 & 19701 & 18620\\\\\n",
       "\t4 & 4 & 6601.296 & 1009 & 19943 & 18934\\\\\n",
       "\\end{tabular}\n"
      ],
      "text/markdown": [
       "\n",
       "A data.frame: 4 × 5\n",
       "\n",
       "| <!--/--> | Factor &lt;int&gt; | Mean &lt;dbl&gt; | Min &lt;dbl&gt; | Max &lt;dbl&gt; | Range &lt;dbl&gt; |\n",
       "|---|---|---|---|---|---|\n",
       "| 1 | 1 | 6177.793 | 1200 | 19999 | 18799 |\n",
       "| 2 | 2 | 6596.983 | 1052 | 19973 | 18921 |\n",
       "| 3 | 3 | 6543.773 | 1081 | 19701 | 18620 |\n",
       "| 4 | 4 | 6601.296 | 1009 | 19943 | 18934 |\n",
       "\n"
      ],
      "text/plain": [
       "  Factor Mean     Min  Max   Range\n",
       "1 1      6177.793 1200 19999 18799\n",
       "2 2      6596.983 1052 19973 18921\n",
       "3 3      6543.773 1081 19701 18620\n",
       "4 4      6601.296 1009 19943 18934"
      ]
     },
     "metadata": {},
     "output_type": "display_data"
    }
   ],
   "source": [
    "vector_summary <- function(x) {\n",
    "    return(c(mean(x), min(x), max(x), max(x) - min(x)))\n",
    "}\n",
    "\n",
    "factor_summary <- function(variable, factor_variable) {\n",
    "    list_array = tapply(variable, factor_variable, vector_summary)\n",
    "    transposed_array <- do.call(rbind, list_array)\n",
    "    factors_vector_summaries = data.frame(Factor = sort(unique(factor_variable)), Mean = transposed_array[,1], Min = transposed_array[,2], Max = transposed_array[,3], Range = transposed_array[,4])\n",
    "    return(factors_vector_summaries)\n",
    "}\n",
    "\n",
    "factor_summary(dat$MonthlyIncome, dat$Education)\n",
    "factor_summary(dat$MonthlyIncome, dat$Attrition)\n",
    "factor_summary(dat$MonthlyIncome, dat$RelationshipSatisfaction)"
   ]
  },
  {
   "cell_type": "markdown",
   "metadata": {},
   "source": [
    "There is a noticeably lower mean income for those with a relationship satisfaction factor of 1 than of the other factors 2, 3, and 4. This implies that while there is no relationship between income and being in any of the higher relationship factors as they are the same in mean, that those of lower income are more likely to be in an unhappy relationship."
   ]
  },
  {
   "cell_type": "markdown",
   "metadata": {
    "id": "pzJZZCzMEtqp"
   },
   "source": [
    "<br>"
   ]
  }
 ],
 "metadata": {
  "colab": {
   "provenance": [
    {
     "file_id": "1GSNhUwEVzRoeXaygW8UJtUipRT1sQ3G0",
     "timestamp": 1609981963177
    },
    {
     "file_id": "1BYnnbqeyZAlYnxR9IHC8tpW07EpDeyKR",
     "timestamp": 1609974285905
    }
   ]
  },
  "kernelspec": {
   "display_name": "R 4.3.3",
   "language": "R",
   "name": "ir433"
  },
  "language_info": {
   "codemirror_mode": "r",
   "file_extension": ".r",
   "mimetype": "text/x-r-source",
   "name": "R",
   "pygments_lexer": "r",
   "version": "4.3.3"
  }
 },
 "nbformat": 4,
 "nbformat_minor": 4
}
