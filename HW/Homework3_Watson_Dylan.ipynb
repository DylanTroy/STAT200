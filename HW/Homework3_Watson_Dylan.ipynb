{
 "cells": [
  {
   "cell_type": "markdown",
   "metadata": {
    "id": "gtETsh5j8vHw"
   },
   "source": [
    "# **Homework 3: JSON and Descriptive Statistics (20 points)**\n",
    "\n",
    "#### **Dylan Watson**\n"
   ]
  },
  {
   "cell_type": "markdown",
   "metadata": {
    "id": "en9tcPcGuFyc"
   },
   "source": [
    "---\n",
    "**Instructions**: Complete the homework assignment below.\n",
    "- <font color=red>Tasks</font> indicated in red must be completed to receive credit\n",
    "- Include all code for your work\n",
    "- Include markdown cells with written answers explaining your work when prompted\n",
    "- Your completed assignment must be submitted to Canvas as a .ipynb file by the deadline listed on Canvas\n",
    "---"
   ]
  },
  {
   "cell_type": "markdown",
   "metadata": {
    "id": "c7sADPiGJvIe"
   },
   "source": [
    "<br>"
   ]
  },
  {
   "cell_type": "markdown",
   "metadata": {
    "id": "omeTfTlN4Npb"
   },
   "source": [
    "####<font color=red>Organized</font> (1 point)\n",
    "* Answers should be organized in the following format for organization and readability\n",
    "\n",
    "<br>\n",
    "\n",
    "```\n",
    "# 1.\n",
    "This will be the code block to answer the first part of a task\n",
    "```\n",
    "\n",
    "1. This will be the text answer/explanation (if prompted) for the first task\n",
    "\n",
    "```\n",
    "# 2.\n",
    "This will be the code block to answer the second part of a task in a separate code cell\n",
    "```\n",
    "\n",
    "2. This will be the text answer/explanation (if prompted) for the second task\n",
    "\n",
    "<br>\n",
    "\n",
    "Continue this format for the remaining subtasks\n"
   ]
  },
  {
   "cell_type": "markdown",
   "metadata": {
    "id": "AI_68nLc5uzF"
   },
   "source": [
    "<br>\n",
    "\n",
    "---\n",
    "\n",
    "<br>\n",
    "\n",
    "\n",
    "\n",
    "\n"
   ]
  },
  {
   "cell_type": "markdown",
   "metadata": {
    "id": "hnldBRJq1FPT"
   },
   "source": [
    "The following packages are needed to complete the lab"
   ]
  },
  {
   "cell_type": "code",
   "execution_count": 1,
   "metadata": {
    "colab": {
     "base_uri": "https://localhost:8080/"
    },
    "executionInfo": {
     "elapsed": 26273,
     "status": "ok",
     "timestamp": 1613603367926,
     "user": {
      "displayName": "Kyle Hasenstab",
      "photoUrl": "https://lh3.googleusercontent.com/a-/AOh14GjU_4-XA0fQsOgOAHB8pZNwZ2NJ2WzeBfexTpdV=s64",
      "userId": "10632569908917482778"
     },
     "user_tz": 480
    },
    "id": "PZjQNlGT1H97",
    "outputId": "0d0be1e0-73fe-4df0-c334-a49164fb5ba1"
   },
   "outputs": [
    {
     "name": "stderr",
     "output_type": "stream",
     "text": [
      "Installing package into 'C:/Users/dylan/AppData/Local/R/win-library/4.3'\n",
      "(as 'lib' is unspecified)\n",
      "\n"
     ]
    },
    {
     "name": "stdout",
     "output_type": "stream",
     "text": [
      "package 'RCurl' successfully unpacked and MD5 sums checked\n",
      "\n",
      "The downloaded binary packages are in\n",
      "\tC:\\Users\\dylan\\AppData\\Local\\Temp\\RtmpyuOacP\\downloaded_packages\n"
     ]
    },
    {
     "name": "stderr",
     "output_type": "stream",
     "text": [
      "Installing package into 'C:/Users/dylan/AppData/Local/R/win-library/4.3'\n",
      "(as 'lib' is unspecified)\n",
      "\n"
     ]
    },
    {
     "name": "stdout",
     "output_type": "stream",
     "text": [
      "package 'RJSONIO' successfully unpacked and MD5 sums checked\n",
      "\n",
      "The downloaded binary packages are in\n",
      "\tC:\\Users\\dylan\\AppData\\Local\\Temp\\RtmpyuOacP\\downloaded_packages\n"
     ]
    }
   ],
   "source": [
    "install.packages(\"RCurl\")    # package for working with urls\n",
    "install.packages(\"RJSONIO\")  # package for working with json files"
   ]
  },
  {
   "cell_type": "code",
   "execution_count": 2,
   "metadata": {
    "id": "D4GcqT2t1I3T"
   },
   "outputs": [],
   "source": [
    "library(RCurl)\n",
    "library(RJSONIO)"
   ]
  },
  {
   "cell_type": "code",
   "execution_count": 3,
   "metadata": {},
   "outputs": [
    {
     "data": {
      "text/html": [
       "'C'"
      ],
      "text/latex": [
       "'C'"
      ],
      "text/markdown": [
       "'C'"
      ],
      "text/plain": [
       "[1] \"C\""
      ]
     },
     "metadata": {},
     "output_type": "display_data"
    }
   ],
   "source": [
    "Sys.setlocale(\"LC_ALL\", \"C\")"
   ]
  },
  {
   "cell_type": "code",
   "execution_count": 4,
   "metadata": {},
   "outputs": [],
   "source": [
    "# install.packages(\"installr\")\n",
    "# installr::updateR()"
   ]
  },
  {
   "cell_type": "code",
   "execution_count": 5,
   "metadata": {},
   "outputs": [],
   "source": [
    "# Had issues with loading string from url\n",
    "library(httr)\n",
    "set_config( config( ssl_verifypeer = 0L, ssl_verifypeer = 0L ) )"
   ]
  },
  {
   "cell_type": "markdown",
   "metadata": {
    "id": "YfKhJv3Q1PBh"
   },
   "source": [
    "<br>\n",
    "\n",
    "---\n",
    "\n",
    "<br>\n",
    "\n",
    "\n",
    "\n",
    "\n"
   ]
  },
  {
   "cell_type": "markdown",
   "metadata": {
    "id": "Ek6IuNtolHgW"
   },
   "source": [
    "####<font color=red>Task 1</font>  (2 points)\n",
    "\n",
    "In this homework assignment, we will work with a JSON dataset containing information about countries of the world.\n",
    "\n",
    "1. Load the JSON weather data from this [url](https://raw.githubusercontent.com/mledoze/countries/master/countries.json) into R as a list called `countries_list`.\n",
    "2. Print the class of `countries_list`.\n"
   ]
  },
  {
   "cell_type": "code",
   "execution_count": 6,
   "metadata": {
    "id": "FouNPdaZxpbV"
   },
   "outputs": [],
   "source": [
    "# 1.\n",
    "\n",
    "# store the url as a string\n",
    "countries_url <- \"https://raw.githubusercontent.com/mledoze/countries/master/countries.json\"\n",
    "\n",
    "# load the data from the url as a character string\n",
    "countries_string <- content(GET(countries_url), as = \"text\", encoding = \"UTF-8\")\n",
    "#countries_string <- iconv(getURL(countries_url), to = \"UTF-8\", sub = \"byte\")\n",
    "\n",
    "# use the fromJSON function to convert to a list\n",
    "countries_list  <- fromJSON(countries_string)"
   ]
  },
  {
   "cell_type": "markdown",
   "metadata": {
    "id": "3IIpgatI3tCV"
   },
   "source": [
    "<br>\n",
    "\n",
    "---\n",
    "\n",
    "<br>\n",
    "\n",
    "\n",
    "\n",
    "\n"
   ]
  },
  {
   "cell_type": "markdown",
   "metadata": {
    "id": "bSdyVT2t3tCt"
   },
   "source": [
    "####<font color=red>Task 2</font> (5 points)\n",
    "\n",
    "1. (1 point) The code below extracts the first country in the list.\n",
    "\n",
    "```\n",
    "countries_list[[1]]\n",
    "```\n",
    "\n",
    "What is the official name of the first country? [Hint: `countries_list[[1]]$name$official`].\n",
    "\n",
    "<br>\n",
    "\n",
    "2. (2 points) For the first country, print the following values from the JSON list\n",
    "* official name `$name$official`\n",
    "* region `$region`\n",
    "* land area `$area`\n",
    "\n",
    "<br>\n",
    "\n",
    "3. (2 points) Store the values from Task 2.2 in a dataframe called `country` with the following column names. Print the dataframe `country`.\n",
    "* country\n",
    "* region\n",
    "* area"
   ]
  },
  {
   "cell_type": "code",
   "execution_count": 7,
   "metadata": {},
   "outputs": [
    {
     "data": {
      "text/html": [
       "'Aruba'"
      ],
      "text/latex": [
       "'Aruba'"
      ],
      "text/markdown": [
       "'Aruba'"
      ],
      "text/plain": [
       "[1] \"Aruba\""
      ]
     },
     "metadata": {},
     "output_type": "display_data"
    },
    {
     "data": {
      "text/html": [
       "'Aruba'"
      ],
      "text/latex": [
       "'Aruba'"
      ],
      "text/markdown": [
       "'Aruba'"
      ],
      "text/plain": [
       "[1] \"Aruba\""
      ]
     },
     "metadata": {},
     "output_type": "display_data"
    },
    {
     "data": {
      "text/html": [
       "'Americas'"
      ],
      "text/latex": [
       "'Americas'"
      ],
      "text/markdown": [
       "'Americas'"
      ],
      "text/plain": [
       "[1] \"Americas\""
      ]
     },
     "metadata": {},
     "output_type": "display_data"
    },
    {
     "data": {
      "text/html": [
       "180"
      ],
      "text/latex": [
       "180"
      ],
      "text/markdown": [
       "180"
      ],
      "text/plain": [
       "[1] 180"
      ]
     },
     "metadata": {},
     "output_type": "display_data"
    },
    {
     "data": {
      "text/html": [
       "<table class=\"dataframe\">\n",
       "<caption>A data.frame: 1 × 3</caption>\n",
       "<thead>\n",
       "\t<tr><th scope=col>country</th><th scope=col>region</th><th scope=col>area</th></tr>\n",
       "\t<tr><th scope=col>&lt;chr&gt;</th><th scope=col>&lt;chr&gt;</th><th scope=col>&lt;dbl&gt;</th></tr>\n",
       "</thead>\n",
       "<tbody>\n",
       "\t<tr><td>Aruba</td><td>Americas</td><td>180</td></tr>\n",
       "</tbody>\n",
       "</table>\n"
      ],
      "text/latex": [
       "A data.frame: 1 × 3\n",
       "\\begin{tabular}{lll}\n",
       " country & region & area\\\\\n",
       " <chr> & <chr> & <dbl>\\\\\n",
       "\\hline\n",
       "\t Aruba & Americas & 180\\\\\n",
       "\\end{tabular}\n"
      ],
      "text/markdown": [
       "\n",
       "A data.frame: 1 × 3\n",
       "\n",
       "| country &lt;chr&gt; | region &lt;chr&gt; | area &lt;dbl&gt; |\n",
       "|---|---|---|\n",
       "| Aruba | Americas | 180 |\n",
       "\n"
      ],
      "text/plain": [
       "  country region   area\n",
       "1 Aruba   Americas 180 "
      ]
     },
     "metadata": {},
     "output_type": "display_data"
    }
   ],
   "source": [
    "# 1\n",
    "countries_list[[1]]$name$official\n",
    "# 2\n",
    "countries_list[[1]]$name$official\n",
    "countries_list[[1]]$region\n",
    "countries_list[[1]]$area\n",
    "# 3\n",
    "country = data.frame(\"country\" = countries_list[[1]]$name$official, \"region\" = countries_list[[1]]$region, \"area\" = countries_list[[1]]$area)\n",
    "country"
   ]
  },
  {
   "cell_type": "markdown",
   "metadata": {
    "id": "0KsJTFXP84jh"
   },
   "source": [
    "<br>\n",
    "\n",
    "---\n",
    "\n",
    "<br>\n",
    "\n",
    "\n",
    "\n",
    "\n"
   ]
  },
  {
   "cell_type": "markdown",
   "metadata": {
    "id": "xq9KhnBt82pH"
   },
   "source": [
    "####<font color=red>Task 3</font> (6 points)\n",
    "\n",
    "The function `create_country()` below takes as input a country from `countries_list` (e.g., `countries_list[[5]]`) and outputs a dataframe similar to Task 3.3.\n",
    "\n",
    "```\n",
    "create_country <- function(input_country) {\n",
    "\n",
    "  country <- data.frame(country = input_country$name$official,\n",
    "                        region = input_country$region,\n",
    "                        area = input_country$area)\n",
    "\n",
    "  return(country)\n",
    "\n",
    "}\n",
    "```\n",
    "\n",
    "<br>\n",
    "\n",
    "1. (2 points) Call the function `create_country()` using `countries_list[[5]]` as input and show the result.\n",
    "\n",
    "<br>\n",
    "\n",
    "2. (2 points) Use `lapply()` to apply the `create_country()` function to each element in `countries_list`. Store the result as `countries_list2`.\n",
    "\n",
    "<br>\n",
    "\n",
    "3. (2 points) Use the `do.call()` function from lecture to combine the dataframes in `countries_list2` using `rbind`. Name this new dataframe `countries`. Show the first few lines of `countries` using `head()`."
   ]
  },
  {
   "cell_type": "markdown",
   "metadata": {
    "id": "9TTTD1pCB8fO"
   },
   "source": [
    "<br>"
   ]
  },
  {
   "cell_type": "code",
   "execution_count": 8,
   "metadata": {
    "id": "tQl-B6rL82pK"
   },
   "outputs": [],
   "source": [
    "# use this function\n",
    "create_country <- function(input_country) {\n",
    "\n",
    "  country <- data.frame(country = input_country$name$official,\n",
    "                        region = input_country$region,\n",
    "                        area = input_country$area)\n",
    "\n",
    "  return(country)\n",
    "\n",
    "}"
   ]
  },
  {
   "cell_type": "code",
   "execution_count": 9,
   "metadata": {},
   "outputs": [
    {
     "data": {
      "text/html": [
       "<table class=\"dataframe\">\n",
       "<caption>A data.frame: 1 × 3</caption>\n",
       "<thead>\n",
       "\t<tr><th scope=col>country</th><th scope=col>region</th><th scope=col>area</th></tr>\n",
       "\t<tr><th scope=col>&lt;chr&gt;</th><th scope=col>&lt;chr&gt;</th><th scope=col>&lt;dbl&gt;</th></tr>\n",
       "</thead>\n",
       "<tbody>\n",
       "\t<tr><td>&lt;c5&gt;land Islands</td><td>Europe</td><td>1580</td></tr>\n",
       "</tbody>\n",
       "</table>\n"
      ],
      "text/latex": [
       "A data.frame: 1 × 3\n",
       "\\begin{tabular}{lll}\n",
       " country & region & area\\\\\n",
       " <chr> & <chr> & <dbl>\\\\\n",
       "\\hline\n",
       "\t <c5>land Islands & Europe & 1580\\\\\n",
       "\\end{tabular}\n"
      ],
      "text/markdown": [
       "\n",
       "A data.frame: 1 × 3\n",
       "\n",
       "| country &lt;chr&gt; | region &lt;chr&gt; | area &lt;dbl&gt; |\n",
       "|---|---|---|\n",
       "| &lt;c5&gt;land Islands | Europe | 1580 |\n",
       "\n"
      ],
      "text/plain": [
       "  country          region area\n",
       "1 <c5>land Islands Europe 1580"
      ]
     },
     "metadata": {},
     "output_type": "display_data"
    },
    {
     "data": {
      "text/html": [
       "<table class=\"dataframe\">\n",
       "<caption>A data.frame: 6 × 3</caption>\n",
       "<thead>\n",
       "\t<tr><th></th><th scope=col>country</th><th scope=col>region</th><th scope=col>area</th></tr>\n",
       "\t<tr><th></th><th scope=col>&lt;chr&gt;</th><th scope=col>&lt;chr&gt;</th><th scope=col>&lt;dbl&gt;</th></tr>\n",
       "</thead>\n",
       "<tbody>\n",
       "\t<tr><th scope=row>1</th><td>Aruba                          </td><td>Americas</td><td>    180</td></tr>\n",
       "\t<tr><th scope=row>2</th><td>Islamic Republic of Afghanistan</td><td>Asia    </td><td> 652230</td></tr>\n",
       "\t<tr><th scope=row>3</th><td>Republic of Angola             </td><td>Africa  </td><td>1246700</td></tr>\n",
       "\t<tr><th scope=row>4</th><td>Anguilla                       </td><td>Americas</td><td>     91</td></tr>\n",
       "\t<tr><th scope=row>5</th><td><span style=white-space:pre-wrap>&lt;c5&gt;land Islands               </span></td><td><span style=white-space:pre-wrap>Europe  </span></td><td><span style=white-space:pre-wrap>   1580</span></td></tr>\n",
       "\t<tr><th scope=row>6</th><td>Republic of Albania            </td><td>Europe  </td><td>  28748</td></tr>\n",
       "</tbody>\n",
       "</table>\n"
      ],
      "text/latex": [
       "A data.frame: 6 × 3\n",
       "\\begin{tabular}{r|lll}\n",
       "  & country & region & area\\\\\n",
       "  & <chr> & <chr> & <dbl>\\\\\n",
       "\\hline\n",
       "\t1 & Aruba                           & Americas &     180\\\\\n",
       "\t2 & Islamic Republic of Afghanistan & Asia     &  652230\\\\\n",
       "\t3 & Republic of Angola              & Africa   & 1246700\\\\\n",
       "\t4 & Anguilla                        & Americas &      91\\\\\n",
       "\t5 & <c5>land Islands                & Europe   &    1580\\\\\n",
       "\t6 & Republic of Albania             & Europe   &   28748\\\\\n",
       "\\end{tabular}\n"
      ],
      "text/markdown": [
       "\n",
       "A data.frame: 6 × 3\n",
       "\n",
       "| <!--/--> | country &lt;chr&gt; | region &lt;chr&gt; | area &lt;dbl&gt; |\n",
       "|---|---|---|---|\n",
       "| 1 | Aruba                           | Americas |     180 |\n",
       "| 2 | Islamic Republic of Afghanistan | Asia     |  652230 |\n",
       "| 3 | Republic of Angola              | Africa   | 1246700 |\n",
       "| 4 | Anguilla                        | Americas |      91 |\n",
       "| 5 | &lt;c5&gt;land Islands                | Europe   |    1580 |\n",
       "| 6 | Republic of Albania             | Europe   |   28748 |\n",
       "\n"
      ],
      "text/plain": [
       "  country                         region   area   \n",
       "1 Aruba                           Americas     180\n",
       "2 Islamic Republic of Afghanistan Asia      652230\n",
       "3 Republic of Angola              Africa   1246700\n",
       "4 Anguilla                        Americas      91\n",
       "5 <c5>land Islands                Europe      1580\n",
       "6 Republic of Albania             Europe     28748"
      ]
     },
     "metadata": {},
     "output_type": "display_data"
    }
   ],
   "source": [
    "# 1\n",
    "create_country(countries_list[[5]])\n",
    "# 2\n",
    "countries_list2 = lapply(countries_list, create_country)\n",
    "# head(countries_list2)\n",
    "# 3 \n",
    "countries = do.call(rbind, countries_list2)\n",
    "head(countries)"
   ]
  },
  {
   "cell_type": "markdown",
   "metadata": {
    "id": "T7GRlq5DA86E"
   },
   "source": [
    "<br>\n",
    "\n",
    "---\n",
    "\n",
    "<br>\n",
    "\n",
    "\n",
    "\n",
    "\n"
   ]
  },
  {
   "cell_type": "markdown",
   "metadata": {
    "id": "ODIhtIb7A86j"
   },
   "source": [
    "####<font color=red>Task 4</font> (6 points)\n",
    "\n",
    "1. (2 points) Use `tapply()` to find the average area for each region. What is the region with the largest area on average? State in a complete sentence.\n",
    "\n",
    "<br>\n",
    "\n",
    "2. (2 points) Use `tapply()` to find the standard deviation [`sd()`] of area for each region. What is the region with the smallest standard deviation? State in a complete sentence.\n",
    "\n",
    "<br>\n",
    "\n",
    "3. (2 points) What does it mean to be the region with the smallest standard devation in area? Explain in complete sentences."
   ]
  },
  {
   "cell_type": "code",
   "execution_count": 10,
   "metadata": {},
   "outputs": [
    {
     "data": {
      "text/html": [
       "<style>\n",
       ".dl-inline {width: auto; margin:0; padding: 0}\n",
       ".dl-inline>dt, .dl-inline>dd {float: none; width: auto; display: inline-block}\n",
       ".dl-inline>dt::after {content: \":\\0020\"; padding-right: .5ex}\n",
       ".dl-inline>dt:not(:first-of-type) {padding-left: .5ex}\n",
       "</style><dl class=dl-inline><dt>Africa</dt><dd>513871.474576271</dd><dt>Americas</dt><dd>751391.467857143</dd><dt>Antarctic</dt><dd>2802422.2</dd><dt>Asia</dt><dd>642762.82</dd><dt>Europe</dt><dd>434394.291698113</dd><dt>Oceania</dt><dd>315381.962962963</dd></dl>\n"
      ],
      "text/latex": [
       "\\begin{description*}\n",
       "\\item[Africa] 513871.474576271\n",
       "\\item[Americas] 751391.467857143\n",
       "\\item[Antarctic] 2802422.2\n",
       "\\item[Asia] 642762.82\n",
       "\\item[Europe] 434394.291698113\n",
       "\\item[Oceania] 315381.962962963\n",
       "\\end{description*}\n"
      ],
      "text/markdown": [
       "Africa\n",
       ":   513871.474576271Americas\n",
       ":   751391.467857143Antarctic\n",
       ":   2802422.2Asia\n",
       ":   642762.82Europe\n",
       ":   434394.291698113Oceania\n",
       ":   315381.962962963\n",
       "\n"
      ],
      "text/plain": [
       "   Africa  Americas Antarctic      Asia    Europe   Oceania \n",
       " 513871.5  751391.5 2802422.2  642762.8  434394.3  315382.0 "
      ]
     },
     "metadata": {},
     "output_type": "display_data"
    },
    {
     "data": {
      "text/html": [
       "<style>\n",
       ".dl-inline {width: auto; margin:0; padding: 0}\n",
       ".dl-inline>dt, .dl-inline>dd {float: none; width: auto; display: inline-block}\n",
       ".dl-inline>dt::after {content: \":\\0020\"; padding-right: .5ex}\n",
       ".dl-inline>dt:not(:first-of-type) {padding-left: .5ex}\n",
       "</style><dl class=dl-inline><dt>Africa</dt><dd>594928.596465108</dd><dt>Americas</dt><dd>2135063.70326898</dd><dt>Antarctic</dt><dd>6259637.05989211</dd><dt>Asia</dt><dd>1495048.86386414</dd><dt>Europe</dt><dd>2338155.53966504</dd><dt>Oceania</dt><dd>1477663.44812448</dd></dl>\n"
      ],
      "text/latex": [
       "\\begin{description*}\n",
       "\\item[Africa] 594928.596465108\n",
       "\\item[Americas] 2135063.70326898\n",
       "\\item[Antarctic] 6259637.05989211\n",
       "\\item[Asia] 1495048.86386414\n",
       "\\item[Europe] 2338155.53966504\n",
       "\\item[Oceania] 1477663.44812448\n",
       "\\end{description*}\n"
      ],
      "text/markdown": [
       "Africa\n",
       ":   594928.596465108Americas\n",
       ":   2135063.70326898Antarctic\n",
       ":   6259637.05989211Asia\n",
       ":   1495048.86386414Europe\n",
       ":   2338155.53966504Oceania\n",
       ":   1477663.44812448\n",
       "\n"
      ],
      "text/plain": [
       "   Africa  Americas Antarctic      Asia    Europe   Oceania \n",
       " 594928.6 2135063.7 6259637.1 1495048.9 2338155.5 1477663.4 "
      ]
     },
     "metadata": {},
     "output_type": "display_data"
    }
   ],
   "source": [
    "tapply(countries$area, countries$region, mean)\n",
    "tapply(countries$area, countries$region, sd)"
   ]
  },
  {
   "cell_type": "markdown",
   "metadata": {},
   "source": [
    "The region with the largest average area per country is the Antarctic. The region with the smallest standard deviation is Africa. Having the smallest standard deviation of area means that a given region has less variability among its country's areas. There is a tighter distribution of area values or that the countries are more similar in size to one another."
   ]
  },
  {
   "cell_type": "code",
   "execution_count": null,
   "metadata": {},
   "outputs": [],
   "source": []
  }
 ],
 "metadata": {
  "colab": {
   "provenance": [
    {
     "file_id": "1GSNhUwEVzRoeXaygW8UJtUipRT1sQ3G0",
     "timestamp": 1609981963177
    },
    {
     "file_id": "1BYnnbqeyZAlYnxR9IHC8tpW07EpDeyKR",
     "timestamp": 1609974285905
    }
   ]
  },
  "kernelspec": {
   "display_name": "R 4.3.3",
   "language": "R",
   "name": "ir433"
  },
  "language_info": {
   "codemirror_mode": "r",
   "file_extension": ".r",
   "mimetype": "text/x-r-source",
   "name": "R",
   "pygments_lexer": "r",
   "version": "4.3.3"
  }
 },
 "nbformat": 4,
 "nbformat_minor": 4
}
