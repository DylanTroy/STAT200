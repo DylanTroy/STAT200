{
 "cells": [
  {
   "cell_type": "markdown",
   "metadata": {
    "id": "gtETsh5j8vHw"
   },
   "source": [
    "# **Homework 4: Data and Sampling Distributions (21 points)**\n",
    "\n",
    "#### **Dylan Watson**\n"
   ]
  },
  {
   "cell_type": "markdown",
   "metadata": {
    "id": "en9tcPcGuFyc"
   },
   "source": [
    "---\n",
    "**Instructions**: Complete the homework assignment below.\n",
    "- <font color=red>Tasks</font> indicated in red must be completed to receive credit\n",
    "- Include all code for your work\n",
    "- Include markdown cells with written answers explaining your work when prompted\n",
    "- Your completed assignment must be submitted to Canvas as a .ipynb file by the deadline listed on Canvas\n",
    "---"
   ]
  },
  {
   "cell_type": "markdown",
   "metadata": {
    "id": "c7sADPiGJvIe"
   },
   "source": [
    "<br>"
   ]
  },
  {
   "cell_type": "markdown",
   "metadata": {
    "id": "MfKT4gy91QKV"
   },
   "source": [
    "####<font color=red>Organized</font> (1 points)\n",
    "* Answers should be organized in the following format for organization and readability\n",
    "\n",
    "<br>\n",
    "\n",
    "```\n",
    "# 1. \n",
    "This will be the code block to answer the first part of a task\n",
    "```\n",
    "\n",
    "1. This will be the text answer/explanation (if prompted) for the first task\n",
    "\n",
    "```\n",
    "# 2. \n",
    "This will be the code block to answer the second part of a task in a separate code cell\n",
    "```\n",
    "\n",
    "2. This will be the text answer/explanation (if prompted) for the second task\n",
    "\n",
    "<br>\n",
    "\n",
    "Continue this format for the remaining subtasks\n"
   ]
  },
  {
   "cell_type": "markdown",
   "metadata": {
    "id": "YfKhJv3Q1PBh"
   },
   "source": [
    "<br>\n",
    "\n",
    "---\n",
    "\n",
    "<br>\n",
    "\n",
    "\n",
    "\n",
    "\n"
   ]
  },
  {
   "cell_type": "markdown",
   "metadata": {
    "id": "Ek6IuNtolHgW"
   },
   "source": [
    "####<font color=red>Task 1</font>  (1 points)\n",
    "\n",
    "1. Load the data at this [link](https://raw.githubusercontent.com/khasenst/datasets_teaching/main/StudentsPerformance.csv) \n",
    "\n",
    "2. Show the first few lines of the dataset\n"
   ]
  },
  {
   "cell_type": "code",
   "execution_count": 1,
   "metadata": {},
   "outputs": [
    {
     "data": {
      "text/html": [
       "<table class=\"dataframe\">\n",
       "<caption>A data.frame: 6 × 8</caption>\n",
       "<thead>\n",
       "\t<tr><th></th><th scope=col>gender</th><th scope=col>race.ethnicity</th><th scope=col>parental.level.of.education</th><th scope=col>lunch</th><th scope=col>test.preparation.course</th><th scope=col>math.score</th><th scope=col>reading.score</th><th scope=col>writing.score</th></tr>\n",
       "\t<tr><th></th><th scope=col>&lt;chr&gt;</th><th scope=col>&lt;chr&gt;</th><th scope=col>&lt;chr&gt;</th><th scope=col>&lt;chr&gt;</th><th scope=col>&lt;chr&gt;</th><th scope=col>&lt;int&gt;</th><th scope=col>&lt;int&gt;</th><th scope=col>&lt;int&gt;</th></tr>\n",
       "</thead>\n",
       "<tbody>\n",
       "\t<tr><th scope=row>1</th><td>female</td><td>group B</td><td>bachelor's degree </td><td>standard    </td><td>none     </td><td>72</td><td>72</td><td>74</td></tr>\n",
       "\t<tr><th scope=row>2</th><td>female</td><td>group C</td><td>some college      </td><td>standard    </td><td>completed</td><td>69</td><td>90</td><td>88</td></tr>\n",
       "\t<tr><th scope=row>3</th><td>female</td><td>group B</td><td>master's degree   </td><td>standard    </td><td>none     </td><td>90</td><td>95</td><td>93</td></tr>\n",
       "\t<tr><th scope=row>4</th><td>male  </td><td>group A</td><td>associate's degree</td><td>free/reduced</td><td>none     </td><td>47</td><td>57</td><td>44</td></tr>\n",
       "\t<tr><th scope=row>5</th><td>male  </td><td>group C</td><td>some college      </td><td>standard    </td><td>none     </td><td>76</td><td>78</td><td>75</td></tr>\n",
       "\t<tr><th scope=row>6</th><td>female</td><td>group B</td><td>associate's degree</td><td>standard    </td><td>none     </td><td>71</td><td>83</td><td>78</td></tr>\n",
       "</tbody>\n",
       "</table>\n"
      ],
      "text/latex": [
       "A data.frame: 6 × 8\n",
       "\\begin{tabular}{r|llllllll}\n",
       "  & gender & race.ethnicity & parental.level.of.education & lunch & test.preparation.course & math.score & reading.score & writing.score\\\\\n",
       "  & <chr> & <chr> & <chr> & <chr> & <chr> & <int> & <int> & <int>\\\\\n",
       "\\hline\n",
       "\t1 & female & group B & bachelor's degree  & standard     & none      & 72 & 72 & 74\\\\\n",
       "\t2 & female & group C & some college       & standard     & completed & 69 & 90 & 88\\\\\n",
       "\t3 & female & group B & master's degree    & standard     & none      & 90 & 95 & 93\\\\\n",
       "\t4 & male   & group A & associate's degree & free/reduced & none      & 47 & 57 & 44\\\\\n",
       "\t5 & male   & group C & some college       & standard     & none      & 76 & 78 & 75\\\\\n",
       "\t6 & female & group B & associate's degree & standard     & none      & 71 & 83 & 78\\\\\n",
       "\\end{tabular}\n"
      ],
      "text/markdown": [
       "\n",
       "A data.frame: 6 × 8\n",
       "\n",
       "| <!--/--> | gender &lt;chr&gt; | race.ethnicity &lt;chr&gt; | parental.level.of.education &lt;chr&gt; | lunch &lt;chr&gt; | test.preparation.course &lt;chr&gt; | math.score &lt;int&gt; | reading.score &lt;int&gt; | writing.score &lt;int&gt; |\n",
       "|---|---|---|---|---|---|---|---|---|\n",
       "| 1 | female | group B | bachelor's degree  | standard     | none      | 72 | 72 | 74 |\n",
       "| 2 | female | group C | some college       | standard     | completed | 69 | 90 | 88 |\n",
       "| 3 | female | group B | master's degree    | standard     | none      | 90 | 95 | 93 |\n",
       "| 4 | male   | group A | associate's degree | free/reduced | none      | 47 | 57 | 44 |\n",
       "| 5 | male   | group C | some college       | standard     | none      | 76 | 78 | 75 |\n",
       "| 6 | female | group B | associate's degree | standard     | none      | 71 | 83 | 78 |\n",
       "\n"
      ],
      "text/plain": [
       "  gender race.ethnicity parental.level.of.education lunch       \n",
       "1 female group B        bachelor's degree           standard    \n",
       "2 female group C        some college                standard    \n",
       "3 female group B        master's degree             standard    \n",
       "4 male   group A        associate's degree          free/reduced\n",
       "5 male   group C        some college                standard    \n",
       "6 female group B        associate's degree          standard    \n",
       "  test.preparation.course math.score reading.score writing.score\n",
       "1 none                    72         72            74           \n",
       "2 completed               69         90            88           \n",
       "3 none                    90         95            93           \n",
       "4 none                    47         57            44           \n",
       "5 none                    76         78            75           \n",
       "6 none                    71         83            78           "
      ]
     },
     "metadata": {},
     "output_type": "display_data"
    }
   ],
   "source": [
    "url = \"https://raw.githubusercontent.com/khasenst/datasets_teaching/main/StudentsPerformance.csv\"\n",
    "data = read.csv(url)\n",
    "head(data)"
   ]
  },
  {
   "cell_type": "markdown",
   "metadata": {
    "id": "3IIpgatI3tCV"
   },
   "source": [
    "<br>\n",
    "\n",
    "---\n",
    "\n",
    "<br>\n",
    "\n",
    "\n",
    "\n",
    "\n"
   ]
  },
  {
   "cell_type": "markdown",
   "metadata": {
    "id": "dPgc0NROCvCK"
   },
   "source": [
    "####<font color=red>Task 2</font>  (4 points)\n",
    "\n",
    "1. Plot a histogram of the variable writing score using the `hist()` function\n",
    "  * Specify the following function arguments for hist()\n",
    "    * `xlim = c(0, 100)`\n",
    "    * `xlab = \"Writing Score\"`\n",
    "    * `main = \"Histogram of Writing Score\"`\n",
    "\n",
    "2. Plot the same histogram, except specifying the number of `breaks = 30`\n",
    "  * Specify the following function arguments for hist()\n",
    "    * `xlim = c(0, 100)`\n",
    "    * `xlab = \"Writing Score\"`\n",
    "    * `main = \"Histogram of Writing Score\"`\n",
    "\n",
    "3. Is the distribution of writing score symmetric? Explain your reasoning in complete sentences.\n",
    "\n",
    "4. Is the distribution of writing score normally distributed? Explain your reasoning in complete sentences."
   ]
  },
  {
   "cell_type": "code",
   "execution_count": 2,
   "metadata": {},
   "outputs": [
    {
     "data": {
      "image/png": "[encoded data removed]",
      "text/plain": [
       "Plot with title \"Histogram of Writing Score\""
      ]
     },
     "metadata": {
      "image/png": {
       "height": 420,
       "width": 420
      }
     },
     "output_type": "display_data"
    },
    {
     "data": {
      "image/png": "[encoded data removed]",
      "text/plain": [
       "Plot with title \"Histogram of Writing Score\""
      ]
     },
     "metadata": {
      "image/png": {
       "height": 420,
       "width": 420
      }
     },
     "output_type": "display_data"
    }
   ],
   "source": [
    "hist(data$writing.score, main = \"Histogram of Writing Score\", xlab = \"Writing Score\", ylab = \"Frequency\", xlim = c(0,100))\n",
    "hist(data$writing.score, main = \"Histogram of Writing Score\", xlab = \"Writing Score\", ylab = \"Frequency\", xlim = c(0,100), breaks = 30)"
   ]
  },
  {
   "cell_type": "markdown",
   "metadata": {},
   "source": [
    "3. No the distribution of writing score is not symmetric, it appears left skewed.\n",
    "4. The distribution of writing score is nearly normally distributed however it is marginalyl left skewed."
   ]
  },
  {
   "cell_type": "markdown",
   "metadata": {
    "id": "Biw6othZEJBK"
   },
   "source": [
    "<br>\n",
    "\n",
    "---\n",
    "\n",
    "<br>\n",
    "\n",
    "\n",
    "\n",
    "\n"
   ]
  },
  {
   "cell_type": "markdown",
   "metadata": {
    "id": "vEwNn0xbEJBW"
   },
   "source": [
    "####<font color=red>Task 3</font>  (3 points)\n",
    "\n",
    "1. Store the writing scores for rows where `lunch` is equal to `\"standard\"` in a variable called `standard`\n",
    "\n",
    "2. Store the writing scores for rows where `lunch` is equal to `\"free/reduced\"` in a variable called `free`\n",
    "\n",
    "3. What are the mean writing scores for these two groups? Are they very different? Explain your answer in complete sentences."
   ]
  },
  {
   "cell_type": "code",
   "execution_count": 3,
   "metadata": {},
   "outputs": [
    {
     "data": {
      "text/html": [
       "70.8232558139535"
      ],
      "text/latex": [
       "70.8232558139535"
      ],
      "text/markdown": [
       "70.8232558139535"
      ],
      "text/plain": [
       "[1] 70.82326"
      ]
     },
     "metadata": {},
     "output_type": "display_data"
    },
    {
     "data": {
      "text/html": [
       "63.0225352112676"
      ],
      "text/latex": [
       "63.0225352112676"
      ],
      "text/markdown": [
       "63.0225352112676"
      ],
      "text/plain": [
       "[1] 63.02254"
      ]
     },
     "metadata": {},
     "output_type": "display_data"
    }
   ],
   "source": [
    "standard = data$writing.score[data$lunch == \"standard\"]\n",
    "free = data$writing.score[data$lunch == \"free/reduced\"]\n",
    "mean(standard)\n",
    "mean(free)"
   ]
  },
  {
   "cell_type": "markdown",
   "metadata": {},
   "source": [
    "The mean writing score of those with standard lunch is 70.82 and mean for those with free/reduced lunch is 63.02. It is possible that this difference is statistically significant however a test would need to be conducted to conclude that the difference is not accounted for by noise."
   ]
  },
  {
   "cell_type": "markdown",
   "metadata": {
    "id": "Reh-L9RrOptc"
   },
   "source": [
    "<br>\n",
    "\n",
    "---\n",
    "\n",
    "<br>\n",
    "\n",
    "\n",
    "\n",
    "\n"
   ]
  },
  {
   "cell_type": "markdown",
   "metadata": {
    "id": "uCoHHDR9OiI_"
   },
   "source": [
    "####<font color=red>Task 4</font>  (2 points)\n",
    "\n",
    "1.  Plot histograms of the two groups using the code below\n",
    "```\n",
    "hist_standard <- hist(standard, plot = FALSE)\n",
    "hist_free     <- hist(free, plot = FALSE)\n",
    "```\n",
    "```\n",
    "plot(hist_standard, \n",
    "     col = rgb(0, 0, 1, 0.5),\n",
    "     xlim = c(0, 100),\n",
    "     xlab = \"Writing Score\",\n",
    "     main = \"Histogram of Writing Score \\n blue = standard, red = free\")\n",
    "plot(hist_free, \n",
    "     add = TRUE,\n",
    "     xlim = c(0, 100),\n",
    "     col = rgb(1, 0, 0, 0.5))\n",
    "```\n",
    "\n",
    "<br>\n",
    "\n",
    "2. Are the distributions of writing for `standard` and `free` very different? Explain in the context of mean, median, and mode of the distributions.\n"
   ]
  },
  {
   "cell_type": "code",
   "execution_count": 4,
   "metadata": {},
   "outputs": [
    {
     "data": {
      "image/png": "[encoded data removed]",
      "text/plain": [
       "Plot with title \"Histogram of Writing Score \n",
       " blue = standard, red = free\""
      ]
     },
     "metadata": {
      "image/png": {
       "height": 420,
       "width": 420
      }
     },
     "output_type": "display_data"
    }
   ],
   "source": [
    "hist_standard <- hist(standard, plot = FALSE)\n",
    "hist_free     <- hist(free, plot = FALSE)\n",
    "plot(hist_standard, \n",
    "     col = rgb(0, 0, 1, 0.5),\n",
    "     xlim = c(0, 100),\n",
    "     xlab = \"Writing Score\",\n",
    "     main = \"Histogram of Writing Score \\n blue = standard, red = free\")\n",
    "plot(hist_free, \n",
    "     add = TRUE,\n",
    "     xlim = c(0, 100),\n",
    "     col = rgb(1, 0, 0, 0.5))"
   ]
  },
  {
   "cell_type": "markdown",
   "metadata": {},
   "source": [
    "The distributions of mean writing score according to the factors of lunch being standard and free/reduced appear to be different. The standard group has a greater mode between 70-80 whereas free/reduced is 50-60. Standard also has a greater mean of 70.8 whereas free/reduced is 63.02. This median of both standard and free/reduced appear to lie between 60-70."
   ]
  },
  {
   "cell_type": "markdown",
   "metadata": {
    "id": "Ty_FrrI9PSCk"
   },
   "source": [
    "<br>\n",
    "\n",
    "---\n",
    "\n",
    "<br>\n",
    "\n",
    "\n",
    "\n",
    "\n"
   ]
  },
  {
   "cell_type": "markdown",
   "metadata": {
    "id": "qDa2h_u8apaf"
   },
   "source": [
    "####<font color=red>Task 5</font>  (4 points)\n",
    "\n",
    "You collect data on the calorie intake of incoming college freshman. You find that the data approximately follow a normal distribution with mean $\\mu = 2200$ calories and standard deviation $\\sigma = 500$ calories.\n",
    "\n",
    "1. Using R as a calculator, find the interval that contains the middle ~68% of the data. Explain your answer in a complete sentence.\n",
    "\n",
    "2. Using R as a calculator, find the interval that contains the middle ~95% of the data. Explain your answer in a complete sentence.\n",
    "\n",
    "3. Using R as a calculator, find the interval that contains the middle ~99.7% of the data. Explain your answer in a complete sentence.\n",
    "\n",
    "4. 2.5% of students fall above a certain number of calories. What is this number? Explain your answer in a complete sentence."
   ]
  },
  {
   "cell_type": "code",
   "execution_count": 5,
   "metadata": {},
   "outputs": [
    {
     "name": "stdout",
     "output_type": "stream",
     "text": [
      "[1] 1702.771 2697.229\n",
      "[1] 1220.018 3179.982\n",
      "[1]  716.131 3683.869\n",
      "[1] 3179.982\n"
     ]
    }
   ],
   "source": [
    "print(qnorm(c(0.16, 0.84), mean = 2200, sd = 500))\n",
    "print(qnorm(c(0.025, 0.975), mean = 2200, sd = 500))\n",
    "print(qnorm(c(0.0015, 0.9985), mean = 2200, sd = 500))\n",
    "print(qnorm(0.975, mean = 2200, sd = 500))\n"
   ]
  },
  {
   "cell_type": "markdown",
   "metadata": {},
   "source": [
    "1. 68% of the data is contained between the interval (1702.8, 2697.2) calories.\n",
    "2. 95% of the data is contained between the interval (1220, 3180.0) calories.\n",
    "3. 99.7% of the data is contained between the interval (716.1, 3683.9) calories.\n",
    "4. 2.5% of students fall above 3180.0 (rounded) calories."
   ]
  },
  {
   "cell_type": "markdown",
   "metadata": {
    "id": "3SNaPdzdaNLi"
   },
   "source": [
    "<br>\n",
    "\n",
    "---\n",
    "\n",
    "<br>\n",
    "\n",
    "\n",
    "\n",
    "\n"
   ]
  },
  {
   "cell_type": "markdown",
   "metadata": {
    "id": "HT3Cs3UAaNMB"
   },
   "source": [
    "####<font color=red>Task 6</font>  (6 points)\n",
    "\n",
    "Find a histogram online that interests you.\n",
    "\n",
    "1. Include the link of the histogram you selected in a text cell.\n",
    "\n",
    "2. What is the x-axis? Explain your answer in complete sentences.\n",
    "\n",
    "3. What is the y-axis? Explain your answer in complete sentences.\n",
    "\n",
    "4. What is the minimum and maximum of the data? range? Explain your answer in complete sentences.\n",
    "\n",
    "5. Is the distribution left skewed? right skewed? symmetric? Explain your answer in complete sentences.\n",
    "\n",
    "6. Is the mean greater than or less than the median? Explain your answer in complete sentences."
   ]
  },
  {
   "cell_type": "markdown",
   "metadata": {},
   "source": [
    "1. Link: https://www.reddit.com/r/dataisbeautiful/comments/4ffduk/i_collected_pennies_for_7_years_i_made_a/\n",
    "   The following is a histogram of pennies by year they were made that someone collected. \n",
    "2. The x-axis represents the year of the penny. Each bin represents a year.\n",
    "3. The y-axis represents the frequency that a given year occurs. The number of pennys made that year.\n",
    "4. The minimum is 1940 and max is 2016.\n",
    "5. The distribution is left skewed and not symmetric.\n",
    "6. Because the distribution is left skewed, the mean would be less than the median because the mean is more influenced by outliers."
   ]
  },
  {
   "cell_type": "code",
   "execution_count": null,
   "metadata": {},
   "outputs": [],
   "source": []
  }
 ],
 "metadata": {
  "colab": {
   "collapsed_sections": [],
   "name": "Homework4_LASTNAME_FIRSTNAME.ipynb",
   "provenance": [
    {
     "file_id": "1GSNhUwEVzRoeXaygW8UJtUipRT1sQ3G0",
     "timestamp": 1609981963177
    },
    {
     "file_id": "1BYnnbqeyZAlYnxR9IHC8tpW07EpDeyKR",
     "timestamp": 1609974285905
    }
   ]
  },
  "kernelspec": {
   "display_name": "R 4.3.3",
   "language": "R",
   "name": "ir433"
  },
  "language_info": {
   "codemirror_mode": "r",
   "file_extension": ".r",
   "mimetype": "text/x-r-source",
   "name": "R",
   "pygments_lexer": "r",
   "version": "4.3.3"
  }
 },
 "nbformat": 4,
 "nbformat_minor": 4
}
