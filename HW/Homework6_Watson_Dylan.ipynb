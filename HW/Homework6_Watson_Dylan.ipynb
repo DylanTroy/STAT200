{
 "cells": [
  {
   "cell_type": "markdown",
   "metadata": {
    "id": "gtETsh5j8vHw"
   },
   "source": [
    "# **Homework 6 (30 points)**\n",
    "\n",
    "#### **Dylan Watson**\n"
   ]
  },
  {
   "cell_type": "markdown",
   "metadata": {
    "id": "hVSLQqLnfUUD"
   },
   "source": [
    "As part of this assignment, I would like you to complete Task 4 of the project.\n",
    "\n",
    "<br>\n",
    "\n",
    "---\n",
    "\n",
    "<br>\n",
    "\n",
    "Please follow the directions below carefully:\n",
    "\n",
    "- <font color=red>Tasks</font> indicated in red must be completed to receive credit\n",
    "- Include all code for your work\n",
    "- Comment all code using the `#`. This is a must!\n",
    "- Include markdown cells with written answers explaining your work when prompted\n",
    "- **NOTE: Your completed project must be submitted to Canvas as a .ipynb file by the assigned due date**\n",
    "\n"
   ]
  },
  {
   "cell_type": "markdown",
   "metadata": {
    "id": "iAq-0mHOk47g"
   },
   "source": [
    "<br>\n",
    "\n",
    "---\n",
    "\n",
    "<br>\n",
    "\n",
    "\n",
    "\n",
    "\n"
   ]
  },
  {
   "cell_type": "code",
   "execution_count": 1,
   "metadata": {},
   "outputs": [
    {
     "name": "stderr",
     "output_type": "stream",
     "text": [
      "Installing package into 'C:/Users/dylan/AppData/Local/R/win-library/4.3'\n",
      "(as 'lib' is unspecified)\n",
      "\n"
     ]
    },
    {
     "name": "stdout",
     "output_type": "stream",
     "text": [
      "\n",
      "  There is a binary version available but the source version is later:\n",
      "        binary source needs_compilation\n",
      "ggplot2  3.5.1  3.5.2             FALSE\n",
      "\n"
     ]
    },
    {
     "name": "stderr",
     "output_type": "stream",
     "text": [
      "installing the source package 'ggplot2'\n",
      "\n",
      "\n"
     ]
    }
   ],
   "source": [
    "install.packages(\"ggplot2\")"
   ]
  },
  {
   "cell_type": "markdown",
   "metadata": {
    "id": "ARFdaNITmap5"
   },
   "source": [
    "## Data\n",
    "\n",
    "Data for the project is available [here](https://raw.githubusercontent.com/khasenst/datasets_teaching/main/copd_data_project.csv). A data dictionary describing the meaning of each of the variables in the dataset is available in the Project module in Canvas."
   ]
  },
  {
   "cell_type": "code",
   "execution_count": 2,
   "metadata": {},
   "outputs": [
    {
     "data": {
      "text/html": [
       "<table class=\"dataframe\">\n",
       "<caption>A data.frame: 6 × 35</caption>\n",
       "<thead>\n",
       "\t<tr><th></th><th scope=col>sid</th><th scope=col>visit_year</th><th scope=col>visit_date</th><th scope=col>visit_age</th><th scope=col>gender</th><th scope=col>race</th><th scope=col>height_cm</th><th scope=col>weight_kg</th><th scope=col>sysBP</th><th scope=col>diasBP</th><th scope=col>⋯</th><th scope=col>total_lung_capacity</th><th scope=col>pct_emphysema</th><th scope=col>functional_residual_capacity</th><th scope=col>pct_gastrapping</th><th scope=col>insp_meanatt</th><th scope=col>exp_meanatt</th><th scope=col>FEV1_FVC_ratio</th><th scope=col>FEV1</th><th scope=col>FVC</th><th scope=col>FEV1_phase2</th></tr>\n",
       "\t<tr><th></th><th scope=col>&lt;chr&gt;</th><th scope=col>&lt;int&gt;</th><th scope=col>&lt;chr&gt;</th><th scope=col>&lt;dbl&gt;</th><th scope=col>&lt;chr&gt;</th><th scope=col>&lt;chr&gt;</th><th scope=col>&lt;dbl&gt;</th><th scope=col>&lt;dbl&gt;</th><th scope=col>&lt;int&gt;</th><th scope=col>&lt;int&gt;</th><th scope=col>⋯</th><th scope=col>&lt;dbl&gt;</th><th scope=col>&lt;dbl&gt;</th><th scope=col>&lt;dbl&gt;</th><th scope=col>&lt;dbl&gt;</th><th scope=col>&lt;dbl&gt;</th><th scope=col>&lt;dbl&gt;</th><th scope=col>&lt;dbl&gt;</th><th scope=col>&lt;dbl&gt;</th><th scope=col>&lt;dbl&gt;</th><th scope=col>&lt;dbl&gt;</th></tr>\n",
       "</thead>\n",
       "<tbody>\n",
       "\t<tr><th scope=row>1</th><td>10005Q</td><td>2008</td><td>1/15/2008</td><td>54.5</td><td>Female</td><td>White                    </td><td>159.9</td><td> 73.0</td><td>130</td><td>80</td><td>⋯</td><td>5.6636</td><td> 0.926851</td><td> 2.4766</td><td> 6.80077</td><td>-830.343</td><td>-650.526</td><td>0.77</td><td>2.921</td><td>3.805</td><td>2.622</td></tr>\n",
       "\t<tr><th scope=row>3</th><td>10010J</td><td>2008</td><td>1/15/2008</td><td>65.9</td><td>Female</td><td>White                    </td><td>162.1</td><td> 62.8</td><td> 96</td><td>63</td><td>⋯</td><td>5.1960</td><td> 1.683760</td><td> 3.8993</td><td>41.34930</td><td>-833.429</td><td>-789.595</td><td>0.53</td><td>1.008</td><td>1.909</td><td>1.087</td></tr>\n",
       "\t<tr><th scope=row>4</th><td>10015T</td><td>2008</td><td>2/15/2008</td><td>59.6</td><td>Male  </td><td>White                    </td><td>182.9</td><td>110.0</td><td>142</td><td>88</td><td>⋯</td><td>6.3971</td><td> 9.330450</td><td>-1.0000</td><td>-1.00000</td><td>-841.315</td><td>  -1.000</td><td>0.51</td><td>1.906</td><td>3.732</td><td>2.002</td></tr>\n",
       "\t<tr><th scope=row>5</th><td>10017X</td><td>2008</td><td>6/15/2008</td><td>67.5</td><td>Male  </td><td>White                    </td><td>179.1</td><td> 83.0</td><td>106</td><td>72</td><td>⋯</td><td>7.8935</td><td>36.262400</td><td> 4.1043</td><td>46.17690</td><td>-887.947</td><td>-792.397</td><td>0.57</td><td>2.748</td><td>4.827</td><td>2.178</td></tr>\n",
       "\t<tr><th scope=row>6</th><td>10022Q</td><td>2008</td><td>2/15/2008</td><td>69.8</td><td>Female</td><td>White                    </td><td>158.8</td><td> 78.0</td><td>122</td><td>78</td><td>⋯</td><td>5.1016</td><td>30.484400</td><td>-1.0000</td><td>-1.00000</td><td>-865.608</td><td>  -1.000</td><td>0.53</td><td>1.076</td><td>2.047</td><td>0.924</td></tr>\n",
       "\t<tr><th scope=row>7</th><td>10025W</td><td>2008</td><td>2/15/2008</td><td>68.9</td><td>Male  </td><td>Black or African American</td><td>168.9</td><td> 51.0</td><td>120</td><td>60</td><td>⋯</td><td>6.4421</td><td>51.156200</td><td>-1.0000</td><td>-1.00000</td><td>-906.021</td><td>  -1.000</td><td>0.27</td><td>0.718</td><td>2.697</td><td>0.596</td></tr>\n",
       "</tbody>\n",
       "</table>\n"
      ],
      "text/latex": [
       "A data.frame: 6 × 35\n",
       "\\begin{tabular}{r|lllllllllllllllllllll}\n",
       "  & sid & visit\\_year & visit\\_date & visit\\_age & gender & race & height\\_cm & weight\\_kg & sysBP & diasBP & ⋯ & total\\_lung\\_capacity & pct\\_emphysema & functional\\_residual\\_capacity & pct\\_gastrapping & insp\\_meanatt & exp\\_meanatt & FEV1\\_FVC\\_ratio & FEV1 & FVC & FEV1\\_phase2\\\\\n",
       "  & <chr> & <int> & <chr> & <dbl> & <chr> & <chr> & <dbl> & <dbl> & <int> & <int> & ⋯ & <dbl> & <dbl> & <dbl> & <dbl> & <dbl> & <dbl> & <dbl> & <dbl> & <dbl> & <dbl>\\\\\n",
       "\\hline\n",
       "\t1 & 10005Q & 2008 & 1/15/2008 & 54.5 & Female & White                     & 159.9 &  73.0 & 130 & 80 & ⋯ & 5.6636 &  0.926851 &  2.4766 &  6.80077 & -830.343 & -650.526 & 0.77 & 2.921 & 3.805 & 2.622\\\\\n",
       "\t3 & 10010J & 2008 & 1/15/2008 & 65.9 & Female & White                     & 162.1 &  62.8 &  96 & 63 & ⋯ & 5.1960 &  1.683760 &  3.8993 & 41.34930 & -833.429 & -789.595 & 0.53 & 1.008 & 1.909 & 1.087\\\\\n",
       "\t4 & 10015T & 2008 & 2/15/2008 & 59.6 & Male   & White                     & 182.9 & 110.0 & 142 & 88 & ⋯ & 6.3971 &  9.330450 & -1.0000 & -1.00000 & -841.315 &   -1.000 & 0.51 & 1.906 & 3.732 & 2.002\\\\\n",
       "\t5 & 10017X & 2008 & 6/15/2008 & 67.5 & Male   & White                     & 179.1 &  83.0 & 106 & 72 & ⋯ & 7.8935 & 36.262400 &  4.1043 & 46.17690 & -887.947 & -792.397 & 0.57 & 2.748 & 4.827 & 2.178\\\\\n",
       "\t6 & 10022Q & 2008 & 2/15/2008 & 69.8 & Female & White                     & 158.8 &  78.0 & 122 & 78 & ⋯ & 5.1016 & 30.484400 & -1.0000 & -1.00000 & -865.608 &   -1.000 & 0.53 & 1.076 & 2.047 & 0.924\\\\\n",
       "\t7 & 10025W & 2008 & 2/15/2008 & 68.9 & Male   & Black or African American & 168.9 &  51.0 & 120 & 60 & ⋯ & 6.4421 & 51.156200 & -1.0000 & -1.00000 & -906.021 &   -1.000 & 0.27 & 0.718 & 2.697 & 0.596\\\\\n",
       "\\end{tabular}\n"
      ],
      "text/markdown": [
       "\n",
       "A data.frame: 6 × 35\n",
       "\n",
       "| <!--/--> | sid &lt;chr&gt; | visit_year &lt;int&gt; | visit_date &lt;chr&gt; | visit_age &lt;dbl&gt; | gender &lt;chr&gt; | race &lt;chr&gt; | height_cm &lt;dbl&gt; | weight_kg &lt;dbl&gt; | sysBP &lt;int&gt; | diasBP &lt;int&gt; | ⋯ ⋯ | total_lung_capacity &lt;dbl&gt; | pct_emphysema &lt;dbl&gt; | functional_residual_capacity &lt;dbl&gt; | pct_gastrapping &lt;dbl&gt; | insp_meanatt &lt;dbl&gt; | exp_meanatt &lt;dbl&gt; | FEV1_FVC_ratio &lt;dbl&gt; | FEV1 &lt;dbl&gt; | FVC &lt;dbl&gt; | FEV1_phase2 &lt;dbl&gt; |\n",
       "|---|---|---|---|---|---|---|---|---|---|---|---|---|---|---|---|---|---|---|---|---|---|\n",
       "| 1 | 10005Q | 2008 | 1/15/2008 | 54.5 | Female | White                     | 159.9 |  73.0 | 130 | 80 | ⋯ | 5.6636 |  0.926851 |  2.4766 |  6.80077 | -830.343 | -650.526 | 0.77 | 2.921 | 3.805 | 2.622 |\n",
       "| 3 | 10010J | 2008 | 1/15/2008 | 65.9 | Female | White                     | 162.1 |  62.8 |  96 | 63 | ⋯ | 5.1960 |  1.683760 |  3.8993 | 41.34930 | -833.429 | -789.595 | 0.53 | 1.008 | 1.909 | 1.087 |\n",
       "| 4 | 10015T | 2008 | 2/15/2008 | 59.6 | Male   | White                     | 182.9 | 110.0 | 142 | 88 | ⋯ | 6.3971 |  9.330450 | -1.0000 | -1.00000 | -841.315 |   -1.000 | 0.51 | 1.906 | 3.732 | 2.002 |\n",
       "| 5 | 10017X | 2008 | 6/15/2008 | 67.5 | Male   | White                     | 179.1 |  83.0 | 106 | 72 | ⋯ | 7.8935 | 36.262400 |  4.1043 | 46.17690 | -887.947 | -792.397 | 0.57 | 2.748 | 4.827 | 2.178 |\n",
       "| 6 | 10022Q | 2008 | 2/15/2008 | 69.8 | Female | White                     | 158.8 |  78.0 | 122 | 78 | ⋯ | 5.1016 | 30.484400 | -1.0000 | -1.00000 | -865.608 |   -1.000 | 0.53 | 1.076 | 2.047 | 0.924 |\n",
       "| 7 | 10025W | 2008 | 2/15/2008 | 68.9 | Male   | Black or African American | 168.9 |  51.0 | 120 | 60 | ⋯ | 6.4421 | 51.156200 | -1.0000 | -1.00000 | -906.021 |   -1.000 | 0.27 | 0.718 | 2.697 | 0.596 |\n",
       "\n"
      ],
      "text/plain": [
       "  sid    visit_year visit_date visit_age gender race                     \n",
       "1 10005Q 2008       1/15/2008  54.5      Female White                    \n",
       "3 10010J 2008       1/15/2008  65.9      Female White                    \n",
       "4 10015T 2008       2/15/2008  59.6      Male   White                    \n",
       "5 10017X 2008       6/15/2008  67.5      Male   White                    \n",
       "6 10022Q 2008       2/15/2008  69.8      Female White                    \n",
       "7 10025W 2008       2/15/2008  68.9      Male   Black or African American\n",
       "  height_cm weight_kg sysBP diasBP ⋯ total_lung_capacity pct_emphysema\n",
       "1 159.9      73.0     130   80     ⋯ 5.6636               0.926851    \n",
       "3 162.1      62.8      96   63     ⋯ 5.1960               1.683760    \n",
       "4 182.9     110.0     142   88     ⋯ 6.3971               9.330450    \n",
       "5 179.1      83.0     106   72     ⋯ 7.8935              36.262400    \n",
       "6 158.8      78.0     122   78     ⋯ 5.1016              30.484400    \n",
       "7 168.9      51.0     120   60     ⋯ 6.4421              51.156200    \n",
       "  functional_residual_capacity pct_gastrapping insp_meanatt exp_meanatt\n",
       "1  2.4766                       6.80077        -830.343     -650.526   \n",
       "3  3.8993                      41.34930        -833.429     -789.595   \n",
       "4 -1.0000                      -1.00000        -841.315       -1.000   \n",
       "5  4.1043                      46.17690        -887.947     -792.397   \n",
       "6 -1.0000                      -1.00000        -865.608       -1.000   \n",
       "7 -1.0000                      -1.00000        -906.021       -1.000   \n",
       "  FEV1_FVC_ratio FEV1  FVC   FEV1_phase2\n",
       "1 0.77           2.921 3.805 2.622      \n",
       "3 0.53           1.008 1.909 1.087      \n",
       "4 0.51           1.906 3.732 2.002      \n",
       "5 0.57           2.748 4.827 2.178      \n",
       "6 0.53           1.076 2.047 0.924      \n",
       "7 0.27           0.718 2.697 0.596      "
      ]
     },
     "metadata": {},
     "output_type": "display_data"
    }
   ],
   "source": [
    "url = \"https://raw.githubusercontent.com/khasenst/datasets_teaching/main/copd_data_project.csv\"\n",
    "copd = read.csv(\"https://raw.githubusercontent.com/khasenst/datasets_teaching/main/copd_data_project.csv\")\n",
    "dat1 = na.omit(copd)\n",
    "head(dat1)"
   ]
  },
  {
   "cell_type": "markdown",
   "metadata": {
    "id": "JnFw01WcmX4_"
   },
   "source": [
    "<br>\n",
    "\n",
    "---\n",
    "\n",
    "<br>\n",
    "\n",
    "\n",
    "\n",
    "\n"
   ]
  },
  {
   "cell_type": "markdown",
   "metadata": {
    "id": "pysEPMTuhyZs"
   },
   "source": [
    "## Introduction\n",
    "\n",
    "Chronic obstructive pulmonary disease (COPD) affects over 16 million Americans and is the fourth leading cause of death in the United States behind heart disease, cancer, and accidental death. While COPD can result from various toxic inhalations or asthma, it is most commonly associated with cigarette smoking.\n",
    "\n",
    "<br>\n",
    "\n",
    "COPD severity is typically measured by a device called a spirometer. Patients forcefully exhale into the device and the volume of air exhaled is used as a measure for the severity of disease (less air exhaled $\\Rightarrow$ worse disease). Data collected by the COPDGene research group includes spirometry data on thousands of research participants.\n",
    "\n",
    "<br>\n",
    "\n",
    "Spirometry measures in the dataset:\n",
    "* The forced expiratory volume (`FEV1`) is the volume of air exhaled in 1 second\n",
    "* The forced vital capacity (`FVC`) is the total volume of air exhaled after a full breath\n",
    "* `FEV1_FVC_ratio` is the ratio between `FEV1` and `FVC` (smaller $\\Rightarrow$ worse disease)\n",
    "* `FEV1_phase2` is the `FEV1` of research participants 5 years later\n",
    "\n",
    "<br>\n",
    "\n",
    "You overall task in this project is to analyze the relationship between FEV1 at follow-up `FEV1_phase2` and other variables in the dataset. The project has been organized into a series of tasks to assist you with your analysis organization."
   ]
  },
  {
   "cell_type": "markdown",
   "metadata": {
    "id": "sn_ZvQJyk0fh"
   },
   "source": [
    "<br>\n",
    "\n",
    "---\n",
    "\n",
    "<br>\n",
    "\n",
    "\n",
    "\n",
    "\n"
   ]
  },
  {
   "cell_type": "markdown",
   "metadata": {
    "id": "MfKT4gy91QKV"
   },
   "source": [
    "####<font color=red>Organized</font> (1 points)\n",
    "* Answers should be organized in the following format for organization and readability\n",
    "\n",
    "<br>\n",
    "\n",
    "```\n",
    "# 1.\n",
    "This will be the code block to answer the first part of a task\n",
    "```\n",
    "\n",
    "1. This will be the text answer/explanation (if prompted) for the first task\n",
    "\n",
    "```\n",
    "# 2.\n",
    "This will be the code block to answer the second part of a task in a separate code cell\n",
    "```\n",
    "\n",
    "2. This will be the text answer/explanation (if prompted) for the second task\n",
    "\n",
    "<br>\n",
    "\n",
    "Continue this format for the remaining subtasks\n"
   ]
  },
  {
   "cell_type": "markdown",
   "metadata": {
    "id": "YfKhJv3Q1PBh"
   },
   "source": [
    "<br>\n",
    "\n",
    "---\n",
    "\n",
    "<br>\n",
    "\n",
    "\n",
    "\n",
    "\n"
   ]
  },
  {
   "cell_type": "markdown",
   "metadata": {
    "id": "iFWXkIsn7zZj"
   },
   "source": [
    "####<font color=red>Task 1 (Task 4 of Project)</font> (9 points)\n",
    "\n",
    "1. Using `dat1` from Task 1.1 of the project, create a boxplot to visualize the relationship between `FEV1_phase2` and `smoking_status`.\n",
    "2. Based on the boxplot, which group tends to have better breathing capacity?\n",
    "3. Select rows in `dat1` corresponding to a `smoking_status` of `Current smoker` or `Former smoker`. Create a 95% confidence interval to determine if average FEV1 is different between current or former smokers. Explain your answer in complete sentences.\n",
    "\n",
    "Note that `dat1` has the NAs omitted from the variable `FEV1_phase2` as instructed in Task 1.1 of the project."
   ]
  },
  {
   "cell_type": "code",
   "execution_count": 3,
   "metadata": {},
   "outputs": [
    {
     "data": {
      "image/png": "[encoded data removed]",
      "text/plain": [
       "plot without title"
      ]
     },
     "metadata": {
      "image/png": {
       "height": 420,
       "width": 420
      }
     },
     "output_type": "display_data"
    }
   ],
   "source": [
    "library(ggplot2)\n",
    "\n",
    "ggplot(data = dat1, mapping = aes(x = smoking_status, y = FEV1_phase2, fill = smoking_status) ) +\n",
    "       geom_boxplot()"
   ]
  },
  {
   "cell_type": "markdown",
   "metadata": {},
   "source": [
    "Looking at the boxplot of forced expiratory volume at the 5 year follow-up we see volume measurements at 3 different factor levels. The group with by far the greatest FEV1_phase2 is the never smoked factor at a mean value of ~2.6. This should be obvious as smoking has negative impacts on cardiovascular health. Both current smoker and former smoker lag behind in FEV1_phase2 volume at around ~2-2.2. Interestingly, one might expect former smokers to have greater expiratory volume as their lungs recover from the damage done by smoking when compared to current smokers. However, I theorize that former smokers are likely much greater in age than current smokers and thus have already suffered permanent long term health impacts that current smokers are still undergoing. When controlled by age, we may see different results in these two categories. "
   ]
  },
  {
   "cell_type": "markdown",
   "metadata": {
    "id": "3IIpgatI3tCV"
   },
   "source": [
    "<br>\n",
    "\n",
    "---\n",
    "\n",
    "<br>\n",
    "\n",
    "\n",
    "\n",
    "\n"
   ]
  },
  {
   "cell_type": "markdown",
   "metadata": {
    "id": "uTE55FDFqjO1"
   },
   "source": [
    "####<font color=red>Task 2</font> (5 points)\n",
    "\n",
    "1. Find a visualization online that interests. The visualization must include multiple dimensions of data (e.g., scatterplot with shape, color, annotation or maps with shape, color, annotation etc.). Paste the link in a text box.\n",
    "2. Describe why the visualization interests you in a paragraph comprising complete sentences. Your answer should be in the context of the real-world application of the visualization.\n"
   ]
  },
  {
   "cell_type": "markdown",
   "metadata": {
    "id": "tc808tSC7EC1"
   },
   "source": [
    "<br>\n",
    "\n",
    "---\n",
    "\n",
    "<br>\n",
    "\n",
    "\n",
    "\n",
    "\n"
   ]
  },
  {
   "cell_type": "markdown",
   "metadata": {
    "id": "lwddVXxfov3W"
   },
   "source": [
    "####<font color=red>Task 3</font> (5 points)\n",
    "\n",
    "1. Find a poor data visualization online. You can simply search \"bad data visualization\" in your browser. Paste the link in a text box.\n",
    "2. Describe why the visualization is poor in complete sentences.\n"
   ]
  },
  {
   "cell_type": "markdown",
   "metadata": {},
   "source": [
    "1. <br>\n",
    "Link: https://www.oldstreetsolutions.com/good-and-bad-data-visualization <br>\n",
    "(The first pie chart of emojis) <br>\n",
    "2. <br>\n",
    "This pie chart appears to be a chart of the relative usage of emojis each represented as a percent of total emoji usage. However, this visualization of the data is poor. There are so many emojis listed that is is impossible to tell what a majority of the emojis are. Maybe it would be useful to combine emojis into broader categories to reduce the total number of categories in the pie chart."
   ]
  },
  {
   "cell_type": "markdown",
   "metadata": {
    "id": "qk2jZHSocWcW"
   },
   "source": [
    "<br>\n",
    "\n",
    "---\n",
    "\n",
    "<br>\n",
    "\n",
    "\n",
    "\n",
    "\n"
   ]
  },
  {
   "cell_type": "markdown",
   "metadata": {
    "id": "O230kKWucWco"
   },
   "source": [
    "####<font color=red>Task 4</font> (10 points)\n",
    "\n",
    "1. Include the visualization you created in class from the maps lecture (from the police killings dataset). The plot must include at least two dimensions (shapes, colors, size, text, etc).\n",
    "2. Interpret your visualization using all of the dimensions you included in the graph.\n"
   ]
  },
  {
   "cell_type": "code",
   "execution_count": 4,
   "metadata": {},
   "outputs": [
    {
     "name": "stderr",
     "output_type": "stream",
     "text": [
      "Installing package into 'C:/Users/dylan/AppData/Local/R/win-library/4.3'\n",
      "(as 'lib' is unspecified)\n",
      "\n"
     ]
    },
    {
     "name": "stdout",
     "output_type": "stream",
     "text": [
      "\n",
      "  There is a binary version available but the source version is later:\n",
      "      binary source needs_compilation\n",
      "maps 3.4.2.1  3.4.3              TRUE\n",
      "\n",
      "  Binaries will be installed\n",
      "package 'maps' successfully unpacked and MD5 sums checked\n",
      "\n",
      "The downloaded binary packages are in\n",
      "\tC:\\Users\\dylan\\AppData\\Local\\Temp\\RtmpkHHEKR\\downloaded_packages\n"
     ]
    },
    {
     "name": "stderr",
     "output_type": "stream",
     "text": [
      "Installing package into 'C:/Users/dylan/AppData/Local/R/win-library/4.3'\n",
      "(as 'lib' is unspecified)\n",
      "\n"
     ]
    },
    {
     "name": "stdout",
     "output_type": "stream",
     "text": [
      "\n",
      "  There is a binary version available but the source version is later:\n",
      "        binary source needs_compilation\n",
      "mapproj 1.2.11 1.2.12              TRUE\n",
      "\n",
      "  Binaries will be installed\n",
      "package 'mapproj' successfully unpacked and MD5 sums checked\n",
      "\n",
      "The downloaded binary packages are in\n",
      "\tC:\\Users\\dylan\\AppData\\Local\\Temp\\RtmpkHHEKR\\downloaded_packages\n"
     ]
    }
   ],
   "source": [
    "install.packages(\"maps\")\n",
    "install.packages(\"mapproj\")\n",
    "# Could not install packages?"
   ]
  },
  {
   "cell_type": "code",
   "execution_count": 5,
   "metadata": {},
   "outputs": [
    {
     "name": "stderr",
     "output_type": "stream",
     "text": [
      "Loading required package: maps\n",
      "\n"
     ]
    }
   ],
   "source": [
    "library(mapproj)\n",
    "library(maps)"
   ]
  },
  {
   "cell_type": "code",
   "execution_count": null,
   "metadata": {},
   "outputs": [],
   "source": []
  }
 ],
 "metadata": {
  "colab": {
   "provenance": [
    {
     "file_id": "1GSNhUwEVzRoeXaygW8UJtUipRT1sQ3G0",
     "timestamp": 1609981963177
    },
    {
     "file_id": "1BYnnbqeyZAlYnxR9IHC8tpW07EpDeyKR",
     "timestamp": 1609974285905
    }
   ]
  },
  "kernelspec": {
   "display_name": "R 4.3.3",
   "language": "R",
   "name": "ir433"
  },
  "language_info": {
   "codemirror_mode": "r",
   "file_extension": ".r",
   "mimetype": "text/x-r-source",
   "name": "R",
   "pygments_lexer": "r",
   "version": "4.3.3"
  }
 },
 "nbformat": 4,
 "nbformat_minor": 4
}
