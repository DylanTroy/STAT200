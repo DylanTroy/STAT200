{
 "cells": [
  {
   "cell_type": "markdown",
   "metadata": {
    "id": "gtETsh5j8vHw"
   },
   "source": [
    "# **Homework 7 (15 points)**\n",
    "\n",
    "#### **Dylan Watson**\n"
   ]
  },
  {
   "cell_type": "markdown",
   "metadata": {
    "id": "hVSLQqLnfUUD"
   },
   "source": [
    "As part of this assignment, I would like you to complete Task 4 of the project.\n",
    "\n",
    "<br>\n",
    "\n",
    "---\n",
    "\n",
    "<br>\n",
    "\n",
    "Please follow the directions below carefully:\n",
    "\n",
    "- <font color=red>Tasks</font> indicated in red must be completed to receive credit\n",
    "- Include all code for your work\n",
    "- Comment all code using the `#`. This is a must!\n",
    "- Include markdown cells with written answers explaining your work when prompted\n",
    "- **NOTE: Your completed project must be submitted to Canvas as a .ipynb file by the assigned due date**\n",
    "\n"
   ]
  },
  {
   "cell_type": "markdown",
   "metadata": {
    "id": "iAq-0mHOk47g"
   },
   "source": [
    "<br>\n",
    "\n",
    "---\n",
    "\n",
    "<br>\n",
    "\n",
    "\n",
    "\n",
    "\n"
   ]
  },
  {
   "cell_type": "markdown",
   "metadata": {
    "id": "ARFdaNITmap5"
   },
   "source": [
    "## Data\n",
    "\n",
    "Data for the project is available [here](https://raw.githubusercontent.com/khasenst/datasets_teaching/main/copd_data_project.csv). A data dictionary describing the meaning of each of the variables in the dataset is available in the Project module in Canvas."
   ]
  },
  {
   "cell_type": "markdown",
   "metadata": {
    "id": "JnFw01WcmX4_"
   },
   "source": [
    "<br>\n",
    "\n",
    "---\n",
    "\n",
    "<br>\n",
    "\n",
    "\n",
    "\n",
    "\n"
   ]
  },
  {
   "cell_type": "markdown",
   "metadata": {
    "id": "pysEPMTuhyZs"
   },
   "source": [
    "## Introduction\n",
    "\n",
    "Chronic obstructive pulmonary disease (COPD) affects over 16 million Americans and is the fourth leading cause of death in the United States behind heart disease, cancer, and accidental death. While COPD can result from various toxic inhalations or asthma, it is most commonly associated with cigarette smoking. \n",
    "\n",
    "<br>\n",
    "\n",
    "COPD severity is typically measured by a device called a spirometer. Patients forcefully exhale into the device and the volume of air exhaled is used as a measure for the severity of disease (less air exhaled $\\Rightarrow$ worse disease). Data collected by the COPDGene research group includes spirometry data on thousands of research participants.\n",
    "\n",
    "<br>\n",
    "\n",
    "Spirometry measures in the dataset:\n",
    "* The forced expiratory volume (`FEV1`) is the volume of air exhaled in 1 second\n",
    "* The forced vital capacity (`FVC`) is the total volume of air exhaled after a full breath\n",
    "* `FEV1_FVC_ratio` is the ratio between `FEV1` and `FVC` (smaller $\\Rightarrow$ worse disease)\n",
    "* `FEV1_phase2` is the `FEV1` of research participants 5 years later\n",
    "\n",
    "<br>\n",
    "\n",
    "You overall task in this project is to analyze the relationship between FEV1 at follow-up `FEV1_phase2` and other variables in the dataset. The project has been organized into a series of tasks to assist you with your analysis organization."
   ]
  },
  {
   "cell_type": "markdown",
   "metadata": {
    "id": "sn_ZvQJyk0fh"
   },
   "source": [
    "<br>\n",
    "\n",
    "---\n",
    "\n",
    "<br>\n",
    "\n",
    "\n",
    "\n",
    "\n"
   ]
  },
  {
   "cell_type": "markdown",
   "metadata": {
    "id": "MfKT4gy91QKV"
   },
   "source": [
    "####<font color=red>Organized</font> (1 points)\n",
    "* Answers should be organized in the following format for organization and readability\n",
    "\n",
    "<br>\n",
    "\n",
    "```\n",
    "# 1. \n",
    "This will be the code block to answer the first part of a task\n",
    "```\n",
    "\n",
    "1. This will be the text answer/explanation (if prompted) for the first task\n",
    "\n",
    "```\n",
    "# 2. \n",
    "This will be the code block to answer the second part of a task in a separate code cell\n",
    "```\n",
    "\n",
    "2. This will be the text answer/explanation (if prompted) for the second task\n",
    "\n",
    "<br>\n",
    "\n",
    "Continue this format for the remaining subtasks\n"
   ]
  },
  {
   "cell_type": "markdown",
   "metadata": {
    "id": "YfKhJv3Q1PBh"
   },
   "source": [
    "<br>\n",
    "\n",
    "---\n",
    "\n",
    "<br>\n",
    "\n",
    "\n",
    "\n",
    "\n"
   ]
  },
  {
   "cell_type": "markdown",
   "metadata": {
    "id": "x8hY-pZS-jek"
   },
   "source": [
    "####<font color=red>Task 1 (Task 6 of Project)</font> (14 points)\n",
    "\n",
    "1. Using `dat1`, create a scatterplot visualizing the relationship between `FEV1_phase2` (y-axis) and `FEV1` (x-axis). Note that values that are -1 are missing observations. You may ignore this for this class.\n",
    "2. What relationship do you observe based on the scatterplot?\n",
    "3. Fit a simple linear regression model by regressing `FEV1_phase2` (Y) on `FEV1` (X). Summarize the regression.\n",
    "4. Describe the $R^2$ of the regression in the context of its definition.\n",
    "5. What is the slope and its interpretation in the context of `FEV1` and `FEV1_phase2`? Explain in complete sentences\n",
    "6. What is the intercept and its interpretation in the context of `FEV1` and `FEV1_phase2`? Explain in complete sentences\n",
    "7. Use a 95% confidence interval to determine if the slope is significantly less than 1 [Hint: Use `confint()`]. Explain what this means in terms of breathing health of the patients."
   ]
  },
  {
   "cell_type": "code",
   "execution_count": 1,
   "metadata": {},
   "outputs": [
    {
     "data": {
      "text/html": [
       "<table class=\"dataframe\">\n",
       "<caption>A data.frame: 6 × 35</caption>\n",
       "<thead>\n",
       "\t<tr><th></th><th scope=col>sid</th><th scope=col>visit_year</th><th scope=col>visit_date</th><th scope=col>visit_age</th><th scope=col>gender</th><th scope=col>race</th><th scope=col>height_cm</th><th scope=col>weight_kg</th><th scope=col>sysBP</th><th scope=col>diasBP</th><th scope=col>⋯</th><th scope=col>total_lung_capacity</th><th scope=col>pct_emphysema</th><th scope=col>functional_residual_capacity</th><th scope=col>pct_gastrapping</th><th scope=col>insp_meanatt</th><th scope=col>exp_meanatt</th><th scope=col>FEV1_FVC_ratio</th><th scope=col>FEV1</th><th scope=col>FVC</th><th scope=col>FEV1_phase2</th></tr>\n",
       "\t<tr><th></th><th scope=col>&lt;chr&gt;</th><th scope=col>&lt;int&gt;</th><th scope=col>&lt;chr&gt;</th><th scope=col>&lt;dbl&gt;</th><th scope=col>&lt;chr&gt;</th><th scope=col>&lt;chr&gt;</th><th scope=col>&lt;dbl&gt;</th><th scope=col>&lt;dbl&gt;</th><th scope=col>&lt;int&gt;</th><th scope=col>&lt;int&gt;</th><th scope=col>⋯</th><th scope=col>&lt;dbl&gt;</th><th scope=col>&lt;dbl&gt;</th><th scope=col>&lt;dbl&gt;</th><th scope=col>&lt;dbl&gt;</th><th scope=col>&lt;dbl&gt;</th><th scope=col>&lt;dbl&gt;</th><th scope=col>&lt;dbl&gt;</th><th scope=col>&lt;dbl&gt;</th><th scope=col>&lt;dbl&gt;</th><th scope=col>&lt;dbl&gt;</th></tr>\n",
       "</thead>\n",
       "<tbody>\n",
       "\t<tr><th scope=row>1</th><td>10005Q</td><td>2008</td><td>1/15/2008</td><td>54.5</td><td>Female</td><td>White                    </td><td>159.9</td><td> 73.0</td><td>130</td><td>80</td><td>⋯</td><td>5.6636</td><td> 0.926851</td><td> 2.4766</td><td> 6.80077</td><td>-830.343</td><td>-650.526</td><td>0.77</td><td>2.921</td><td>3.805</td><td>2.622</td></tr>\n",
       "\t<tr><th scope=row>3</th><td>10010J</td><td>2008</td><td>1/15/2008</td><td>65.9</td><td>Female</td><td>White                    </td><td>162.1</td><td> 62.8</td><td> 96</td><td>63</td><td>⋯</td><td>5.1960</td><td> 1.683760</td><td> 3.8993</td><td>41.34930</td><td>-833.429</td><td>-789.595</td><td>0.53</td><td>1.008</td><td>1.909</td><td>1.087</td></tr>\n",
       "\t<tr><th scope=row>4</th><td>10015T</td><td>2008</td><td>2/15/2008</td><td>59.6</td><td>Male  </td><td>White                    </td><td>182.9</td><td>110.0</td><td>142</td><td>88</td><td>⋯</td><td>6.3971</td><td> 9.330450</td><td>-1.0000</td><td>-1.00000</td><td>-841.315</td><td>  -1.000</td><td>0.51</td><td>1.906</td><td>3.732</td><td>2.002</td></tr>\n",
       "\t<tr><th scope=row>5</th><td>10017X</td><td>2008</td><td>6/15/2008</td><td>67.5</td><td>Male  </td><td>White                    </td><td>179.1</td><td> 83.0</td><td>106</td><td>72</td><td>⋯</td><td>7.8935</td><td>36.262400</td><td> 4.1043</td><td>46.17690</td><td>-887.947</td><td>-792.397</td><td>0.57</td><td>2.748</td><td>4.827</td><td>2.178</td></tr>\n",
       "\t<tr><th scope=row>6</th><td>10022Q</td><td>2008</td><td>2/15/2008</td><td>69.8</td><td>Female</td><td>White                    </td><td>158.8</td><td> 78.0</td><td>122</td><td>78</td><td>⋯</td><td>5.1016</td><td>30.484400</td><td>-1.0000</td><td>-1.00000</td><td>-865.608</td><td>  -1.000</td><td>0.53</td><td>1.076</td><td>2.047</td><td>0.924</td></tr>\n",
       "\t<tr><th scope=row>7</th><td>10025W</td><td>2008</td><td>2/15/2008</td><td>68.9</td><td>Male  </td><td>Black or African American</td><td>168.9</td><td> 51.0</td><td>120</td><td>60</td><td>⋯</td><td>6.4421</td><td>51.156200</td><td>-1.0000</td><td>-1.00000</td><td>-906.021</td><td>  -1.000</td><td>0.27</td><td>0.718</td><td>2.697</td><td>0.596</td></tr>\n",
       "</tbody>\n",
       "</table>\n"
      ],
      "text/latex": [
       "A data.frame: 6 × 35\n",
       "\\begin{tabular}{r|lllllllllllllllllllll}\n",
       "  & sid & visit\\_year & visit\\_date & visit\\_age & gender & race & height\\_cm & weight\\_kg & sysBP & diasBP & ⋯ & total\\_lung\\_capacity & pct\\_emphysema & functional\\_residual\\_capacity & pct\\_gastrapping & insp\\_meanatt & exp\\_meanatt & FEV1\\_FVC\\_ratio & FEV1 & FVC & FEV1\\_phase2\\\\\n",
       "  & <chr> & <int> & <chr> & <dbl> & <chr> & <chr> & <dbl> & <dbl> & <int> & <int> & ⋯ & <dbl> & <dbl> & <dbl> & <dbl> & <dbl> & <dbl> & <dbl> & <dbl> & <dbl> & <dbl>\\\\\n",
       "\\hline\n",
       "\t1 & 10005Q & 2008 & 1/15/2008 & 54.5 & Female & White                     & 159.9 &  73.0 & 130 & 80 & ⋯ & 5.6636 &  0.926851 &  2.4766 &  6.80077 & -830.343 & -650.526 & 0.77 & 2.921 & 3.805 & 2.622\\\\\n",
       "\t3 & 10010J & 2008 & 1/15/2008 & 65.9 & Female & White                     & 162.1 &  62.8 &  96 & 63 & ⋯ & 5.1960 &  1.683760 &  3.8993 & 41.34930 & -833.429 & -789.595 & 0.53 & 1.008 & 1.909 & 1.087\\\\\n",
       "\t4 & 10015T & 2008 & 2/15/2008 & 59.6 & Male   & White                     & 182.9 & 110.0 & 142 & 88 & ⋯ & 6.3971 &  9.330450 & -1.0000 & -1.00000 & -841.315 &   -1.000 & 0.51 & 1.906 & 3.732 & 2.002\\\\\n",
       "\t5 & 10017X & 2008 & 6/15/2008 & 67.5 & Male   & White                     & 179.1 &  83.0 & 106 & 72 & ⋯ & 7.8935 & 36.262400 &  4.1043 & 46.17690 & -887.947 & -792.397 & 0.57 & 2.748 & 4.827 & 2.178\\\\\n",
       "\t6 & 10022Q & 2008 & 2/15/2008 & 69.8 & Female & White                     & 158.8 &  78.0 & 122 & 78 & ⋯ & 5.1016 & 30.484400 & -1.0000 & -1.00000 & -865.608 &   -1.000 & 0.53 & 1.076 & 2.047 & 0.924\\\\\n",
       "\t7 & 10025W & 2008 & 2/15/2008 & 68.9 & Male   & Black or African American & 168.9 &  51.0 & 120 & 60 & ⋯ & 6.4421 & 51.156200 & -1.0000 & -1.00000 & -906.021 &   -1.000 & 0.27 & 0.718 & 2.697 & 0.596\\\\\n",
       "\\end{tabular}\n"
      ],
      "text/markdown": [
       "\n",
       "A data.frame: 6 × 35\n",
       "\n",
       "| <!--/--> | sid &lt;chr&gt; | visit_year &lt;int&gt; | visit_date &lt;chr&gt; | visit_age &lt;dbl&gt; | gender &lt;chr&gt; | race &lt;chr&gt; | height_cm &lt;dbl&gt; | weight_kg &lt;dbl&gt; | sysBP &lt;int&gt; | diasBP &lt;int&gt; | ⋯ ⋯ | total_lung_capacity &lt;dbl&gt; | pct_emphysema &lt;dbl&gt; | functional_residual_capacity &lt;dbl&gt; | pct_gastrapping &lt;dbl&gt; | insp_meanatt &lt;dbl&gt; | exp_meanatt &lt;dbl&gt; | FEV1_FVC_ratio &lt;dbl&gt; | FEV1 &lt;dbl&gt; | FVC &lt;dbl&gt; | FEV1_phase2 &lt;dbl&gt; |\n",
       "|---|---|---|---|---|---|---|---|---|---|---|---|---|---|---|---|---|---|---|---|---|---|\n",
       "| 1 | 10005Q | 2008 | 1/15/2008 | 54.5 | Female | White                     | 159.9 |  73.0 | 130 | 80 | ⋯ | 5.6636 |  0.926851 |  2.4766 |  6.80077 | -830.343 | -650.526 | 0.77 | 2.921 | 3.805 | 2.622 |\n",
       "| 3 | 10010J | 2008 | 1/15/2008 | 65.9 | Female | White                     | 162.1 |  62.8 |  96 | 63 | ⋯ | 5.1960 |  1.683760 |  3.8993 | 41.34930 | -833.429 | -789.595 | 0.53 | 1.008 | 1.909 | 1.087 |\n",
       "| 4 | 10015T | 2008 | 2/15/2008 | 59.6 | Male   | White                     | 182.9 | 110.0 | 142 | 88 | ⋯ | 6.3971 |  9.330450 | -1.0000 | -1.00000 | -841.315 |   -1.000 | 0.51 | 1.906 | 3.732 | 2.002 |\n",
       "| 5 | 10017X | 2008 | 6/15/2008 | 67.5 | Male   | White                     | 179.1 |  83.0 | 106 | 72 | ⋯ | 7.8935 | 36.262400 |  4.1043 | 46.17690 | -887.947 | -792.397 | 0.57 | 2.748 | 4.827 | 2.178 |\n",
       "| 6 | 10022Q | 2008 | 2/15/2008 | 69.8 | Female | White                     | 158.8 |  78.0 | 122 | 78 | ⋯ | 5.1016 | 30.484400 | -1.0000 | -1.00000 | -865.608 |   -1.000 | 0.53 | 1.076 | 2.047 | 0.924 |\n",
       "| 7 | 10025W | 2008 | 2/15/2008 | 68.9 | Male   | Black or African American | 168.9 |  51.0 | 120 | 60 | ⋯ | 6.4421 | 51.156200 | -1.0000 | -1.00000 | -906.021 |   -1.000 | 0.27 | 0.718 | 2.697 | 0.596 |\n",
       "\n"
      ],
      "text/plain": [
       "  sid    visit_year visit_date visit_age gender race                     \n",
       "1 10005Q 2008       1/15/2008  54.5      Female White                    \n",
       "3 10010J 2008       1/15/2008  65.9      Female White                    \n",
       "4 10015T 2008       2/15/2008  59.6      Male   White                    \n",
       "5 10017X 2008       6/15/2008  67.5      Male   White                    \n",
       "6 10022Q 2008       2/15/2008  69.8      Female White                    \n",
       "7 10025W 2008       2/15/2008  68.9      Male   Black or African American\n",
       "  height_cm weight_kg sysBP diasBP ⋯ total_lung_capacity pct_emphysema\n",
       "1 159.9      73.0     130   80     ⋯ 5.6636               0.926851    \n",
       "3 162.1      62.8      96   63     ⋯ 5.1960               1.683760    \n",
       "4 182.9     110.0     142   88     ⋯ 6.3971               9.330450    \n",
       "5 179.1      83.0     106   72     ⋯ 7.8935              36.262400    \n",
       "6 158.8      78.0     122   78     ⋯ 5.1016              30.484400    \n",
       "7 168.9      51.0     120   60     ⋯ 6.4421              51.156200    \n",
       "  functional_residual_capacity pct_gastrapping insp_meanatt exp_meanatt\n",
       "1  2.4766                       6.80077        -830.343     -650.526   \n",
       "3  3.8993                      41.34930        -833.429     -789.595   \n",
       "4 -1.0000                      -1.00000        -841.315       -1.000   \n",
       "5  4.1043                      46.17690        -887.947     -792.397   \n",
       "6 -1.0000                      -1.00000        -865.608       -1.000   \n",
       "7 -1.0000                      -1.00000        -906.021       -1.000   \n",
       "  FEV1_FVC_ratio FEV1  FVC   FEV1_phase2\n",
       "1 0.77           2.921 3.805 2.622      \n",
       "3 0.53           1.008 1.909 1.087      \n",
       "4 0.51           1.906 3.732 2.002      \n",
       "5 0.57           2.748 4.827 2.178      \n",
       "6 0.53           1.076 2.047 0.924      \n",
       "7 0.27           0.718 2.697 0.596      "
      ]
     },
     "metadata": {},
     "output_type": "display_data"
    }
   ],
   "source": [
    "url = \"https://raw.githubusercontent.com/khasenst/datasets_teaching/main/copd_data_project.csv\"\n",
    "copd = read.csv(\"https://raw.githubusercontent.com/khasenst/datasets_teaching/main/copd_data_project.csv\")\n",
    "dat1 = na.omit(copd)\n",
    "head(dat1)"
   ]
  },
  {
   "cell_type": "code",
   "execution_count": 2,
   "metadata": {},
   "outputs": [
    {
     "data": {
      "text/plain": [
       "\n",
       "Call:\n",
       "lm(formula = FEV1_phase2 ~ FEV1, data = dat1)\n",
       "\n",
       "Residuals:\n",
       "    Min      1Q  Median      3Q     Max \n",
       "-1.5909 -0.1880 -0.0144  0.1609  4.3971 \n",
       "\n",
       "Coefficients:\n",
       "            Estimate Std. Error t value Pr(>|t|)    \n",
       "(Intercept) 0.178336   0.016943   10.53   <2e-16 ***\n",
       "FEV1        0.840423   0.006859  122.53   <2e-16 ***\n",
       "---\n",
       "Signif. codes:  0 '***' 0.001 '**' 0.01 '*' 0.05 '.' 0.1 ' ' 1\n",
       "\n",
       "Residual standard error: 0.3789 on 3998 degrees of freedom\n",
       "Multiple R-squared:  0.7897,\tAdjusted R-squared:  0.7897 \n",
       "F-statistic: 1.501e+04 on 1 and 3998 DF,  p-value: < 2.2e-16\n"
      ]
     },
     "metadata": {},
     "output_type": "display_data"
    },
    {
     "data": {
      "text/html": [
       "<table class=\"dataframe\">\n",
       "<caption>A matrix: 2 × 2 of type dbl</caption>\n",
       "<thead>\n",
       "\t<tr><th></th><th scope=col>2.5 %</th><th scope=col>97.5 %</th></tr>\n",
       "</thead>\n",
       "<tbody>\n",
       "\t<tr><th scope=row>(Intercept)</th><td>0.1451177</td><td>0.2115549</td></tr>\n",
       "\t<tr><th scope=row>FEV1</th><td>0.8269759</td><td>0.8538708</td></tr>\n",
       "</tbody>\n",
       "</table>\n"
      ],
      "text/latex": [
       "A matrix: 2 × 2 of type dbl\n",
       "\\begin{tabular}{r|ll}\n",
       "  & 2.5 \\% & 97.5 \\%\\\\\n",
       "\\hline\n",
       "\t(Intercept) & 0.1451177 & 0.2115549\\\\\n",
       "\tFEV1 & 0.8269759 & 0.8538708\\\\\n",
       "\\end{tabular}\n"
      ],
      "text/markdown": [
       "\n",
       "A matrix: 2 × 2 of type dbl\n",
       "\n",
       "| <!--/--> | 2.5 % | 97.5 % |\n",
       "|---|---|---|\n",
       "| (Intercept) | 0.1451177 | 0.2115549 |\n",
       "| FEV1 | 0.8269759 | 0.8538708 |\n",
       "\n"
      ],
      "text/plain": [
       "            2.5 %     97.5 %   \n",
       "(Intercept) 0.1451177 0.2115549\n",
       "FEV1        0.8269759 0.8538708"
      ]
     },
     "metadata": {},
     "output_type": "display_data"
    },
    {
     "data": {
      "image/png": "[encoded data removed]",
      "text/plain": [
       "plot without title"
      ]
     },
     "metadata": {
      "image/png": {
       "height": 420,
       "width": 420
      }
     },
     "output_type": "display_data"
    }
   ],
   "source": [
    "library(ggplot2)\n",
    "# 1\n",
    "p = ggplot(data = dat1, mapping = aes(y= FEV1_phase2, x= FEV1, color = gender, shape = race)) +\n",
    "    geom_point()\n",
    "\n",
    "# 3\n",
    "fit = lm(FEV1_phase2 ~ FEV1, data = dat1)\n",
    "p = p + geom_abline(intercept = coef(fit)[1], slope = coef(fit)[2], color = \"blue\")\n",
    "\n",
    "# 4, 5, 6\n",
    "summary(fit)\n",
    "\n",
    "# 7\n",
    "confint(fit)\n",
    "\n",
    "# Print\n",
    "print(p)"
   ]
  },
  {
   "cell_type": "markdown",
   "metadata": {},
   "source": [
    "#### 2\n",
    "In the scatterplot between FEV1 and FEV1_phase2 we see a clear strong positive linear relationship.\n",
    "\n",
    "#### 3\n",
    "The linear regression is represented with the equation as follows: 0.178 + 0.840 * (FEV1) = FEV1_phase2\n",
    "\n",
    "#### 4\n",
    "The R^2 of the regression is 0.79. This means that 79% of the variation in FEV1_phase2 can be explained by FEV1 using a linear regression.\n",
    "\n",
    "#### 5\n",
    "The slope is 0.840. This means that for every 1 unit (1 liter) increase in FEV1 expiratory volume, there is a 0.840 unit (0.840 liter) increase in FEV1_phase2 follow-up expiratory volume. \n",
    "\n",
    "#### 6 \n",
    "The intercept is 0.178. This means that with zero FEV1, that the predicted FEV1_phase2 would be 0.178 liters.\n",
    "\n",
    "#### 7 \n",
    "The 95% confidence interval for the b1 (slope) value is (0.827, 0.854). If we are testing to see that b1 is signifiantly different than 1 then we can reject the null hypothesis that b1=1 in favor of the alternative hypothesis that b1/=1 at the alpha=0.05 level because the 95% confidence interval does not contain the value 1."
   ]
  },
  {
   "cell_type": "code",
   "execution_count": null,
   "metadata": {},
   "outputs": [],
   "source": []
  }
 ],
 "metadata": {
  "colab": {
   "collapsed_sections": [],
   "name": "Homework7_LASTNAME_FIRSTNAME.ipynb",
   "provenance": [
    {
     "file_id": "1GSNhUwEVzRoeXaygW8UJtUipRT1sQ3G0",
     "timestamp": 1609981963177
    },
    {
     "file_id": "1BYnnbqeyZAlYnxR9IHC8tpW07EpDeyKR",
     "timestamp": 1609974285905
    }
   ]
  },
  "kernelspec": {
   "display_name": "R 4.3.3",
   "language": "R",
   "name": "ir433"
  },
  "language_info": {
   "codemirror_mode": "r",
   "file_extension": ".r",
   "mimetype": "text/x-r-source",
   "name": "R",
   "pygments_lexer": "r",
   "version": "4.3.3"
  }
 },
 "nbformat": 4,
 "nbformat_minor": 4
}
