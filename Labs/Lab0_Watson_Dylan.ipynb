{
 "cells": [
  {
   "cell_type": "markdown",
   "metadata": {
    "id": "gtETsh5j8vHw"
   },
   "source": [
    "# **Lab0: Introducing R in Jupyter Notebook via Google Colabatory**\n",
    "\n",
    "#### **Dylan Watson**"
   ]
  },
  {
   "cell_type": "markdown",
   "metadata": {
    "id": "T0HHiDQBucQ3"
   },
   "source": [
    "---\n",
    "\n",
    "**IMPORTANT**: \n",
    "- Before starting the lab, save a copy to your google drive by navigating to `File > Save a copy in Drive` <br>\n",
    "- Then rename the copied file `Lab#_LASTNAME_FIRSTNAME.ipynb` where # is the lab assignment number, LASTNAME is your last name, and FIRSTNAME is your first name.\n",
    "\n",
    "<br>\n",
    "\n",
    "\n",
    "**Instructions**: Complete the lab below.\n",
    "\n",
    "- <font color=red>Tasks</font> indicated in red must be completed to receive credit\n",
    "- Include all code for your work\n",
    "- Include markdown cells with written answers explaining your work when prompted\n",
    "- **NOTE: Your completed lab must be submitted to Canvas as a .ipynb file by the end of the lab session**\n",
    "---"
   ]
  },
  {
   "cell_type": "markdown",
   "metadata": {
    "id": "zZzxYxtp9b9t"
   },
   "source": [
    "We are able to interface with the R programming language using Jupyter Notebook in Google Colabatory! The following is a small tutorial designed to familiarize you with some basic R commands."
   ]
  },
  {
   "cell_type": "markdown",
   "metadata": {
    "id": "tXswIim-D1O7"
   },
   "source": [
    "<br>\n",
    "\n",
    "<br>\n",
    "\n",
    "\n",
    "\n",
    "\n"
   ]
  },
  {
   "cell_type": "markdown",
   "metadata": {
    "id": "MfKT4gy91QKV"
   },
   "source": [
    "####<font color=red>Organized</font> (1 points)\n",
    "* Answers should be organized in the following format for organization and readability\n",
    "\n",
    "<br>\n",
    "\n",
    "```\n",
    "# 1. \n",
    "This will be the code block to answer the first part of a task\n",
    "```\n",
    "\n",
    "1. This will be the text answer/explanation (if prompted) for the first task\n",
    "\n",
    "<br>\n",
    "\n",
    "```\n",
    "# 2. \n",
    "This will be the code block to answer the second part of a task in a separate code cell\n",
    "```\n",
    "\n",
    "2. This will be the text answer/explanation (if prompted) for the second task\n",
    "\n",
    "<br>\n",
    "\n",
    "Continue this format for the remaining subtasks\n"
   ]
  },
  {
   "cell_type": "markdown",
   "metadata": {
    "id": "YfKhJv3Q1PBh"
   },
   "source": [
    "<br>\n",
    "\n",
    "---\n",
    "\n",
    "<br>\n",
    "\n",
    "\n",
    "\n",
    "\n"
   ]
  },
  {
   "cell_type": "markdown",
   "metadata": {
    "id": "zzb9m2ccxQb7"
   },
   "source": [
    "## Printing Strings <font color=red> (TASK) </font>\n",
    "\n",
    "The small piece of code below is called a \"script\". The following script uses the `print` function to print the phrase \"Hello World!\".\n",
    "\n",
    "Try running the following script by selecting the cell and pressing `Ctrl+Enter` on your keyboard. You may alternatively press the \"play\" button to the left of the cell."
   ]
  },
  {
   "cell_type": "code",
   "execution_count": 1,
   "metadata": {
    "colab": {
     "base_uri": "https://localhost:8080/"
    },
    "id": "Z60PpIfIeF4Z",
    "outputId": "44ca6b6e-1ad7-4410-ec4f-fa57c09ead63"
   },
   "outputs": [
    {
     "name": "stdout",
     "output_type": "stream",
     "text": [
      "[1] \"Hello World!\"\n"
     ]
    }
   ],
   "source": [
    "print(\"Hello World!\")"
   ]
  },
  {
   "cell_type": "markdown",
   "metadata": {
    "id": "V2v17OxU7A8R"
   },
   "source": [
    "### <font color=red> TASK: </font>\n",
    "\n",
    "1. Create a code cell below this markdown cell\n",
    "2. Use the `print` function to print your full name in the code cell you created\n",
    "\n"
   ]
  },
  {
   "cell_type": "code",
   "execution_count": 2,
   "metadata": {
    "colab": {
     "base_uri": "https://localhost:8080/"
    },
    "id": "PTNs6GxJVKmC",
    "outputId": "85e942b5-8fe8-430d-d033-7b97e6edf4d2"
   },
   "outputs": [
    {
     "name": "stdout",
     "output_type": "stream",
     "text": [
      "[1] \"Dylan Troy Watson\"\n"
     ]
    }
   ],
   "source": [
    "print(\"Dylan Troy Watson\")"
   ]
  },
  {
   "cell_type": "markdown",
   "metadata": {
    "id": "hu0hjAba-6Ri"
   },
   "source": [
    "## Basic Mathematical Operations <font color=red> (TASK) </font>\n",
    "\n",
    "R can be used as a calculator and perform basic mathematical operations.\n",
    "\n",
    "- Run the following commands to use R as a calculator."
   ]
  },
  {
   "cell_type": "code",
   "execution_count": 3,
   "metadata": {
    "colab": {
     "base_uri": "https://localhost:8080/",
     "height": 34
    },
    "id": "1U3ZNOLD9S_d",
    "outputId": "03109f99-26ad-48b5-a7c5-be4a13b5e63c"
   },
   "outputs": [
    {
     "data": {
      "text/html": [
       "7"
      ],
      "text/latex": [
       "7"
      ],
      "text/markdown": [
       "7"
      ],
      "text/plain": [
       "[1] 7"
      ]
     },
     "metadata": {},
     "output_type": "display_data"
    }
   ],
   "source": [
    "# addition\n",
    "5 + 2"
   ]
  },
  {
   "cell_type": "code",
   "execution_count": 4,
   "metadata": {
    "colab": {
     "base_uri": "https://localhost:8080/",
     "height": 34
    },
    "id": "hcsnaM3Uz4w0",
    "outputId": "b1ad0f32-3c69-4613-8a98-c4adde472a92"
   },
   "outputs": [
    {
     "data": {
      "text/html": [
       "3"
      ],
      "text/latex": [
       "3"
      ],
      "text/markdown": [
       "3"
      ],
      "text/plain": [
       "[1] 3"
      ]
     },
     "metadata": {},
     "output_type": "display_data"
    }
   ],
   "source": [
    "# subtraction\n",
    "5 - 2"
   ]
  },
  {
   "cell_type": "code",
   "execution_count": 5,
   "metadata": {
    "colab": {
     "base_uri": "https://localhost:8080/",
     "height": 34
    },
    "id": "hP3IjK8Pz7-N",
    "outputId": "1d7b55b6-cbeb-40cb-d77c-c9d4e200ae2f"
   },
   "outputs": [
    {
     "data": {
      "text/html": [
       "10"
      ],
      "text/latex": [
       "10"
      ],
      "text/markdown": [
       "10"
      ],
      "text/plain": [
       "[1] 10"
      ]
     },
     "metadata": {},
     "output_type": "display_data"
    }
   ],
   "source": [
    "# multiplication\n",
    "5 * 2"
   ]
  },
  {
   "cell_type": "code",
   "execution_count": 6,
   "metadata": {
    "colab": {
     "base_uri": "https://localhost:8080/",
     "height": 34
    },
    "id": "BU8pk4EV1lAl",
    "outputId": "52b34473-5f49-4cdf-f73f-c3a431a2dbc4"
   },
   "outputs": [
    {
     "data": {
      "text/html": [
       "2.5"
      ],
      "text/latex": [
       "2.5"
      ],
      "text/markdown": [
       "2.5"
      ],
      "text/plain": [
       "[1] 2.5"
      ]
     },
     "metadata": {},
     "output_type": "display_data"
    }
   ],
   "source": [
    "# division\n",
    "5 / 2"
   ]
  },
  {
   "cell_type": "code",
   "execution_count": 7,
   "metadata": {
    "colab": {
     "base_uri": "https://localhost:8080/",
     "height": 34
    },
    "id": "dW36SR6a1mOG",
    "outputId": "3b3f5482-777d-4b90-ecb3-de07bec42290"
   },
   "outputs": [
    {
     "data": {
      "text/html": [
       "25"
      ],
      "text/latex": [
       "25"
      ],
      "text/markdown": [
       "25"
      ],
      "text/plain": [
       "[1] 25"
      ]
     },
     "metadata": {},
     "output_type": "display_data"
    }
   ],
   "source": [
    "# exponentiation\n",
    "5 ^ 2"
   ]
  },
  {
   "cell_type": "code",
   "execution_count": 8,
   "metadata": {
    "colab": {
     "base_uri": "https://localhost:8080/",
     "height": 34
    },
    "id": "b7TWpRPm1nPH",
    "outputId": "354a6b4f-8130-47df-939f-0fd002be576c"
   },
   "outputs": [
    {
     "data": {
      "text/html": [
       "3.5"
      ],
      "text/latex": [
       "3.5"
      ],
      "text/markdown": [
       "3.5"
      ],
      "text/plain": [
       "[1] 3.5"
      ]
     },
     "metadata": {},
     "output_type": "display_data"
    }
   ],
   "source": [
    "# order of operations\n",
    "(5 + 2) / 2"
   ]
  },
  {
   "cell_type": "markdown",
   "metadata": {
    "id": "KP3oV4Ac9Ugw"
   },
   "source": [
    "### <font color=red> TASK: </font>\n",
    "\n",
    "1. Create a code cell below this markdown cell\n",
    "2. In the cell you created, find the value of the following mathematical expression, where a = 2, b = 5, c = 2\n",
    "<h5><center>$\\begin{align} \\frac{-b + \\sqrt{b^2 - 4ac}}{2a}\\end{align}$</center></h5>\n",
    "\n",
    "Hint: $\\sqrt{25}$ is the same as $25^{0.5}$ <br>\n",
    "Hint Hint: The answer should be -0.5"
   ]
  },
  {
   "cell_type": "code",
   "execution_count": 9,
   "metadata": {
    "colab": {
     "base_uri": "https://localhost:8080/",
     "height": 34
    },
    "id": "TxJSDmTQSrtj",
    "outputId": "f5b95ee7-b044-4be0-e608-647e60aef7dd"
   },
   "outputs": [
    {
     "data": {
      "text/html": [
       "-0.5"
      ],
      "text/latex": [
       "-0.5"
      ],
      "text/markdown": [
       "-0.5"
      ],
      "text/plain": [
       "[1] -0.5"
      ]
     },
     "metadata": {},
     "output_type": "display_data"
    }
   ],
   "source": [
    "a <- 2\n",
    "b <- 5\n",
    "c <- 2\n",
    "(-b + sqrt(b^2-4*a*c))/(2*a)"
   ]
  },
  {
   "cell_type": "markdown",
   "metadata": {
    "id": "qB6lvJVi16s3"
   },
   "source": [
    "## Built-in Values and Functions\n",
    "\n",
    "R contains built-in values and functions to make your life easier!"
   ]
  },
  {
   "cell_type": "code",
   "execution_count": 10,
   "metadata": {
    "colab": {
     "base_uri": "https://localhost:8080/",
     "height": 34
    },
    "id": "ZSf4nkqG1z3m",
    "outputId": "7ab35f4d-a9d3-4a72-c703-3cd8a294bb1a"
   },
   "outputs": [
    {
     "data": {
      "text/html": [
       "3.14159265358979"
      ],
      "text/latex": [
       "3.14159265358979"
      ],
      "text/markdown": [
       "3.14159265358979"
      ],
      "text/plain": [
       "[1] 3.141593"
      ]
     },
     "metadata": {},
     "output_type": "display_data"
    }
   ],
   "source": [
    "# pi\n",
    "pi"
   ]
  },
  {
   "cell_type": "code",
   "execution_count": 11,
   "metadata": {
    "colab": {
     "base_uri": "https://localhost:8080/",
     "height": 34
    },
    "id": "wxbAzmqq2erg",
    "outputId": "87254e6e-e2bf-443c-d163-f1299570edf0"
   },
   "outputs": [
    {
     "data": {
      "text/html": [
       "2.71828182845905"
      ],
      "text/latex": [
       "2.71828182845905"
      ],
      "text/markdown": [
       "2.71828182845905"
      ],
      "text/plain": [
       "[1] 2.718282"
      ]
     },
     "metadata": {},
     "output_type": "display_data"
    }
   ],
   "source": [
    "# Euler's number\n",
    "exp(1)"
   ]
  },
  {
   "cell_type": "code",
   "execution_count": 12,
   "metadata": {
    "colab": {
     "base_uri": "https://localhost:8080/",
     "height": 34
    },
    "id": "dTbIkeUs2iCH",
    "outputId": "8baccc47-486d-4fcc-d9b1-93376ec48632"
   },
   "outputs": [
    {
     "data": {
      "text/html": [
       "1"
      ],
      "text/latex": [
       "1"
      ],
      "text/markdown": [
       "1"
      ],
      "text/plain": [
       "[1] 1"
      ]
     },
     "metadata": {},
     "output_type": "display_data"
    }
   ],
   "source": [
    "# Natural logarithm\n",
    "log(exp(1))"
   ]
  },
  {
   "cell_type": "code",
   "execution_count": 13,
   "metadata": {
    "colab": {
     "base_uri": "https://localhost:8080/",
     "height": 34
    },
    "id": "mdHCC-Qr2lq-",
    "outputId": "cfdd410d-7255-4071-abd2-cf1f8937b1cf"
   },
   "outputs": [
    {
     "data": {
      "text/html": [
       "1"
      ],
      "text/latex": [
       "1"
      ],
      "text/markdown": [
       "1"
      ],
      "text/plain": [
       "[1] 1"
      ]
     },
     "metadata": {},
     "output_type": "display_data"
    }
   ],
   "source": [
    "# Log base 10\n",
    "log10(10)"
   ]
  },
  {
   "cell_type": "code",
   "execution_count": 14,
   "metadata": {
    "colab": {
     "base_uri": "https://localhost:8080/",
     "height": 34
    },
    "id": "Y217r4IT2qW-",
    "outputId": "0823f16e-da5b-4ef4-a47c-2202937e3e22"
   },
   "outputs": [
    {
     "data": {
      "text/html": [
       "5"
      ],
      "text/latex": [
       "5"
      ],
      "text/markdown": [
       "5"
      ],
      "text/plain": [
       "[1] 5"
      ]
     },
     "metadata": {},
     "output_type": "display_data"
    }
   ],
   "source": [
    "# square root function\n",
    "sqrt(25)"
   ]
  },
  {
   "cell_type": "markdown",
   "metadata": {
    "id": "nMEvsJPt21h1"
   },
   "source": [
    "## Variable Assignments\n",
    "\n",
    "As in your algebra courses, you can assign values to a variable."
   ]
  },
  {
   "cell_type": "code",
   "execution_count": 15,
   "metadata": {
    "colab": {
     "base_uri": "https://localhost:8080/",
     "height": 34
    },
    "id": "IVvx5n7o2uZG",
    "outputId": "32642995-1484-4f08-8a64-264985daf17d"
   },
   "outputs": [
    {
     "data": {
      "text/html": [
       "5"
      ],
      "text/latex": [
       "5"
      ],
      "text/markdown": [
       "5"
      ],
      "text/plain": [
       "[1] 5"
      ]
     },
     "metadata": {},
     "output_type": "display_data"
    }
   ],
   "source": [
    "# assigns the number 5 to x\n",
    "x <- 5\n",
    "x"
   ]
  },
  {
   "cell_type": "code",
   "execution_count": 16,
   "metadata": {
    "colab": {
     "base_uri": "https://localhost:8080/",
     "height": 34
    },
    "id": "FOM02-JS3Fe-",
    "outputId": "ed965fc3-9e61-40b5-d86e-09de22b66e8f"
   },
   "outputs": [
    {
     "data": {
      "text/html": [
       "6"
      ],
      "text/latex": [
       "6"
      ],
      "text/markdown": [
       "6"
      ],
      "text/plain": [
       "[1] 6"
      ]
     },
     "metadata": {},
     "output_type": "display_data"
    }
   ],
   "source": [
    "# adding 1 to x\n",
    "x + 1"
   ]
  },
  {
   "cell_type": "code",
   "execution_count": 17,
   "metadata": {
    "colab": {
     "base_uri": "https://localhost:8080/",
     "height": 34
    },
    "id": "OnwrHvRY3G8g",
    "outputId": "8024ed7e-2dfa-42ae-8ae7-a5d87ddfbe96"
   },
   "outputs": [
    {
     "data": {
      "text/html": [
       "7.69028602067677"
      ],
      "text/latex": [
       "7.69028602067677"
      ],
      "text/markdown": [
       "7.69028602067677"
      ],
      "text/plain": [
       "[1] 7.690286"
      ]
     },
     "metadata": {},
     "output_type": "display_data"
    }
   ],
   "source": [
    "# more complicated expressions\n",
    "x <- (x + 2) * log(3)\n",
    "x"
   ]
  },
  {
   "cell_type": "code",
   "execution_count": 18,
   "metadata": {
    "colab": {
     "base_uri": "https://localhost:8080/",
     "height": 52
    },
    "id": "Cr6RVbnC3Iz-",
    "outputId": "4f36175c-470e-449f-aaab-9afd7ecb2b0d"
   },
   "outputs": [
    {
     "data": {
      "text/html": [
       "2"
      ],
      "text/latex": [
       "2"
      ],
      "text/markdown": [
       "2"
      ],
      "text/plain": [
       "[1] 2"
      ]
     },
     "metadata": {},
     "output_type": "display_data"
    },
    {
     "data": {
      "text/html": [
       "5"
      ],
      "text/latex": [
       "5"
      ],
      "text/markdown": [
       "5"
      ],
      "text/plain": [
       "[1] 5"
      ]
     },
     "metadata": {},
     "output_type": "display_data"
    }
   ],
   "source": [
    "# R is case sensitive\n",
    "x <- 2\n",
    "X <- 5\n",
    "x\n",
    "X"
   ]
  },
  {
   "cell_type": "markdown",
   "metadata": {
    "id": "Ix6iVYrs3QtE"
   },
   "source": [
    "## Variable Naming Conventions <font color=red> (TASK) </font>\n",
    "\n",
    "Variable names do not have to be a letter from the alphabet. In fact, it is better to name your variables something meaningful, especially when you start using many variables.\n",
    "\n",
    "Keeping this in mind, there are a few rules when creating variable names:\n",
    "- Variables names may not start with an underscore, number, or special character (e.g., *,^)\n",
    "- Variables names may include underscores if located in the middle or end of the variable name\n",
    "- Variable names may start with a period (.), but this is generally not recommended"
   ]
  },
  {
   "cell_type": "code",
   "execution_count": 19,
   "metadata": {
    "colab": {
     "base_uri": "https://localhost:8080/",
     "height": 34
    },
    "id": "0NIDt9VT3NHW",
    "outputId": "68d3cfcf-b760-4439-a2a4-c3665fec4c1f"
   },
   "outputs": [
    {
     "data": {
      "text/html": [
       "5"
      ],
      "text/latex": [
       "5"
      ],
      "text/markdown": [
       "5"
      ],
      "text/plain": [
       "[1] 5"
      ]
     },
     "metadata": {},
     "output_type": "display_data"
    }
   ],
   "source": [
    "# this is a valid variable name\n",
    "valid.variable <- 5\n",
    "valid.variable"
   ]
  },
  {
   "cell_type": "code",
   "execution_count": 20,
   "metadata": {
    "colab": {
     "base_uri": "https://localhost:8080/"
    },
    "id": "0r8hqko-4hdK",
    "outputId": "4ae4c4a9-96cc-46c5-ad10-90ae4e377577"
   },
   "outputs": [
    {
     "name": "stdout",
     "output_type": "stream",
     "text": [
      "[1] 5\n"
     ]
    }
   ],
   "source": [
    "# this is a valid variable name\n",
    "valid_variable <- 5\n",
    "print(valid_variable)"
   ]
  },
  {
   "cell_type": "markdown",
   "metadata": {
    "id": "Ma7bup8tb0OV"
   },
   "source": [
    "The cell below contains a variable name that is not valid. Why?"
   ]
  },
  {
   "cell_type": "code",
   "execution_count": 21,
   "metadata": {
    "colab": {
     "base_uri": "https://localhost:8080/",
     "height": 148
    },
    "id": "itF130ri4jZV",
    "outputId": "f794303a-d48b-4f69-8095-c75d30a9a397"
   },
   "outputs": [
    {
     "ename": "ERROR",
     "evalue": "Error in parse(text = x, srcfile = src): <text>:2:2: unexpected symbol\n1: # this is NOT a valid variable name\n2: 5people\n    ^\n",
     "output_type": "error",
     "traceback": [
      "Error in parse(text = x, srcfile = src): <text>:2:2: unexpected symbol\n1: # this is NOT a valid variable name\n2: 5people\n    ^\nTraceback:\n"
     ]
    }
   ],
   "source": [
    "# this is NOT a valid variable name\n",
    "5people <- 5"
   ]
  },
  {
   "cell_type": "markdown",
   "metadata": {
    "id": "5E3Y3TDrb_2X"
   },
   "source": [
    "The cell below contains a variable name that is not valid. Why?\n",
    "\n",
    "Variable cannot start w/ a number."
   ]
  },
  {
   "cell_type": "code",
   "execution_count": 22,
   "metadata": {
    "colab": {
     "base_uri": "https://localhost:8080/",
     "height": 148
    },
    "id": "pjp31JMg4lpk",
    "outputId": "a8b0341d-38df-4611-86a5-d21df7504f35"
   },
   "outputs": [
    {
     "ename": "ERROR",
     "evalue": "Error in parse(text = x, srcfile = src): <text>:2:2: unexpected symbol\n1: # this is NOT a valid variable name\n2: _people\n    ^\n",
     "output_type": "error",
     "traceback": [
      "Error in parse(text = x, srcfile = src): <text>:2:2: unexpected symbol\n1: # this is NOT a valid variable name\n2: _people\n    ^\nTraceback:\n"
     ]
    }
   ],
   "source": [
    "# this is NOT a valid variable name\n",
    "_people <- 5"
   ]
  },
  {
   "cell_type": "markdown",
   "metadata": {
    "id": "R9nlJenoU1dQ"
   },
   "source": [
    "Variable cannot start w/ an underscore."
   ]
  },
  {
   "cell_type": "markdown",
   "metadata": {
    "id": "2QvlYB2U_dlS"
   },
   "source": [
    "### <font color=red> TASK: </font>\n",
    "\n",
    "1. Create a code cell below this markdown cell\n",
    "2. Assign the following values to variables: a = 2, b = 5, c = 2\n",
    "3. In the cell you created, find the value of the following mathematical expression only using the variables a, b, c\n",
    "<h5><center>$\\begin{align} \\frac{-b + \\sqrt{b^2 - 4ac}}{2a}\\end{align}$</center></h5>\n",
    "\n",
    "Hint: $\\sqrt{25}$ is the same as $25^{0.5}$ <br>\n",
    "Hint Hint: The answer should be -0.5"
   ]
  },
  {
   "cell_type": "code",
   "execution_count": 23,
   "metadata": {
    "colab": {
     "base_uri": "https://localhost:8080/",
     "height": 34
    },
    "id": "Uj2E8MymUCzn",
    "outputId": "dfa0854a-050e-49cf-eda5-d5ff054d7b1f"
   },
   "outputs": [
    {
     "data": {
      "text/html": [
       "-0.5"
      ],
      "text/latex": [
       "-0.5"
      ],
      "text/markdown": [
       "-0.5"
      ],
      "text/plain": [
       "[1] -0.5"
      ]
     },
     "metadata": {},
     "output_type": "display_data"
    }
   ],
   "source": [
    "a <- 2\n",
    "b <- 5\n",
    "c <- 2\n",
    "(-b + sqrt(b^2-4*a*c))/(2*a)"
   ]
  },
  {
   "cell_type": "code",
   "execution_count": null,
   "metadata": {},
   "outputs": [],
   "source": []
  }
 ],
 "metadata": {
  "colab": {
   "collapsed_sections": [
    "zzb9m2ccxQb7",
    "V2v17OxU7A8R",
    "hu0hjAba-6Ri",
    "qB6lvJVi16s3",
    "nMEvsJPt21h1",
    "Ix6iVYrs3QtE"
   ],
   "provenance": []
  },
  "kernelspec": {
   "display_name": "R 4.3.3",
   "language": "R",
   "name": "ir433"
  },
  "language_info": {
   "codemirror_mode": "r",
   "file_extension": ".r",
   "mimetype": "text/x-r-source",
   "name": "R",
   "pygments_lexer": "r",
   "version": "4.3.3"
  }
 },
 "nbformat": 4,
 "nbformat_minor": 4
}
