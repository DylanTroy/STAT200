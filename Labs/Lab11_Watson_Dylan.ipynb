{
 "cells": [
  {
   "cell_type": "markdown",
   "metadata": {
    "id": "gtETsh5j8vHw"
   },
   "source": [
    "# **Lab 11: Random Forests (30 points)**\n",
    "\n",
    "#### **Dylan Watson**\n"
   ]
  },
  {
   "cell_type": "markdown",
   "metadata": {
    "id": "en9tcPcGuFyc"
   },
   "source": [
    "---\n",
    "**Instructions**: Complete the lab below.\n",
    "- <font color=red>Tasks</font> indicated in red must be completed to receive credit\n",
    "- Include all code for your work\n",
    "- Include markdown cells with written answers explaining your work when prompted\n",
    "- **NOTE: Your completed lab must be submitted to Canvas as a .ipynb file by the end of the lab session**\n",
    "---"
   ]
  },
  {
   "cell_type": "markdown",
   "metadata": {
    "id": "ARFdaNITmap5"
   },
   "source": [
    "## Data\n",
    "\n",
    "Data for the project is available [here](https://raw.githubusercontent.com/khasenst/datasets_teaching/main/copd_data_project.csv). A data dictionary describing the meaning of each of the variables in the dataset is available in the Project module in Canvas."
   ]
  },
  {
   "cell_type": "markdown",
   "metadata": {
    "id": "JnFw01WcmX4_"
   },
   "source": [
    "<br>\n",
    "\n",
    "---\n",
    "\n",
    "<br>\n",
    "\n",
    "\n",
    "\n",
    "\n"
   ]
  },
  {
   "cell_type": "markdown",
   "metadata": {
    "id": "pysEPMTuhyZs"
   },
   "source": [
    "## Introduction\n",
    "\n",
    "Chronic obstructive pulmonary disease (COPD) affects over 16 million Americans and is the fourth leading cause of death in the United States behind heart disease, cancer, and accidental death. While COPD can result from various toxic inhalations or asthma, it is most commonly associated with cigarette smoking.\n",
    "\n",
    "<br>\n",
    "\n",
    "COPD severity is typically measured by a device called a spirometer. Patients forcefully exhale into the device and the volume of air exhaled is used as a measure for the severity of disease (less air exhaled $\\Rightarrow$ worse disease). Data collected by the COPDGene research group includes spirometry data on thousands of research participants.\n",
    "\n",
    "<br>\n",
    "\n",
    "Spirometry measures in the dataset:\n",
    "* The forced expiratory volume (`FEV1`) is the volume of air exhaled in 1 second\n",
    "* The forced vital capacity (`FVC`) is the total volume of air exhaled after a full breath\n",
    "* `FEV1_FVC_ratio` is the ratio between `FEV1` and `FVC` (smaller $\\Rightarrow$ worse disease)\n",
    "* `FEV1_phase2` is the `FEV1` of research participants 5 years later\n",
    "\n",
    "<br>\n",
    "\n",
    "You overall task in this project is to analyze the relationship between FEV1 at follow-up `FEV1_phase2` and other variables in the dataset. The project has been organized into a series of tasks to assist you with your analysis organization."
   ]
  },
  {
   "cell_type": "markdown",
   "metadata": {
    "id": "sn_ZvQJyk0fh"
   },
   "source": [
    "<br>\n",
    "\n",
    "---\n",
    "\n",
    "<br>\n",
    "\n",
    "\n",
    "\n",
    "\n"
   ]
  },
  {
   "cell_type": "markdown",
   "metadata": {
    "id": "l_iYPeAD2NXY"
   },
   "source": [
    "####<font color=red>Organized</font> (1 points)\n",
    "* Answers should be organized in the following format for organization and readability\n",
    "\n",
    "<br>\n",
    "\n",
    "```\n",
    "# 1.\n",
    "This will be the code block to answer the first part of a task\n",
    "```\n",
    "\n",
    "1. This will be the text answer/explanation (if prompted) for the first task\n",
    "\n",
    "```\n",
    "# 2.\n",
    "This will be the code block to answer the second part of a task in a separate code cell\n",
    "```\n",
    "\n",
    "2. This will be the text answer/explanation (if prompted) for the second task\n",
    "\n",
    "<br>\n",
    "\n",
    "Continue this format for the remaining subtasks\n"
   ]
  },
  {
   "cell_type": "markdown",
   "metadata": {
    "id": "DpXF6Ztq2NXa"
   },
   "source": [
    "<br>\n",
    "\n",
    "---\n",
    "\n",
    "<br>\n",
    "\n",
    "\n",
    "\n",
    "\n"
   ]
  },
  {
   "cell_type": "markdown",
   "metadata": {
    "id": "L-sctL_02NXb"
   },
   "source": [
    "####<font color=red>Task 0</font> (3 points)\n",
    "\n",
    "1. Load the COPDGene dataset and show the first few lines.\n",
    "2. Remove the NAs from the dataset and store as `dat1`. Show the first few lines of `dat1`. How many rows does `dat1` contain? Answer in a complete sentence.\n",
    "3. Select all rows in the dataset where `FEV1_phase2` is `NA` and store as `test`. Show the first few lines of `test`. Make sure you did this correctly. How many rows does `test` contain? Answer in a complete sentence.\n",
    "\n",
    "Note: In machine learning, datasets are typically divided into training, validation, and testing sets\n",
    "  * training set - a dataset used to fit your model\n",
    "  * validation set - the dataset used to select your \"best\" model (e.g., using adjusted R-squared or MSE)\n",
    "  * testing set - the dataset used to assess accuracy of your final model\n",
    "\n",
    "Task 0.3 will be used as your testing set."
   ]
  },
  {
   "cell_type": "code",
   "execution_count": 1,
   "metadata": {
    "colab": {
     "base_uri": "https://localhost:8080/",
     "height": 608
    },
    "id": "JjqKQUq9isFf",
    "outputId": "0fefeb10-69f0-4268-fc5e-c267773d750c"
   },
   "outputs": [
    {
     "data": {
      "text/html": [
       "<table class=\"dataframe\">\n",
       "<caption>A data.frame: 6 × 35</caption>\n",
       "<thead>\n",
       "\t<tr><th></th><th scope=col>sid</th><th scope=col>visit_year</th><th scope=col>visit_date</th><th scope=col>visit_age</th><th scope=col>gender</th><th scope=col>race</th><th scope=col>height_cm</th><th scope=col>weight_kg</th><th scope=col>sysBP</th><th scope=col>diasBP</th><th scope=col>⋯</th><th scope=col>total_lung_capacity</th><th scope=col>pct_emphysema</th><th scope=col>functional_residual_capacity</th><th scope=col>pct_gastrapping</th><th scope=col>insp_meanatt</th><th scope=col>exp_meanatt</th><th scope=col>FEV1_FVC_ratio</th><th scope=col>FEV1</th><th scope=col>FVC</th><th scope=col>FEV1_phase2</th></tr>\n",
       "\t<tr><th></th><th scope=col>&lt;chr&gt;</th><th scope=col>&lt;int&gt;</th><th scope=col>&lt;chr&gt;</th><th scope=col>&lt;dbl&gt;</th><th scope=col>&lt;chr&gt;</th><th scope=col>&lt;chr&gt;</th><th scope=col>&lt;dbl&gt;</th><th scope=col>&lt;dbl&gt;</th><th scope=col>&lt;int&gt;</th><th scope=col>&lt;int&gt;</th><th scope=col>⋯</th><th scope=col>&lt;dbl&gt;</th><th scope=col>&lt;dbl&gt;</th><th scope=col>&lt;dbl&gt;</th><th scope=col>&lt;dbl&gt;</th><th scope=col>&lt;dbl&gt;</th><th scope=col>&lt;dbl&gt;</th><th scope=col>&lt;dbl&gt;</th><th scope=col>&lt;dbl&gt;</th><th scope=col>&lt;dbl&gt;</th><th scope=col>&lt;dbl&gt;</th></tr>\n",
       "</thead>\n",
       "<tbody>\n",
       "\t<tr><th scope=row>1</th><td>10005Q</td><td>2008</td><td>1/15/2008</td><td>54.5</td><td>Female</td><td>White</td><td>159.9</td><td> 73.0</td><td>130</td><td>80</td><td>⋯</td><td>5.6636</td><td> 0.926851</td><td> 2.4766</td><td> 6.80077</td><td>-830.343</td><td>-650.526</td><td>0.77</td><td>2.921</td><td>3.805</td><td>2.622</td></tr>\n",
       "\t<tr><th scope=row>2</th><td>10006S</td><td>2008</td><td>1/15/2008</td><td>62.3</td><td>Female</td><td>White</td><td>162.6</td><td> 86.0</td><td>170</td><td>80</td><td>⋯</td><td>5.2325</td><td>14.005900</td><td>-1.0000</td><td>-1.00000</td><td>-841.880</td><td>  -1.000</td><td>0.43</td><td>1.288</td><td>3.022</td><td>   NA</td></tr>\n",
       "\t<tr><th scope=row>3</th><td>10010J</td><td>2008</td><td>1/15/2008</td><td>65.9</td><td>Female</td><td>White</td><td>162.1</td><td> 62.8</td><td> 96</td><td>63</td><td>⋯</td><td>5.1960</td><td> 1.683760</td><td> 3.8993</td><td>41.34930</td><td>-833.429</td><td>-789.595</td><td>0.53</td><td>1.008</td><td>1.909</td><td>1.087</td></tr>\n",
       "\t<tr><th scope=row>4</th><td>10015T</td><td>2008</td><td>2/15/2008</td><td>59.6</td><td>Male  </td><td>White</td><td>182.9</td><td>110.0</td><td>142</td><td>88</td><td>⋯</td><td>6.3971</td><td> 9.330450</td><td>-1.0000</td><td>-1.00000</td><td>-841.315</td><td>  -1.000</td><td>0.51</td><td>1.906</td><td>3.732</td><td>2.002</td></tr>\n",
       "\t<tr><th scope=row>5</th><td>10017X</td><td>2008</td><td>6/15/2008</td><td>67.5</td><td>Male  </td><td>White</td><td>179.1</td><td> 83.0</td><td>106</td><td>72</td><td>⋯</td><td>7.8935</td><td>36.262400</td><td> 4.1043</td><td>46.17690</td><td>-887.947</td><td>-792.397</td><td>0.57</td><td>2.748</td><td>4.827</td><td>2.178</td></tr>\n",
       "\t<tr><th scope=row>6</th><td>10022Q</td><td>2008</td><td>2/15/2008</td><td>69.8</td><td>Female</td><td>White</td><td>158.8</td><td> 78.0</td><td>122</td><td>78</td><td>⋯</td><td>5.1016</td><td>30.484400</td><td>-1.0000</td><td>-1.00000</td><td>-865.608</td><td>  -1.000</td><td>0.53</td><td>1.076</td><td>2.047</td><td>0.924</td></tr>\n",
       "</tbody>\n",
       "</table>\n"
      ],
      "text/latex": [
       "A data.frame: 6 × 35\n",
       "\\begin{tabular}{r|lllllllllllllllllllll}\n",
       "  & sid & visit\\_year & visit\\_date & visit\\_age & gender & race & height\\_cm & weight\\_kg & sysBP & diasBP & ⋯ & total\\_lung\\_capacity & pct\\_emphysema & functional\\_residual\\_capacity & pct\\_gastrapping & insp\\_meanatt & exp\\_meanatt & FEV1\\_FVC\\_ratio & FEV1 & FVC & FEV1\\_phase2\\\\\n",
       "  & <chr> & <int> & <chr> & <dbl> & <chr> & <chr> & <dbl> & <dbl> & <int> & <int> & ⋯ & <dbl> & <dbl> & <dbl> & <dbl> & <dbl> & <dbl> & <dbl> & <dbl> & <dbl> & <dbl>\\\\\n",
       "\\hline\n",
       "\t1 & 10005Q & 2008 & 1/15/2008 & 54.5 & Female & White & 159.9 &  73.0 & 130 & 80 & ⋯ & 5.6636 &  0.926851 &  2.4766 &  6.80077 & -830.343 & -650.526 & 0.77 & 2.921 & 3.805 & 2.622\\\\\n",
       "\t2 & 10006S & 2008 & 1/15/2008 & 62.3 & Female & White & 162.6 &  86.0 & 170 & 80 & ⋯ & 5.2325 & 14.005900 & -1.0000 & -1.00000 & -841.880 &   -1.000 & 0.43 & 1.288 & 3.022 &    NA\\\\\n",
       "\t3 & 10010J & 2008 & 1/15/2008 & 65.9 & Female & White & 162.1 &  62.8 &  96 & 63 & ⋯ & 5.1960 &  1.683760 &  3.8993 & 41.34930 & -833.429 & -789.595 & 0.53 & 1.008 & 1.909 & 1.087\\\\\n",
       "\t4 & 10015T & 2008 & 2/15/2008 & 59.6 & Male   & White & 182.9 & 110.0 & 142 & 88 & ⋯ & 6.3971 &  9.330450 & -1.0000 & -1.00000 & -841.315 &   -1.000 & 0.51 & 1.906 & 3.732 & 2.002\\\\\n",
       "\t5 & 10017X & 2008 & 6/15/2008 & 67.5 & Male   & White & 179.1 &  83.0 & 106 & 72 & ⋯ & 7.8935 & 36.262400 &  4.1043 & 46.17690 & -887.947 & -792.397 & 0.57 & 2.748 & 4.827 & 2.178\\\\\n",
       "\t6 & 10022Q & 2008 & 2/15/2008 & 69.8 & Female & White & 158.8 &  78.0 & 122 & 78 & ⋯ & 5.1016 & 30.484400 & -1.0000 & -1.00000 & -865.608 &   -1.000 & 0.53 & 1.076 & 2.047 & 0.924\\\\\n",
       "\\end{tabular}\n"
      ],
      "text/markdown": [
       "\n",
       "A data.frame: 6 × 35\n",
       "\n",
       "| <!--/--> | sid &lt;chr&gt; | visit_year &lt;int&gt; | visit_date &lt;chr&gt; | visit_age &lt;dbl&gt; | gender &lt;chr&gt; | race &lt;chr&gt; | height_cm &lt;dbl&gt; | weight_kg &lt;dbl&gt; | sysBP &lt;int&gt; | diasBP &lt;int&gt; | ⋯ ⋯ | total_lung_capacity &lt;dbl&gt; | pct_emphysema &lt;dbl&gt; | functional_residual_capacity &lt;dbl&gt; | pct_gastrapping &lt;dbl&gt; | insp_meanatt &lt;dbl&gt; | exp_meanatt &lt;dbl&gt; | FEV1_FVC_ratio &lt;dbl&gt; | FEV1 &lt;dbl&gt; | FVC &lt;dbl&gt; | FEV1_phase2 &lt;dbl&gt; |\n",
       "|---|---|---|---|---|---|---|---|---|---|---|---|---|---|---|---|---|---|---|---|---|---|\n",
       "| 1 | 10005Q | 2008 | 1/15/2008 | 54.5 | Female | White | 159.9 |  73.0 | 130 | 80 | ⋯ | 5.6636 |  0.926851 |  2.4766 |  6.80077 | -830.343 | -650.526 | 0.77 | 2.921 | 3.805 | 2.622 |\n",
       "| 2 | 10006S | 2008 | 1/15/2008 | 62.3 | Female | White | 162.6 |  86.0 | 170 | 80 | ⋯ | 5.2325 | 14.005900 | -1.0000 | -1.00000 | -841.880 |   -1.000 | 0.43 | 1.288 | 3.022 |    NA |\n",
       "| 3 | 10010J | 2008 | 1/15/2008 | 65.9 | Female | White | 162.1 |  62.8 |  96 | 63 | ⋯ | 5.1960 |  1.683760 |  3.8993 | 41.34930 | -833.429 | -789.595 | 0.53 | 1.008 | 1.909 | 1.087 |\n",
       "| 4 | 10015T | 2008 | 2/15/2008 | 59.6 | Male   | White | 182.9 | 110.0 | 142 | 88 | ⋯ | 6.3971 |  9.330450 | -1.0000 | -1.00000 | -841.315 |   -1.000 | 0.51 | 1.906 | 3.732 | 2.002 |\n",
       "| 5 | 10017X | 2008 | 6/15/2008 | 67.5 | Male   | White | 179.1 |  83.0 | 106 | 72 | ⋯ | 7.8935 | 36.262400 |  4.1043 | 46.17690 | -887.947 | -792.397 | 0.57 | 2.748 | 4.827 | 2.178 |\n",
       "| 6 | 10022Q | 2008 | 2/15/2008 | 69.8 | Female | White | 158.8 |  78.0 | 122 | 78 | ⋯ | 5.1016 | 30.484400 | -1.0000 | -1.00000 | -865.608 |   -1.000 | 0.53 | 1.076 | 2.047 | 0.924 |\n",
       "\n"
      ],
      "text/plain": [
       "  sid    visit_year visit_date visit_age gender race  height_cm weight_kg sysBP\n",
       "1 10005Q 2008       1/15/2008  54.5      Female White 159.9      73.0     130  \n",
       "2 10006S 2008       1/15/2008  62.3      Female White 162.6      86.0     170  \n",
       "3 10010J 2008       1/15/2008  65.9      Female White 162.1      62.8      96  \n",
       "4 10015T 2008       2/15/2008  59.6      Male   White 182.9     110.0     142  \n",
       "5 10017X 2008       6/15/2008  67.5      Male   White 179.1      83.0     106  \n",
       "6 10022Q 2008       2/15/2008  69.8      Female White 158.8      78.0     122  \n",
       "  diasBP ⋯ total_lung_capacity pct_emphysema functional_residual_capacity\n",
       "1 80     ⋯ 5.6636               0.926851      2.4766                     \n",
       "2 80     ⋯ 5.2325              14.005900     -1.0000                     \n",
       "3 63     ⋯ 5.1960               1.683760      3.8993                     \n",
       "4 88     ⋯ 6.3971               9.330450     -1.0000                     \n",
       "5 72     ⋯ 7.8935              36.262400      4.1043                     \n",
       "6 78     ⋯ 5.1016              30.484400     -1.0000                     \n",
       "  pct_gastrapping insp_meanatt exp_meanatt FEV1_FVC_ratio FEV1  FVC  \n",
       "1  6.80077        -830.343     -650.526    0.77           2.921 3.805\n",
       "2 -1.00000        -841.880       -1.000    0.43           1.288 3.022\n",
       "3 41.34930        -833.429     -789.595    0.53           1.008 1.909\n",
       "4 -1.00000        -841.315       -1.000    0.51           1.906 3.732\n",
       "5 46.17690        -887.947     -792.397    0.57           2.748 4.827\n",
       "6 -1.00000        -865.608       -1.000    0.53           1.076 2.047\n",
       "  FEV1_phase2\n",
       "1 2.622      \n",
       "2    NA      \n",
       "3 1.087      \n",
       "4 2.002      \n",
       "5 2.178      \n",
       "6 0.924      "
      ]
     },
     "metadata": {},
     "output_type": "display_data"
    },
    {
     "data": {
      "text/html": [
       "5747"
      ],
      "text/latex": [
       "5747"
      ],
      "text/markdown": [
       "5747"
      ],
      "text/plain": [
       "[1] 5747"
      ]
     },
     "metadata": {},
     "output_type": "display_data"
    },
    {
     "data": {
      "text/html": [
       "<table class=\"dataframe\">\n",
       "<caption>A data.frame: 6 × 35</caption>\n",
       "<thead>\n",
       "\t<tr><th></th><th scope=col>sid</th><th scope=col>visit_year</th><th scope=col>visit_date</th><th scope=col>visit_age</th><th scope=col>gender</th><th scope=col>race</th><th scope=col>height_cm</th><th scope=col>weight_kg</th><th scope=col>sysBP</th><th scope=col>diasBP</th><th scope=col>⋯</th><th scope=col>total_lung_capacity</th><th scope=col>pct_emphysema</th><th scope=col>functional_residual_capacity</th><th scope=col>pct_gastrapping</th><th scope=col>insp_meanatt</th><th scope=col>exp_meanatt</th><th scope=col>FEV1_FVC_ratio</th><th scope=col>FEV1</th><th scope=col>FVC</th><th scope=col>FEV1_phase2</th></tr>\n",
       "\t<tr><th></th><th scope=col>&lt;chr&gt;</th><th scope=col>&lt;int&gt;</th><th scope=col>&lt;chr&gt;</th><th scope=col>&lt;dbl&gt;</th><th scope=col>&lt;chr&gt;</th><th scope=col>&lt;chr&gt;</th><th scope=col>&lt;dbl&gt;</th><th scope=col>&lt;dbl&gt;</th><th scope=col>&lt;int&gt;</th><th scope=col>&lt;int&gt;</th><th scope=col>⋯</th><th scope=col>&lt;dbl&gt;</th><th scope=col>&lt;dbl&gt;</th><th scope=col>&lt;dbl&gt;</th><th scope=col>&lt;dbl&gt;</th><th scope=col>&lt;dbl&gt;</th><th scope=col>&lt;dbl&gt;</th><th scope=col>&lt;dbl&gt;</th><th scope=col>&lt;dbl&gt;</th><th scope=col>&lt;dbl&gt;</th><th scope=col>&lt;dbl&gt;</th></tr>\n",
       "</thead>\n",
       "<tbody>\n",
       "\t<tr><th scope=row>1</th><td>10005Q</td><td>2008</td><td>1/15/2008</td><td>54.5</td><td>Female</td><td>White                    </td><td>159.9</td><td> 73.0</td><td>130</td><td>80</td><td>⋯</td><td>5.6636</td><td> 0.926851</td><td> 2.4766</td><td> 6.80077</td><td>-830.343</td><td>-650.526</td><td>0.77</td><td>2.921</td><td>3.805</td><td>2.622</td></tr>\n",
       "\t<tr><th scope=row>3</th><td>10010J</td><td>2008</td><td>1/15/2008</td><td>65.9</td><td>Female</td><td>White                    </td><td>162.1</td><td> 62.8</td><td> 96</td><td>63</td><td>⋯</td><td>5.1960</td><td> 1.683760</td><td> 3.8993</td><td>41.34930</td><td>-833.429</td><td>-789.595</td><td>0.53</td><td>1.008</td><td>1.909</td><td>1.087</td></tr>\n",
       "\t<tr><th scope=row>4</th><td>10015T</td><td>2008</td><td>2/15/2008</td><td>59.6</td><td>Male  </td><td>White                    </td><td>182.9</td><td>110.0</td><td>142</td><td>88</td><td>⋯</td><td>6.3971</td><td> 9.330450</td><td>-1.0000</td><td>-1.00000</td><td>-841.315</td><td>  -1.000</td><td>0.51</td><td>1.906</td><td>3.732</td><td>2.002</td></tr>\n",
       "\t<tr><th scope=row>5</th><td>10017X</td><td>2008</td><td>6/15/2008</td><td>67.5</td><td>Male  </td><td>White                    </td><td>179.1</td><td> 83.0</td><td>106</td><td>72</td><td>⋯</td><td>7.8935</td><td>36.262400</td><td> 4.1043</td><td>46.17690</td><td>-887.947</td><td>-792.397</td><td>0.57</td><td>2.748</td><td>4.827</td><td>2.178</td></tr>\n",
       "\t<tr><th scope=row>6</th><td>10022Q</td><td>2008</td><td>2/15/2008</td><td>69.8</td><td>Female</td><td>White                    </td><td>158.8</td><td> 78.0</td><td>122</td><td>78</td><td>⋯</td><td>5.1016</td><td>30.484400</td><td>-1.0000</td><td>-1.00000</td><td>-865.608</td><td>  -1.000</td><td>0.53</td><td>1.076</td><td>2.047</td><td>0.924</td></tr>\n",
       "\t<tr><th scope=row>7</th><td>10025W</td><td>2008</td><td>2/15/2008</td><td>68.9</td><td>Male  </td><td>Black or African American</td><td>168.9</td><td> 51.0</td><td>120</td><td>60</td><td>⋯</td><td>6.4421</td><td>51.156200</td><td>-1.0000</td><td>-1.00000</td><td>-906.021</td><td>  -1.000</td><td>0.27</td><td>0.718</td><td>2.697</td><td>0.596</td></tr>\n",
       "</tbody>\n",
       "</table>\n"
      ],
      "text/latex": [
       "A data.frame: 6 × 35\n",
       "\\begin{tabular}{r|lllllllllllllllllllll}\n",
       "  & sid & visit\\_year & visit\\_date & visit\\_age & gender & race & height\\_cm & weight\\_kg & sysBP & diasBP & ⋯ & total\\_lung\\_capacity & pct\\_emphysema & functional\\_residual\\_capacity & pct\\_gastrapping & insp\\_meanatt & exp\\_meanatt & FEV1\\_FVC\\_ratio & FEV1 & FVC & FEV1\\_phase2\\\\\n",
       "  & <chr> & <int> & <chr> & <dbl> & <chr> & <chr> & <dbl> & <dbl> & <int> & <int> & ⋯ & <dbl> & <dbl> & <dbl> & <dbl> & <dbl> & <dbl> & <dbl> & <dbl> & <dbl> & <dbl>\\\\\n",
       "\\hline\n",
       "\t1 & 10005Q & 2008 & 1/15/2008 & 54.5 & Female & White                     & 159.9 &  73.0 & 130 & 80 & ⋯ & 5.6636 &  0.926851 &  2.4766 &  6.80077 & -830.343 & -650.526 & 0.77 & 2.921 & 3.805 & 2.622\\\\\n",
       "\t3 & 10010J & 2008 & 1/15/2008 & 65.9 & Female & White                     & 162.1 &  62.8 &  96 & 63 & ⋯ & 5.1960 &  1.683760 &  3.8993 & 41.34930 & -833.429 & -789.595 & 0.53 & 1.008 & 1.909 & 1.087\\\\\n",
       "\t4 & 10015T & 2008 & 2/15/2008 & 59.6 & Male   & White                     & 182.9 & 110.0 & 142 & 88 & ⋯ & 6.3971 &  9.330450 & -1.0000 & -1.00000 & -841.315 &   -1.000 & 0.51 & 1.906 & 3.732 & 2.002\\\\\n",
       "\t5 & 10017X & 2008 & 6/15/2008 & 67.5 & Male   & White                     & 179.1 &  83.0 & 106 & 72 & ⋯ & 7.8935 & 36.262400 &  4.1043 & 46.17690 & -887.947 & -792.397 & 0.57 & 2.748 & 4.827 & 2.178\\\\\n",
       "\t6 & 10022Q & 2008 & 2/15/2008 & 69.8 & Female & White                     & 158.8 &  78.0 & 122 & 78 & ⋯ & 5.1016 & 30.484400 & -1.0000 & -1.00000 & -865.608 &   -1.000 & 0.53 & 1.076 & 2.047 & 0.924\\\\\n",
       "\t7 & 10025W & 2008 & 2/15/2008 & 68.9 & Male   & Black or African American & 168.9 &  51.0 & 120 & 60 & ⋯ & 6.4421 & 51.156200 & -1.0000 & -1.00000 & -906.021 &   -1.000 & 0.27 & 0.718 & 2.697 & 0.596\\\\\n",
       "\\end{tabular}\n"
      ],
      "text/markdown": [
       "\n",
       "A data.frame: 6 × 35\n",
       "\n",
       "| <!--/--> | sid &lt;chr&gt; | visit_year &lt;int&gt; | visit_date &lt;chr&gt; | visit_age &lt;dbl&gt; | gender &lt;chr&gt; | race &lt;chr&gt; | height_cm &lt;dbl&gt; | weight_kg &lt;dbl&gt; | sysBP &lt;int&gt; | diasBP &lt;int&gt; | ⋯ ⋯ | total_lung_capacity &lt;dbl&gt; | pct_emphysema &lt;dbl&gt; | functional_residual_capacity &lt;dbl&gt; | pct_gastrapping &lt;dbl&gt; | insp_meanatt &lt;dbl&gt; | exp_meanatt &lt;dbl&gt; | FEV1_FVC_ratio &lt;dbl&gt; | FEV1 &lt;dbl&gt; | FVC &lt;dbl&gt; | FEV1_phase2 &lt;dbl&gt; |\n",
       "|---|---|---|---|---|---|---|---|---|---|---|---|---|---|---|---|---|---|---|---|---|---|\n",
       "| 1 | 10005Q | 2008 | 1/15/2008 | 54.5 | Female | White                     | 159.9 |  73.0 | 130 | 80 | ⋯ | 5.6636 |  0.926851 |  2.4766 |  6.80077 | -830.343 | -650.526 | 0.77 | 2.921 | 3.805 | 2.622 |\n",
       "| 3 | 10010J | 2008 | 1/15/2008 | 65.9 | Female | White                     | 162.1 |  62.8 |  96 | 63 | ⋯ | 5.1960 |  1.683760 |  3.8993 | 41.34930 | -833.429 | -789.595 | 0.53 | 1.008 | 1.909 | 1.087 |\n",
       "| 4 | 10015T | 2008 | 2/15/2008 | 59.6 | Male   | White                     | 182.9 | 110.0 | 142 | 88 | ⋯ | 6.3971 |  9.330450 | -1.0000 | -1.00000 | -841.315 |   -1.000 | 0.51 | 1.906 | 3.732 | 2.002 |\n",
       "| 5 | 10017X | 2008 | 6/15/2008 | 67.5 | Male   | White                     | 179.1 |  83.0 | 106 | 72 | ⋯ | 7.8935 | 36.262400 |  4.1043 | 46.17690 | -887.947 | -792.397 | 0.57 | 2.748 | 4.827 | 2.178 |\n",
       "| 6 | 10022Q | 2008 | 2/15/2008 | 69.8 | Female | White                     | 158.8 |  78.0 | 122 | 78 | ⋯ | 5.1016 | 30.484400 | -1.0000 | -1.00000 | -865.608 |   -1.000 | 0.53 | 1.076 | 2.047 | 0.924 |\n",
       "| 7 | 10025W | 2008 | 2/15/2008 | 68.9 | Male   | Black or African American | 168.9 |  51.0 | 120 | 60 | ⋯ | 6.4421 | 51.156200 | -1.0000 | -1.00000 | -906.021 |   -1.000 | 0.27 | 0.718 | 2.697 | 0.596 |\n",
       "\n"
      ],
      "text/plain": [
       "  sid    visit_year visit_date visit_age gender race                     \n",
       "1 10005Q 2008       1/15/2008  54.5      Female White                    \n",
       "3 10010J 2008       1/15/2008  65.9      Female White                    \n",
       "4 10015T 2008       2/15/2008  59.6      Male   White                    \n",
       "5 10017X 2008       6/15/2008  67.5      Male   White                    \n",
       "6 10022Q 2008       2/15/2008  69.8      Female White                    \n",
       "7 10025W 2008       2/15/2008  68.9      Male   Black or African American\n",
       "  height_cm weight_kg sysBP diasBP ⋯ total_lung_capacity pct_emphysema\n",
       "1 159.9      73.0     130   80     ⋯ 5.6636               0.926851    \n",
       "3 162.1      62.8      96   63     ⋯ 5.1960               1.683760    \n",
       "4 182.9     110.0     142   88     ⋯ 6.3971               9.330450    \n",
       "5 179.1      83.0     106   72     ⋯ 7.8935              36.262400    \n",
       "6 158.8      78.0     122   78     ⋯ 5.1016              30.484400    \n",
       "7 168.9      51.0     120   60     ⋯ 6.4421              51.156200    \n",
       "  functional_residual_capacity pct_gastrapping insp_meanatt exp_meanatt\n",
       "1  2.4766                       6.80077        -830.343     -650.526   \n",
       "3  3.8993                      41.34930        -833.429     -789.595   \n",
       "4 -1.0000                      -1.00000        -841.315       -1.000   \n",
       "5  4.1043                      46.17690        -887.947     -792.397   \n",
       "6 -1.0000                      -1.00000        -865.608       -1.000   \n",
       "7 -1.0000                      -1.00000        -906.021       -1.000   \n",
       "  FEV1_FVC_ratio FEV1  FVC   FEV1_phase2\n",
       "1 0.77           2.921 3.805 2.622      \n",
       "3 0.53           1.008 1.909 1.087      \n",
       "4 0.51           1.906 3.732 2.002      \n",
       "5 0.57           2.748 4.827 2.178      \n",
       "6 0.53           1.076 2.047 0.924      \n",
       "7 0.27           0.718 2.697 0.596      "
      ]
     },
     "metadata": {},
     "output_type": "display_data"
    },
    {
     "data": {
      "text/html": [
       "4000"
      ],
      "text/latex": [
       "4000"
      ],
      "text/markdown": [
       "4000"
      ],
      "text/plain": [
       "[1] 4000"
      ]
     },
     "metadata": {},
     "output_type": "display_data"
    },
    {
     "data": {
      "text/html": [
       "1747"
      ],
      "text/latex": [
       "1747"
      ],
      "text/markdown": [
       "1747"
      ],
      "text/plain": [
       "[1] 1747"
      ]
     },
     "metadata": {},
     "output_type": "display_data"
    }
   ],
   "source": [
    "# 1.\n",
    "url = \"https://raw.githubusercontent.com/khasenst/datasets_teaching/main/copd_data_project.csv\"\n",
    "data = read.csv(url)\n",
    "head(data)\n",
    "nrow(data)\n",
    "\n",
    "# 2.\n",
    "dat1 = na.omit(data)\n",
    "head(dat1)\n",
    "nrow(dat1)\n",
    "\n",
    "# 3.\n",
    "test = data[data$FEV1_phase2 == \"NA\", ]\n",
    "nrow(test)\n",
    "\n",
    "# The raw dataset contains 5747 rows. After removing rows where any column data is na, there were 4000 rows remaining. This implies there were 1747 rows which contained na data. This was confirmed by finding that there are 1747 rows where FEV1_phase2 equals NA."
   ]
  },
  {
   "cell_type": "markdown",
   "metadata": {
    "id": "2WSzklevN-bB"
   },
   "source": [
    "<br>\n",
    "\n",
    "---\n",
    "\n",
    "<br>\n",
    "\n",
    "\n",
    "\n",
    "\n"
   ]
  },
  {
   "cell_type": "markdown",
   "metadata": {
    "id": "Ek6IuNtolHgW"
   },
   "source": [
    "####<font color=red>Task 1</font>  (4 points)\n",
    "\n",
    "1. Randomly partition `dat1` into training (`train`) and validation (`valid`) sets as done in lecture. It is convention to randomly select 70%-80% of your data for training and the remaining data for validation.\n",
    "  * A seed is not necessary in this case.\n",
    "  * None of the rows in the training dataset should be in the validation dataset"
   ]
  },
  {
   "cell_type": "code",
   "execution_count": 2,
   "metadata": {
    "colab": {
     "base_uri": "https://localhost:8080/",
     "height": 52
    },
    "id": "oCEvO1afisFg",
    "outputId": "a6d3b9f4-ec24-4235-e5f3-9372675b5192"
   },
   "outputs": [
    {
     "data": {
      "text/html": [
       "3000"
      ],
      "text/latex": [
       "3000"
      ],
      "text/markdown": [
       "3000"
      ],
      "text/plain": [
       "[1] 3000"
      ]
     },
     "metadata": {},
     "output_type": "display_data"
    },
    {
     "data": {
      "text/html": [
       "1000"
      ],
      "text/latex": [
       "1000"
      ],
      "text/markdown": [
       "1000"
      ],
      "text/plain": [
       "[1] 1000"
      ]
     },
     "metadata": {},
     "output_type": "display_data"
    }
   ],
   "source": [
    "# 1\n",
    "samp <- sample(1:nrow(dat1), 3000)\n",
    "train <- dat1[samp,]\n",
    "valid <- dat1[-samp,]\n",
    "\n",
    "nrow(train)\n",
    "nrow(valid)"
   ]
  },
  {
   "cell_type": "markdown",
   "metadata": {
    "id": "Y9G8IhaEFCFh"
   },
   "source": [
    "<br>\n",
    "\n",
    "---\n",
    "\n",
    "<br>\n",
    "\n",
    "\n",
    "\n",
    "\n"
   ]
  },
  {
   "cell_type": "markdown",
   "metadata": {
    "id": "g4lgEMDXGJ-s"
   },
   "source": [
    "####<font color=red>Task 2</font>  (8 points)\n",
    "\n",
    "1. Fit a random forest using the `train` dataset with `FEV1_phase2` as the dependent variable (y-variable).\n",
    "  * Try many different variable combinations\n",
    "  * Try altering the hyperparameters of the random forest (e.g., `ntree`, `mtry`, `nodesize`, `maxnodes`)\n",
    "  * Set `importance = TRUE` when fitting the random forest to determine variable importance in a later task\n",
    "  * Note that you must be more systematic with how you determine you hyperparameters due to the larger sample size - this is part of the challenge!\n",
    "2. Determine the best random forest model (i.e. the random forest that produces the smalles MSE on the validation set)\n"
   ]
  },
  {
   "cell_type": "code",
   "execution_count": 3,
   "metadata": {
    "colab": {
     "base_uri": "https://localhost:8080/"
    },
    "id": "7VXDAOU7isFh",
    "outputId": "c707f7e1-53f3-41e0-b488-bfd32f97cf8c"
   },
   "outputs": [
    {
     "name": "stderr",
     "output_type": "stream",
     "text": [
      "Installing package into 'C:/Users/dylan/AppData/Local/R/win-library/4.3'\n",
      "(as 'lib' is unspecified)\n",
      "\n"
     ]
    },
    {
     "name": "stdout",
     "output_type": "stream",
     "text": [
      "package 'randomForest' successfully unpacked and MD5 sums checked\n",
      "\n",
      "The downloaded binary packages are in\n",
      "\tC:\\Users\\dylan\\AppData\\Local\\Temp\\RtmpQrlYJ8\\downloaded_packages\n"
     ]
    },
    {
     "name": "stderr",
     "output_type": "stream",
     "text": [
      "randomForest 4.7-1.2\n",
      "\n",
      "Type rfNews() to see new features/changes/bug fixes.\n",
      "\n"
     ]
    }
   ],
   "source": [
    "install.packages(\"randomForest\")\n",
    "library(randomForest)"
   ]
  },
  {
   "cell_type": "code",
   "execution_count": 4,
   "metadata": {
    "id": "OQyYR7sEjUOE"
   },
   "outputs": [],
   "source": [
    "# random forest\n",
    "fit <- randomForest(FEV1_phase2 ~ .,\n",
    "                    data = train,\n",
    "                    importance = TRUE,\n",
    "\n",
    "                    # hyperparameters (change to improve predictions)\n",
    "                    ntree    = 250,  # number of trees to fit\n",
    "                    mtry     = 10,   # number of variables to sample per tree\n",
    "                    nodesize = 1,    # minimum size of terminal nodes\n",
    "                    maxnodes = NULL, # maximum number of terminal nodes a tree can have\n",
    "                    )"
   ]
  },
  {
   "cell_type": "code",
   "execution_count": 5,
   "metadata": {
    "id": "kQEIYc6kkM1L"
   },
   "outputs": [],
   "source": [
    "# Mean squared error function\n",
    "mse <- function(true, pred) {\n",
    "  return(mean((true - pred)^2))\n",
    "}"
   ]
  },
  {
   "cell_type": "code",
   "execution_count": 6,
   "metadata": {
    "colab": {
     "base_uri": "https://localhost:8080/",
     "height": 52
    },
    "id": "o7qhlXSGkBil",
    "outputId": "ad3797b8-9f51-4dd3-f351-3420cd307c5a"
   },
   "outputs": [
    {
     "data": {
      "text/html": [
       "0.080774728342888"
      ],
      "text/latex": [
       "0.080774728342888"
      ],
      "text/markdown": [
       "0.080774728342888"
      ],
      "text/plain": [
       "[1] 0.08077473"
      ]
     },
     "metadata": {},
     "output_type": "display_data"
    },
    {
     "data": {
      "text/html": [
       "0.284208951904911"
      ],
      "text/latex": [
       "0.284208951904911"
      ],
      "text/markdown": [
       "0.284208951904911"
      ],
      "text/plain": [
       "[1] 0.284209"
      ]
     },
     "metadata": {},
     "output_type": "display_data"
    }
   ],
   "source": [
    "# calculate MSE on validation dataset\n",
    "mse(valid$FEV1_phase2, predict(fit, newdata = valid))\n",
    "\n",
    "# calculate RMSE on validation dataset\n",
    "sqrt(mse(valid$FEV1_phase2, predict(fit, newdata = valid)))"
   ]
  },
  {
   "cell_type": "markdown",
   "metadata": {
    "id": "kH0EUHz3kO9n"
   },
   "source": [
    "Iter 1: ntree = 500, mtry = 10, nodesize = 1, maxnodes = NULL. MSE = 0.0849, RMSE = 0.291\n",
    "Iter 2: ntree = 1000, mtry = 10, nodesize = 1, maxnodes = NULL. MSE = 0.0852, RMSE = 0.292 (increase ntree to 1000, no difference)\n",
    "Iter 3: ntree = 500, mtry = 10, nodesize = 2, maxnodes = NULL. MSE = 0.0847, RMSE = 0.291 (increase nodesize to 2, no difference)\n",
    "Iter 4: ntree = 250, mtry = 5, nodesize = 1, maxnodes = NULL. MSE = 0.0905, RMSE = 0.301 (worst)\n",
    "Iter 5: ntree = 250, mtry = 10, nodesize = 1, maxnodes = NULL. MSE = 0.0845, RMSE = 0.291 (best)"
   ]
  },
  {
   "cell_type": "markdown",
   "metadata": {
    "id": "mIDO27fUHZaK"
   },
   "source": [
    "<br>\n",
    "\n",
    "---\n",
    "\n",
    "<br>\n",
    "\n",
    "\n",
    "\n",
    "\n"
   ]
  },
  {
   "cell_type": "markdown",
   "metadata": {
    "id": "kn6qTy3_6sOp"
   },
   "source": [
    "####<font color=red>Task 3</font>  (4 points)\n",
    "\n",
    "1. Explore the importance of the variables from your random forest model using the barplot covered in lecture.\n",
    "\n",
    "2. What are the three most important variables of your model? Does this make sense? Speculate as to why these these variables are important for prediction breathing ability (FEV1_phase2) in complete sentences. Do your best!\n",
    "\n",
    "\n"
   ]
  },
  {
   "cell_type": "code",
   "execution_count": 7,
   "metadata": {
    "colab": {
     "base_uri": "https://localhost:8080/",
     "height": 34
    },
    "id": "J9Q0_vOQmsWX",
    "outputId": "bf3d6693-fc37-43b7-f484-4302a654ddf9"
   },
   "outputs": [
    {
     "data": {
      "text/html": [
       "<style>\n",
       ".list-inline {list-style: none; margin:0; padding: 0}\n",
       ".list-inline>li {display: inline-block}\n",
       ".list-inline>li:not(:last-child)::after {content: \"\\00b7\"; padding: 0 .5ex}\n",
       "</style>\n",
       "<ol class=list-inline><li>'call'</li><li>'type'</li><li>'predicted'</li><li>'mse'</li><li>'rsq'</li><li>'oob.times'</li><li>'importance'</li><li>'importanceSD'</li><li>'localImportance'</li><li>'proximity'</li><li>'ntree'</li><li>'mtry'</li><li>'forest'</li><li>'coefs'</li><li>'y'</li><li>'test'</li><li>'inbag'</li><li>'terms'</li></ol>\n"
      ],
      "text/latex": [
       "\\begin{enumerate*}\n",
       "\\item 'call'\n",
       "\\item 'type'\n",
       "\\item 'predicted'\n",
       "\\item 'mse'\n",
       "\\item 'rsq'\n",
       "\\item 'oob.times'\n",
       "\\item 'importance'\n",
       "\\item 'importanceSD'\n",
       "\\item 'localImportance'\n",
       "\\item 'proximity'\n",
       "\\item 'ntree'\n",
       "\\item 'mtry'\n",
       "\\item 'forest'\n",
       "\\item 'coefs'\n",
       "\\item 'y'\n",
       "\\item 'test'\n",
       "\\item 'inbag'\n",
       "\\item 'terms'\n",
       "\\end{enumerate*}\n"
      ],
      "text/markdown": [
       "1. 'call'\n",
       "2. 'type'\n",
       "3. 'predicted'\n",
       "4. 'mse'\n",
       "5. 'rsq'\n",
       "6. 'oob.times'\n",
       "7. 'importance'\n",
       "8. 'importanceSD'\n",
       "9. 'localImportance'\n",
       "10. 'proximity'\n",
       "11. 'ntree'\n",
       "12. 'mtry'\n",
       "13. 'forest'\n",
       "14. 'coefs'\n",
       "15. 'y'\n",
       "16. 'test'\n",
       "17. 'inbag'\n",
       "18. 'terms'\n",
       "\n",
       "\n"
      ],
      "text/plain": [
       " [1] \"call\"            \"type\"            \"predicted\"       \"mse\"            \n",
       " [5] \"rsq\"             \"oob.times\"       \"importance\"      \"importanceSD\"   \n",
       " [9] \"localImportance\" \"proximity\"       \"ntree\"           \"mtry\"           \n",
       "[13] \"forest\"          \"coefs\"           \"y\"               \"test\"           \n",
       "[17] \"inbag\"           \"terms\"          "
      ]
     },
     "metadata": {},
     "output_type": "display_data"
    }
   ],
   "source": [
    "names(fit)"
   ]
  },
  {
   "cell_type": "code",
   "execution_count": 8,
   "metadata": {
    "colab": {
     "base_uri": "https://localhost:8080/",
     "height": 532
    },
    "id": "Dh1QcTPem6Ym",
    "outputId": "8e5e378a-633c-49e7-c9c4-a7865214aa33"
   },
   "outputs": [
    {
     "name": "stdout",
     "output_type": "stream",
     "text": [
      "          FEV1            FVC FEV1_FVC_ratio \n",
      "     1.0000000      0.2546126      0.1571986 \n"
     ]
    },
    {
     "data": {
      "image/png": "[encoded data removed]",
      "text/plain": [
       "plot without title"
      ]
     },
     "metadata": {
      "image/png": {
       "height": 480,
       "width": 720
      }
     },
     "output_type": "display_data"
    }
   ],
   "source": [
    "# 1.\n",
    "options(repr.plot.width = 12, repr.plot.height = 8)\n",
    "\n",
    "importance <- fit$importance[, 1]\n",
    "importance <- sort(importance, decreasing = TRUE) / max(importance)\n",
    "barplot(importance)\n",
    "\n",
    "# 2.\n",
    "print(importance[1:3])\n",
    "\n",
    "# The three most important variavbles to my random forest model were FEV1, FVC,\n",
    "# and FEV1_FVC_ratio in that order. This makes sense because someone's 1 second\n",
    "# expiratory volume at followup (FEV1_phase2) is most likely correlated to their\n",
    "# initial FEV1. Additionally, a patients total expiratory volume (FVC) is likely\n",
    "# a good indicator of 1 second expiratory volume at followup as well."
   ]
  },
  {
   "cell_type": "markdown",
   "metadata": {
    "id": "iqtQXMDfcX4g"
   },
   "source": [
    "<br>\n",
    "\n",
    "---\n",
    "\n",
    "<br>\n",
    "\n",
    "\n",
    "\n",
    "\n"
   ]
  },
  {
   "cell_type": "markdown",
   "metadata": {
    "id": "n8T6qZRtcX4h"
   },
   "source": [
    "####<font color=red>Task 4</font>  (3 points)\n",
    "\n",
    "1. Using your final model, predict `FEV1_phase2` on your `train` dataset. Show the MSE.\n",
    "2. Using your final model, predict `FEV1_phase2` on your `valid` dataset. Show the MSE.\n",
    "3. Is your model overfitting or underfitting?\n",
    "\n",
    "\n"
   ]
  },
  {
   "cell_type": "code",
   "execution_count": 9,
   "metadata": {
    "colab": {
     "base_uri": "https://localhost:8080/",
     "height": 52
    },
    "id": "mHBVR2ruisFh",
    "outputId": "c79496e4-d6d9-4f63-f0a1-96c6c982b98e"
   },
   "outputs": [
    {
     "data": {
      "text/html": [
       "0.0122708171089"
      ],
      "text/latex": [
       "0.0122708171089"
      ],
      "text/markdown": [
       "0.0122708171089"
      ],
      "text/plain": [
       "[1] 0.01227082"
      ]
     },
     "metadata": {},
     "output_type": "display_data"
    },
    {
     "data": {
      "text/html": [
       "0.080774728342888"
      ],
      "text/latex": [
       "0.080774728342888"
      ],
      "text/markdown": [
       "0.080774728342888"
      ],
      "text/plain": [
       "[1] 0.08077473"
      ]
     },
     "metadata": {},
     "output_type": "display_data"
    }
   ],
   "source": [
    "# MSE of train\n",
    "mse(train$FEV1_phase2, predict(fit, newdata = train))\n",
    "\n",
    "# MSE of valid\n",
    "mse(valid$FEV1_phase2, predict(fit, newdata = valid))\n",
    "\n",
    "# The MSE of the model on the train df is 0.0119, the MSE of the model on the\n",
    "# validation df is 0.0845. This is roughly an 8x increase in MSE and likely\n",
    "# indicated overfitting of the model to the training set compared to its\n",
    "# performance on the validation set."
   ]
  },
  {
   "cell_type": "markdown",
   "metadata": {
    "id": "AewrTDcEZu7k"
   },
   "source": [
    "<br>\n",
    "\n",
    "---\n",
    "\n",
    "<br>\n",
    "\n",
    "\n",
    "\n",
    "\n"
   ]
  },
  {
   "cell_type": "markdown",
   "metadata": {
    "id": "is2BePI3Zu7m"
   },
   "source": [
    "####<font color=red>Task 5</font>  (7 points)\n",
    "\n",
    "1. Using your final model, predict `FEV1_phase2` on your `test` dataset and store as `FEV1_phase2_predictions`.\n",
    "\n",
    "2. Create a dataframe with two columns: the `sid` column from `test` and the `FEV1_phase2_predictions` from Task 2.2.\n",
    "\n",
    "\n",
    "```\n",
    "preds <- data.frame(sid = test$sid, FEV1_phase2_predictions)\n",
    "```\n",
    "\n",
    "3. Write the csv file to disk for submission to Canvas.\n",
    "\n",
    "\n",
    "```\n",
    "write.csv(preds, 'copd_predictions.csv')\n",
    "```\n",
    "\n",
    "The `write.csv` function writes the predictions to a csv file in Google Drive. The file is located under the folder icon on the left side of your screen.\n",
    "\n",
    "4. Open the folder icon, then right click on the file and download the predictions to your computer for submission to Canvas.\n",
    "\n",
    "\n",
    "\n"
   ]
  },
  {
   "cell_type": "code",
   "execution_count": 10,
   "metadata": {
    "id": "FBgvcrVZrDlJ"
   },
   "outputs": [],
   "source": [
    "# 1.\n",
    "FEV1_phase2_predictions = predict(fit, newdata = test)\n",
    "\n",
    "# 2.\n",
    "preds = data.frame(sid = test$sid, FEV1_phase2_predictions)\n",
    "\n",
    "# 3.\n",
    "write.csv(preds, 'copd_predictions.csv')"
   ]
  },
  {
   "cell_type": "code",
   "execution_count": null,
   "metadata": {},
   "outputs": [],
   "source": []
  }
 ],
 "metadata": {
  "colab": {
   "provenance": []
  },
  "kernelspec": {
   "display_name": "R 4.3.3",
   "language": "R",
   "name": "ir433"
  },
  "language_info": {
   "codemirror_mode": "r",
   "file_extension": ".r",
   "mimetype": "text/x-r-source",
   "name": "R",
   "pygments_lexer": "r",
   "version": "4.3.3"
  }
 },
 "nbformat": 4,
 "nbformat_minor": 4
}
