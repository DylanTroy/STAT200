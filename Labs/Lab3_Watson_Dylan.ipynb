{
 "cells": [
  {
   "cell_type": "markdown",
   "metadata": {
    "id": "gtETsh5j8vHw"
   },
   "source": [
    "# **Lab 3: Functions and Loops (20 points)**\n",
    "\n",
    "#### **Dylan Watson**\n"
   ]
  },
  {
   "cell_type": "markdown",
   "metadata": {
    "id": "ZXUOzh4drf3V"
   },
   "source": [
    "\n",
    "\n",
    "\n",
    "<br>\n",
    "\n",
    "\n"
   ]
  },
  {
   "cell_type": "markdown",
   "metadata": {
    "id": "en9tcPcGuFyc"
   },
   "source": [
    "---\n",
    "\n",
    "**IMPORTANT**: \n",
    "- Before starting the lab, save a copy to your google drive by navigating to `File > Save a copy in Drive` <br>\n",
    "- Then rename the copied file `Lab#_LASTNAME_FIRSTNAME.ipynb` where # is the lab assignment number, LASTNAME is your last name, and FIRSTNAME is your first name.\n",
    "\n",
    "<br>\n",
    "\n",
    "\n",
    "**Instructions**: Complete the lab below.\n",
    "\n",
    "- <font color=red>Tasks</font> indicated in red must be completed to receive credit\n",
    "- Include all code for your work\n",
    "- Include markdown cells with written answers explaining your work when prompted\n",
    "- **NOTE: Your completed lab must be submitted to Canvas as a .ipynb file by the end of the lab session**\n",
    "---"
   ]
  },
  {
   "cell_type": "markdown",
   "metadata": {
    "id": "tXswIim-D1O7"
   },
   "source": [
    "<br>\n",
    "\n",
    "<br>\n",
    "\n",
    "\n",
    "\n",
    "\n"
   ]
  },
  {
   "cell_type": "markdown",
   "metadata": {
    "id": "yT0IGpCcpsw8"
   },
   "source": [
    "####<font color=red>Organized</font> (1 points)\n",
    "* Answers should be organized in the following format for organization and readability\n",
    "\n",
    "<br>\n",
    "\n",
    "```\n",
    "# 1. \n",
    "This will be the code block to answer the first part of a task\n",
    "```\n",
    "\n",
    "1. This will be the text answer/explanation (if prompted) for the first task\n",
    "\n",
    "<br>\n",
    "\n",
    "```\n",
    "# 2. \n",
    "This will be the code block to answer the second part of a task in a separate code cell\n",
    "```\n",
    "\n",
    "2. This will be the text answer/explanation (if prompted) for the second task\n",
    "\n",
    "<br>\n",
    "\n",
    "Continue this format for the remaining subtasks\n"
   ]
  },
  {
   "cell_type": "markdown",
   "metadata": {
    "id": "YfKhJv3Q1PBh"
   },
   "source": [
    "<br>\n",
    "\n",
    "---\n",
    "\n",
    "<br>\n",
    "\n",
    "\n",
    "\n",
    "\n"
   ]
  },
  {
   "cell_type": "markdown",
   "metadata": {
    "id": "Ek6IuNtolHgW"
   },
   "source": [
    "####<font color=red>Task 1</font>  (6 points)\n",
    "\n",
    "1. (4 points) Create a function `quadratic_formula` that has the following attributes\n",
    "* Input: Three single numbers `a`, `b`, `c` as function arguments\n",
    "* Ouput: The solution to the qudratic equation\n",
    "  * $\\begin{align*}\n",
    "\\frac{-b \\pm \\sqrt{b^2 - 4ac}} {2a}\n",
    "\\end{align*}$\n",
    "* Us `if` statements to potentially return three types of function outputs\n",
    "  1. If $b^2 - 4ac$ is zero, only return the one solution/number\n",
    "  2. If $b^2 - 4ac$ is less than zero, print a statement saying there are no zeros that are real numbers\n",
    "  3. If $b^2 - 4ac$ is greater than zero, return the two real zeros as a single vector\n",
    "\n",
    "<br>\n",
    "\n",
    "2. (2 points) Run the following commands to confirm answers\n",
    "```\n",
    "quadratic_formula(1, 0, 0)\n",
    "```\n",
    "```\n",
    "quadratic_formula(1, 0, 1)\n",
    "```\n",
    "```\n",
    "quadratic_formula(1, 0, -1)\n",
    "```\n"
   ]
  },
  {
   "cell_type": "code",
   "execution_count": 1,
   "metadata": {},
   "outputs": [
    {
     "name": "stdout",
     "output_type": "stream",
     "text": [
      "[1] 0\n",
      "[1] \"no zeros that are real numbers\"\n",
      "[1]  1 -1\n"
     ]
    }
   ],
   "source": [
    "quadratic_formula = function(a, b, c) {\n",
    "    discriminant = b^2 - 4 * a * c\n",
    "    if (discriminant > 0) {\n",
    "        result = (-b + c( sqrt(discriminant), -sqrt(discriminant) ) ) / (2 * a)\n",
    "    } else if (discriminant < 0) {\n",
    "        result = \"no zeros that are real numbers\"\n",
    "    } else {\n",
    "        result = -b / (2 * a) \n",
    "    }\n",
    "    return(result)\n",
    "}\n",
    "\n",
    "print(quadratic_formula(1, 0, 0))\n",
    "print(quadratic_formula(1, 0, 1))\n",
    "print(quadratic_formula(1, 0, -1))"
   ]
  },
  {
   "cell_type": "markdown",
   "metadata": {},
   "source": [
    "First output is 0, second is no real num zeros, third is (-1, 1)."
   ]
  },
  {
   "cell_type": "markdown",
   "metadata": {
    "id": "FyFpTewWOVNF"
   },
   "source": [
    "<br>"
   ]
  },
  {
   "cell_type": "markdown",
   "metadata": {
    "id": "xcFFteDyOWcd"
   },
   "source": [
    "####<font color=red>Task 2</font>  (5 points)\n",
    "\n",
    "1. (3 points) Create a function `avg_diff` that has the following attributes\n",
    "  * Inputs:\n",
    "    * vector1 - a numeric vector\n",
    "    * vector2 - a numeric vector\n",
    "  * Ouput: A list of three objects providing\n",
    "    1. the difference between the two vectors\n",
    "    2. the average difference between the two vectors\n",
    "    3. the length of the first vector\n",
    "    * `if` vectors are not the same length, do not perform the calculation. Instead, print a warning statement that the vectors are not the same length\n",
    "\n",
    "<br>\n",
    "\n",
    "2. (2 points) Run the following commands to confirm answers\n",
    "```\n",
    "vec1 <- c(1, 2, 3, 4, 5, 6)\n",
    "vec2 <- c(0, 1, 2, 3, 4, 5)\n",
    "avg_diff(vec1, vec2)\n",
    "```\n",
    "```\n",
    "vec1 <- c(1, 2, 3, 4, 5, 6)\n",
    "vec2 <- c(0, 1, 2, 3, 4)\n",
    "avg_diff(vec1, vec2)\n",
    "```\n"
   ]
  },
  {
   "cell_type": "code",
   "execution_count": 2,
   "metadata": {},
   "outputs": [
    {
     "name": "stdout",
     "output_type": "stream",
     "text": [
      "[1] -1 -1 -1 -1 -1 -1 -1  6\n",
      "[1] \"Vectors are not the same length\"\n"
     ]
    }
   ],
   "source": [
    "avg_diff = function(vector1, vector2) {\n",
    "    if ( length(vector1) == length(vector2) ) {\n",
    "        vector_diff = vector2 - vector1\n",
    "        vector_diff_avg = mean(vector_diff)\n",
    "        vector_diff_len = length(vector1)\n",
    "        return( c(vector_diff, vector_diff_avg, vector_diff_len) )\n",
    "    } else {\n",
    "        return(\"Vectors are not the same length\")\n",
    "    }\n",
    "}\n",
    "\n",
    "vec1 <- c(1, 2, 3, 4, 5, 6)\n",
    "vec2 <- c(0, 1, 2, 3, 4, 5)\n",
    "print(avg_diff(vec1, vec2))\n",
    "vec1 <- c(1, 2, 3, 4, 5, 6)\n",
    "vec2 <- c(0, 1, 2, 3, 4)\n",
    "print(avg_diff(vec1, vec2))"
   ]
  },
  {
   "cell_type": "markdown",
   "metadata": {},
   "source": [
    "First output is a vector (-1, -1, -1, -1, -1, -1) followed by an avg diff of -1 and a length of 6. Second output is vectors are not the same length."
   ]
  },
  {
   "cell_type": "markdown",
   "metadata": {
    "id": "tH4kGY38L35X"
   },
   "source": [
    "<br>\n",
    "\n",
    "---\n",
    "\n",
    "<br>\n",
    "\n",
    "\n",
    "\n",
    "\n"
   ]
  },
  {
   "cell_type": "markdown",
   "metadata": {
    "id": "KWXGuzqk4Yz8"
   },
   "source": [
    "####<font color=red>Task 3</font>  (5 points)\n",
    "\n",
    "1. (1 point) From the `mtcars` dataset, find the unique values of the `gear` variable. Print.\n",
    "\n",
    "2. (2 point) Use a `for` loop to find the average `hp` for each unique `gear`. Show code and output.\n",
    "\n",
    "3. (1 point) Which number of gears is associated with the highest horse power `hp`? State in a complete sentence.\n",
    "\n",
    "4. (1 point) Which cars have 5 forward gears? State in a complete sentence.\n"
   ]
  },
  {
   "cell_type": "code",
   "execution_count": 3,
   "metadata": {},
   "outputs": [
    {
     "name": "stdout",
     "output_type": "stream",
     "text": [
      "[1] 4 3 5\n",
      "[1]  89.5000 176.1333 195.6000\n"
     ]
    },
    {
     "data": {
      "text/html": [
       "<table class=\"dataframe\">\n",
       "<caption>A data.frame: 5 × 2</caption>\n",
       "<thead>\n",
       "\t<tr><th></th><th scope=col>hp</th><th scope=col>gear</th></tr>\n",
       "\t<tr><th></th><th scope=col>&lt;dbl&gt;</th><th scope=col>&lt;dbl&gt;</th></tr>\n",
       "</thead>\n",
       "<tbody>\n",
       "\t<tr><th scope=row>Porsche 914-2</th><td> 91</td><td>5</td></tr>\n",
       "\t<tr><th scope=row>Lotus Europa</th><td>113</td><td>5</td></tr>\n",
       "\t<tr><th scope=row>Ford Pantera L</th><td>264</td><td>5</td></tr>\n",
       "\t<tr><th scope=row>Ferrari Dino</th><td>175</td><td>5</td></tr>\n",
       "\t<tr><th scope=row>Maserati Bora</th><td>335</td><td>5</td></tr>\n",
       "</tbody>\n",
       "</table>\n"
      ],
      "text/latex": [
       "A data.frame: 5 × 2\n",
       "\\begin{tabular}{r|ll}\n",
       "  & hp & gear\\\\\n",
       "  & <dbl> & <dbl>\\\\\n",
       "\\hline\n",
       "\tPorsche 914-2 &  91 & 5\\\\\n",
       "\tLotus Europa & 113 & 5\\\\\n",
       "\tFord Pantera L & 264 & 5\\\\\n",
       "\tFerrari Dino & 175 & 5\\\\\n",
       "\tMaserati Bora & 335 & 5\\\\\n",
       "\\end{tabular}\n"
      ],
      "text/markdown": [
       "\n",
       "A data.frame: 5 × 2\n",
       "\n",
       "| <!--/--> | hp &lt;dbl&gt; | gear &lt;dbl&gt; |\n",
       "|---|---|---|\n",
       "| Porsche 914-2 |  91 | 5 |\n",
       "| Lotus Europa | 113 | 5 |\n",
       "| Ford Pantera L | 264 | 5 |\n",
       "| Ferrari Dino | 175 | 5 |\n",
       "| Maserati Bora | 335 | 5 |\n",
       "\n"
      ],
      "text/plain": [
       "               hp  gear\n",
       "Porsche 914-2   91 5   \n",
       "Lotus Europa   113 5   \n",
       "Ford Pantera L 264 5   \n",
       "Ferrari Dino   175 5   \n",
       "Maserati Bora  335 5   "
      ]
     },
     "metadata": {},
     "output_type": "display_data"
    }
   ],
   "source": [
    "data(mtcars)\n",
    "\n",
    "unique_gear = unique(mtcars$gear)\n",
    "print(unique_gear)\n",
    "\n",
    "unique_gear_hp_means = c()\n",
    "for(i in unique_gear) {\n",
    "    unique_gear_hp_means = c( unique_gear_hp_means, mean(mtcars$hp[mtcars$gear == i]) )\n",
    "}\n",
    "print(unique_gear_hp_means)\n",
    "\n",
    "cars_five_gears = mtcars[mtcars$gear == 5, c(4, 10)]\n",
    "cars_five_gears"
   ]
  },
  {
   "cell_type": "markdown",
   "metadata": {},
   "source": [
    "The unique gears are 3, 4, and 5. The avg hp of cars with each number of gears respectively are 176.133, 89.5, and 195.6. The cars with 5 gears are the Porsche 914-2, Lotus Europa, Ford PAntera L, Ferrari Dino, and Maserati Bora."
   ]
  },
  {
   "cell_type": "markdown",
   "metadata": {},
   "source": []
  },
  {
   "cell_type": "markdown",
   "metadata": {
    "id": "7NG50I2s8m3k"
   },
   "source": [
    "<br>\n",
    "\n",
    "---\n",
    "\n",
    "<br>\n",
    "\n",
    "\n",
    "\n",
    "\n"
   ]
  },
  {
   "cell_type": "markdown",
   "metadata": {
    "id": "jim8jaDe8m3z"
   },
   "source": [
    "####<font color=red>Task 4</font>  (3 points)\n",
    "\n",
    "1. (1 point) Use `tapply` to find the average `hp` for each unique number of forward gears (`gear`). Show code and output.\n",
    "\n",
    "2. (1 point) Create a dataframe with two columns. One column should be unique `gear`. One column should be average `hp`\n",
    "\n",
    "3. (1 point) Compare to the answer for task 3.2. Are they the same? Which approach is more efficient? Explain."
   ]
  },
  {
   "cell_type": "code",
   "execution_count": 4,
   "metadata": {},
   "outputs": [
    {
     "data": {
      "text/html": [
       "<table class=\"dataframe\">\n",
       "<caption>A data.frame: 3 × 2</caption>\n",
       "<thead>\n",
       "\t<tr><th></th><th scope=col>Gears</th><th scope=col>MeanHP</th></tr>\n",
       "\t<tr><th></th><th scope=col>&lt;dbl&gt;</th><th scope=col>&lt;dbl&gt;</th></tr>\n",
       "</thead>\n",
       "<tbody>\n",
       "\t<tr><th scope=row>3</th><td>4</td><td>176.1333</td></tr>\n",
       "\t<tr><th scope=row>4</th><td>3</td><td> 89.5000</td></tr>\n",
       "\t<tr><th scope=row>5</th><td>5</td><td>195.6000</td></tr>\n",
       "</tbody>\n",
       "</table>\n"
      ],
      "text/latex": [
       "A data.frame: 3 × 2\n",
       "\\begin{tabular}{r|ll}\n",
       "  & Gears & MeanHP\\\\\n",
       "  & <dbl> & <dbl>\\\\\n",
       "\\hline\n",
       "\t3 & 4 & 176.1333\\\\\n",
       "\t4 & 3 &  89.5000\\\\\n",
       "\t5 & 5 & 195.6000\\\\\n",
       "\\end{tabular}\n"
      ],
      "text/markdown": [
       "\n",
       "A data.frame: 3 × 2\n",
       "\n",
       "| <!--/--> | Gears &lt;dbl&gt; | MeanHP &lt;dbl&gt; |\n",
       "|---|---|---|\n",
       "| 3 | 4 | 176.1333 |\n",
       "| 4 | 3 |  89.5000 |\n",
       "| 5 | 5 | 195.6000 |\n",
       "\n"
      ],
      "text/plain": [
       "  Gears MeanHP  \n",
       "3 4     176.1333\n",
       "4 3      89.5000\n",
       "5 5     195.6000"
      ]
     },
     "metadata": {},
     "output_type": "display_data"
    }
   ],
   "source": [
    "gear_hp_means_2 = data.frame(Gears = unique(mtcars$gear), MeanHP = tapply(mtcars$hp, mtcars$gear, mean))\n",
    "gear_hp_means_2"
   ]
  },
  {
   "cell_type": "markdown",
   "metadata": {
    "id": "jPahgppx4Nk1"
   },
   "source": [
    "<br>"
   ]
  },
  {
   "cell_type": "markdown",
   "metadata": {},
   "source": [
    "Compared to task 3.2, the results are identical. The method of using a tapply function is significantly easier to both write and read. I would consider tapply to be more efficient."
   ]
  },
  {
   "cell_type": "code",
   "execution_count": null,
   "metadata": {},
   "outputs": [],
   "source": []
  }
 ],
 "metadata": {
  "colab": {
   "provenance": [
    {
     "file_id": "1GSNhUwEVzRoeXaygW8UJtUipRT1sQ3G0",
     "timestamp": 1609981963177
    },
    {
     "file_id": "1BYnnbqeyZAlYnxR9IHC8tpW07EpDeyKR",
     "timestamp": 1609974285905
    }
   ]
  },
  "kernelspec": {
   "display_name": "R 4.3.3",
   "language": "R",
   "name": "ir433"
  },
  "language_info": {
   "codemirror_mode": "r",
   "file_extension": ".r",
   "mimetype": "text/x-r-source",
   "name": "R",
   "pygments_lexer": "r",
   "version": "4.3.3"
  }
 },
 "nbformat": 4,
 "nbformat_minor": 4
}
