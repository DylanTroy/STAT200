{
 "cells": [
  {
   "cell_type": "markdown",
   "metadata": {
    "id": "gtETsh5j8vHw"
   },
   "source": [
    "# **Lab 4: Working with JSON Format (22 points)**\n",
    "\n",
    "#### **Dylan Watson**\n"
   ]
  },
  {
   "cell_type": "markdown",
   "metadata": {
    "id": "en9tcPcGuFyc"
   },
   "source": [
    "---\n",
    "\n",
    "**IMPORTANT**:\n",
    "- Before starting the lab, save a copy to your google drive by navigating to `File > Save a copy in Drive` <br>\n",
    "- Then rename the copied file `Lab#_LASTNAME_FIRSTNAME.ipynb` where # is the lab assignment number, LASTNAME is your last name, and FIRSTNAME is your first name.\n",
    "\n",
    "<br>\n",
    "\n",
    "\n",
    "**Instructions**: Complete the lab below.\n",
    "\n",
    "- <font color=red>Tasks</font> indicated in red must be completed to receive credit\n",
    "- Include all code for your work\n",
    "- Include markdown cells with written answers explaining your work when prompted\n",
    "- **NOTE: Your completed lab must be submitted to Canvas as a .ipynb file by the end of the lab session**\n",
    "---"
   ]
  },
  {
   "cell_type": "markdown",
   "metadata": {
    "id": "ZXUOzh4drf3V"
   },
   "source": [
    "\n",
    "\n",
    "\n",
    "<br>\n",
    "\n",
    "\n"
   ]
  },
  {
   "cell_type": "markdown",
   "metadata": {
    "id": "MfKT4gy91QKV"
   },
   "source": [
    "####<font color=red>Organized</font> (1 points)\n",
    "* Answers should be organized in the following format for organization and readability\n",
    "\n",
    "<br>\n",
    "\n",
    "```\n",
    "# 1.\n",
    "This will be the code block to answer the first part of a task\n",
    "```\n",
    "\n",
    "1. This will be the text answer/explanation (if prompted) for the first task\n",
    "\n",
    "```\n",
    "# 2.\n",
    "This will be the code block to answer the second part of a task in a separate code cell\n",
    "```\n",
    "\n",
    "2. This will be the text answer/explanation (if prompted) for the second task\n",
    "\n",
    "<br>\n",
    "\n",
    "Continue this format for the remaining subtasks\n"
   ]
  },
  {
   "cell_type": "markdown",
   "metadata": {
    "id": "YfKhJv3Q1PBh"
   },
   "source": [
    "<br>\n",
    "\n",
    "---\n",
    "\n",
    "<br>\n",
    "\n",
    "\n",
    "\n",
    "\n"
   ]
  },
  {
   "cell_type": "markdown",
   "metadata": {
    "id": "hnldBRJq1FPT"
   },
   "source": [
    "The following packages are needed to complete the lab"
   ]
  },
  {
   "cell_type": "code",
   "execution_count": 1,
   "metadata": {
    "id": "PZjQNlGT1H97"
   },
   "outputs": [
    {
     "name": "stderr",
     "output_type": "stream",
     "text": [
      "Installing package into 'C:/Users/dylan/AppData/Local/R/win-library/4.3'\n",
      "(as 'lib' is unspecified)\n",
      "\n"
     ]
    },
    {
     "name": "stdout",
     "output_type": "stream",
     "text": [
      "package 'RCurl' successfully unpacked and MD5 sums checked\n"
     ]
    },
    {
     "name": "stderr",
     "output_type": "stream",
     "text": [
      "Warning message:\n",
      "\"cannot remove prior installation of package 'RCurl'\"\n",
      "Warning message in file.copy(savedcopy, lib, recursive = TRUE):\n",
      "\"problem copying C:\\Users\\dylan\\AppData\\Local\\R\\win-library\\4.3\\00LOCK\\RCurl\\libs\\x64\\RCurl.dll to C:\\Users\\dylan\\AppData\\Local\\R\\win-library\\4.3\\RCurl\\libs\\x64\\RCurl.dll: Permission denied\"\n",
      "Warning message:\n",
      "\"restored 'RCurl'\"\n"
     ]
    },
    {
     "name": "stdout",
     "output_type": "stream",
     "text": [
      "\n",
      "The downloaded binary packages are in\n",
      "\tC:\\Users\\dylan\\AppData\\Local\\Temp\\Rtmp8yOKmq\\downloaded_packages\n"
     ]
    },
    {
     "name": "stderr",
     "output_type": "stream",
     "text": [
      "Installing package into 'C:/Users/dylan/AppData/Local/R/win-library/4.3'\n",
      "(as 'lib' is unspecified)\n",
      "\n"
     ]
    },
    {
     "name": "stdout",
     "output_type": "stream",
     "text": [
      "package 'RJSONIO' successfully unpacked and MD5 sums checked\n"
     ]
    },
    {
     "name": "stderr",
     "output_type": "stream",
     "text": [
      "Warning message:\n",
      "\"cannot remove prior installation of package 'RJSONIO'\"\n",
      "Warning message in file.copy(savedcopy, lib, recursive = TRUE):\n",
      "\"problem copying C:\\Users\\dylan\\AppData\\Local\\R\\win-library\\4.3\\00LOCK\\RJSONIO\\libs\\x64\\RJSONIO.dll to C:\\Users\\dylan\\AppData\\Local\\R\\win-library\\4.3\\RJSONIO\\libs\\x64\\RJSONIO.dll: Permission denied\"\n",
      "Warning message:\n",
      "\"restored 'RJSONIO'\"\n"
     ]
    },
    {
     "name": "stdout",
     "output_type": "stream",
     "text": [
      "\n",
      "The downloaded binary packages are in\n",
      "\tC:\\Users\\dylan\\AppData\\Local\\Temp\\Rtmp8yOKmq\\downloaded_packages\n"
     ]
    }
   ],
   "source": [
    "install.packages(\"RCurl\")    # package for working with urls\n",
    "install.packages(\"RJSONIO\")  # package for working with json files"
   ]
  },
  {
   "cell_type": "code",
   "execution_count": 2,
   "metadata": {
    "id": "D4GcqT2t1I3T"
   },
   "outputs": [],
   "source": [
    "library(RCurl)\n",
    "library(RJSONIO)"
   ]
  },
  {
   "cell_type": "markdown",
   "metadata": {
    "id": "2AKZLz1D1NYG"
   },
   "source": [
    "<br>\n",
    "\n",
    "---\n",
    "\n",
    "<br>\n",
    "\n",
    "\n",
    "\n",
    "\n"
   ]
  },
  {
   "cell_type": "markdown",
   "metadata": {
    "id": "Ek6IuNtolHgW"
   },
   "source": [
    "####<font color=red>Task 1</font>  (2 points)\n",
    "\n",
    "In this lab, we will work with data from the National Oceanic and Atmospheric Administration (NOAA). The data includes yearly departures from a baseline reference temperature from 1880 to 2016.\n",
    "\n",
    "1. Load the JSON weather data from this [url](https://raw.githubusercontent.com/khasenst/datasets_teaching/main/weather.json) into R as a list called `weather_list`.\n",
    "2. Print the class of `weather_list`.\n"
   ]
  },
  {
   "cell_type": "code",
   "execution_count": 3,
   "metadata": {},
   "outputs": [
    {
     "data": {
      "text/html": [
       "'list'"
      ],
      "text/latex": [
       "'list'"
      ],
      "text/markdown": [
       "'list'"
      ],
      "text/plain": [
       "[1] \"list\""
      ]
     },
     "metadata": {},
     "output_type": "display_data"
    }
   ],
   "source": [
    "url = \"https://raw.githubusercontent.com/khasenst/datasets_teaching/main/weather.json\"\n",
    "weather_list = fromJSON(url)\n",
    "class(weather_list)"
   ]
  },
  {
   "cell_type": "markdown",
   "metadata": {
    "id": "3IIpgatI3tCV"
   },
   "source": [
    "<br>\n",
    "\n",
    "---\n",
    "\n",
    "<br>\n",
    "\n",
    "\n",
    "\n",
    "\n"
   ]
  },
  {
   "cell_type": "markdown",
   "metadata": {
    "id": "bSdyVT2t3tCt"
   },
   "source": [
    "####<font color=red>Task 2</font> (4 points)\n",
    "\n",
    "1. Use the `names()` function to determine list contents. Print these names.\n",
    "\n",
    "<br>\n",
    "\n",
    "2. There should be a list item called `description`, which includes details about the data. From this list item (`weather_list$description`), identify the units of measurement. State your answer in a complete sentence.\n",
    "\n",
    "<br>\n",
    "\n",
    "3. Which number denotes a missing value in the dataset? Answer in a complete sentence.\n",
    "\n",
    "<br>\n",
    "\n",
    "4. Temperature departures are measured as the deviation from the average temperature across a base time period. What is the base period in this dataset? State in a complete sentence."
   ]
  },
  {
   "cell_type": "code",
   "execution_count": 4,
   "metadata": {},
   "outputs": [
    {
     "data": {
      "text/html": [
       "<style>\n",
       ".list-inline {list-style: none; margin:0; padding: 0}\n",
       ".list-inline>li {display: inline-block}\n",
       ".list-inline>li:not(:last-child)::after {content: \"\\00b7\"; padding: 0 .5ex}\n",
       "</style>\n",
       "<ol class=list-inline><li>'description'</li><li>'data'</li></ol>\n"
      ],
      "text/latex": [
       "\\begin{enumerate*}\n",
       "\\item 'description'\n",
       "\\item 'data'\n",
       "\\end{enumerate*}\n"
      ],
      "text/markdown": [
       "1. 'description'\n",
       "2. 'data'\n",
       "\n",
       "\n"
      ],
      "text/plain": [
       "[1] \"description\" \"data\"       "
      ]
     },
     "metadata": {},
     "output_type": "display_data"
    },
    {
     "data": {
      "text/html": [
       "<dl>\n",
       "\t<dt>$title</dt>\n",
       "\t\t<dd>'Global Land and Ocean Temperature Anomalies, January-December'</dd>\n",
       "\t<dt>$units</dt>\n",
       "\t\t<dd>'Degrees Celsius'</dd>\n",
       "\t<dt>$base_period</dt>\n",
       "\t\t<dd>'1901-2000'</dd>\n",
       "\t<dt>$missing</dt>\n",
       "\t\t<dd>-999</dd>\n",
       "</dl>\n"
      ],
      "text/latex": [
       "\\begin{description}\n",
       "\\item[\\$title] 'Global Land and Ocean Temperature Anomalies, January-December'\n",
       "\\item[\\$units] 'Degrees Celsius'\n",
       "\\item[\\$base\\_period] '1901-2000'\n",
       "\\item[\\$missing] -999\n",
       "\\end{description}\n"
      ],
      "text/markdown": [
       "$title\n",
       ":   'Global Land and Ocean Temperature Anomalies, January-December'\n",
       "$units\n",
       ":   'Degrees Celsius'\n",
       "$base_period\n",
       ":   '1901-2000'\n",
       "$missing\n",
       ":   -999\n",
       "\n",
       "\n"
      ],
      "text/plain": [
       "$title\n",
       "[1] \"Global Land and Ocean Temperature Anomalies, January-December\"\n",
       "\n",
       "$units\n",
       "[1] \"Degrees Celsius\"\n",
       "\n",
       "$base_period\n",
       "[1] \"1901-2000\"\n",
       "\n",
       "$missing\n",
       "[1] -999\n"
      ]
     },
     "metadata": {},
     "output_type": "display_data"
    }
   ],
   "source": [
    "names(weather_list)\n",
    "weather_list$description"
   ]
  },
  {
   "cell_type": "markdown",
   "metadata": {},
   "source": [
    "The names of weather_list are description and data. The units of measurement under description are degrees celsius. The value -999 denotes a missing value. The base period for average temperature is the years 1901 to 2000."
   ]
  },
  {
   "cell_type": "markdown",
   "metadata": {
    "id": "_FnhogGo6Cen"
   },
   "source": [
    "<br>\n",
    "\n",
    "---\n",
    "\n",
    "<br>\n",
    "\n",
    "\n",
    "\n",
    "\n"
   ]
  },
  {
   "cell_type": "markdown",
   "metadata": {
    "id": "lHQv_z_06Ce5"
   },
   "source": [
    "####<font color=red>Task 3</font> (5 points)\n",
    "\n",
    "1. Store the list item `data` as another variable called `weather_data`. Print the contents of `weather_data`.\n",
    "\n",
    "<br>\n",
    "\n",
    "2. Store the `names()` of `weather_data` as another variable called `weather_years`. Print the contents of `weather_years`.\n",
    "\n",
    "<br>\n",
    "\n",
    "3. Create a dataframe called `weather`, with one column called `year` for the year of the temperature departure observed and another column called `temp` for the tempertuare departure. Show the first few lines using `head()`.\n",
    "\n",
    "<br>\n",
    "\n",
    "4. What is the class of each column of the dataframe `weather`? State in a complete sentence.\n",
    "\n",
    "<br>\n",
    "\n",
    "5. Convert the columns of `weather` to a numeric class using `as.numeric()`. Show the first few lines using `head()`."
   ]
  },
  {
   "cell_type": "code",
   "execution_count": 5,
   "metadata": {},
   "outputs": [
    {
     "data": {
      "text/html": [
       "<style>\n",
       ".dl-inline {width: auto; margin:0; padding: 0}\n",
       ".dl-inline>dt, .dl-inline>dd {float: none; width: auto; display: inline-block}\n",
       ".dl-inline>dt::after {content: \":\\0020\"; padding-right: .5ex}\n",
       ".dl-inline>dt:not(:first-of-type) {padding-left: .5ex}\n",
       "</style><dl class=dl-inline><dt>1880</dt><dd>'-0.17'</dd><dt>1881</dt><dd>'-0.13'</dd><dt>1882</dt><dd>'-0.13'</dd><dt>1883</dt><dd>'-0.22'</dd><dt>1884</dt><dd>'-0.31'</dd><dt>1885</dt><dd>'-0.33'</dd></dl>\n"
      ],
      "text/latex": [
       "\\begin{description*}\n",
       "\\item[1880] '-0.17'\n",
       "\\item[1881] '-0.13'\n",
       "\\item[1882] '-0.13'\n",
       "\\item[1883] '-0.22'\n",
       "\\item[1884] '-0.31'\n",
       "\\item[1885] '-0.33'\n",
       "\\end{description*}\n"
      ],
      "text/markdown": [
       "1880\n",
       ":   '-0.17'1881\n",
       ":   '-0.13'1882\n",
       ":   '-0.13'1883\n",
       ":   '-0.22'1884\n",
       ":   '-0.31'1885\n",
       ":   '-0.33'\n",
       "\n"
      ],
      "text/plain": [
       "   1880    1881    1882    1883    1884    1885 \n",
       "\"-0.17\" \"-0.13\" \"-0.13\" \"-0.22\" \"-0.31\" \"-0.33\" "
      ]
     },
     "metadata": {},
     "output_type": "display_data"
    },
    {
     "data": {
      "text/html": [
       "<style>\n",
       ".list-inline {list-style: none; margin:0; padding: 0}\n",
       ".list-inline>li {display: inline-block}\n",
       ".list-inline>li:not(:last-child)::after {content: \"\\00b7\"; padding: 0 .5ex}\n",
       "</style>\n",
       "<ol class=list-inline><li>'1880'</li><li>'1881'</li><li>'1882'</li><li>'1883'</li><li>'1884'</li><li>'1885'</li></ol>\n"
      ],
      "text/latex": [
       "\\begin{enumerate*}\n",
       "\\item '1880'\n",
       "\\item '1881'\n",
       "\\item '1882'\n",
       "\\item '1883'\n",
       "\\item '1884'\n",
       "\\item '1885'\n",
       "\\end{enumerate*}\n"
      ],
      "text/markdown": [
       "1. '1880'\n",
       "2. '1881'\n",
       "3. '1882'\n",
       "4. '1883'\n",
       "5. '1884'\n",
       "6. '1885'\n",
       "\n",
       "\n"
      ],
      "text/plain": [
       "[1] \"1880\" \"1881\" \"1882\" \"1883\" \"1884\" \"1885\""
      ]
     },
     "metadata": {},
     "output_type": "display_data"
    },
    {
     "data": {
      "text/html": [
       "<table class=\"dataframe\">\n",
       "<caption>A data.frame: 6 × 2</caption>\n",
       "<thead>\n",
       "\t<tr><th></th><th scope=col>year</th><th scope=col>temp</th></tr>\n",
       "\t<tr><th></th><th scope=col>&lt;chr&gt;</th><th scope=col>&lt;chr&gt;</th></tr>\n",
       "</thead>\n",
       "<tbody>\n",
       "\t<tr><th scope=row>1880</th><td>1880</td><td>-0.17</td></tr>\n",
       "\t<tr><th scope=row>1881</th><td>1881</td><td>-0.13</td></tr>\n",
       "\t<tr><th scope=row>1882</th><td>1882</td><td>-0.13</td></tr>\n",
       "\t<tr><th scope=row>1883</th><td>1883</td><td>-0.22</td></tr>\n",
       "\t<tr><th scope=row>1884</th><td>1884</td><td>-0.31</td></tr>\n",
       "\t<tr><th scope=row>1885</th><td>1885</td><td>-0.33</td></tr>\n",
       "</tbody>\n",
       "</table>\n"
      ],
      "text/latex": [
       "A data.frame: 6 × 2\n",
       "\\begin{tabular}{r|ll}\n",
       "  & year & temp\\\\\n",
       "  & <chr> & <chr>\\\\\n",
       "\\hline\n",
       "\t1880 & 1880 & -0.17\\\\\n",
       "\t1881 & 1881 & -0.13\\\\\n",
       "\t1882 & 1882 & -0.13\\\\\n",
       "\t1883 & 1883 & -0.22\\\\\n",
       "\t1884 & 1884 & -0.31\\\\\n",
       "\t1885 & 1885 & -0.33\\\\\n",
       "\\end{tabular}\n"
      ],
      "text/markdown": [
       "\n",
       "A data.frame: 6 × 2\n",
       "\n",
       "| <!--/--> | year &lt;chr&gt; | temp &lt;chr&gt; |\n",
       "|---|---|---|\n",
       "| 1880 | 1880 | -0.17 |\n",
       "| 1881 | 1881 | -0.13 |\n",
       "| 1882 | 1882 | -0.13 |\n",
       "| 1883 | 1883 | -0.22 |\n",
       "| 1884 | 1884 | -0.31 |\n",
       "| 1885 | 1885 | -0.33 |\n",
       "\n"
      ],
      "text/plain": [
       "     year temp \n",
       "1880 1880 -0.17\n",
       "1881 1881 -0.13\n",
       "1882 1882 -0.13\n",
       "1883 1883 -0.22\n",
       "1884 1884 -0.31\n",
       "1885 1885 -0.33"
      ]
     },
     "metadata": {},
     "output_type": "display_data"
    },
    {
     "data": {
      "text/html": [
       "'character'"
      ],
      "text/latex": [
       "'character'"
      ],
      "text/markdown": [
       "'character'"
      ],
      "text/plain": [
       "[1] \"character\""
      ]
     },
     "metadata": {},
     "output_type": "display_data"
    },
    {
     "data": {
      "text/html": [
       "'character'"
      ],
      "text/latex": [
       "'character'"
      ],
      "text/markdown": [
       "'character'"
      ],
      "text/plain": [
       "[1] \"character\""
      ]
     },
     "metadata": {},
     "output_type": "display_data"
    },
    {
     "data": {
      "text/html": [
       "<table class=\"dataframe\">\n",
       "<caption>A data.frame: 6 × 2</caption>\n",
       "<thead>\n",
       "\t<tr><th></th><th scope=col>year</th><th scope=col>temp</th></tr>\n",
       "\t<tr><th></th><th scope=col>&lt;dbl&gt;</th><th scope=col>&lt;dbl&gt;</th></tr>\n",
       "</thead>\n",
       "<tbody>\n",
       "\t<tr><th scope=row>1</th><td>1880</td><td>-0.17</td></tr>\n",
       "\t<tr><th scope=row>2</th><td>1881</td><td>-0.13</td></tr>\n",
       "\t<tr><th scope=row>3</th><td>1882</td><td>-0.13</td></tr>\n",
       "\t<tr><th scope=row>4</th><td>1883</td><td>-0.22</td></tr>\n",
       "\t<tr><th scope=row>5</th><td>1884</td><td>-0.31</td></tr>\n",
       "\t<tr><th scope=row>6</th><td>1885</td><td>-0.33</td></tr>\n",
       "</tbody>\n",
       "</table>\n"
      ],
      "text/latex": [
       "A data.frame: 6 × 2\n",
       "\\begin{tabular}{r|ll}\n",
       "  & year & temp\\\\\n",
       "  & <dbl> & <dbl>\\\\\n",
       "\\hline\n",
       "\t1 & 1880 & -0.17\\\\\n",
       "\t2 & 1881 & -0.13\\\\\n",
       "\t3 & 1882 & -0.13\\\\\n",
       "\t4 & 1883 & -0.22\\\\\n",
       "\t5 & 1884 & -0.31\\\\\n",
       "\t6 & 1885 & -0.33\\\\\n",
       "\\end{tabular}\n"
      ],
      "text/markdown": [
       "\n",
       "A data.frame: 6 × 2\n",
       "\n",
       "| <!--/--> | year &lt;dbl&gt; | temp &lt;dbl&gt; |\n",
       "|---|---|---|\n",
       "| 1 | 1880 | -0.17 |\n",
       "| 2 | 1881 | -0.13 |\n",
       "| 3 | 1882 | -0.13 |\n",
       "| 4 | 1883 | -0.22 |\n",
       "| 5 | 1884 | -0.31 |\n",
       "| 6 | 1885 | -0.33 |\n",
       "\n"
      ],
      "text/plain": [
       "  year temp \n",
       "1 1880 -0.17\n",
       "2 1881 -0.13\n",
       "3 1882 -0.13\n",
       "4 1883 -0.22\n",
       "5 1884 -0.31\n",
       "6 1885 -0.33"
      ]
     },
     "metadata": {},
     "output_type": "display_data"
    },
    {
     "data": {
      "text/html": [
       "'numeric'"
      ],
      "text/latex": [
       "'numeric'"
      ],
      "text/markdown": [
       "'numeric'"
      ],
      "text/plain": [
       "[1] \"numeric\""
      ]
     },
     "metadata": {},
     "output_type": "display_data"
    },
    {
     "data": {
      "text/html": [
       "'numeric'"
      ],
      "text/latex": [
       "'numeric'"
      ],
      "text/markdown": [
       "'numeric'"
      ],
      "text/plain": [
       "[1] \"numeric\""
      ]
     },
     "metadata": {},
     "output_type": "display_data"
    }
   ],
   "source": [
    "weather_data = weather_list$data\n",
    "head(weather_data)\n",
    "\n",
    "weather_years = names(weather_data)\n",
    "head(weather_years)\n",
    "\n",
    "weather = data.frame(year = weather_years, temp = weather_data)\n",
    "head(weather)\n",
    "class(weather$year)\n",
    "class(weather$temp)\n",
    "\n",
    "weather = data.frame(year = as.numeric(weather_years), temp = as.numeric(weather_data))\n",
    "head(weather)\n",
    "class(weather$year)\n",
    "class(weather$temp)"
   ]
  },
  {
   "cell_type": "markdown",
   "metadata": {},
   "source": [
    "The class of the columns of the first weather data frame are factors. After applying as.numeric to the cols they are now numeric."
   ]
  },
  {
   "cell_type": "markdown",
   "metadata": {
    "id": "pKFpjFjT93NG"
   },
   "source": [
    "<br>\n",
    "\n",
    "---\n",
    "\n",
    "<br>\n",
    "\n",
    "\n",
    "\n",
    "\n"
   ]
  },
  {
   "cell_type": "markdown",
   "metadata": {
    "id": "evIzBw3y93NI"
   },
   "source": [
    "####<font color=red>Task 4</font> (3 points)\n",
    "\n",
    "1. What is the average temperature departure for observations before 1939 (` < 1939`)? State your answer in a complete sentence and be sure to include units of measurement. Round to the nearest 2 decimal places.\n",
    "\n",
    "<br>\n",
    "\n",
    "2. What is the average temperature departure for observations after 1980 (` > 1980`)? State your answer in a complete sentence and be sure to include units of measurement. Round to the nearest 2 decimal places.\n",
    "\n",
    "<br>\n",
    "\n",
    "3. Are the average temperature departures different? Explain your answer."
   ]
  },
  {
   "cell_type": "code",
   "execution_count": 6,
   "metadata": {},
   "outputs": [
    {
     "data": {
      "text/html": [
       "-0.219661016949153"
      ],
      "text/latex": [
       "-0.219661016949153"
      ],
      "text/markdown": [
       "-0.219661016949153"
      ],
      "text/plain": [
       "[1] -0.219661"
      ]
     },
     "metadata": {},
     "output_type": "display_data"
    },
    {
     "data": {
      "text/html": [
       "0.501666666666667"
      ],
      "text/latex": [
       "0.501666666666667"
      ],
      "text/markdown": [
       "0.501666666666667"
      ],
      "text/plain": [
       "[1] 0.5016667"
      ]
     },
     "metadata": {},
     "output_type": "display_data"
    }
   ],
   "source": [
    "mean(weather$temp[weather$year < 1939])\n",
    "mean(weather$temp[weather$year > 1980])"
   ]
  },
  {
   "cell_type": "markdown",
   "metadata": {},
   "source": [
    "The average temp departure for observations before 1939 is -0.22 degrees celsius. The average temp departure for observations after 1980 is 0.50 degrees celsius. I have not conducted a statistical test to determine if noise could account for any difference in mean temperature, however, at a glance it appears that the temperature departures for the two periods are significantly different and show a rise in temperature."
   ]
  },
  {
   "cell_type": "markdown",
   "metadata": {
    "id": "Qno9WirSBhN4"
   },
   "source": [
    "<br>\n",
    "\n",
    "---\n",
    "\n",
    "<br>\n",
    "\n",
    "\n",
    "\n",
    "\n"
   ]
  },
  {
   "cell_type": "markdown",
   "metadata": {
    "id": "UYleX3HHBhN5"
   },
   "source": [
    "####<font color=red>Task 5</font> (3 points)\n",
    "\n",
    "1. What is the standard deviation of temperature departures for observations between 1930 and 1950 (use `sd()`)? State your answer in a complete sentence and be sure to include units of measurement. Round to the nearest 2 decimal places.\n",
    "\n",
    "<br>\n",
    "\n",
    "2. What is the standard deviation of temperature departures for observations between 1880 and 1900 (use `sd()`)? State your answer in a complete sentence and be sure to include units of measurement. Round to the nearest 2 decimal places.\n",
    "\n",
    "<br>\n",
    "\n",
    "3. Are the standard deviations of the temperature departures different? Explain your answer based on your understanding of standard deviation."
   ]
  },
  {
   "cell_type": "code",
   "execution_count": 7,
   "metadata": {},
   "outputs": [
    {
     "data": {
      "text/html": [
       "0.132055278164972"
      ],
      "text/latex": [
       "0.132055278164972"
      ],
      "text/markdown": [
       "0.132055278164972"
      ],
      "text/plain": [
       "[1] 0.1320553"
      ]
     },
     "metadata": {},
     "output_type": "display_data"
    },
    {
     "data": {
      "text/html": [
       "0.0862201723998217"
      ],
      "text/latex": [
       "0.0862201723998217"
      ],
      "text/markdown": [
       "0.0862201723998217"
      ],
      "text/plain": [
       "[1] 0.08622017"
      ]
     },
     "metadata": {},
     "output_type": "display_data"
    }
   ],
   "source": [
    "sd(weather$temp[weather$year > 1930 & weather$year < 1950])\n",
    "sd(weather$temp[weather$year > 1880 & weather$year < 1900])"
   ]
  },
  {
   "cell_type": "markdown",
   "metadata": {},
   "source": [
    "The std. dev. of obs. between 1930 and 1950 is 0.13 deg. c. The std. dev. of obs. between 1880 and 1900 is 0.09 deg. c. There does appear to be a significant difference in standard deviation of temperature observations in those range of years alluding to a inrease in variance in the more recent time range."
   ]
  },
  {
   "cell_type": "markdown",
   "metadata": {
    "id": "Lv29FJwE88p6"
   },
   "source": [
    "<br>\n",
    "\n",
    "---\n",
    "\n",
    "<br>\n",
    "\n",
    "\n",
    "\n",
    "\n"
   ]
  },
  {
   "cell_type": "markdown",
   "metadata": {
    "id": "Q3YURci988p9"
   },
   "source": [
    "####<font color=red>Task 6</font> (4 points)\n",
    "\n",
    "1. Plot the data using the following script\n",
    "```\n",
    "plot(weather$year, weather$temp,\n",
    "     xlab = \"Year\", ylab = \"Temperature Departure\",\n",
    "     type = \"l\")\n",
    "abline(h = 0, lty = 2)\n",
    "```\n",
    "\n",
    "<br>\n",
    "\n",
    "Matching your observations to the plot:\n",
    "2. Match your observations from Task 4 to the plot. Do they agree? Explain in complete sentences.\n",
    "\n",
    "<br>\n",
    "\n",
    "3. Match your observations from Task 5 to the plot. Do they agree? Explain in complete sentences.\n",
    "\n",
    "<br>\n",
    "\n",
    "4. What is the overall trend you observe from the plot? State your answer in a complete sentence."
   ]
  },
  {
   "cell_type": "code",
   "execution_count": 8,
   "metadata": {},
   "outputs": [
    {
     "data": {
      "image/png": "[encoded data removed]",
      "text/plain": [
       "plot without title"
      ]
     },
     "metadata": {
      "image/png": {
       "height": 420,
       "width": 420
      }
     },
     "output_type": "display_data"
    }
   ],
   "source": [
    "plot(weather$year, weather$temp,\n",
    "     xlab = \"Year\", ylab = \"Temperature Departure\",\n",
    "     type = \"l\")\n",
    "abline(h = 0, lty = 2)"
   ]
  },
  {
   "cell_type": "markdown",
   "metadata": {},
   "source": [
    "My observations from task 4 suggested a slightly lower mean temp departure for the years prior to 1939 with a mean of -0.22 deg. C and a slightly greater than mean temp departure for 1980 to present with a mean of 0.50 deg. C. This line graph of the temperature departures per year corroborates the findings of task 4. My findings from task 5 suggest a greater standard deviation of mean temperature departures for the more recent years of 1930 to 1950 than 1880 to 1900. This graph would also corroborate the findings of task 5 as the trend in temps for the 1880 to 1900 range are more conistent while the years 1930 to 1950 show the beginning of a steep increase in temp departures each year. The overall trend of the graph displays steady temperature deviations before 1930 with a slight increase year over year till 1970 where a sharp increase in temperature departures takes place through the present day."
   ]
  },
  {
   "cell_type": "code",
   "execution_count": null,
   "metadata": {},
   "outputs": [],
   "source": []
  }
 ],
 "metadata": {
  "colab": {
   "provenance": [
    {
     "file_id": "1GSNhUwEVzRoeXaygW8UJtUipRT1sQ3G0",
     "timestamp": 1609981963177
    },
    {
     "file_id": "1BYnnbqeyZAlYnxR9IHC8tpW07EpDeyKR",
     "timestamp": 1609974285905
    }
   ]
  },
  "kernelspec": {
   "display_name": "R 4.3.3",
   "language": "R",
   "name": "ir433"
  },
  "language_info": {
   "codemirror_mode": "r",
   "file_extension": ".r",
   "mimetype": "text/x-r-source",
   "name": "R",
   "pygments_lexer": "r",
   "version": "4.3.3"
  }
 },
 "nbformat": 4,
 "nbformat_minor": 4
}
