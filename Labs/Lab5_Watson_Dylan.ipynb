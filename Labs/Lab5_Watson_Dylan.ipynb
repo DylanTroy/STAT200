{
 "cells": [
  {
   "cell_type": "markdown",
   "metadata": {
    "id": "gtETsh5j8vHw"
   },
   "source": [
    "# **Lab 5: Data and Sampling Distributions (20 points)**\n",
    "\n",
    "#### **Dylan Watson**\n"
   ]
  },
  {
   "cell_type": "markdown",
   "metadata": {
    "id": "en9tcPcGuFyc"
   },
   "source": [
    "---\n",
    "\n",
    "**IMPORTANT**: \n",
    "- Before starting the lab, save a copy to your google drive by navigating to `File > Save a copy in Drive` <br>\n",
    "- Then rename the copied file `Lab#_LASTNAME_FIRSTNAME.ipynb` where # is the lab assignment number, LASTNAME is your last name, and FIRSTNAME is your first name.\n",
    "\n",
    "<br>\n",
    "\n",
    "\n",
    "**Instructions**: Complete the lab below.\n",
    "\n",
    "- <font color=red>Tasks</font> indicated in red must be completed to receive credit\n",
    "- Include all code for your work\n",
    "- Include markdown cells with written answers explaining your work when prompted\n",
    "- **NOTE: Your completed lab must be submitted to Canvas as a .ipynb file by the end of the lab session**\n",
    "---"
   ]
  },
  {
   "cell_type": "markdown",
   "metadata": {
    "id": "ZXUOzh4drf3V"
   },
   "source": [
    "\n",
    "\n",
    "\n",
    "<br>\n",
    "\n",
    "\n"
   ]
  },
  {
   "cell_type": "markdown",
   "metadata": {
    "id": "MfKT4gy91QKV"
   },
   "source": [
    "####<font color=red>Organized</font> (1 points)\n",
    "* Answers should be organized in the following format for organization and readability\n",
    "\n",
    "<br>\n",
    "\n",
    "```\n",
    "# 1. \n",
    "This will be the code block to answer the first part of a task\n",
    "```\n",
    "\n",
    "1. This will be the text answer/explanation (if prompted) for the first task\n",
    "\n",
    "```\n",
    "# 2. \n",
    "This will be the code block to answer the second part of a task in a separate code cell\n",
    "```\n",
    "\n",
    "2. This will be the text answer/explanation (if prompted) for the second task\n",
    "\n",
    "<br>\n",
    "\n",
    "Continue this format for the remaining subtasks\n"
   ]
  },
  {
   "cell_type": "markdown",
   "metadata": {
    "id": "YfKhJv3Q1PBh"
   },
   "source": [
    "<br>\n",
    "\n",
    "---\n",
    "\n",
    "<br>\n",
    "\n",
    "\n",
    "\n",
    "\n"
   ]
  },
  {
   "cell_type": "markdown",
   "metadata": {
    "id": "E3PUP79SdTkW"
   },
   "source": [
    "1. Open the following [applet](https://onlinestatbook.com/stat_sim/sampling_dist/) to explore the concept of sampling distributions\n",
    "\n",
    "2. Click `begin` on the left-hand side of the screen"
   ]
  },
  {
   "cell_type": "markdown",
   "metadata": {
    "id": "GnSkav-xdbxi"
   },
   "source": [
    "<br>"
   ]
  },
  {
   "cell_type": "markdown",
   "metadata": {
    "id": "Ek6IuNtolHgW"
   },
   "source": [
    "####<font color=red>Task 1</font>  (5 points)\n",
    "\n",
    "Make sure settings are as shown below\n",
    "\n",
    "<img src=\"https://github.com/khasenst/datasets_teaching/blob/main/applet2.JPG?raw=true\" width=\"500\" >\n",
    "\n",
    "<br>\n",
    "<br>\n",
    "\n",
    "Click the `5` button under Sample. This randomly samples `n = 2` or `n = 25` individuals from a population 5 different times.\n",
    "\n",
    "1. What is the mean of the sample distribution corresponding to the `Distribution of Means, N=2` graph [shown in blue on the left]? Answer in a complete sentence.\n",
    "\n",
    "<br>\n",
    "\n",
    "2. What is the mean of the sample distribution corresponding to the `Distribution of Means, N=25` graph [shown in blue on the left]? Answer in a complete sentence.\n",
    "\n",
    "<br>\n",
    "\n",
    "Now click the `100,000` button under Sample. This randomly samples `n = 2` or `n = 25` individuals from a population 100,000 different times. \n",
    "\n",
    "3. What is the mean of the sample distribution corresponding to the `Distribution of Means, N=2` graph [shown in blue on the left]? Is it closer than sampling only 5 times? Answer in complete sentences.\n",
    "\n",
    "<br>\n",
    "\n",
    "4. What is the mean of the sample distribution corresponding to the `Distribution of Means, N=25` graph [shown in blue on the left]? Is it closer than sampling only 5 times? Answer in complete sentences.\n",
    "\n",
    "<br>\n",
    "\n",
    "5. Which law or theorem describes what is observed between 1.1-1.2 and 1.3-1.4?\n",
    "\n"
   ]
  },
  {
   "cell_type": "markdown",
   "metadata": {},
   "source": [
    "Answers:\n",
    "1. The mean of the distribution of 5 samples of 2 is 18.39.\n",
    "2. The mean of the distribution of 5 samples of 25 is 15.81.\n",
    "3. The mean of the distribution of 100,000 samples of 2 is 16.00. Yes this sampling distribution mean is much closer to the true population mean thanks to the law of large numbers.\n",
    "4. The mean of the distribution of 100,000 samples of 25 is 16.00. Yes this sampling distribution mean is much closer to the true population mean thanks to the law of large numbers.\n",
    "5. The theorem which describes the sampling distribution mean approaching the true population mean as the number of samples increases is the law of large numbers."
   ]
  },
  {
   "cell_type": "markdown",
   "metadata": {
    "id": "cNJO9fEVC7mU"
   },
   "source": [
    "<br>\n",
    "\n",
    "\n",
    "\n",
    "---\n",
    "\n"
   ]
  },
  {
   "cell_type": "markdown",
   "metadata": {
    "id": "HfrD1NbLC6ve"
   },
   "source": [
    "####<font color=red>Task 2</font>  (5 points)\n",
    "\n",
    "Reset using the `Clear lower 3` button and make sure settings are as shown below\n",
    "\n",
    "<img src=\"https://github.com/khasenst/datasets_teaching/blob/main/applet2.JPG?raw=true\" width=\"500\" >\n",
    "\n",
    "<br>\n",
    "<br>\n",
    "\n",
    "Click the `100,000` button under Sample. This randomly samples `n = 2` or `n = 25` individuals from a population 100,000 different times. \n",
    "\n",
    "1. Based on the `Distribution of Means, N=2` graph, does the distribution of sample means appear normally distributed? Why or why not? Explain in complete sentences.\n",
    "\n",
    "<br>\n",
    "\n",
    "2. Based on the `Distribution of Means, N=25` graph, does the distribution of sample means appear normally distributed? Why or why not? Explain in complete sentences.\n",
    "\n",
    "<br>\n",
    "\n",
    "3. Which sample size (`n = 2` or `n = 25`) corresponds to the sample mean distribution with the smaller standard deviation? Answer in a complete sentence.\n",
    "\n",
    "\n",
    "<br>\n",
    "\n",
    "4. Which law or theorem describes what is observed between 2.1-2.2?\n",
    "\n",
    "<br>\n",
    "\n",
    "5. If you were randomly sampling from a population to estimate the average calorie intake of students, would you prefer a smaller or larger sample? Describe your answer in terms of sampling variability.\n"
   ]
  },
  {
   "cell_type": "markdown",
   "metadata": {},
   "source": [
    "Answers:\n",
    "1. Yes the sampling distribution of means appears approximately normally distributed. There is a mean around 16.00 with even tails to the left and right of the mean following the shape of a bell curve.\n",
    "2. Yes the sampling distribution of means appears approximately normally distributed. There is a mean around 16.00 with even tails to the left and right of the mean following the shape of a bell curve.\n",
    "3. The sampling distribution with the smaller standard deviation is the one with samples of size N = 25. The normal distribution has much smaller tails and a much taller center.\n",
    "4. The reason that N = 25 has a smaller sampling distribution standard deviation is thanks to the central limit theorem.\n",
    "5. If I were sampling a population to estimate average calorie intake I would prefer a larger sample because its more likely that my sample mean would be closer to the true population mean. There would be less variance due to the central limit theorem."
   ]
  },
  {
   "cell_type": "markdown",
   "metadata": {},
   "source": []
  },
  {
   "cell_type": "markdown",
   "metadata": {
    "id": "3IIpgatI3tCV"
   },
   "source": [
    "<br>\n",
    "\n",
    "---\n",
    "\n",
    "<br>\n",
    "\n",
    "\n",
    "\n",
    "\n"
   ]
  },
  {
   "cell_type": "markdown",
   "metadata": {
    "id": "9l3Gx3o6VSxK"
   },
   "source": [
    "####<font color=red>Task 3</font>  (6 points)\n",
    "\n",
    "Reset using the `Clear lower 3` button and make sure settings are as shown below. Note the distribution has been changed.\n",
    "<img src=\"https://github.com/khasenst/datasets_teaching/blob/main/applet3.JPG?raw=true\" width=\"500\" >\n",
    "\n",
    "<br>\n",
    "<br>\n",
    "\n",
    "1. Is the (true) parent population distribution left or right skewed?\n",
    "\n",
    "<br>\n",
    "\n",
    "2. Is the mean less than or great than the median? Explain why in a complete sentence.\n",
    "\n",
    "<br>\n",
    "\n",
    "Click the `100,000` button under Sample. This randomly samples `n = 2` or `n = 25` individuals from a population 100,000 different times. \n",
    "\n",
    "3. Based on the `Distribution of Means, N=2` graph, does the distribution of sample means appear normally distributed? Why or why not? Explain in complete sentences.\n",
    "\n",
    "<br>\n",
    "\n",
    "4. Based on the `Distribution of Means, N=25` graph, does the distribution of sample means appear normally distributed? Why or why not? Explain in complete sentences.\n",
    "\n",
    "<br>\n",
    "\n",
    "5. For (true) parent distributions that are not normally distributed (skewed in this case), what can you conclude about the sampling distribution for small sample sizes?\n",
    "\n",
    "<br>\n",
    "\n",
    "6. For (true) parent distributions that are not normally distributed (skewed in this case), what can you conclude about the sampling distribution for larger sample sizes?"
   ]
  },
  {
   "cell_type": "markdown",
   "metadata": {},
   "source": [
    "Answers:\n",
    "1. The true parent population distribution is right skewed.\n",
    "2. As a result of the right skew, the mean is greater than the median. This is because outlier values have a much greater weight on averages than medians.\n",
    "3. The distribution of sample means for N = 2 appears to be right skewed.\n",
    "4. The distribution of sample means for N = 25 appears approximately normal.\n",
    "5. For small sample sizes, it is likely that the sample mean will be impacted by the skew of the true population.\n",
    "6. For large sample sizes, it is not likely that the sample mean will be impacted by the skew of the true population."
   ]
  },
  {
   "cell_type": "markdown",
   "metadata": {
    "id": "GPFNQsqhXoGu"
   },
   "source": [
    "<br>\n",
    "\n",
    "\n",
    "---\n",
    "\n"
   ]
  },
  {
   "cell_type": "markdown",
   "metadata": {
    "id": "5VtJogonXp1S"
   },
   "source": [
    "####<font color=red>Task 4</font>  (3 points)\n",
    "\n",
    "Reset using the `Clear lower 3` button and make sure settings are as shown below. Change the distribution to custom and draw a distribution with 3 modes (similar to below)\n",
    "\n",
    "<img src=\"https://github.com/khasenst/datasets_teaching/blob/main/applet4.JPG?raw=true\" width=\"500\" >\n",
    "\n",
    "<br>\n",
    "<br>\n",
    "\n",
    "Click the `100,000` button under Sample. This randomly samples `n = 2` or `n = 25` individuals from a population 100,000 different times. \n",
    "\n",
    "1. Are the means of the sample distributions for `n = 2` and `n = 25` close to the true parent population mean? Explain in a complete sentence.\n",
    "\n",
    "<br>\n",
    "\n",
    "2. Based on the `Distribution of Means, N=2` graph, does the distribution of sample means appear normally distributed? Describe what you observe in complete sentences.\n",
    "\n",
    "<br>\n",
    "\n",
    "2. Based on the `Distribution of Means, N=25` graph, does the distribution of sample means appear normally distributed? Why or why not? Explain in complete sentences."
   ]
  },
  {
   "cell_type": "markdown",
   "metadata": {
    "id": "oZHuGeRzWGVV"
   },
   "source": [
    "Answers:\n",
    "1. The means of the sampling distributions are both equal to the true population mean, however the distributions of the sample means appear quite different from one another.\n",
    "2. Because the first distribution N = 2 is only sampling pairs of values from the parent distribution we end up with 5 distinct peaks where the values are sampled either both from within the same parent peak or two different parent peaks resulting in a mean that is between the two parent peaks. This results in much greater variability and a non-normal distribution. The effect of the central limit theorem is weak.\n",
    "3. With the law of large numbers, an N = 25 sample size results in a much more approximately normal distribution of values. The effect of the central limit theorem is strong."
   ]
  },
  {
   "cell_type": "code",
   "execution_count": null,
   "metadata": {},
   "outputs": [],
   "source": []
  }
 ],
 "metadata": {
  "colab": {
   "collapsed_sections": [],
   "name": "Lab5_LASTNAME_FIRSTNAME.ipynb",
   "provenance": [
    {
     "file_id": "1GSNhUwEVzRoeXaygW8UJtUipRT1sQ3G0",
     "timestamp": 1609981963177
    },
    {
     "file_id": "1BYnnbqeyZAlYnxR9IHC8tpW07EpDeyKR",
     "timestamp": 1609974285905
    }
   ]
  },
  "kernelspec": {
   "display_name": "R 4.3.3",
   "language": "R",
   "name": "ir433"
  },
  "language_info": {
   "codemirror_mode": "r",
   "file_extension": ".r",
   "mimetype": "text/x-r-source",
   "name": "R",
   "pygments_lexer": "r",
   "version": "4.3.3"
  }
 },
 "nbformat": 4,
 "nbformat_minor": 4
}
