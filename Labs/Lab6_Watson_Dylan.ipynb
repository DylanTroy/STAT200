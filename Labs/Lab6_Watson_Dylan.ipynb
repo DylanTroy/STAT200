{
 "cells": [
  {
   "cell_type": "markdown",
   "metadata": {
    "id": "gtETsh5j8vHw"
   },
   "source": [
    "# **Lab 6:Sampling Distributions and Confidence Intervals (20 points)**\n",
    "\n",
    "#### **Dylan Watson**\n"
   ]
  },
  {
   "cell_type": "markdown",
   "metadata": {
    "id": "en9tcPcGuFyc"
   },
   "source": [
    "---\n",
    "\n",
    "**IMPORTANT**:\n",
    "- Before starting the lab, save a copy to your google drive by navigating to `File > Save a copy in Drive` <br>\n",
    "- Then rename the copied file `Lab#_LASTNAME_FIRSTNAME.ipynb` where # is the lab assignment number, LASTNAME is your last name, and FIRSTNAME is your first name.\n",
    "\n",
    "<br>\n",
    "\n",
    "\n",
    "**Instructions**: Complete the lab below.\n",
    "\n",
    "- <font color=red>Tasks</font> indicated in red must be completed to receive credit\n",
    "- Include all code for your work\n",
    "- Include markdown cells with written answers explaining your work when prompted\n",
    "- **NOTE: Your completed lab must be submitted to Canvas as a .ipynb file by the end of the lab session**\n",
    "---"
   ]
  },
  {
   "cell_type": "markdown",
   "metadata": {
    "id": "ZXUOzh4drf3V"
   },
   "source": [
    "\n",
    "\n",
    "\n",
    "<br>\n",
    "\n",
    "\n"
   ]
  },
  {
   "cell_type": "markdown",
   "metadata": {
    "id": "MfKT4gy91QKV"
   },
   "source": [
    "####<font color=red>Organized</font> (1 points)\n",
    "* Answers should be organized in the following format for organization and readability\n",
    "\n",
    "<br>\n",
    "\n",
    "```\n",
    "# 1.\n",
    "This will be the code block to answer the first part of a task\n",
    "```\n",
    "\n",
    "1. This will be the text answer/explanation (if prompted) for the first task\n",
    "\n",
    "```\n",
    "# 2.\n",
    "This will be the code block to answer the second part of a task in a separate code cell\n",
    "```\n",
    "\n",
    "2. This will be the text answer/explanation (if prompted) for the second task\n",
    "\n",
    "<br>\n",
    "\n",
    "Continue this format for the remaining subtasks\n"
   ]
  },
  {
   "cell_type": "markdown",
   "metadata": {
    "id": "YfKhJv3Q1PBh"
   },
   "source": [
    "<br>\n",
    "\n",
    "---\n",
    "\n",
    "<br>\n",
    "\n",
    "\n",
    "\n",
    "\n"
   ]
  },
  {
   "cell_type": "markdown",
   "metadata": {
    "id": "Ek6IuNtolHgW"
   },
   "source": [
    "####<font color=red>Task 1</font>  (4 points)\n",
    "\n",
    "1. Load the COPD dataset available [here](https://raw.githubusercontent.com/khasenst/datasets_teaching/main/copd_data_project.csv) as dataframe called `copd`\n",
    "\n",
    "2. Remove rows where `total_lung_capacity` is equal to -1.\n",
    "\n",
    "3. Remove rows where `emphysema` is equal to `\"unknown\"`\n",
    "\n",
    "4. How many rows does the `copd` dataframe have after removing the rows from Task 1.2 and Task 1.3? <br> [Hint: should between 4300 and 4400 rows]"
   ]
  },
  {
   "cell_type": "code",
   "execution_count": 1,
   "metadata": {},
   "outputs": [
    {
     "data": {
      "text/html": [
       "4367"
      ],
      "text/latex": [
       "4367"
      ],
      "text/markdown": [
       "4367"
      ],
      "text/plain": [
       "[1] 4367"
      ]
     },
     "metadata": {},
     "output_type": "display_data"
    }
   ],
   "source": [
    "url = \"https://raw.githubusercontent.com/khasenst/datasets_teaching/main/copd_data_project.csv\"\n",
    "copd = read.csv(url)\n",
    "copd = copd[copd$total_lung_capacity != -1, ]\n",
    "copd = copd[copd$emphysema != \"unknown\", ]\n",
    "nrow(copd)"
   ]
  },
  {
   "cell_type": "markdown",
   "metadata": {},
   "source": [
    "There are 4367 rows in the dataframe after cleaning."
   ]
  },
  {
   "cell_type": "markdown",
   "metadata": {
    "id": "Y9G8IhaEFCFh"
   },
   "source": [
    "<br>\n",
    "\n",
    "---\n",
    "\n",
    "<br>\n",
    "\n",
    "\n",
    "\n",
    "\n"
   ]
  },
  {
   "cell_type": "markdown",
   "metadata": {
    "id": "HGH38JdaFCF5"
   },
   "source": [
    "####<font color=red>Task 2</font>  (4 points)\n",
    "\n",
    "`total_lung_capacity` is the number of liters of air in the lungs. <br>\n",
    "`emphysema` is the emphysema diagnosis by a physician.\n",
    "\n",
    "<br>\n",
    "\n",
    "1. (2 points) Plot a histogram of `total_lung_capacity`. Describe what you observe in complete sentences (e.g., Range, skewness or symmetry, mean, normally distributed, etc.)\n",
    "\n",
    "<br>\n",
    "\n",
    "2. (2 points) Plot a boxplot of `total_lung_capacity` vs `emphysema`. What do you observe in the context of the lung capacity and emphysema?\n",
    "```\n",
    "boxplot(copd$total_lung_capacity~copd$emphysema)\n",
    "```"
   ]
  },
  {
   "cell_type": "code",
   "execution_count": 2,
   "metadata": {},
   "outputs": [
    {
     "data": {
      "image/png": "[encoded data removed]",
      "text/plain": [
       "Plot with title \"Histogram of total_lung_capacity\""
      ]
     },
     "metadata": {
      "image/png": {
       "height": 420,
       "width": 420
      }
     },
     "output_type": "display_data"
    },
    {
     "data": {
      "image/png": "[encoded data removed]",
      "text/plain": [
       "plot without title"
      ]
     },
     "metadata": {
      "image/png": {
       "height": 420,
       "width": 420
      }
     },
     "output_type": "display_data"
    }
   ],
   "source": [
    "hist(copd$total_lung_capacity, main = \"Histogram of total_lung_capacity\", xlab = \"Lung Capacity (Liters)\", ylab = \"Frequency\")\n",
    "boxplot(copd$total_lung_capacity~copd$emphysema)"
   ]
  },
  {
   "cell_type": "markdown",
   "metadata": {},
   "source": [
    "1. The distribution of total lung capacity appears mostly normally distributed, if not possible slightly right skewed. The values range between 2 and 12 liters and have a mode around 5-6 liters.\n",
    "2. Those with emphysema appear to have a greater mean total lung capacity as well as greater Q1, Q3, lower, and upper tails of capacity. However, there are more outliers in the lung capacity for those without emphysema."
   ]
  },
  {
   "cell_type": "markdown",
   "metadata": {
    "id": "oqfkF7K0GscM"
   },
   "source": [
    "<br>\n",
    "\n",
    "---\n",
    "\n",
    "<br>\n",
    "\n",
    "\n",
    "\n",
    "\n"
   ]
  },
  {
   "cell_type": "markdown",
   "metadata": {
    "id": "wrEtBdZkGsci"
   },
   "source": [
    "####<font color=red>Task 3</font>  (4 points)\n",
    "\n",
    "1. Create a 95% confidence interval `total_lung_capacity` using the following command\n",
    "```\n",
    "t.test(copd$total_lung_capacity)$conf.int\n",
    "```\n",
    "What is the meaning of this confidence interval? Explain in the context of 95% probability.\n",
    "\n",
    "<br>\n",
    "\n",
    "2. Is the average lung capacity of the population less than 6 liters? Use the confidence interval to answer. Explain your reasoning in complete sentences.\n",
    "\n",
    "<br>\n",
    "\n",
    "3. Create a 95% confidence interval to compare the average `total_lung_capacity` between patients with and without `emphysema`using the following command\n",
    "```\n",
    "t.test( copd$total_lung_capacity ~ copd$emphysema )$conf.int\n",
    "```\n",
    "What is the meaning of this confidence interval? Explain in the context of 95% probability.\n",
    "\n",
    "<br>\n",
    "\n",
    "4. Based on the 95% confidence interval from Task 3.3, is the lung capacity for patients with emphysema significantly less than or greater than the lung capacity for patients without emphysema? Or are they not significantly different? <br> Explain how you came to your conclusion in complete sentences."
   ]
  },
  {
   "cell_type": "code",
   "execution_count": 3,
   "metadata": {},
   "outputs": [
    {
     "data": {
      "text/html": [
       "<style>\n",
       ".list-inline {list-style: none; margin:0; padding: 0}\n",
       ".list-inline>li {display: inline-block}\n",
       ".list-inline>li:not(:last-child)::after {content: \"\\00b7\"; padding: 0 .5ex}\n",
       "</style>\n",
       "<ol class=list-inline><li>5.48230853903962</li><li>5.56545495992992</li></ol>\n"
      ],
      "text/latex": [
       "\\begin{enumerate*}\n",
       "\\item 5.48230853903962\n",
       "\\item 5.56545495992992\n",
       "\\end{enumerate*}\n"
      ],
      "text/markdown": [
       "1. 5.48230853903962\n",
       "2. 5.56545495992992\n",
       "\n",
       "\n"
      ],
      "text/plain": [
       "[1] 5.482309 5.565455\n",
       "attr(,\"conf.level\")\n",
       "[1] 0.95"
      ]
     },
     "metadata": {},
     "output_type": "display_data"
    },
    {
     "data": {
      "text/html": [
       "<style>\n",
       ".list-inline {list-style: none; margin:0; padding: 0}\n",
       ".list-inline>li {display: inline-block}\n",
       ".list-inline>li:not(:last-child)::after {content: \"\\00b7\"; padding: 0 .5ex}\n",
       "</style>\n",
       "<ol class=list-inline><li>-0.672106478819779</li><li>-0.461275193711688</li></ol>\n"
      ],
      "text/latex": [
       "\\begin{enumerate*}\n",
       "\\item -0.672106478819779\n",
       "\\item -0.461275193711688\n",
       "\\end{enumerate*}\n"
      ],
      "text/markdown": [
       "1. -0.672106478819779\n",
       "2. -0.461275193711688\n",
       "\n",
       "\n"
      ],
      "text/plain": [
       "[1] -0.6721065 -0.4612752\n",
       "attr(,\"conf.level\")\n",
       "[1] 0.95"
      ]
     },
     "metadata": {},
     "output_type": "display_data"
    }
   ],
   "source": [
    "t.test(copd$total_lung_capacity)$conf.int\n",
    "t.test(copd$total_lung_capacity ~ copd$emphysema )$conf.int"
   ]
  },
  {
   "cell_type": "markdown",
   "metadata": {},
   "source": [
    "1. We are 95% confident that the true population mean of total lung capacity lies between the values (5.48, 5.56) liters.\n",
    "2. Yes based on the 95% t-test confidence interval we can claim that the average lung capacity is less than 6 liters.\n",
    "3. We are 95% confident that the difference in mean total lung capacity of those with and those without emphysema is between (-0.67,-0.46) liters. Negative meaning that those without emphysema have lesser lung capacity on average than those with.\n",
    "4. We can claim that the mean total lung capacity of those with emphysema is greater than those without with statistical significance. The interval does not contain zero."
   ]
  },
  {
   "cell_type": "markdown",
   "metadata": {
    "id": "IEalWmt8JIRC"
   },
   "source": [
    "<br>\n",
    "\n",
    "---\n",
    "\n",
    "<br>\n",
    "\n",
    "\n",
    "\n",
    "\n"
   ]
  },
  {
   "cell_type": "markdown",
   "metadata": {
    "id": "ve9K--mmJIRO"
   },
   "source": [
    "####<font color=red>Task 4</font>  (7 points)\n",
    "\n",
    "1. Calculate the average of `total_lung_capacity` and store as `mean_tlc`. What is the average lung capacity? Answer in a complete sentence.\n",
    "\n",
    "<br>\n",
    "\n",
    "2. Use the `sample()` function to randomly sample 100 values from `total_lung_capacity`. Store the sample as `tlc_sample`. Print `tlc_sample`.\n",
    "\n",
    "<br>\n",
    "\n",
    "3. Use `t.test()` to store the confidence interval of `tlc_sample` as the variable `tlc_ci`. Print `tlc_ci`.\n",
    "\n",
    "<br>\n",
    "\n",
    "4. Use the following Boolean expression to determine if the \"true mean\" `mean_tlc` is in the interval.\n",
    "```\n",
    "mean_tlc > tlc_ci[1] & mean_tlc < tlc_ci[2]\n",
    "```\n",
    "Store as `tlc_bool` and print.\n",
    "\n",
    "<br>\n",
    "\n",
    "5. (2 points) Place the lines of code for Tasks 4.1 - 4.4 inside the following loop. Run the loop and print `count`.\n",
    "```\n",
    "# task 4.1 average lung capacity\n",
    "set.seed(10)\n",
    "mean_tlc <- mean(copd$total_lung_capacity)\n",
    "count <- 0\n",
    "for (ii in 1:10000) {\n",
    "\n",
    "  # task 4.2 sample from the \"population\"\n",
    "  tlc_sample <-\n",
    "\n",
    "  # task 4.3 calculate confidence interval\n",
    "  tlc_ci <-\n",
    "\n",
    "  # task 4.4 determine if \"true\" mean is in interval\n",
    "  tlc_bool <-\n",
    "\n",
    "  count <- count + tlc_bool\n",
    "}\n",
    "```\n",
    "The loop above creates 10,000 confidence intervals for `total_lung_capacity` and counts (`count`) the number of times the \"true\" population mean is contained within this interval.\n",
    "\n",
    "<br>\n",
    "\n",
    "6. What percentage of the time is the \"true\" population mean contained with the 10,000 confidence intervals? Answer in a complete sentence.\n",
    "\n",
    "<br>\n",
    "\n",
    "**Another intepretation**: If we were to resample the population over and over again, approximately 95% of the 95% confidence intervals from those samples should contain the true population mean!"
   ]
  },
  {
   "cell_type": "code",
   "execution_count": 4,
   "metadata": {},
   "outputs": [
    {
     "data": {
      "text/html": [
       "0.9545"
      ],
      "text/latex": [
       "0.9545"
      ],
      "text/markdown": [
       "0.9545"
      ],
      "text/plain": [
       "[1] 0.9545"
      ]
     },
     "metadata": {},
     "output_type": "display_data"
    }
   ],
   "source": [
    "# task 4.1 average lung capacity\n",
    "set.seed(10)\n",
    "mean_tlc <- mean(copd$total_lung_capacity)\n",
    "count <- 0\n",
    "for (ii in 1:10000) {\n",
    "\n",
    "  # task 4.2 sample from the \"population\"\n",
    "  tlc_sample <- sample(copd$total_lung_capacity, size = 100)\n",
    "\n",
    "  # task 4.3 calculate confidence interval\n",
    "  tlc_ci <- t.test(tlc_sample)$conf.int\n",
    "\n",
    "  # task 4.4 determine if \"true\" mean is in interval\n",
    "  tlc_bool <- mean_tlc > tlc_ci[1] & mean_tlc < tlc_ci[2]\n",
    "\n",
    "  count <- count + tlc_bool\n",
    "}\n",
    "prop_true = count / 10000\n",
    "prop_true"
   ]
  },
  {
   "cell_type": "markdown",
   "metadata": {},
   "source": [
    "1. The mean total lung capacity of this dataset is 5.52 liters.\n",
    "5. The 95% t-test confidence interval for the samples contained the true dataset mean total lung capacity 95.45% of the time as statistically expected."
   ]
  },
  {
   "cell_type": "code",
   "execution_count": null,
   "metadata": {},
   "outputs": [],
   "source": []
  }
 ],
 "metadata": {
  "colab": {
   "provenance": []
  },
  "kernelspec": {
   "display_name": "R 4.3.3",
   "language": "R",
   "name": "ir433"
  },
  "language_info": {
   "codemirror_mode": "r",
   "file_extension": ".r",
   "mimetype": "text/x-r-source",
   "name": "R",
   "pygments_lexer": "r",
   "version": "4.3.3"
  }
 },
 "nbformat": 4,
 "nbformat_minor": 4
}
