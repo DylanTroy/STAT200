{
 "cells": [
  {
   "cell_type": "markdown",
   "metadata": {
    "id": "gtETsh5j8vHw"
   },
   "source": [
    "# **Lab 8: Regression and Inference (25 points)**\n",
    "\n",
    "#### **Dylan Watson**\n"
   ]
  },
  {
   "cell_type": "markdown",
   "metadata": {
    "id": "en9tcPcGuFyc"
   },
   "source": [
    "---\n",
    "**Instructions**: Complete the lab below.\n",
    "- <font color=red>Tasks</font> indicated in red must be completed to receive credit\n",
    "- Include all code for your work\n",
    "- Include markdown cells with written answers explaining your work when prompted\n",
    "- **NOTE: Your completed lab must be submitted to Canvas as a .ipynb file by the end of the lab session**\n",
    "---"
   ]
  },
  {
   "cell_type": "markdown",
   "metadata": {
    "id": "ZXUOzh4drf3V"
   },
   "source": [
    "\n",
    "\n",
    "\n",
    "<br>\n",
    "\n",
    "\n"
   ]
  },
  {
   "cell_type": "markdown",
   "metadata": {
    "id": "MfKT4gy91QKV"
   },
   "source": [
    "####<font color=red>Organized</font> (1 points)\n",
    "* Answers should be organized in the following format for organization and readability\n",
    "\n",
    "<br>\n",
    "\n",
    "```\n",
    "# 1.\n",
    "This will be the code block to answer the first part of a task\n",
    "```\n",
    "\n",
    "1. This will be the text answer/explanation (if prompted) for the first task\n",
    "\n",
    "```\n",
    "# 2.\n",
    "This will be the code block to answer the second part of a task in a separate code cell\n",
    "```\n",
    "\n",
    "2. This will be the text answer/explanation (if prompted) for the second task\n",
    "\n",
    "<br>\n",
    "\n",
    "Continue this format for the remaining subtasks\n"
   ]
  },
  {
   "cell_type": "markdown",
   "metadata": {
    "id": "YfKhJv3Q1PBh"
   },
   "source": [
    "<br>\n",
    "\n",
    "---\n",
    "\n",
    "<br>\n",
    "\n",
    "\n",
    "\n",
    "\n"
   ]
  },
  {
   "cell_type": "markdown",
   "metadata": {
    "id": "qHm99lhKN3Ck"
   },
   "source": [
    "####<font color=red>Task 0</font>  (1 points)\n",
    "\n",
    "Load the copd dataset using the following script.\n",
    "\n",
    "Note the data in this lab is processed differently than required for the project, however, tasks closely parallel what is required for the project.\n"
   ]
  },
  {
   "cell_type": "code",
   "execution_count": 1,
   "metadata": {
    "id": "2oZ48ZTUN3Y4"
   },
   "outputs": [
    {
     "data": {
      "text/html": [
       "<table class=\"dataframe\">\n",
       "<caption>A data.frame: 6 × 34</caption>\n",
       "<thead>\n",
       "\t<tr><th></th><th scope=col>sid</th><th scope=col>visit_year</th><th scope=col>visit_date</th><th scope=col>visit_age</th><th scope=col>gender</th><th scope=col>race</th><th scope=col>height_cm</th><th scope=col>weight_kg</th><th scope=col>sysBP</th><th scope=col>diasBP</th><th scope=col>⋯</th><th scope=col>smoking_status</th><th scope=col>total_lung_capacity</th><th scope=col>pct_emphysema</th><th scope=col>functional_residual_capacity</th><th scope=col>pct_gastrapping</th><th scope=col>insp_meanatt</th><th scope=col>exp_meanatt</th><th scope=col>FEV1_FVC_ratio</th><th scope=col>FEV1</th><th scope=col>FVC</th></tr>\n",
       "\t<tr><th></th><th scope=col>&lt;chr&gt;</th><th scope=col>&lt;int&gt;</th><th scope=col>&lt;chr&gt;</th><th scope=col>&lt;dbl&gt;</th><th scope=col>&lt;chr&gt;</th><th scope=col>&lt;chr&gt;</th><th scope=col>&lt;dbl&gt;</th><th scope=col>&lt;dbl&gt;</th><th scope=col>&lt;int&gt;</th><th scope=col>&lt;int&gt;</th><th scope=col>⋯</th><th scope=col>&lt;chr&gt;</th><th scope=col>&lt;dbl&gt;</th><th scope=col>&lt;dbl&gt;</th><th scope=col>&lt;dbl&gt;</th><th scope=col>&lt;dbl&gt;</th><th scope=col>&lt;dbl&gt;</th><th scope=col>&lt;dbl&gt;</th><th scope=col>&lt;dbl&gt;</th><th scope=col>&lt;dbl&gt;</th><th scope=col>&lt;dbl&gt;</th></tr>\n",
       "</thead>\n",
       "<tbody>\n",
       "\t<tr><th scope=row>1</th><td>10005Q</td><td>2008</td><td>1/15/2008</td><td>54.5</td><td>Female</td><td>White</td><td>159.9</td><td>73.0</td><td>130</td><td>80</td><td>⋯</td><td>Current smoker</td><td>5.6636</td><td> 0.926851</td><td>2.4766</td><td> 6.80077</td><td>-830.343</td><td>-650.526</td><td>0.77</td><td>2.921</td><td>3.805</td></tr>\n",
       "\t<tr><th scope=row>3</th><td>10010J</td><td>2008</td><td>1/15/2008</td><td>65.9</td><td>Female</td><td>White</td><td>162.1</td><td>62.8</td><td> 96</td><td>63</td><td>⋯</td><td>Current smoker</td><td>5.1960</td><td> 1.683760</td><td>3.8993</td><td>41.34930</td><td>-833.429</td><td>-789.595</td><td>0.53</td><td>1.008</td><td>1.909</td></tr>\n",
       "\t<tr><th scope=row>5</th><td>10017X</td><td>2008</td><td>6/15/2008</td><td>67.5</td><td>Male  </td><td>White</td><td>179.1</td><td>83.0</td><td>106</td><td>72</td><td>⋯</td><td>Former smoker </td><td>7.8935</td><td>36.262400</td><td>4.1043</td><td>46.17690</td><td>-887.947</td><td>-792.397</td><td>0.57</td><td>2.748</td><td>4.827</td></tr>\n",
       "\t<tr><th scope=row>10</th><td>10047G</td><td>2008</td><td>4/15/2008</td><td>81.0</td><td>Female</td><td>White</td><td>165.1</td><td>74.0</td><td>116</td><td>78</td><td>⋯</td><td>Former smoker </td><td>5.3517</td><td> 5.883040</td><td>3.3236</td><td>30.46070</td><td>-853.408</td><td>-763.868</td><td>0.61</td><td>1.411</td><td>2.319</td></tr>\n",
       "\t<tr><th scope=row>14</th><td>10056H</td><td>2008</td><td>2/15/2008</td><td>48.7</td><td>Female</td><td>White</td><td>153.7</td><td>86.2</td><td>100</td><td>53</td><td>⋯</td><td>Former smoker </td><td>4.8654</td><td>11.383200</td><td>4.0606</td><td>47.88110</td><td>-836.281</td><td>-797.471</td><td>0.29</td><td>0.374</td><td>1.281</td></tr>\n",
       "\t<tr><th scope=row>16</th><td>10060Y</td><td>2008</td><td>5/15/2008</td><td>72.8</td><td>Male  </td><td>White</td><td>177.0</td><td>89.6</td><td>147</td><td>71</td><td>⋯</td><td>Former smoker </td><td>7.3304</td><td>19.262300</td><td>5.3342</td><td>53.47470</td><td>-867.254</td><td>-821.256</td><td>0.29</td><td>0.706</td><td>2.424</td></tr>\n",
       "</tbody>\n",
       "</table>\n"
      ],
      "text/latex": [
       "A data.frame: 6 × 34\n",
       "\\begin{tabular}{r|lllllllllllllllllllll}\n",
       "  & sid & visit\\_year & visit\\_date & visit\\_age & gender & race & height\\_cm & weight\\_kg & sysBP & diasBP & ⋯ & smoking\\_status & total\\_lung\\_capacity & pct\\_emphysema & functional\\_residual\\_capacity & pct\\_gastrapping & insp\\_meanatt & exp\\_meanatt & FEV1\\_FVC\\_ratio & FEV1 & FVC\\\\\n",
       "  & <chr> & <int> & <chr> & <dbl> & <chr> & <chr> & <dbl> & <dbl> & <int> & <int> & ⋯ & <chr> & <dbl> & <dbl> & <dbl> & <dbl> & <dbl> & <dbl> & <dbl> & <dbl> & <dbl>\\\\\n",
       "\\hline\n",
       "\t1 & 10005Q & 2008 & 1/15/2008 & 54.5 & Female & White & 159.9 & 73.0 & 130 & 80 & ⋯ & Current smoker & 5.6636 &  0.926851 & 2.4766 &  6.80077 & -830.343 & -650.526 & 0.77 & 2.921 & 3.805\\\\\n",
       "\t3 & 10010J & 2008 & 1/15/2008 & 65.9 & Female & White & 162.1 & 62.8 &  96 & 63 & ⋯ & Current smoker & 5.1960 &  1.683760 & 3.8993 & 41.34930 & -833.429 & -789.595 & 0.53 & 1.008 & 1.909\\\\\n",
       "\t5 & 10017X & 2008 & 6/15/2008 & 67.5 & Male   & White & 179.1 & 83.0 & 106 & 72 & ⋯ & Former smoker  & 7.8935 & 36.262400 & 4.1043 & 46.17690 & -887.947 & -792.397 & 0.57 & 2.748 & 4.827\\\\\n",
       "\t10 & 10047G & 2008 & 4/15/2008 & 81.0 & Female & White & 165.1 & 74.0 & 116 & 78 & ⋯ & Former smoker  & 5.3517 &  5.883040 & 3.3236 & 30.46070 & -853.408 & -763.868 & 0.61 & 1.411 & 2.319\\\\\n",
       "\t14 & 10056H & 2008 & 2/15/2008 & 48.7 & Female & White & 153.7 & 86.2 & 100 & 53 & ⋯ & Former smoker  & 4.8654 & 11.383200 & 4.0606 & 47.88110 & -836.281 & -797.471 & 0.29 & 0.374 & 1.281\\\\\n",
       "\t16 & 10060Y & 2008 & 5/15/2008 & 72.8 & Male   & White & 177.0 & 89.6 & 147 & 71 & ⋯ & Former smoker  & 7.3304 & 19.262300 & 5.3342 & 53.47470 & -867.254 & -821.256 & 0.29 & 0.706 & 2.424\\\\\n",
       "\\end{tabular}\n"
      ],
      "text/markdown": [
       "\n",
       "A data.frame: 6 × 34\n",
       "\n",
       "| <!--/--> | sid &lt;chr&gt; | visit_year &lt;int&gt; | visit_date &lt;chr&gt; | visit_age &lt;dbl&gt; | gender &lt;chr&gt; | race &lt;chr&gt; | height_cm &lt;dbl&gt; | weight_kg &lt;dbl&gt; | sysBP &lt;int&gt; | diasBP &lt;int&gt; | ⋯ ⋯ | smoking_status &lt;chr&gt; | total_lung_capacity &lt;dbl&gt; | pct_emphysema &lt;dbl&gt; | functional_residual_capacity &lt;dbl&gt; | pct_gastrapping &lt;dbl&gt; | insp_meanatt &lt;dbl&gt; | exp_meanatt &lt;dbl&gt; | FEV1_FVC_ratio &lt;dbl&gt; | FEV1 &lt;dbl&gt; | FVC &lt;dbl&gt; |\n",
       "|---|---|---|---|---|---|---|---|---|---|---|---|---|---|---|---|---|---|---|---|---|---|\n",
       "| 1 | 10005Q | 2008 | 1/15/2008 | 54.5 | Female | White | 159.9 | 73.0 | 130 | 80 | ⋯ | Current smoker | 5.6636 |  0.926851 | 2.4766 |  6.80077 | -830.343 | -650.526 | 0.77 | 2.921 | 3.805 |\n",
       "| 3 | 10010J | 2008 | 1/15/2008 | 65.9 | Female | White | 162.1 | 62.8 |  96 | 63 | ⋯ | Current smoker | 5.1960 |  1.683760 | 3.8993 | 41.34930 | -833.429 | -789.595 | 0.53 | 1.008 | 1.909 |\n",
       "| 5 | 10017X | 2008 | 6/15/2008 | 67.5 | Male   | White | 179.1 | 83.0 | 106 | 72 | ⋯ | Former smoker  | 7.8935 | 36.262400 | 4.1043 | 46.17690 | -887.947 | -792.397 | 0.57 | 2.748 | 4.827 |\n",
       "| 10 | 10047G | 2008 | 4/15/2008 | 81.0 | Female | White | 165.1 | 74.0 | 116 | 78 | ⋯ | Former smoker  | 5.3517 |  5.883040 | 3.3236 | 30.46070 | -853.408 | -763.868 | 0.61 | 1.411 | 2.319 |\n",
       "| 14 | 10056H | 2008 | 2/15/2008 | 48.7 | Female | White | 153.7 | 86.2 | 100 | 53 | ⋯ | Former smoker  | 4.8654 | 11.383200 | 4.0606 | 47.88110 | -836.281 | -797.471 | 0.29 | 0.374 | 1.281 |\n",
       "| 16 | 10060Y | 2008 | 5/15/2008 | 72.8 | Male   | White | 177.0 | 89.6 | 147 | 71 | ⋯ | Former smoker  | 7.3304 | 19.262300 | 5.3342 | 53.47470 | -867.254 | -821.256 | 0.29 | 0.706 | 2.424 |\n",
       "\n"
      ],
      "text/plain": [
       "   sid    visit_year visit_date visit_age gender race  height_cm weight_kg\n",
       "1  10005Q 2008       1/15/2008  54.5      Female White 159.9     73.0     \n",
       "3  10010J 2008       1/15/2008  65.9      Female White 162.1     62.8     \n",
       "5  10017X 2008       6/15/2008  67.5      Male   White 179.1     83.0     \n",
       "10 10047G 2008       4/15/2008  81.0      Female White 165.1     74.0     \n",
       "14 10056H 2008       2/15/2008  48.7      Female White 153.7     86.2     \n",
       "16 10060Y 2008       5/15/2008  72.8      Male   White 177.0     89.6     \n",
       "   sysBP diasBP ⋯ smoking_status total_lung_capacity pct_emphysema\n",
       "1  130   80     ⋯ Current smoker 5.6636               0.926851    \n",
       "3   96   63     ⋯ Current smoker 5.1960               1.683760    \n",
       "5  106   72     ⋯ Former smoker  7.8935              36.262400    \n",
       "10 116   78     ⋯ Former smoker  5.3517               5.883040    \n",
       "14 100   53     ⋯ Former smoker  4.8654              11.383200    \n",
       "16 147   71     ⋯ Former smoker  7.3304              19.262300    \n",
       "   functional_residual_capacity pct_gastrapping insp_meanatt exp_meanatt\n",
       "1  2.4766                        6.80077        -830.343     -650.526   \n",
       "3  3.8993                       41.34930        -833.429     -789.595   \n",
       "5  4.1043                       46.17690        -887.947     -792.397   \n",
       "10 3.3236                       30.46070        -853.408     -763.868   \n",
       "14 4.0606                       47.88110        -836.281     -797.471   \n",
       "16 5.3342                       53.47470        -867.254     -821.256   \n",
       "   FEV1_FVC_ratio FEV1  FVC  \n",
       "1  0.77           2.921 3.805\n",
       "3  0.53           1.008 1.909\n",
       "5  0.57           2.748 4.827\n",
       "10 0.61           1.411 2.319\n",
       "14 0.29           0.374 1.281\n",
       "16 0.29           0.706 2.424"
      ]
     },
     "metadata": {},
     "output_type": "display_data"
    }
   ],
   "source": [
    "# load copd dataset\n",
    "copd <- read.csv('https://raw.githubusercontent.com/khasenst/datasets_teaching/main/copd_data_project.csv', header = TRUE)\n",
    "\n",
    "# removes all missing -1 values (ignore)\n",
    "copd <- copd[-unique(unlist(lapply(copd, function(x) {which(x == -1)}))),]\n",
    "copd <- na.omit(copd)[, -ncol(copd)]\n",
    "\n",
    "head(copd)"
   ]
  },
  {
   "cell_type": "markdown",
   "metadata": {
    "id": "2WSzklevN-bB"
   },
   "source": [
    "<br>\n",
    "\n",
    "---\n",
    "\n",
    "<br>\n",
    "\n",
    "\n",
    "\n",
    "\n"
   ]
  },
  {
   "cell_type": "markdown",
   "metadata": {
    "id": "Ek6IuNtolHgW"
   },
   "source": [
    "####<font color=red>Task 1</font>  (10 points)\n",
    "\n",
    "1. Create a scatterplot using `pct_gastrapping` on the y-axis and `FEV1` on the x-axis. Describe what you observe in complete sentences.\n",
    "  * `FEV1` is volume (liters) of air a patient is able to exhale in one second (higher values typically suggest healthier lungs)\n",
    "  * `pct_gastrapping` is the percentage of lung STILL filled with air after exhaling (this is bad). Higher values suggest airway dysfunction.\n",
    "\n",
    "2. Is the relationship between `pct_gastrapping` and `FEV1` linear or quadratic? Explain in complete sentences.\n",
    "\n",
    "3. Fit a linear regression model using `pct_gastrapping` as your response (y-variable). Show the summary of the regression using `summary()`\n",
    "\n",
    "4. What is the slope of the regression line? Explain what this means in the context of gas trapping and FEV1 in complete sentences.\n",
    "\n",
    "5. Is the slope significantly different from zero? Explain why or why not in complete sentences. Also, explain what significance means in the context of the copd application.\n"
   ]
  },
  {
   "cell_type": "code",
   "execution_count": 2,
   "metadata": {},
   "outputs": [
    {
     "name": "stderr",
     "output_type": "stream",
     "text": [
      "\u001b[1m\u001b[22m`geom_smooth()` using formula = 'y ~ x'\n"
     ]
    },
    {
     "data": {
      "text/plain": [
       "\n",
       "Call:\n",
       "lm(formula = FEV1 ~ pct_gastrapping, data = copd)\n",
       "\n",
       "Residuals:\n",
       "    Min      1Q  Median      3Q     Max \n",
       "-1.8304 -0.5273 -0.1041  0.4700  2.8118 \n",
       "\n",
       "Coefficients:\n",
       "                  Estimate Std. Error t value Pr(>|t|)    \n",
       "(Intercept)      2.7981218  0.0208074   134.5   <2e-16 ***\n",
       "pct_gastrapping -0.0241159  0.0007855   -30.7   <2e-16 ***\n",
       "---\n",
       "Signif. codes:  0 '***' 0.001 '**' 0.01 '*' 0.05 '.' 0.1 ' ' 1\n",
       "\n",
       "Residual standard error: 0.7314 on 2759 degrees of freedom\n",
       "Multiple R-squared:  0.2546,\tAdjusted R-squared:  0.2544 \n",
       "F-statistic: 942.6 on 1 and 2759 DF,  p-value: < 2.2e-16\n"
      ]
     },
     "metadata": {},
     "output_type": "display_data"
    },
    {
     "data": {
      "text/html": [
       "<table class=\"dataframe\">\n",
       "<caption>A matrix: 2 × 2 of type dbl</caption>\n",
       "<thead>\n",
       "\t<tr><th></th><th scope=col>2.5 %</th><th scope=col>97.5 %</th></tr>\n",
       "</thead>\n",
       "<tbody>\n",
       "\t<tr><th scope=row>(Intercept)</th><td> 2.75732213</td><td> 2.83892151</td></tr>\n",
       "\t<tr><th scope=row>pct_gastrapping</th><td>-0.02565615</td><td>-0.02257571</td></tr>\n",
       "</tbody>\n",
       "</table>\n"
      ],
      "text/latex": [
       "A matrix: 2 × 2 of type dbl\n",
       "\\begin{tabular}{r|ll}\n",
       "  & 2.5 \\% & 97.5 \\%\\\\\n",
       "\\hline\n",
       "\t(Intercept) &  2.75732213 &  2.83892151\\\\\n",
       "\tpct\\_gastrapping & -0.02565615 & -0.02257571\\\\\n",
       "\\end{tabular}\n"
      ],
      "text/markdown": [
       "\n",
       "A matrix: 2 × 2 of type dbl\n",
       "\n",
       "| <!--/--> | 2.5 % | 97.5 % |\n",
       "|---|---|---|\n",
       "| (Intercept) |  2.75732213 |  2.83892151 |\n",
       "| pct_gastrapping | -0.02565615 | -0.02257571 |\n",
       "\n"
      ],
      "text/plain": [
       "                2.5 %       97.5 %     \n",
       "(Intercept)      2.75732213  2.83892151\n",
       "pct_gastrapping -0.02565615 -0.02257571"
      ]
     },
     "metadata": {},
     "output_type": "display_data"
    },
    {
     "data": {
      "image/png": "[encoded data removed]",
      "text/plain": [
       "plot without title"
      ]
     },
     "metadata": {
      "image/png": {
       "height": 420,
       "width": 420
      }
     },
     "output_type": "display_data"
    }
   ],
   "source": [
    "library(ggplot2)\n",
    "# 1\n",
    "ggplot(data = copd, mapping = aes(x = FEV1, y = pct_gastrapping) ) +\n",
    "    geom_point() +\n",
    "    geom_smooth(method = \"lm\")\n",
    "\n",
    "# 3\n",
    "fit = lm(FEV1 ~ pct_gastrapping, data = copd)\n",
    "summary(fit)\n",
    "# 5\n",
    "confint(fit)"
   ]
  },
  {
   "cell_type": "markdown",
   "metadata": {},
   "source": [
    "### 2\n",
    "I would estimate that the relationship here between FEV1 and pct_gastrapping could be considered linear although with a lower R^2 value. As X increases, the range in response variable Y increase. In other words, the Y values spread out more as X increases in a cone shape. This implies that it may be appropriate to apply some form of transformation to either the explanatory or response variable to better fit a linear regression. \n",
    "### 4\n",
    "The slope of the linear reg. is -0.024. This means that for every unit increase in FEV1 volume, there is a 0.024 decrease in the response var pct_gastrapping. A slight negative correlation.\n",
    "(Note the geom_smooth reg in the plot is not the same as the one manually creates with the lm() func.)\n",
    "### 5\n",
    "Using conf int at the 0.05 alpha level of significance, we get an interval for the slope value of (-0.023, -0.026) which does not contain the value zero. While the values are virtually zero in the practical sense, we have enough evidence to suggest that the slope is different from zero is statistically significant at the 0.05 level."
   ]
  },
  {
   "cell_type": "markdown",
   "metadata": {
    "id": "Y9G8IhaEFCFh"
   },
   "source": [
    "<br>\n",
    "\n",
    "---\n",
    "\n",
    "<br>\n",
    "\n",
    "\n",
    "\n",
    "\n"
   ]
  },
  {
   "cell_type": "markdown",
   "metadata": {
    "id": "g4lgEMDXGJ-s"
   },
   "source": [
    "####<font color=red>Task 2</font>  (8 points)\n",
    "\n",
    "1. Create a boxplot of `pct_gastrapping` vs `emphysema`. Describe what you observe in complete sentences\n",
    "  * `emphysema` is the clinician determined emphysema diagnosis and has three categories (Yes, No, unknown)\n",
    "\n",
    "2. Fit a linear regression model using `pct_gastrapping` as your response (y-variable) and `emphysema` as your x-variable. Show the summary of the regression using `summary()`.\n",
    "  * `emphysemaunknown` refers to the average difference in percent gas trapping between `unknown` and `No`\n",
    "  * `emphysemaYes` refers to the average difference in percent gas trapping between `Yes` and `No`\n",
    "\n",
    "3. Based on Task 2.2, what is the average difference in percent gas trapping between patients with emphysema and without emphysema? Answer in a complete sentence.\n",
    "\n",
    "4. Is percent gas trapping among patients with emphysema significantly greater or less than the percent gas trapping among patients without emphysema? Explain your answer in the context of the copd data."
   ]
  },
  {
   "cell_type": "code",
   "execution_count": 3,
   "metadata": {},
   "outputs": [
    {
     "data": {
      "text/plain": [
       "\n",
       "Call:\n",
       "lm(formula = pct_gastrapping ~ emphysema, data = copd)\n",
       "\n",
       "Residuals:\n",
       "    Min      1Q  Median      3Q     Max \n",
       "-36.226 -10.481  -3.536   8.175  66.632 \n",
       "\n",
       "Coefficients:\n",
       "                 Estimate Std. Error t value Pr(>|t|)    \n",
       "(Intercept)       14.6368     0.3429  42.688   <2e-16 ***\n",
       "emphysemaunknown   9.7580     1.1720   8.326   <2e-16 ***\n",
       "emphysemaYes      21.8871     0.7395  29.599   <2e-16 ***\n",
       "---\n",
       "Signif. codes:  0 '***' 0.001 '**' 0.01 '*' 0.05 '.' 0.1 ' ' 1\n",
       "\n",
       "Residual standard error: 15.41 on 2758 degrees of freedom\n",
       "Multiple R-squared:  0.245,\tAdjusted R-squared:  0.2445 \n",
       "F-statistic: 447.5 on 2 and 2758 DF,  p-value: < 2.2e-16\n"
      ]
     },
     "metadata": {},
     "output_type": "display_data"
    },
    {
     "data": {
      "text/html": [
       "<table class=\"dataframe\">\n",
       "<caption>A matrix: 3 × 2 of type dbl</caption>\n",
       "<thead>\n",
       "\t<tr><th></th><th scope=col>2.5 %</th><th scope=col>97.5 %</th></tr>\n",
       "</thead>\n",
       "<tbody>\n",
       "\t<tr><th scope=row>(Intercept)</th><td>13.964471</td><td>15.30913</td></tr>\n",
       "\t<tr><th scope=row>emphysemaunknown</th><td> 7.460013</td><td>12.05602</td></tr>\n",
       "\t<tr><th scope=row>emphysemaYes</th><td>20.437178</td><td>23.33709</td></tr>\n",
       "</tbody>\n",
       "</table>\n"
      ],
      "text/latex": [
       "A matrix: 3 × 2 of type dbl\n",
       "\\begin{tabular}{r|ll}\n",
       "  & 2.5 \\% & 97.5 \\%\\\\\n",
       "\\hline\n",
       "\t(Intercept) & 13.964471 & 15.30913\\\\\n",
       "\temphysemaunknown &  7.460013 & 12.05602\\\\\n",
       "\temphysemaYes & 20.437178 & 23.33709\\\\\n",
       "\\end{tabular}\n"
      ],
      "text/markdown": [
       "\n",
       "A matrix: 3 × 2 of type dbl\n",
       "\n",
       "| <!--/--> | 2.5 % | 97.5 % |\n",
       "|---|---|---|\n",
       "| (Intercept) | 13.964471 | 15.30913 |\n",
       "| emphysemaunknown |  7.460013 | 12.05602 |\n",
       "| emphysemaYes | 20.437178 | 23.33709 |\n",
       "\n"
      ],
      "text/plain": [
       "                 2.5 %     97.5 %  \n",
       "(Intercept)      13.964471 15.30913\n",
       "emphysemaunknown  7.460013 12.05602\n",
       "emphysemaYes     20.437178 23.33709"
      ]
     },
     "metadata": {},
     "output_type": "display_data"
    },
    {
     "data": {
      "image/png": "[encoded data removed]",
      "text/plain": [
       "plot without title"
      ]
     },
     "metadata": {
      "image/png": {
       "height": 420,
       "width": 420
      }
     },
     "output_type": "display_data"
    }
   ],
   "source": [
    "# 1\n",
    "ggplot(data = copd, mapping = aes(x = emphysema, y = pct_gastrapping, fill = emphysema) ) +\n",
    "       geom_boxplot()\n",
    "# 2\n",
    "fit = lm(pct_gastrapping ~ emphysema, data = copd)\n",
    "summary(fit)\n",
    "confint(fit)"
   ]
  },
  {
   "cell_type": "markdown",
   "metadata": {},
   "source": [
    "### 3 \n",
    "The average difference in pct_gastrapping between those with and without emphysema is 21.89 percent. \n",
    "### 4\n",
    "Yes, the average difference in pct_gastrapping between those with and without emphesema is statistically significantly different. This can be seen both in the confidence interval as well as the p value at the 0.05 alpha level. The confidence interval is (20.44, 23.34) which does not contain zero and the p value equals 2.2*10^-16 which is less than 0.05. "
   ]
  },
  {
   "cell_type": "markdown",
   "metadata": {
    "id": "mIDO27fUHZaK"
   },
   "source": [
    "<br>\n",
    "\n",
    "---\n",
    "\n",
    "<br>\n",
    "\n",
    "\n",
    "\n",
    "\n"
   ]
  },
  {
   "cell_type": "markdown",
   "metadata": {
    "id": "31ZpcQpvHZao"
   },
   "source": [
    "####<font color=red>Task 3</font>  (5 points)\n",
    "\n",
    "1. Fit regressions with multiple predictors (independent variables) using `pct_gastrapping` as the response (dependent variable)\n",
    "\n",
    "2. Predictor variables can be\n",
    "  * linear, quadratic, cubic, etc.\n",
    "  * `log()` transformed (e.g., log(pct_emphysema))\n",
    "  * categorical (these will appear different in the summary)\n",
    "\n",
    "3. Summarize each regression you fit and find the regression that maximizes adjusted $R^2$.\n",
    "  * Adjusted $R^2$ is a measure of the \"goodness of fit\"\n",
    "  * A higher adjusted $R^2$ can be considered a better fit\n",
    "  * Try to maximize this value (i.e. close to 1)\n",
    "  * We will compare values\n",
    "\n",
    "4. Based on your \"best\" regression fit, attempt to interpret the slope parameters\n",
    "  * estimates, p-values, and confidence intervals (use `confint()`)"
   ]
  },
  {
   "cell_type": "code",
   "execution_count": 4,
   "metadata": {},
   "outputs": [
    {
     "data": {
      "text/html": [
       "<style>\n",
       ".list-inline {list-style: none; margin:0; padding: 0}\n",
       ".list-inline>li {display: inline-block}\n",
       ".list-inline>li:not(:last-child)::after {content: \"\\00b7\"; padding: 0 .5ex}\n",
       "</style>\n",
       "<ol class=list-inline><li>'sid'</li><li>'visit_year'</li><li>'visit_date'</li><li>'visit_age'</li><li>'gender'</li><li>'race'</li><li>'height_cm'</li><li>'weight_kg'</li><li>'sysBP'</li><li>'diasBP'</li><li>'hr'</li><li>'O2_hours_day'</li><li>'bmi'</li><li>'asthma'</li><li>'hay_fever'</li><li>'bronchitis_attack'</li><li>'pneumonia'</li><li>'chronic_bronchitis'</li><li>'emphysema'</li><li>'copd'</li><li>'sleep_apnea'</li><li>'SmokStartAge'</li><li>'CigPerDaySmokAvg'</li><li>'Duration_Smoking'</li><li>'smoking_status'</li><li>'total_lung_capacity'</li><li>'pct_emphysema'</li><li>'functional_residual_capacity'</li><li>'pct_gastrapping'</li><li>'insp_meanatt'</li><li>'exp_meanatt'</li><li>'FEV1_FVC_ratio'</li><li>'FEV1'</li><li>'FVC'</li></ol>\n"
      ],
      "text/latex": [
       "\\begin{enumerate*}\n",
       "\\item 'sid'\n",
       "\\item 'visit\\_year'\n",
       "\\item 'visit\\_date'\n",
       "\\item 'visit\\_age'\n",
       "\\item 'gender'\n",
       "\\item 'race'\n",
       "\\item 'height\\_cm'\n",
       "\\item 'weight\\_kg'\n",
       "\\item 'sysBP'\n",
       "\\item 'diasBP'\n",
       "\\item 'hr'\n",
       "\\item 'O2\\_hours\\_day'\n",
       "\\item 'bmi'\n",
       "\\item 'asthma'\n",
       "\\item 'hay\\_fever'\n",
       "\\item 'bronchitis\\_attack'\n",
       "\\item 'pneumonia'\n",
       "\\item 'chronic\\_bronchitis'\n",
       "\\item 'emphysema'\n",
       "\\item 'copd'\n",
       "\\item 'sleep\\_apnea'\n",
       "\\item 'SmokStartAge'\n",
       "\\item 'CigPerDaySmokAvg'\n",
       "\\item 'Duration\\_Smoking'\n",
       "\\item 'smoking\\_status'\n",
       "\\item 'total\\_lung\\_capacity'\n",
       "\\item 'pct\\_emphysema'\n",
       "\\item 'functional\\_residual\\_capacity'\n",
       "\\item 'pct\\_gastrapping'\n",
       "\\item 'insp\\_meanatt'\n",
       "\\item 'exp\\_meanatt'\n",
       "\\item 'FEV1\\_FVC\\_ratio'\n",
       "\\item 'FEV1'\n",
       "\\item 'FVC'\n",
       "\\end{enumerate*}\n"
      ],
      "text/markdown": [
       "1. 'sid'\n",
       "2. 'visit_year'\n",
       "3. 'visit_date'\n",
       "4. 'visit_age'\n",
       "5. 'gender'\n",
       "6. 'race'\n",
       "7. 'height_cm'\n",
       "8. 'weight_kg'\n",
       "9. 'sysBP'\n",
       "10. 'diasBP'\n",
       "11. 'hr'\n",
       "12. 'O2_hours_day'\n",
       "13. 'bmi'\n",
       "14. 'asthma'\n",
       "15. 'hay_fever'\n",
       "16. 'bronchitis_attack'\n",
       "17. 'pneumonia'\n",
       "18. 'chronic_bronchitis'\n",
       "19. 'emphysema'\n",
       "20. 'copd'\n",
       "21. 'sleep_apnea'\n",
       "22. 'SmokStartAge'\n",
       "23. 'CigPerDaySmokAvg'\n",
       "24. 'Duration_Smoking'\n",
       "25. 'smoking_status'\n",
       "26. 'total_lung_capacity'\n",
       "27. 'pct_emphysema'\n",
       "28. 'functional_residual_capacity'\n",
       "29. 'pct_gastrapping'\n",
       "30. 'insp_meanatt'\n",
       "31. 'exp_meanatt'\n",
       "32. 'FEV1_FVC_ratio'\n",
       "33. 'FEV1'\n",
       "34. 'FVC'\n",
       "\n",
       "\n"
      ],
      "text/plain": [
       " [1] \"sid\"                          \"visit_year\"                  \n",
       " [3] \"visit_date\"                   \"visit_age\"                   \n",
       " [5] \"gender\"                       \"race\"                        \n",
       " [7] \"height_cm\"                    \"weight_kg\"                   \n",
       " [9] \"sysBP\"                        \"diasBP\"                      \n",
       "[11] \"hr\"                           \"O2_hours_day\"                \n",
       "[13] \"bmi\"                          \"asthma\"                      \n",
       "[15] \"hay_fever\"                    \"bronchitis_attack\"           \n",
       "[17] \"pneumonia\"                    \"chronic_bronchitis\"          \n",
       "[19] \"emphysema\"                    \"copd\"                        \n",
       "[21] \"sleep_apnea\"                  \"SmokStartAge\"                \n",
       "[23] \"CigPerDaySmokAvg\"             \"Duration_Smoking\"            \n",
       "[25] \"smoking_status\"               \"total_lung_capacity\"         \n",
       "[27] \"pct_emphysema\"                \"functional_residual_capacity\"\n",
       "[29] \"pct_gastrapping\"              \"insp_meanatt\"                \n",
       "[31] \"exp_meanatt\"                  \"FEV1_FVC_ratio\"              \n",
       "[33] \"FEV1\"                         \"FVC\"                         "
      ]
     },
     "metadata": {},
     "output_type": "display_data"
    }
   ],
   "source": [
    "colnames(copd)"
   ]
  },
  {
   "cell_type": "code",
   "execution_count": 5,
   "metadata": {},
   "outputs": [
    {
     "data": {
      "text/plain": [
       "\n",
       "Call:\n",
       "lm(formula = pct_gastrapping ~ smoking_status + gender + total_lung_capacity + \n",
       "    pct_emphysema + functional_residual_capacity + insp_meanatt + \n",
       "    exp_meanatt + FEV1_FVC_ratio + FEV1 + FVC, data = copd)\n",
       "\n",
       "Residuals:\n",
       "     Min       1Q   Median       3Q      Max \n",
       "-24.1265  -3.1580  -0.2144   2.8817  24.4135 \n",
       "\n",
       "Coefficients:\n",
       "                               Estimate Std. Error t value Pr(>|t|)    \n",
       "(Intercept)                  -88.681096   4.595588 -19.297  < 2e-16 ***\n",
       "smoking_statusFormer smoker    1.436950   0.200574   7.164 1.00e-12 ***\n",
       "genderMale                     1.174836   0.258132   4.551 5.56e-06 ***\n",
       "total_lung_capacity           -4.792656   0.252407 -18.988  < 2e-16 ***\n",
       "pct_emphysema                  0.738745   0.017342  42.598  < 2e-16 ***\n",
       "functional_residual_capacity   8.708946   0.354159  24.591  < 2e-16 ***\n",
       "insp_meanatt                  -0.081461   0.007565 -10.769  < 2e-16 ***\n",
       "exp_meanatt                   -0.067002   0.004270 -15.691  < 2e-16 ***\n",
       "FEV1_FVC_ratio               -18.628994   2.563910  -7.266 4.81e-13 ***\n",
       "FEV1                           2.327253   0.698953   3.330 0.000881 ***\n",
       "FVC                           -1.737786   0.487674  -3.563 0.000372 ***\n",
       "---\n",
       "Signif. codes:  0 '***' 0.001 '**' 0.01 '*' 0.05 '.' 0.1 ' ' 1\n",
       "\n",
       "Residual standard error: 4.807 on 2750 degrees of freedom\n",
       "Multiple R-squared:  0.9267,\tAdjusted R-squared:  0.9265 \n",
       "F-statistic:  3478 on 10 and 2750 DF,  p-value: < 2.2e-16\n"
      ]
     },
     "metadata": {},
     "output_type": "display_data"
    }
   ],
   "source": [
    "fit = lm(pct_gastrapping ~ smoking_status + gender + total_lung_capacity + pct_emphysema + functional_residual_capacity + insp_meanatt + exp_meanatt + FEV1_FVC_ratio + FEV1 + FVC, data = copd)\n",
    "summary(fit)"
   ]
  },
  {
   "cell_type": "markdown",
   "metadata": {},
   "source": [
    "I created a multiple linear regression which uses 10 independent explanatory variables to predict the response variable pct_gastrapping. The variables included smoking_status, gender, total_lung_capacity, pct_emphysema, functional_residual_capacity, insp_meanatt, exp_meanatt, FEV1_FVC_ratio, FEV1, and FVC. The model ended up which a multiple R-squared of 0.9267 and an adjusted R-squared of 0.9265 which imply a strong linear correlation. Given the slopes of the variables, those which were negatively correlated with pct_gastrapping were total_lung_capacity, insp_meanatt, exp_meanatt, FEV1_FVC_ratio, and FVC. Those which were positively correlated were smoking_status, gender, pct_emphysema, functional_residual_capaicity, and FEV1. There are too many variables to type out exactly what each slope implies here, but generically, each unit increase in the explanatory variables results in a change in the response variable which is equal to the slope."
   ]
  },
  {
   "cell_type": "code",
   "execution_count": null,
   "metadata": {},
   "outputs": [],
   "source": []
  }
 ],
 "metadata": {
  "colab": {
   "provenance": []
  },
  "kernelspec": {
   "display_name": "R 4.3.3",
   "language": "R",
   "name": "ir433"
  },
  "language_info": {
   "codemirror_mode": "r",
   "file_extension": ".r",
   "mimetype": "text/x-r-source",
   "name": "R",
   "pygments_lexer": "r",
   "version": "4.3.3"
  }
 },
 "nbformat": 4,
 "nbformat_minor": 4
}
