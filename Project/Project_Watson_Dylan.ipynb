{
 "cells": [
  {
   "cell_type": "markdown",
   "metadata": {
    "id": "gtETsh5j8vHw"
   },
   "source": [
    "# **STAT 200 Project (120 points)**\n",
    "\n",
    "#### **Dylan Watson**\n"
   ]
  },
  {
   "cell_type": "markdown",
   "metadata": {
    "id": "hVSLQqLnfUUD"
   },
   "source": [
    "---\n",
    "\n",
    "<br>\n",
    "\n",
    "For your project, you must analyze data from the [COPDGene study](http://www.copdgene.org/) using the concepts covered in this course. Please follow the directions below carefully:\n",
    "\n",
    "- <font color=red>Tasks</font> indicated in red must be completed to receive credit\n",
    "- Include all code for your work\n",
    "- Comment all code using the `#`. This is a must!\n",
    "- Include markdown cells with written answers explaining your work when prompted\n",
    "- **NOTE: Your completed project must be submitted to Canvas as a .ipynb file by the assigned due date**\n",
    "\n"
   ]
  },
  {
   "cell_type": "markdown",
   "metadata": {
    "id": "iAq-0mHOk47g"
   },
   "source": [
    "<br>\n",
    "\n",
    "---\n",
    "\n",
    "<br>\n",
    "\n",
    "\n",
    "\n",
    "\n"
   ]
  },
  {
   "cell_type": "markdown",
   "metadata": {
    "id": "ARFdaNITmap5"
   },
   "source": [
    "## Data\n",
    "\n",
    "Data for the project is available [here](https://raw.githubusercontent.com/khasenst/datasets_teaching/main/copd_data_project.csv). A data dictionary describing the meaning of each of the variables in the dataset is available in the Project module in Canvas."
   ]
  },
  {
   "cell_type": "markdown",
   "metadata": {
    "id": "JnFw01WcmX4_"
   },
   "source": [
    "<br>\n",
    "\n",
    "---\n",
    "\n",
    "<br>\n",
    "\n",
    "\n",
    "\n",
    "\n"
   ]
  },
  {
   "cell_type": "markdown",
   "metadata": {
    "id": "pysEPMTuhyZs"
   },
   "source": [
    "## Introduction\n",
    "\n",
    "Chronic obstructive pulmonary disease (COPD) affects over 16 million Americans and is the fourth leading cause of death in the United States behind heart disease, cancer, and accidental death. While COPD can result from various toxic inhalations or asthma, it is most commonly associated with cigarette smoking.\n",
    "\n",
    "<br>\n",
    "\n",
    "COPD severity is typically measured by a device called a spirometer. Patients forcefully exhale into the device and the volume of air exhaled is used as a measure for the severity of disease (less air exhaled $\\Rightarrow$ worse disease). Data collected by the COPDGene research group includes spirometry data on thousands of research participants.\n",
    "\n",
    "<br>\n",
    "\n",
    "Spirometry measures in the dataset:\n",
    "* The forced expiratory volume (`FEV1`) is the volume of air exhaled in 1 second\n",
    "* The forced vital capacity (`FVC`) is the total volume of air exhaled after a full breath\n",
    "* `FEV1_FVC_ratio` is the ratio between `FEV1` and `FVC` (smaller $\\Rightarrow$ worse disease)\n",
    "* `FEV1_phase2` is the `FEV1` of research participants 5 years later\n",
    "\n",
    "<br>\n",
    "\n",
    "You overall task in this project is to analyze the relationship between FEV1 at follow-up `FEV1_phase2` and other variables in the dataset. The project has been organized into a series of tasks to assist you with your analysis organization."
   ]
  },
  {
   "cell_type": "markdown",
   "metadata": {
    "id": "sn_ZvQJyk0fh"
   },
   "source": [
    "<br>\n",
    "\n",
    "---\n",
    "\n",
    "<br>\n",
    "\n",
    "\n",
    "\n",
    "\n"
   ]
  },
  {
   "cell_type": "markdown",
   "metadata": {
    "id": "MfKT4gy91QKV"
   },
   "source": [
    "####<font color=red>Organized</font> (5 points)\n",
    "* Answers should be organized in the following format for organization and readability\n",
    "\n",
    "<br>\n",
    "\n",
    "```\n",
    "# 1.\n",
    "This will be the code block to answer the first part of a task\n",
    "```\n",
    "\n",
    "1. This will be the text answer/explanation (if prompted) for the first task\n",
    "\n",
    "```\n",
    "# 2.\n",
    "This will be the code block to answer the second part of a task in a separate code cell\n",
    "```\n",
    "\n",
    "2. This will be the text answer/explanation (if prompted) for the second task\n",
    "\n",
    "<br>\n",
    "\n",
    "Continue this format for the remaining subtasks\n"
   ]
  },
  {
   "cell_type": "markdown",
   "metadata": {
    "id": "YfKhJv3Q1PBh"
   },
   "source": [
    "<br>\n",
    "\n",
    "---\n",
    "\n",
    "<br>\n",
    "\n",
    "\n",
    "\n",
    "\n"
   ]
  },
  {
   "cell_type": "markdown",
   "metadata": {
    "id": "Ek6IuNtolHgW"
   },
   "source": [
    "####<font color=red>Task 1</font> (5 points)\n",
    "\n",
    "1. Load the COPDGene dataset and show the first few lines.\n",
    "2. Remove the NAs from the dataset and store as `dat1`. How many rows does `dat1` contain? Answer in a complete sentence.\n",
    "3. Select all rows in the dataset where `FEV1_phase2` is `NA` and store as `dat2`. How many rows does `dat2` contain? Answer in a complete sentence.\n"
   ]
  },
  {
   "cell_type": "code",
   "execution_count": 1,
   "metadata": {
    "colab": {
     "base_uri": "https://localhost:8080/"
    },
    "id": "fG5DqA7Sa7jD",
    "outputId": "5f5adb72-424d-4e70-f814-820f4339b37d"
   },
   "outputs": [
    {
     "name": "stderr",
     "output_type": "stream",
     "text": [
      "Installing package into 'C:/Users/dylan/AppData/Local/R/win-library/4.3'\n",
      "(as 'lib' is unspecified)\n",
      "\n"
     ]
    },
    {
     "name": "stdout",
     "output_type": "stream",
     "text": [
      "package 'GGally' successfully unpacked and MD5 sums checked\n",
      "\n",
      "The downloaded binary packages are in\n",
      "\tC:\\Users\\dylan\\AppData\\Local\\Temp\\Rtmp210qtX\\downloaded_packages\n"
     ]
    },
    {
     "name": "stderr",
     "output_type": "stream",
     "text": [
      "\n",
      "Attaching package: 'dplyr'\n",
      "\n",
      "\n",
      "The following objects are masked from 'package:stats':\n",
      "\n",
      "    filter, lag\n",
      "\n",
      "\n",
      "The following objects are masked from 'package:base':\n",
      "\n",
      "    intersect, setdiff, setequal, union\n",
      "\n",
      "\n",
      "Registered S3 method overwritten by 'GGally':\n",
      "  method from   \n",
      "  +.gg   ggplot2\n",
      "\n"
     ]
    }
   ],
   "source": [
    "install.packages(\"GGally\")\n",
    "library(dplyr)\n",
    "library(ggplot2)\n",
    "library(GGally)"
   ]
  },
  {
   "cell_type": "code",
   "execution_count": 2,
   "metadata": {
    "colab": {
     "base_uri": "https://localhost:8080/",
     "height": 1000
    },
    "id": "Cq1MQQhQaPnr",
    "outputId": "221f6e6f-2dc9-4283-8f83-df9abb3d160c"
   },
   "outputs": [
    {
     "data": {
      "text/html": [
       "5747"
      ],
      "text/latex": [
       "5747"
      ],
      "text/markdown": [
       "5747"
      ],
      "text/plain": [
       "[1] 5747"
      ]
     },
     "metadata": {},
     "output_type": "display_data"
    },
    {
     "data": {
      "text/html": [
       "4000"
      ],
      "text/latex": [
       "4000"
      ],
      "text/markdown": [
       "4000"
      ],
      "text/plain": [
       "[1] 4000"
      ]
     },
     "metadata": {},
     "output_type": "display_data"
    },
    {
     "data": {
      "text/html": [
       "1747"
      ],
      "text/latex": [
       "1747"
      ],
      "text/markdown": [
       "1747"
      ],
      "text/plain": [
       "[1] 1747"
      ]
     },
     "metadata": {},
     "output_type": "display_data"
    },
    {
     "data": {
      "text/plain": [
       "     sid              visit_year    visit_date          visit_age    \n",
       " Length:4000        Min.   :2008   Length:4000        Min.   :39.00  \n",
       " Class :character   1st Qu.:2009   Class :character   1st Qu.:52.50  \n",
       " Mode  :character   Median :2009   Mode  :character   Median :59.40  \n",
       "                    Mean   :2009                      Mean   :59.67  \n",
       "                    3rd Qu.:2010                      3rd Qu.:66.12  \n",
       "                    Max.   :2011                      Max.   :85.00  \n",
       "    gender              race             height_cm       weight_kg     \n",
       " Length:4000        Length:4000        Min.   :140.0   Min.   : 34.90  \n",
       " Class :character   Class :character   1st Qu.:162.6   1st Qu.: 70.00  \n",
       " Mode  :character   Mode  :character   Median :170.0   Median : 82.30  \n",
       "                                       Mean   :169.9   Mean   : 84.07  \n",
       "                                       3rd Qu.:177.0   3rd Qu.: 95.30  \n",
       "                                       Max.   :208.3   Max.   :166.80  \n",
       "     sysBP           diasBP             hr          O2_hours_day    \n",
       " Min.   : -1.0   Min.   : -1.00   Min.   : 40.00   Min.   : 0.0000  \n",
       " 1st Qu.:118.0   1st Qu.: 70.00   1st Qu.: 65.00   1st Qu.: 0.0000  \n",
       " Median :128.0   Median : 77.00   Median : 74.00   Median : 0.0000  \n",
       " Mean   :128.6   Mean   : 76.79   Mean   : 74.23   Mean   : 0.9157  \n",
       " 3rd Qu.:140.0   3rd Qu.: 84.00   3rd Qu.: 82.00   3rd Qu.: 0.0000  \n",
       " Max.   :211.0   Max.   :118.00   Max.   :121.00   Max.   :24.0000  \n",
       "      bmi           asthma            hay_fever      bronchitis_attack \n",
       " Min.   :12.67   Length:4000        Min.   :0.0000   Length:4000       \n",
       " 1st Qu.:24.65   Class :character   1st Qu.:0.0000   Class :character  \n",
       " Median :28.24   Mode  :character   Median :0.0000   Mode  :character  \n",
       " Mean   :29.08                      Mean   :0.5222                     \n",
       " 3rd Qu.:32.40                      3rd Qu.:1.0000                     \n",
       " Max.   :60.00                      Max.   :3.0000                     \n",
       "  pneumonia         chronic_bronchitis  emphysema             copd          \n",
       " Length:4000        Length:4000        Length:4000        Length:4000       \n",
       " Class :character   Class :character   Class :character   Class :character  \n",
       " Mode  :character   Mode  :character   Mode  :character   Mode  :character  \n",
       "                                                                            \n",
       "                                                                            \n",
       "                                                                            \n",
       " sleep_apnea         SmokStartAge   CigPerDaySmokAvg Duration_Smoking\n",
       " Length:4000        Min.   :-1.00   Min.   :-1.00    Min.   :-1.00   \n",
       " Class :character   1st Qu.:14.00   1st Qu.:20.00    1st Qu.:29.90   \n",
       " Mode  :character   Median :16.00   Median :20.00    Median :36.00   \n",
       "                    Mean   :16.65   Mean   :23.73    Mean   :35.07   \n",
       "                    3rd Qu.:18.00   3rd Qu.:30.00    3rd Qu.:42.00   \n",
       "                    Max.   :50.00   Max.   :99.00    Max.   :67.00   \n",
       " smoking_status     total_lung_capacity pct_emphysema    \n",
       " Length:4000        Min.   :-1.000      Min.   :-1.0000  \n",
       " Class :character   1st Qu.: 3.669      1st Qu.: 0.1436  \n",
       " Mode  :character   Median : 4.965      Median : 1.1682  \n",
       "                    Mean   : 4.300      Mean   : 4.2189  \n",
       "                    3rd Qu.: 6.159      3rd Qu.: 4.6587  \n",
       "                    Max.   :11.702      Max.   :56.0577  \n",
       " functional_residual_capacity pct_gastrapping   insp_meanatt   \n",
       " Min.   :-1.000               Min.   :-1.000   Min.   :-919.5  \n",
       " 1st Qu.:-1.000               1st Qu.:-1.000   1st Qu.:-850.0  \n",
       " Median : 2.546               Median : 7.074   Median :-826.1  \n",
       " Mean   : 1.945               Mean   :13.460   Mean   :-673.8  \n",
       " 3rd Qu.: 3.337               3rd Qu.:20.298   3rd Qu.:-776.4  \n",
       " Max.   : 7.861               Max.   :81.269   Max.   :  -1.0  \n",
       "  exp_meanatt     FEV1_FVC_ratio         FEV1             FVC        \n",
       " Min.   :-890.0   Min.   :-1.0000   Min.   :-1.000   Min.   :-1.000  \n",
       " 1st Qu.:-731.1   1st Qu.: 0.6200   1st Qu.: 1.719   1st Qu.: 2.615  \n",
       " Median :-668.4   Median : 0.7300   Median : 2.296   Median : 3.233  \n",
       " Mean   :-498.9   Mean   : 0.6805   Mean   : 2.311   Mean   : 3.329  \n",
       " 3rd Qu.:  -1.0   3rd Qu.: 0.7900   3rd Qu.: 2.898   3rd Qu.: 3.998  \n",
       " Max.   :  -1.0   Max.   : 1.0000   Max.   : 5.260   Max.   : 6.936  \n",
       "  FEV1_phase2   \n",
       " Min.   :0.295  \n",
       " 1st Qu.:1.540  \n",
       " Median :2.098  \n",
       " Mean   :2.120  \n",
       " 3rd Qu.:2.695  \n",
       " Max.   :5.147  "
      ]
     },
     "metadata": {},
     "output_type": "display_data"
    },
    {
     "data": {
      "text/html": [
       "<table class=\"dataframe\">\n",
       "<caption>A data.frame: 6 × 35</caption>\n",
       "<thead>\n",
       "\t<tr><th></th><th scope=col>sid</th><th scope=col>visit_year</th><th scope=col>visit_date</th><th scope=col>visit_age</th><th scope=col>gender</th><th scope=col>race</th><th scope=col>height_cm</th><th scope=col>weight_kg</th><th scope=col>sysBP</th><th scope=col>diasBP</th><th scope=col>⋯</th><th scope=col>total_lung_capacity</th><th scope=col>pct_emphysema</th><th scope=col>functional_residual_capacity</th><th scope=col>pct_gastrapping</th><th scope=col>insp_meanatt</th><th scope=col>exp_meanatt</th><th scope=col>FEV1_FVC_ratio</th><th scope=col>FEV1</th><th scope=col>FVC</th><th scope=col>FEV1_phase2</th></tr>\n",
       "\t<tr><th></th><th scope=col>&lt;chr&gt;</th><th scope=col>&lt;int&gt;</th><th scope=col>&lt;chr&gt;</th><th scope=col>&lt;dbl&gt;</th><th scope=col>&lt;chr&gt;</th><th scope=col>&lt;chr&gt;</th><th scope=col>&lt;dbl&gt;</th><th scope=col>&lt;dbl&gt;</th><th scope=col>&lt;int&gt;</th><th scope=col>&lt;int&gt;</th><th scope=col>⋯</th><th scope=col>&lt;dbl&gt;</th><th scope=col>&lt;dbl&gt;</th><th scope=col>&lt;dbl&gt;</th><th scope=col>&lt;dbl&gt;</th><th scope=col>&lt;dbl&gt;</th><th scope=col>&lt;dbl&gt;</th><th scope=col>&lt;dbl&gt;</th><th scope=col>&lt;dbl&gt;</th><th scope=col>&lt;dbl&gt;</th><th scope=col>&lt;dbl&gt;</th></tr>\n",
       "</thead>\n",
       "<tbody>\n",
       "\t<tr><th scope=row>1</th><td>10005Q</td><td>2008</td><td>1/15/2008</td><td>54.5</td><td>Female</td><td>White                    </td><td>159.9</td><td> 73.0</td><td>130</td><td>80</td><td>⋯</td><td>5.6636</td><td> 0.926851</td><td> 2.4766</td><td> 6.80077</td><td>-830.343</td><td>-650.526</td><td>0.77</td><td>2.921</td><td>3.805</td><td>2.622</td></tr>\n",
       "\t<tr><th scope=row>3</th><td>10010J</td><td>2008</td><td>1/15/2008</td><td>65.9</td><td>Female</td><td>White                    </td><td>162.1</td><td> 62.8</td><td> 96</td><td>63</td><td>⋯</td><td>5.1960</td><td> 1.683760</td><td> 3.8993</td><td>41.34930</td><td>-833.429</td><td>-789.595</td><td>0.53</td><td>1.008</td><td>1.909</td><td>1.087</td></tr>\n",
       "\t<tr><th scope=row>4</th><td>10015T</td><td>2008</td><td>2/15/2008</td><td>59.6</td><td>Male  </td><td>White                    </td><td>182.9</td><td>110.0</td><td>142</td><td>88</td><td>⋯</td><td>6.3971</td><td> 9.330450</td><td>-1.0000</td><td>-1.00000</td><td>-841.315</td><td>  -1.000</td><td>0.51</td><td>1.906</td><td>3.732</td><td>2.002</td></tr>\n",
       "\t<tr><th scope=row>5</th><td>10017X</td><td>2008</td><td>6/15/2008</td><td>67.5</td><td>Male  </td><td>White                    </td><td>179.1</td><td> 83.0</td><td>106</td><td>72</td><td>⋯</td><td>7.8935</td><td>36.262400</td><td> 4.1043</td><td>46.17690</td><td>-887.947</td><td>-792.397</td><td>0.57</td><td>2.748</td><td>4.827</td><td>2.178</td></tr>\n",
       "\t<tr><th scope=row>6</th><td>10022Q</td><td>2008</td><td>2/15/2008</td><td>69.8</td><td>Female</td><td>White                    </td><td>158.8</td><td> 78.0</td><td>122</td><td>78</td><td>⋯</td><td>5.1016</td><td>30.484400</td><td>-1.0000</td><td>-1.00000</td><td>-865.608</td><td>  -1.000</td><td>0.53</td><td>1.076</td><td>2.047</td><td>0.924</td></tr>\n",
       "\t<tr><th scope=row>7</th><td>10025W</td><td>2008</td><td>2/15/2008</td><td>68.9</td><td>Male  </td><td>Black or African American</td><td>168.9</td><td> 51.0</td><td>120</td><td>60</td><td>⋯</td><td>6.4421</td><td>51.156200</td><td>-1.0000</td><td>-1.00000</td><td>-906.021</td><td>  -1.000</td><td>0.27</td><td>0.718</td><td>2.697</td><td>0.596</td></tr>\n",
       "</tbody>\n",
       "</table>\n"
      ],
      "text/latex": [
       "A data.frame: 6 × 35\n",
       "\\begin{tabular}{r|lllllllllllllllllllll}\n",
       "  & sid & visit\\_year & visit\\_date & visit\\_age & gender & race & height\\_cm & weight\\_kg & sysBP & diasBP & ⋯ & total\\_lung\\_capacity & pct\\_emphysema & functional\\_residual\\_capacity & pct\\_gastrapping & insp\\_meanatt & exp\\_meanatt & FEV1\\_FVC\\_ratio & FEV1 & FVC & FEV1\\_phase2\\\\\n",
       "  & <chr> & <int> & <chr> & <dbl> & <chr> & <chr> & <dbl> & <dbl> & <int> & <int> & ⋯ & <dbl> & <dbl> & <dbl> & <dbl> & <dbl> & <dbl> & <dbl> & <dbl> & <dbl> & <dbl>\\\\\n",
       "\\hline\n",
       "\t1 & 10005Q & 2008 & 1/15/2008 & 54.5 & Female & White                     & 159.9 &  73.0 & 130 & 80 & ⋯ & 5.6636 &  0.926851 &  2.4766 &  6.80077 & -830.343 & -650.526 & 0.77 & 2.921 & 3.805 & 2.622\\\\\n",
       "\t3 & 10010J & 2008 & 1/15/2008 & 65.9 & Female & White                     & 162.1 &  62.8 &  96 & 63 & ⋯ & 5.1960 &  1.683760 &  3.8993 & 41.34930 & -833.429 & -789.595 & 0.53 & 1.008 & 1.909 & 1.087\\\\\n",
       "\t4 & 10015T & 2008 & 2/15/2008 & 59.6 & Male   & White                     & 182.9 & 110.0 & 142 & 88 & ⋯ & 6.3971 &  9.330450 & -1.0000 & -1.00000 & -841.315 &   -1.000 & 0.51 & 1.906 & 3.732 & 2.002\\\\\n",
       "\t5 & 10017X & 2008 & 6/15/2008 & 67.5 & Male   & White                     & 179.1 &  83.0 & 106 & 72 & ⋯ & 7.8935 & 36.262400 &  4.1043 & 46.17690 & -887.947 & -792.397 & 0.57 & 2.748 & 4.827 & 2.178\\\\\n",
       "\t6 & 10022Q & 2008 & 2/15/2008 & 69.8 & Female & White                     & 158.8 &  78.0 & 122 & 78 & ⋯ & 5.1016 & 30.484400 & -1.0000 & -1.00000 & -865.608 &   -1.000 & 0.53 & 1.076 & 2.047 & 0.924\\\\\n",
       "\t7 & 10025W & 2008 & 2/15/2008 & 68.9 & Male   & Black or African American & 168.9 &  51.0 & 120 & 60 & ⋯ & 6.4421 & 51.156200 & -1.0000 & -1.00000 & -906.021 &   -1.000 & 0.27 & 0.718 & 2.697 & 0.596\\\\\n",
       "\\end{tabular}\n"
      ],
      "text/markdown": [
       "\n",
       "A data.frame: 6 × 35\n",
       "\n",
       "| <!--/--> | sid &lt;chr&gt; | visit_year &lt;int&gt; | visit_date &lt;chr&gt; | visit_age &lt;dbl&gt; | gender &lt;chr&gt; | race &lt;chr&gt; | height_cm &lt;dbl&gt; | weight_kg &lt;dbl&gt; | sysBP &lt;int&gt; | diasBP &lt;int&gt; | ⋯ ⋯ | total_lung_capacity &lt;dbl&gt; | pct_emphysema &lt;dbl&gt; | functional_residual_capacity &lt;dbl&gt; | pct_gastrapping &lt;dbl&gt; | insp_meanatt &lt;dbl&gt; | exp_meanatt &lt;dbl&gt; | FEV1_FVC_ratio &lt;dbl&gt; | FEV1 &lt;dbl&gt; | FVC &lt;dbl&gt; | FEV1_phase2 &lt;dbl&gt; |\n",
       "|---|---|---|---|---|---|---|---|---|---|---|---|---|---|---|---|---|---|---|---|---|---|\n",
       "| 1 | 10005Q | 2008 | 1/15/2008 | 54.5 | Female | White                     | 159.9 |  73.0 | 130 | 80 | ⋯ | 5.6636 |  0.926851 |  2.4766 |  6.80077 | -830.343 | -650.526 | 0.77 | 2.921 | 3.805 | 2.622 |\n",
       "| 3 | 10010J | 2008 | 1/15/2008 | 65.9 | Female | White                     | 162.1 |  62.8 |  96 | 63 | ⋯ | 5.1960 |  1.683760 |  3.8993 | 41.34930 | -833.429 | -789.595 | 0.53 | 1.008 | 1.909 | 1.087 |\n",
       "| 4 | 10015T | 2008 | 2/15/2008 | 59.6 | Male   | White                     | 182.9 | 110.0 | 142 | 88 | ⋯ | 6.3971 |  9.330450 | -1.0000 | -1.00000 | -841.315 |   -1.000 | 0.51 | 1.906 | 3.732 | 2.002 |\n",
       "| 5 | 10017X | 2008 | 6/15/2008 | 67.5 | Male   | White                     | 179.1 |  83.0 | 106 | 72 | ⋯ | 7.8935 | 36.262400 |  4.1043 | 46.17690 | -887.947 | -792.397 | 0.57 | 2.748 | 4.827 | 2.178 |\n",
       "| 6 | 10022Q | 2008 | 2/15/2008 | 69.8 | Female | White                     | 158.8 |  78.0 | 122 | 78 | ⋯ | 5.1016 | 30.484400 | -1.0000 | -1.00000 | -865.608 |   -1.000 | 0.53 | 1.076 | 2.047 | 0.924 |\n",
       "| 7 | 10025W | 2008 | 2/15/2008 | 68.9 | Male   | Black or African American | 168.9 |  51.0 | 120 | 60 | ⋯ | 6.4421 | 51.156200 | -1.0000 | -1.00000 | -906.021 |   -1.000 | 0.27 | 0.718 | 2.697 | 0.596 |\n",
       "\n"
      ],
      "text/plain": [
       "  sid    visit_year visit_date visit_age gender race                     \n",
       "1 10005Q 2008       1/15/2008  54.5      Female White                    \n",
       "3 10010J 2008       1/15/2008  65.9      Female White                    \n",
       "4 10015T 2008       2/15/2008  59.6      Male   White                    \n",
       "5 10017X 2008       6/15/2008  67.5      Male   White                    \n",
       "6 10022Q 2008       2/15/2008  69.8      Female White                    \n",
       "7 10025W 2008       2/15/2008  68.9      Male   Black or African American\n",
       "  height_cm weight_kg sysBP diasBP ⋯ total_lung_capacity pct_emphysema\n",
       "1 159.9      73.0     130   80     ⋯ 5.6636               0.926851    \n",
       "3 162.1      62.8      96   63     ⋯ 5.1960               1.683760    \n",
       "4 182.9     110.0     142   88     ⋯ 6.3971               9.330450    \n",
       "5 179.1      83.0     106   72     ⋯ 7.8935              36.262400    \n",
       "6 158.8      78.0     122   78     ⋯ 5.1016              30.484400    \n",
       "7 168.9      51.0     120   60     ⋯ 6.4421              51.156200    \n",
       "  functional_residual_capacity pct_gastrapping insp_meanatt exp_meanatt\n",
       "1  2.4766                       6.80077        -830.343     -650.526   \n",
       "3  3.8993                      41.34930        -833.429     -789.595   \n",
       "4 -1.0000                      -1.00000        -841.315       -1.000   \n",
       "5  4.1043                      46.17690        -887.947     -792.397   \n",
       "6 -1.0000                      -1.00000        -865.608       -1.000   \n",
       "7 -1.0000                      -1.00000        -906.021       -1.000   \n",
       "  FEV1_FVC_ratio FEV1  FVC   FEV1_phase2\n",
       "1 0.77           2.921 3.805 2.622      \n",
       "3 0.53           1.008 1.909 1.087      \n",
       "4 0.51           1.906 3.732 2.002      \n",
       "5 0.57           2.748 4.827 2.178      \n",
       "6 0.53           1.076 2.047 0.924      \n",
       "7 0.27           0.718 2.697 0.596      "
      ]
     },
     "metadata": {},
     "output_type": "display_data"
    },
    {
     "data": {
      "text/html": [
       "<style>\n",
       ".list-inline {list-style: none; margin:0; padding: 0}\n",
       ".list-inline>li {display: inline-block}\n",
       ".list-inline>li:not(:last-child)::after {content: \"\\00b7\"; padding: 0 .5ex}\n",
       "</style>\n",
       "<ol class=list-inline><li>0</li><li>1</li><li>3</li></ol>\n"
      ],
      "text/latex": [
       "\\begin{enumerate*}\n",
       "\\item 0\n",
       "\\item 1\n",
       "\\item 3\n",
       "\\end{enumerate*}\n"
      ],
      "text/markdown": [
       "1. 0\n",
       "2. 1\n",
       "3. 3\n",
       "\n",
       "\n"
      ],
      "text/plain": [
       "[1] 0 1 3"
      ]
     },
     "metadata": {},
     "output_type": "display_data"
    },
    {
     "data": {
      "text/html": [
       "<style>\n",
       ".list-inline {list-style: none; margin:0; padding: 0}\n",
       ".list-inline>li {display: inline-block}\n",
       ".list-inline>li:not(:last-child)::after {content: \"\\00b7\"; padding: 0 .5ex}\n",
       "</style>\n",
       "<ol class=list-inline><li>5747</li><li>35</li></ol>\n"
      ],
      "text/latex": [
       "\\begin{enumerate*}\n",
       "\\item 5747\n",
       "\\item 35\n",
       "\\end{enumerate*}\n"
      ],
      "text/markdown": [
       "1. 5747\n",
       "2. 35\n",
       "\n",
       "\n"
      ],
      "text/plain": [
       "[1] 5747   35"
      ]
     },
     "metadata": {},
     "output_type": "display_data"
    }
   ],
   "source": [
    "# 1.)\n",
    "# Retrieve data from url & view num rows.\n",
    "url = \"https://raw.githubusercontent.com/khasenst/datasets_teaching/main/copd_data_project.csv\"\n",
    "data = read.csv(url)\n",
    "nrow(data)\n",
    "\n",
    "# 2.)\n",
    "# Omit rows with na types & view num rows.\n",
    "dat1 = na.omit(data)\n",
    "nrow(dat1)\n",
    "\n",
    "# 3.)\n",
    "# View num rows where FEV1_phase2 is NA & view num rows.\n",
    "dat2 = data |>\n",
    "  filter(is.na(FEV1_phase2))\n",
    "nrow(dat2)\n",
    "\n",
    "# Personal Data Exploration.\n",
    "summary(dat1)\n",
    "head(dat1)\n",
    "unique(dat1$hay_fever)\n",
    "dim(data)"
   ]
  },
  {
   "cell_type": "markdown",
   "metadata": {
    "id": "EyaVM0sHb-xl"
   },
   "source": [
    "The df dat1 contains 4000 rows of data. The df dat2 contains 1747 rows."
   ]
  },
  {
   "cell_type": "markdown",
   "metadata": {
    "id": "3IIpgatI3tCV"
   },
   "source": [
    "<br>\n",
    "\n",
    "---\n",
    "\n",
    "<br>\n",
    "\n",
    "\n",
    "\n",
    "\n"
   ]
  },
  {
   "cell_type": "markdown",
   "metadata": {
    "id": "uTE55FDFqjO1"
   },
   "source": [
    "####<font color=red>Task 2</font> (10 points)\n",
    "\n",
    "1. From `dat1`, plot the histogram of `FEV1`\n",
    "2. Calculate the percentage of `FEV1` values within one standard deviation of its mean. Answer in a complete sentence.\n",
    "3. Calculate the percentage of `FEV1` values within 2 standard deviations of its mean. Answer in a complete sentence.\n",
    "4. Use your answers from 2.1-2.3 to determine if the FEV1 variable is approximately normally distributed.\n"
   ]
  },
  {
   "cell_type": "code",
   "execution_count": 3,
   "metadata": {
    "colab": {
     "base_uri": "https://localhost:8080/",
     "height": 489
    },
    "id": "rftt8G0rcM__",
    "outputId": "0ffd995c-286f-4cc4-dba0-ac235e32de40"
   },
   "outputs": [
    {
     "name": "stderr",
     "output_type": "stream",
     "text": [
      "\u001b[1m\u001b[22m`stat_bin()` using `bins = 30`. Pick better value with `binwidth`.\n"
     ]
    },
    {
     "name": "stdout",
     "output_type": "stream",
     "text": [
      "[1] 67.575\n",
      "[1] 96.75\n"
     ]
    },
    {
     "data": {
      "image/png": "[encoded data removed]",
      "text/plain": [
       "plot without title"
      ]
     },
     "metadata": {
      "image/png": {
       "height": 420,
       "width": 420
      }
     },
     "output_type": "display_data"
    }
   ],
   "source": [
    "# 1.)\n",
    "# Plot hist of FEV1.\n",
    "ggplot(data = dat1, mapping = aes(x = FEV1)) +\n",
    "  geom_histogram()\n",
    "\n",
    "# 2.)\n",
    "# Calc mean & sd of FEV1.\n",
    "FEV1_mean = mean(dat1$FEV1)\n",
    "FEV1_sd = sd(dat1$FEV1)\n",
    "# Find rows within 1 sd.\n",
    "sigma_1 = dat1 |>\n",
    "  filter(FEV1 > (FEV1_mean - FEV1_sd) & FEV1 < (FEV1_mean + FEV1_sd))\n",
    "# Calc percent.\n",
    "within_1sd = nrow(sigma_1) / nrow(dat1) * 100\n",
    "print(within_1sd)\n",
    "\n",
    "# 3.)\n",
    "# Find rows within 2 sd.\n",
    "sigma_2 = dat1 |>\n",
    "  filter(FEV1 > (FEV1_mean - 2* FEV1_sd) & FEV1 < (FEV1_mean + 2* FEV1_sd))\n",
    "# Calc percent.\n",
    "within_2sd = nrow(sigma_2) / nrow(dat1) * 100\n",
    "print(within_2sd)"
   ]
  },
  {
   "cell_type": "markdown",
   "metadata": {
    "id": "W5SAaVc-eR7C"
   },
   "source": [
    "4.) We found that 67.575% of FEV1 values fell within one standard deviation of the mean and 96.75% of values within two standard deviations of the mean. This agrees with the empirical rule of standard normal distributions which states that 68% and 95% of data should fall within 1 and 2 standard deviations respectively. In addition, the histogram of FEV1 also appears approximately normal. So we can say that the variable FEV1 is approximately normal."
   ]
  },
  {
   "cell_type": "markdown",
   "metadata": {
    "id": "tc808tSC7EC1"
   },
   "source": [
    "<br>\n",
    "\n",
    "---\n",
    "\n",
    "<br>\n",
    "\n",
    "\n",
    "\n",
    "\n"
   ]
  },
  {
   "cell_type": "markdown",
   "metadata": {
    "id": "IL8Y8fyP7EDV"
   },
   "source": [
    "####<font color=red>Task 3</font> (10 points)\n",
    "\n",
    "1. From `dat1`, find two other numeric variables and plot their histograms.\n",
    "2. Describe the histogram of the FIRST variable you chose.\n",
    "    * Range, standard deviation, skewness or symmetry, mean, normally distributed, outlier observations etc.\n",
    "    * You may use R functions to help you answer and describe the distribution\n",
    "    * Answer in complete sentences in a paragraph\n",
    "2. Describe the histogram of the SECOND variable you chose.\n",
    "    * Range, standard deviation, skewness or symmetry, mean, normally distributed, outlier observations etc.\n",
    "    * You may use R functions to help you answer and describe the distribution\n",
    "    * Answer in complete sentences in a paragraph"
   ]
  },
  {
   "cell_type": "code",
   "execution_count": 4,
   "metadata": {
    "colab": {
     "base_uri": "https://localhost:8080/",
     "height": 1000
    },
    "id": "7YyDNtWHe81R",
    "outputId": "b8367772-d943-468b-c2ad-3cd8d171abe1"
   },
   "outputs": [
    {
     "name": "stderr",
     "output_type": "stream",
     "text": [
      "\u001b[1m\u001b[22m`stat_bin()` using `bins = 30`. Pick better value with `binwidth`.\n"
     ]
    },
    {
     "name": "stdout",
     "output_type": "stream",
     "text": [
      "[1] 2.120261\n",
      "[1] 0.8262204\n",
      "[1] 0.295\n",
      "[1] 5.147\n"
     ]
    },
    {
     "name": "stderr",
     "output_type": "stream",
     "text": [
      "\u001b[1m\u001b[22m`stat_bin()` using `bins = 30`. Pick better value with `binwidth`.\n"
     ]
    },
    {
     "data": {
      "image/png": "[encoded data removed]",
      "text/plain": [
       "plot without title"
      ]
     },
     "metadata": {
      "image/png": {
       "height": 420,
       "width": 420
      }
     },
     "output_type": "display_data"
    },
    {
     "name": "stdout",
     "output_type": "stream",
     "text": [
      "[1] 0.68047\n",
      "[1] 0.1871808\n",
      "[1] -1\n",
      "[1] 1\n"
     ]
    },
    {
     "data": {
      "image/png": "[encoded data removed]",
      "text/plain": [
       "plot without title"
      ]
     },
     "metadata": {
      "image/png": {
       "height": 420,
       "width": 420
      }
     },
     "output_type": "display_data"
    }
   ],
   "source": [
    "# 1.)\n",
    "# Plot hist of FEV1_phase2.\n",
    "ggplot(data = dat1, mapping = aes(x = FEV1_phase2)) +\n",
    "  geom_histogram()\n",
    "# Desc. Statistics.\n",
    "FEV1_phase2_mean = mean(dat1$FEV1_phase2)\n",
    "print(FEV1_phase2_mean)\n",
    "FEV1_phase2_sd = sd(dat1$FEV1_phase2)\n",
    "print(FEV1_phase2_sd)\n",
    "FEV1_phase2_min = min(dat1$FEV1_phase2)\n",
    "print(FEV1_phase2_min)\n",
    "FEV1_phase2_max = max(dat1$FEV1_phase2)\n",
    "print(FEV1_phase2_max)\n",
    "\n",
    "# Plot hist of FEV1_FVC_ratio.\n",
    "ggplot(data = dat1, mapping = aes(x = FEV1_FVC_ratio)) +\n",
    "  geom_histogram()\n",
    "# Desc. Statistics.\n",
    "FEV1_FVC_ratio_mean = mean(dat1$FEV1_FVC_ratio)\n",
    "print(FEV1_FVC_ratio_mean)\n",
    "FEV1_FVC_ratio_sd = sd(dat1$FEV1_FVC_ratio)\n",
    "print(FEV1_FVC_ratio_sd)\n",
    "FEV1_FVC_ratio_min = min(dat1$FEV1_FVC_ratio)\n",
    "print(FEV1_FVC_ratio_min)\n",
    "FEV1_FVC_ratio_max = max(dat1$FEV1_FVC_ratio)\n",
    "print(FEV1_FVC_ratio_max)"
   ]
  },
  {
   "cell_type": "markdown",
   "metadata": {
    "id": "dMR3Aw8mfmic"
   },
   "source": [
    "2.) The first numeric variable I chose to plot is FEV1_phase2 which is the FEV1 test at followup. It appears to be approximately normally distributed with a mean of 2.120 and sd of 0.826. The min value is 0.295 and max of 5.147 giving a range of 4.852. No skew.\n",
    "\n",
    "\n",
    "3.) The second numeric variable I chose to plot is FEV1_FVC_ratio. This distribution is not normally distributed and appears to have a left skew. It has a mean of 0.680 and sd if 0.187. The min value is -1.0 and max is 1.0. There does appear to be a set of outliers at -1.0.\n"
   ]
  },
  {
   "cell_type": "markdown",
   "metadata": {
    "id": "otnFGcPF7zZD"
   },
   "source": [
    "<br>\n",
    "\n",
    "---\n",
    "\n",
    "<br>\n",
    "\n",
    "\n",
    "\n",
    "\n"
   ]
  },
  {
   "cell_type": "markdown",
   "metadata": {
    "id": "iFWXkIsn7zZj"
   },
   "source": [
    "####<font color=red>Task 4</font> (10 points)\n",
    "\n",
    "1. Using `dat1`, create a boxplot to visualize the relationship between `FEV1_phase2` and `smoking_status`.\n",
    "2. Based on the boxplot, which group tends to have better breathing capacity?\n",
    "3. Select rows in `dat1` corresponding to a `smoking_status` of `Current smoker` or `Former smoker`. Create a 95% confidence interval to determine if average FEV1 for phase 2 is different between current or former smokers. Explain your answer in complete sentences."
   ]
  },
  {
   "cell_type": "code",
   "execution_count": 5,
   "metadata": {
    "colab": {
     "base_uri": "https://localhost:8080/",
     "height": 489
    },
    "id": "dH5SB7aTiNtJ",
    "outputId": "19b660c7-950b-46ec-9879-c817da941c55"
   },
   "outputs": [
    {
     "data": {
      "text/html": [
       "<style>\n",
       ".list-inline {list-style: none; margin:0; padding: 0}\n",
       ".list-inline>li {display: inline-block}\n",
       ".list-inline>li:not(:last-child)::after {content: \"\\00b7\"; padding: 0 .5ex}\n",
       "</style>\n",
       "<ol class=list-inline><li>2.14441311902142</li><li>2.21451273061813</li></ol>\n"
      ],
      "text/latex": [
       "\\begin{enumerate*}\n",
       "\\item 2.14441311902142\n",
       "\\item 2.21451273061813\n",
       "\\end{enumerate*}\n"
      ],
      "text/markdown": [
       "1. 2.14441311902142\n",
       "2. 2.21451273061813\n",
       "\n",
       "\n"
      ],
      "text/plain": [
       "[1] 2.144413 2.214513\n",
       "attr(,\"conf.level\")\n",
       "[1] 0.95"
      ]
     },
     "metadata": {},
     "output_type": "display_data"
    },
    {
     "data": {
      "text/html": [
       "<style>\n",
       ".list-inline {list-style: none; margin:0; padding: 0}\n",
       ".list-inline>li {display: inline-block}\n",
       ".list-inline>li:not(:last-child)::after {content: \"\\00b7\"; padding: 0 .5ex}\n",
       "</style>\n",
       "<ol class=list-inline><li>2.00921002119139</li><li>2.08407804670676</li></ol>\n"
      ],
      "text/latex": [
       "\\begin{enumerate*}\n",
       "\\item 2.00921002119139\n",
       "\\item 2.08407804670676\n",
       "\\end{enumerate*}\n"
      ],
      "text/markdown": [
       "1. 2.00921002119139\n",
       "2. 2.08407804670676\n",
       "\n",
       "\n"
      ],
      "text/plain": [
       "[1] 2.009210 2.084078\n",
       "attr(,\"conf.level\")\n",
       "[1] 0.95"
      ]
     },
     "metadata": {},
     "output_type": "display_data"
    },
    {
     "data": {
      "text/html": [
       "<style>\n",
       ".list-inline {list-style: none; margin:0; padding: 0}\n",
       ".list-inline>li {display: inline-block}\n",
       ".list-inline>li:not(:last-child)::after {content: \"\\00b7\"; padding: 0 .5ex}\n",
       "</style>\n",
       "<ol class=list-inline><li>0.0815530537776783</li><li>0.184084727963715</li></ol>\n"
      ],
      "text/latex": [
       "\\begin{enumerate*}\n",
       "\\item 0.0815530537776783\n",
       "\\item 0.184084727963715\n",
       "\\end{enumerate*}\n"
      ],
      "text/markdown": [
       "1. 0.0815530537776783\n",
       "2. 0.184084727963715\n",
       "\n",
       "\n"
      ],
      "text/plain": [
       "[1] 0.08155305 0.18408473\n",
       "attr(,\"conf.level\")\n",
       "[1] 0.95"
      ]
     },
     "metadata": {},
     "output_type": "display_data"
    },
    {
     "data": {
      "image/png": "[encoded data removed]",
      "text/plain": [
       "plot without title"
      ]
     },
     "metadata": {
      "image/png": {
       "height": 420,
       "width": 420
      }
     },
     "output_type": "display_data"
    }
   ],
   "source": [
    "# 1.)\n",
    "# Boxplot of FEV1_phase2 by smoking_status.\n",
    "ggplot(data = dat1, mapping = aes(y = FEV1_phase2, x = smoking_status, fill = smoking_status)) +\n",
    "  geom_boxplot()\n",
    "\n",
    "# 3.)\n",
    "# Filter by smoking_status and create conf ints of FEV1_phase2 at levels.\n",
    "dat1_Current_smoker = dat1 |>\n",
    "  filter(smoking_status == \"Current smoker\")\n",
    "\n",
    "t.test(dat1_Current_smoker$FEV1_phase2)$conf.int\n",
    "\n",
    "dat1_Former_smoker = dat1 |>\n",
    "  filter(smoking_status == \"Former smoker\")\n",
    "\n",
    "t.test(dat1_Former_smoker$FEV1_phase2)$conf.int\n",
    "\n",
    "t.test(dat1_Current_smoker$FEV1_phase2, dat1_Former_smoker$FEV1_phase2)$conf.int"
   ]
  },
  {
   "cell_type": "markdown",
   "metadata": {
    "id": "elhYhoImjpTe"
   },
   "source": [
    "2.) Using the boxplot to analyze the numeric variable FEV1_phase2 at the varying smoking_status levels we find that individuals who never smoked have the greatest breathing capacity followed significantly behind by both Current smokers and lastly Former smokers. Interestingly former smoker had a lower capacity than current smokers. While one may assume that former smokers lungs could heal and result in higher capacity than current smokers, its likely that formers smokers have smoked for many years and damaged their lungs beyond recovery while current smokers may have recently attained the habit.\n",
    "\n",
    "3.) I created 3 confidence intervals, one for each mean and one for a difference in means. For current smokers, we are 95% confident that the interval (2.14, 2.21) captures the true population mean FEV1_phase2. For former smokers, we are 95% confident that the interval (2.01, 2.08) captures the true population mean FEV1_phase2. The confidence interval for the difference in means provides us (0.08, 0.18). This interval does not contain the value 0 and indicates that there is a statistically significant difference in means that the alpha=0.05 level for FEV1_phase2 between current and former smokers."
   ]
  },
  {
   "cell_type": "markdown",
   "metadata": {
    "id": "ZI0yETG39_RL"
   },
   "source": [
    "<br>\n",
    "\n",
    "---\n",
    "\n",
    "<br>\n",
    "\n",
    "\n",
    "\n",
    "\n"
   ]
  },
  {
   "cell_type": "markdown",
   "metadata": {
    "id": "B4PQgmSu9_Rp"
   },
   "source": [
    "####<font color=red>Task 5</font> (10 points)\n",
    "\n",
    "1. Using `dat1`, create two more boxplots to visualize the relationship between `FEV1_phase2` and two other categorical variables.\n",
    "2. For the first variable, use a 95% confidence interval to determine if the average `FEV1_phase2` is different between two categories.\n",
    "3. For the second variable, use a 95% confidence interval to determine if the average `FEV1_phase2` in phase 2 is different between two categories."
   ]
  },
  {
   "cell_type": "code",
   "execution_count": 6,
   "metadata": {
    "colab": {
     "base_uri": "https://localhost:8080/",
     "height": 892
    },
    "id": "QNL1-o3LlFMi",
    "outputId": "a3e83605-cdbe-44f2-c334-b168562532be"
   },
   "outputs": [
    {
     "data": {
      "text/html": [
       "<style>\n",
       ".list-inline {list-style: none; margin:0; padding: 0}\n",
       ".list-inline>li {display: inline-block}\n",
       ".list-inline>li:not(:last-child)::after {content: \"\\00b7\"; padding: 0 .5ex}\n",
       "</style>\n",
       "<ol class=list-inline><li>0.597673959625982</li><li>0.691885501325393</li></ol>\n"
      ],
      "text/latex": [
       "\\begin{enumerate*}\n",
       "\\item 0.597673959625982\n",
       "\\item 0.691885501325393\n",
       "\\end{enumerate*}\n"
      ],
      "text/markdown": [
       "1. 0.597673959625982\n",
       "2. 0.691885501325393\n",
       "\n",
       "\n"
      ],
      "text/plain": [
       "[1] 0.5976740 0.6918855\n",
       "attr(,\"conf.level\")\n",
       "[1] 0.95"
      ]
     },
     "metadata": {},
     "output_type": "display_data"
    },
    {
     "data": {
      "image/png": "[encoded data removed]",
      "text/plain": [
       "plot without title"
      ]
     },
     "metadata": {
      "image/png": {
       "height": 420,
       "width": 420
      }
     },
     "output_type": "display_data"
    },
    {
     "data": {
      "text/html": [
       "<style>\n",
       ".list-inline {list-style: none; margin:0; padding: 0}\n",
       ".list-inline>li {display: inline-block}\n",
       ".list-inline>li:not(:last-child)::after {content: \"\\00b7\"; padding: 0 .5ex}\n",
       "</style>\n",
       "<ol class=list-inline><li>0.0172804784195744</li><li>0.125069821066214</li></ol>\n"
      ],
      "text/latex": [
       "\\begin{enumerate*}\n",
       "\\item 0.0172804784195744\n",
       "\\item 0.125069821066214\n",
       "\\end{enumerate*}\n"
      ],
      "text/markdown": [
       "1. 0.0172804784195744\n",
       "2. 0.125069821066214\n",
       "\n",
       "\n"
      ],
      "text/plain": [
       "[1] 0.01728048 0.12506982\n",
       "attr(,\"conf.level\")\n",
       "[1] 0.95"
      ]
     },
     "metadata": {},
     "output_type": "display_data"
    },
    {
     "data": {
      "image/png": "[encoded data removed]",
      "text/plain": [
       "plot without title"
      ]
     },
     "metadata": {
      "image/png": {
       "height": 420,
       "width": 420
      }
     },
     "output_type": "display_data"
    }
   ],
   "source": [
    "# 1.)\n",
    "# Boxplot of FEV1_phase2 by gender.\n",
    "ggplot(data = dat1, mapping = aes(y = FEV1_phase2, x = gender, fill = gender)) +\n",
    "  geom_boxplot()\n",
    "# T test Conf int diff of means.\n",
    "t.test(dat1[dat1$gender == \"Male\", ]$FEV1_phase2, dat1[dat1$gender == \"Female\", ]$FEV1_phase2)$conf.int\n",
    "\n",
    "# Boxplot of FEV1_phase2 by race.\n",
    "ggplot(data = dat1, mapping = aes(y = FEV1_phase2, x = race, fill = race)) +\n",
    "  geom_boxplot()\n",
    "# T test Conf int diff of means.\n",
    "t.test(dat1[dat1$race == \"White\", ]$FEV1_phase2, dat1[dat1$race == \"Black or African American\", ]$FEV1_phase2)$conf.int"
   ]
  },
  {
   "cell_type": "markdown",
   "metadata": {
    "id": "erbPR6aIuJ-O"
   },
   "source": [
    "2.) The t test 95% confidence interval for difference of means of FEV1_phase2 between male and female was (0.598, 0.692). This interval does not contain zero and indicates that there is statistical significant difference in means of FEV1_phase2 by gender.\n",
    "\n",
    "\n",
    "3.) The t test 95% confidence interval for difference of means of FEV1_phase2 between white and black or african americans was (0.017, 0.125). This interval does not contain zero and indicates that there is statistical significant difference in means of FEV1_phase2 by race."
   ]
  },
  {
   "cell_type": "markdown",
   "metadata": {
    "id": "F55K5ejQ-jeC"
   },
   "source": [
    "<br>\n",
    "\n",
    "---\n",
    "\n",
    "<br>\n",
    "\n",
    "\n",
    "\n",
    "\n"
   ]
  },
  {
   "cell_type": "markdown",
   "metadata": {
    "id": "x8hY-pZS-jek"
   },
   "source": [
    "####<font color=red>Task 6</font> (20 points)\n",
    "\n",
    "1. Using `dat1`, create a scatterplot visualizing the relationship between `FEV1_phase2` (y-axis) and `FEV1` (x-axis). Note that values that are -1 are missing observations. You may ignore this for this class.\n",
    "2. What relationship do you observe based on the scatterplot?\n",
    "3. Fit a simple linear regression model by regressing `FEV1_phase2` (Y) on `FEV1` (X). Summarize the regression.\n",
    "4. Describe the $R^2$ of the regression in the context of its definition.\n",
    "5. What is the slope and its interpretation in the context of `FEV1` and `FEV1_phase2`? Explain in complete sentences\n",
    "6. What is the intercept and its interpretation in the context of `FEV1` and `FEV1_phase2`? Explain in complete sentences\n",
    "7. Use a 95% confidence interval to determine if the slope is significantly less than 1. Explain what this means in terms of breathing health of the patients."
   ]
  },
  {
   "cell_type": "code",
   "execution_count": 7,
   "metadata": {
    "colab": {
     "base_uri": "https://localhost:8080/",
     "height": 862
    },
    "id": "-hUW-pxbuOD5",
    "outputId": "a381d1d0-17ae-4397-d5de-2ab5a613cd80"
   },
   "outputs": [
    {
     "data": {
      "text/plain": [
       "\n",
       "Call:\n",
       "lm(formula = FEV1_phase2 ~ FEV1, data = dat1)\n",
       "\n",
       "Residuals:\n",
       "    Min      1Q  Median      3Q     Max \n",
       "-1.5909 -0.1880 -0.0144  0.1609  4.3971 \n",
       "\n",
       "Coefficients:\n",
       "            Estimate Std. Error t value Pr(>|t|)    \n",
       "(Intercept) 0.178336   0.016943   10.53   <2e-16 ***\n",
       "FEV1        0.840423   0.006859  122.53   <2e-16 ***\n",
       "---\n",
       "Signif. codes:  0 '***' 0.001 '**' 0.01 '*' 0.05 '.' 0.1 ' ' 1\n",
       "\n",
       "Residual standard error: 0.3789 on 3998 degrees of freedom\n",
       "Multiple R-squared:  0.7897,\tAdjusted R-squared:  0.7897 \n",
       "F-statistic: 1.501e+04 on 1 and 3998 DF,  p-value: < 2.2e-16\n"
      ]
     },
     "metadata": {},
     "output_type": "display_data"
    },
    {
     "data": {
      "text/html": [
       "<table class=\"dataframe\">\n",
       "<caption>A matrix: 2 × 2 of type dbl</caption>\n",
       "<thead>\n",
       "\t<tr><th></th><th scope=col>2.5 %</th><th scope=col>97.5 %</th></tr>\n",
       "</thead>\n",
       "<tbody>\n",
       "\t<tr><th scope=row>(Intercept)</th><td>0.1451177</td><td>0.2115549</td></tr>\n",
       "\t<tr><th scope=row>FEV1</th><td>0.8269759</td><td>0.8538708</td></tr>\n",
       "</tbody>\n",
       "</table>\n"
      ],
      "text/latex": [
       "A matrix: 2 × 2 of type dbl\n",
       "\\begin{tabular}{r|ll}\n",
       "  & 2.5 \\% & 97.5 \\%\\\\\n",
       "\\hline\n",
       "\t(Intercept) & 0.1451177 & 0.2115549\\\\\n",
       "\tFEV1 & 0.8269759 & 0.8538708\\\\\n",
       "\\end{tabular}\n"
      ],
      "text/markdown": [
       "\n",
       "A matrix: 2 × 2 of type dbl\n",
       "\n",
       "| <!--/--> | 2.5 % | 97.5 % |\n",
       "|---|---|---|\n",
       "| (Intercept) | 0.1451177 | 0.2115549 |\n",
       "| FEV1 | 0.8269759 | 0.8538708 |\n",
       "\n"
      ],
      "text/plain": [
       "            2.5 %     97.5 %   \n",
       "(Intercept) 0.1451177 0.2115549\n",
       "FEV1        0.8269759 0.8538708"
      ]
     },
     "metadata": {},
     "output_type": "display_data"
    },
    {
     "data": {
      "image/png": "[encoded data removed]",
      "text/plain": [
       "plot without title"
      ]
     },
     "metadata": {
      "image/png": {
       "height": 420,
       "width": 420
      }
     },
     "output_type": "display_data"
    }
   ],
   "source": [
    "# 1.)\n",
    "# Scatter of FEV1_phase2 vs FEV1\n",
    "ggplot(data = dat1, mapping = aes(y = FEV1_phase2, x = FEV1)) +\n",
    "  geom_point()\n",
    "\n",
    "# 3.)\n",
    "model_1 = lm(FEV1_phase2 ~ FEV1, dat1)\n",
    "summary(model_1)\n",
    "\n",
    "# 7.)\n",
    "confint(model_1)"
   ]
  },
  {
   "cell_type": "markdown",
   "metadata": {
    "id": "ZO3T0HeNunga"
   },
   "source": [
    "2.) There is a strong positive linear relationship between FEV1_phase2 and FEV1.\n",
    "\n",
    "3.) The intercept b0 = 0.178 and slope b1 = 0.840. This means that for each 1 unit increase in FEV1 there is a 0.840 increase in FEV1_phase2. The R^2 is 0.7897 indicating a strong positive linear correlation.\n",
    "\n",
    "4.) The coefficient of determination R^2 = 0.7897. Approximately 78.97% of the variance in FEV1_phase2 can be accounted for by FEV1.\n",
    "\n",
    "5.) The slope b1 = 0.840. This means that for each 1 unit increase in FEV1 there is a 0.840 increase in FEV1_phase2.\n",
    "\n",
    "6.) The intercept b0 = 0.178, meaning that if FEV1 is 0, then FEV1_phase2 is 0.178.\n",
    "\n",
    "7.) The 95% confidence interval for slope is (0.827, 0.854). This interval does not contain the value 0 which indicates that there is a statistically significant positive correlation between FEV1 and FEV1_phase2. In other words, an individuals 1 second expiratory volume is strongly indicative of their 1 second expiratory volume five years later."
   ]
  },
  {
   "cell_type": "markdown",
   "metadata": {
    "id": "QU-MdIq0Aa6b"
   },
   "source": [
    "<br>\n",
    "\n",
    "---\n",
    "\n",
    "<br>\n",
    "\n",
    "\n",
    "\n",
    "\n"
   ]
  },
  {
   "cell_type": "markdown",
   "metadata": {
    "id": "Mj8ewe2iAa6m"
   },
   "source": [
    "####<font color=red>Task 7</font> (10 points)\n",
    "\n",
    "1. Identify two other variables in `dat1` that you think would be related to breathing health, as measured by `FEV1_phase2`. Plot these variables using scatterplots (`FEV1_phase2` on Y axis, variable 1 or variable 2 on X axis). What do you observe? Explain in complete sentences.\n",
    "2. Include these two variables (categorical or numeric), along with `FEV1`, in your regression from Task 6. Show the regression summary. Keep `FEV1_phase2` as Y.\n",
    "3. Using 95% confidence intervals, are the slopes for the two variables you selected significantly different from 0? Explain and interpret in complete sentences.\n"
   ]
  },
  {
   "cell_type": "code",
   "execution_count": 8,
   "metadata": {
    "colab": {
     "base_uri": "https://localhost:8080/",
     "height": 1000
    },
    "id": "ghZmnUNKyT42",
    "outputId": "0465b757-2017-4c30-e12d-ae76102f3a69"
   },
   "outputs": [
    {
     "data": {
      "text/html": [
       "<table class=\"dataframe\">\n",
       "<caption>A data.frame: 6 × 11</caption>\n",
       "<thead>\n",
       "\t<tr><th></th><th scope=col>gender</th><th scope=col>race</th><th scope=col>asthma</th><th scope=col>hay_fever</th><th scope=col>bronchitis_attack</th><th scope=col>pneumonia</th><th scope=col>chronic_bronchitis</th><th scope=col>emphysema</th><th scope=col>copd</th><th scope=col>sleep_apnea</th><th scope=col>smoking_status</th></tr>\n",
       "\t<tr><th></th><th scope=col>&lt;chr&gt;</th><th scope=col>&lt;chr&gt;</th><th scope=col>&lt;chr&gt;</th><th scope=col>&lt;int&gt;</th><th scope=col>&lt;chr&gt;</th><th scope=col>&lt;chr&gt;</th><th scope=col>&lt;chr&gt;</th><th scope=col>&lt;chr&gt;</th><th scope=col>&lt;chr&gt;</th><th scope=col>&lt;chr&gt;</th><th scope=col>&lt;chr&gt;</th></tr>\n",
       "</thead>\n",
       "<tbody>\n",
       "\t<tr><th scope=row>1</th><td>Female</td><td>White                    </td><td>No     </td><td>0</td><td>No     </td><td>No </td><td>No     </td><td>No     </td><td>No </td><td>No </td><td>Current smoker</td></tr>\n",
       "\t<tr><th scope=row>3</th><td>Female</td><td>White                    </td><td>No     </td><td>0</td><td>unknown</td><td>Yes</td><td>Yes    </td><td>No     </td><td>Yes</td><td>No </td><td>Current smoker</td></tr>\n",
       "\t<tr><th scope=row>4</th><td>Male  </td><td>White                    </td><td>Yes    </td><td>1</td><td>unknown</td><td>Yes</td><td>unknown</td><td>unknown</td><td>Yes</td><td>Yes</td><td>Former smoker </td></tr>\n",
       "\t<tr><th scope=row>5</th><td>Male  </td><td>White                    </td><td>unknown</td><td>0</td><td>Yes    </td><td>Yes</td><td>No     </td><td>Yes    </td><td>Yes</td><td>No </td><td>Former smoker </td></tr>\n",
       "\t<tr><th scope=row>6</th><td>Female</td><td>White                    </td><td>No     </td><td>3</td><td>unknown</td><td>Yes</td><td>unknown</td><td>Yes    </td><td>Yes</td><td>No </td><td>Former smoker </td></tr>\n",
       "\t<tr><th scope=row>7</th><td>Male  </td><td>Black or African American</td><td>No     </td><td>0</td><td>No     </td><td>No </td><td>No     </td><td>Yes    </td><td>Yes</td><td>No </td><td>Former smoker </td></tr>\n",
       "</tbody>\n",
       "</table>\n"
      ],
      "text/latex": [
       "A data.frame: 6 × 11\n",
       "\\begin{tabular}{r|lllllllllll}\n",
       "  & gender & race & asthma & hay\\_fever & bronchitis\\_attack & pneumonia & chronic\\_bronchitis & emphysema & copd & sleep\\_apnea & smoking\\_status\\\\\n",
       "  & <chr> & <chr> & <chr> & <int> & <chr> & <chr> & <chr> & <chr> & <chr> & <chr> & <chr>\\\\\n",
       "\\hline\n",
       "\t1 & Female & White                     & No      & 0 & No      & No  & No      & No      & No  & No  & Current smoker\\\\\n",
       "\t3 & Female & White                     & No      & 0 & unknown & Yes & Yes     & No      & Yes & No  & Current smoker\\\\\n",
       "\t4 & Male   & White                     & Yes     & 1 & unknown & Yes & unknown & unknown & Yes & Yes & Former smoker \\\\\n",
       "\t5 & Male   & White                     & unknown & 0 & Yes     & Yes & No      & Yes     & Yes & No  & Former smoker \\\\\n",
       "\t6 & Female & White                     & No      & 3 & unknown & Yes & unknown & Yes     & Yes & No  & Former smoker \\\\\n",
       "\t7 & Male   & Black or African American & No      & 0 & No      & No  & No      & Yes     & Yes & No  & Former smoker \\\\\n",
       "\\end{tabular}\n"
      ],
      "text/markdown": [
       "\n",
       "A data.frame: 6 × 11\n",
       "\n",
       "| <!--/--> | gender &lt;chr&gt; | race &lt;chr&gt; | asthma &lt;chr&gt; | hay_fever &lt;int&gt; | bronchitis_attack &lt;chr&gt; | pneumonia &lt;chr&gt; | chronic_bronchitis &lt;chr&gt; | emphysema &lt;chr&gt; | copd &lt;chr&gt; | sleep_apnea &lt;chr&gt; | smoking_status &lt;chr&gt; |\n",
       "|---|---|---|---|---|---|---|---|---|---|---|---|\n",
       "| 1 | Female | White                     | No      | 0 | No      | No  | No      | No      | No  | No  | Current smoker |\n",
       "| 3 | Female | White                     | No      | 0 | unknown | Yes | Yes     | No      | Yes | No  | Current smoker |\n",
       "| 4 | Male   | White                     | Yes     | 1 | unknown | Yes | unknown | unknown | Yes | Yes | Former smoker  |\n",
       "| 5 | Male   | White                     | unknown | 0 | Yes     | Yes | No      | Yes     | Yes | No  | Former smoker  |\n",
       "| 6 | Female | White                     | No      | 3 | unknown | Yes | unknown | Yes     | Yes | No  | Former smoker  |\n",
       "| 7 | Male   | Black or African American | No      | 0 | No      | No  | No      | Yes     | Yes | No  | Former smoker  |\n",
       "\n"
      ],
      "text/plain": [
       "  gender race                      asthma  hay_fever bronchitis_attack\n",
       "1 Female White                     No      0         No               \n",
       "3 Female White                     No      0         unknown          \n",
       "4 Male   White                     Yes     1         unknown          \n",
       "5 Male   White                     unknown 0         Yes              \n",
       "6 Female White                     No      3         unknown          \n",
       "7 Male   Black or African American No      0         No               \n",
       "  pneumonia chronic_bronchitis emphysema copd sleep_apnea smoking_status\n",
       "1 No        No                 No        No   No          Current smoker\n",
       "3 Yes       Yes                No        Yes  No          Current smoker\n",
       "4 Yes       unknown            unknown   Yes  Yes         Former smoker \n",
       "5 Yes       No                 Yes       Yes  No          Former smoker \n",
       "6 Yes       unknown            Yes       Yes  No          Former smoker \n",
       "7 No        No                 Yes       Yes  No          Former smoker "
      ]
     },
     "metadata": {},
     "output_type": "display_data"
    },
    {
     "data": {
      "text/html": [
       "<table class=\"dataframe\">\n",
       "<caption>A data.frame: 6 × 11</caption>\n",
       "<thead>\n",
       "\t<tr><th></th><th scope=col>gender</th><th scope=col>race</th><th scope=col>asthma</th><th scope=col>hay_fever</th><th scope=col>bronchitis_attack</th><th scope=col>pneumonia</th><th scope=col>chronic_bronchitis</th><th scope=col>emphysema</th><th scope=col>copd</th><th scope=col>sleep_apnea</th><th scope=col>smoking_status</th></tr>\n",
       "\t<tr><th></th><th scope=col>&lt;dbl&gt;</th><th scope=col>&lt;dbl&gt;</th><th scope=col>&lt;dbl&gt;</th><th scope=col>&lt;dbl&gt;</th><th scope=col>&lt;dbl&gt;</th><th scope=col>&lt;dbl&gt;</th><th scope=col>&lt;dbl&gt;</th><th scope=col>&lt;dbl&gt;</th><th scope=col>&lt;dbl&gt;</th><th scope=col>&lt;dbl&gt;</th><th scope=col>&lt;dbl&gt;</th></tr>\n",
       "</thead>\n",
       "<tbody>\n",
       "\t<tr><th scope=row>1</th><td>0</td><td>1</td><td>0.0</td><td>0.0</td><td>0.0</td><td>0</td><td>0.0</td><td>0.0</td><td>0</td><td>0</td><td>0.5</td></tr>\n",
       "\t<tr><th scope=row>3</th><td>0</td><td>1</td><td>0.0</td><td>0.0</td><td>0.5</td><td>1</td><td>1.0</td><td>0.0</td><td>1</td><td>0</td><td>0.5</td></tr>\n",
       "\t<tr><th scope=row>4</th><td>1</td><td>1</td><td>1.0</td><td>1.0</td><td>0.5</td><td>1</td><td>0.5</td><td>0.5</td><td>1</td><td>1</td><td>0.0</td></tr>\n",
       "\t<tr><th scope=row>5</th><td>1</td><td>1</td><td>0.5</td><td>0.0</td><td>1.0</td><td>1</td><td>0.0</td><td>1.0</td><td>1</td><td>0</td><td>0.0</td></tr>\n",
       "\t<tr><th scope=row>6</th><td>0</td><td>1</td><td>0.0</td><td>0.5</td><td>0.5</td><td>1</td><td>0.5</td><td>1.0</td><td>1</td><td>0</td><td>0.0</td></tr>\n",
       "\t<tr><th scope=row>7</th><td>1</td><td>0</td><td>0.0</td><td>0.0</td><td>0.0</td><td>0</td><td>0.0</td><td>1.0</td><td>1</td><td>0</td><td>0.0</td></tr>\n",
       "</tbody>\n",
       "</table>\n"
      ],
      "text/latex": [
       "A data.frame: 6 × 11\n",
       "\\begin{tabular}{r|lllllllllll}\n",
       "  & gender & race & asthma & hay\\_fever & bronchitis\\_attack & pneumonia & chronic\\_bronchitis & emphysema & copd & sleep\\_apnea & smoking\\_status\\\\\n",
       "  & <dbl> & <dbl> & <dbl> & <dbl> & <dbl> & <dbl> & <dbl> & <dbl> & <dbl> & <dbl> & <dbl>\\\\\n",
       "\\hline\n",
       "\t1 & 0 & 1 & 0.0 & 0.0 & 0.0 & 0 & 0.0 & 0.0 & 0 & 0 & 0.5\\\\\n",
       "\t3 & 0 & 1 & 0.0 & 0.0 & 0.5 & 1 & 1.0 & 0.0 & 1 & 0 & 0.5\\\\\n",
       "\t4 & 1 & 1 & 1.0 & 1.0 & 0.5 & 1 & 0.5 & 0.5 & 1 & 1 & 0.0\\\\\n",
       "\t5 & 1 & 1 & 0.5 & 0.0 & 1.0 & 1 & 0.0 & 1.0 & 1 & 0 & 0.0\\\\\n",
       "\t6 & 0 & 1 & 0.0 & 0.5 & 0.5 & 1 & 0.5 & 1.0 & 1 & 0 & 0.0\\\\\n",
       "\t7 & 1 & 0 & 0.0 & 0.0 & 0.0 & 0 & 0.0 & 1.0 & 1 & 0 & 0.0\\\\\n",
       "\\end{tabular}\n"
      ],
      "text/markdown": [
       "\n",
       "A data.frame: 6 × 11\n",
       "\n",
       "| <!--/--> | gender &lt;dbl&gt; | race &lt;dbl&gt; | asthma &lt;dbl&gt; | hay_fever &lt;dbl&gt; | bronchitis_attack &lt;dbl&gt; | pneumonia &lt;dbl&gt; | chronic_bronchitis &lt;dbl&gt; | emphysema &lt;dbl&gt; | copd &lt;dbl&gt; | sleep_apnea &lt;dbl&gt; | smoking_status &lt;dbl&gt; |\n",
       "|---|---|---|---|---|---|---|---|---|---|---|---|\n",
       "| 1 | 0 | 1 | 0.0 | 0.0 | 0.0 | 0 | 0.0 | 0.0 | 0 | 0 | 0.5 |\n",
       "| 3 | 0 | 1 | 0.0 | 0.0 | 0.5 | 1 | 1.0 | 0.0 | 1 | 0 | 0.5 |\n",
       "| 4 | 1 | 1 | 1.0 | 1.0 | 0.5 | 1 | 0.5 | 0.5 | 1 | 1 | 0.0 |\n",
       "| 5 | 1 | 1 | 0.5 | 0.0 | 1.0 | 1 | 0.0 | 1.0 | 1 | 0 | 0.0 |\n",
       "| 6 | 0 | 1 | 0.0 | 0.5 | 0.5 | 1 | 0.5 | 1.0 | 1 | 0 | 0.0 |\n",
       "| 7 | 1 | 0 | 0.0 | 0.0 | 0.0 | 0 | 0.0 | 1.0 | 1 | 0 | 0.0 |\n",
       "\n"
      ],
      "text/plain": [
       "  gender race asthma hay_fever bronchitis_attack pneumonia chronic_bronchitis\n",
       "1 0      1    0.0    0.0       0.0               0         0.0               \n",
       "3 0      1    0.0    0.0       0.5               1         1.0               \n",
       "4 1      1    1.0    1.0       0.5               1         0.5               \n",
       "5 1      1    0.5    0.0       1.0               1         0.0               \n",
       "6 0      1    0.0    0.5       0.5               1         0.5               \n",
       "7 1      0    0.0    0.0       0.0               0         0.0               \n",
       "  emphysema copd sleep_apnea smoking_status\n",
       "1 0.0       0    0           0.5           \n",
       "3 0.0       1    0           0.5           \n",
       "4 0.5       1    1           0.0           \n",
       "5 1.0       1    0           0.0           \n",
       "6 1.0       1    0           0.0           \n",
       "7 1.0       1    0           0.0           "
      ]
     },
     "metadata": {},
     "output_type": "display_data"
    },
    {
     "data": {
      "text/html": [
       "<table class=\"dataframe\">\n",
       "<caption>A data.frame: 32 × 1</caption>\n",
       "<thead>\n",
       "\t<tr><th></th><th scope=col>FEV1_phase2_cors</th></tr>\n",
       "\t<tr><th></th><th scope=col>&lt;dbl&gt;</th></tr>\n",
       "</thead>\n",
       "<tbody>\n",
       "\t<tr><th scope=row>visit_age</th><td>-0.311407468</td></tr>\n",
       "\t<tr><th scope=row>gender</th><td> 0.390244037</td></tr>\n",
       "\t<tr><th scope=row>race</th><td> 0.039703355</td></tr>\n",
       "\t<tr><th scope=row>height_cm</th><td> 0.467260928</td></tr>\n",
       "\t<tr><th scope=row>weight_kg</th><td> 0.192563466</td></tr>\n",
       "\t<tr><th scope=row>sysBP</th><td>-0.023800127</td></tr>\n",
       "\t<tr><th scope=row>diasBP</th><td> 0.109013369</td></tr>\n",
       "\t<tr><th scope=row>hr</th><td>-0.140985100</td></tr>\n",
       "\t<tr><th scope=row>O2_hours_day</th><td>-0.276774995</td></tr>\n",
       "\t<tr><th scope=row>bmi</th><td>-0.038716295</td></tr>\n",
       "\t<tr><th scope=row>asthma</th><td>-0.235716506</td></tr>\n",
       "\t<tr><th scope=row>hay_fever</th><td>-0.035456032</td></tr>\n",
       "\t<tr><th scope=row>bronchitis_attack</th><td>-0.227823142</td></tr>\n",
       "\t<tr><th scope=row>pneumonia</th><td>-0.197688738</td></tr>\n",
       "\t<tr><th scope=row>chronic_bronchitis</th><td>-0.263396014</td></tr>\n",
       "\t<tr><th scope=row>emphysema</th><td>-0.407301821</td></tr>\n",
       "\t<tr><th scope=row>copd</th><td>-0.486687011</td></tr>\n",
       "\t<tr><th scope=row>sleep_apnea</th><td>          NA</td></tr>\n",
       "\t<tr><th scope=row>SmokStartAge</th><td>-0.021311515</td></tr>\n",
       "\t<tr><th scope=row>CigPerDaySmokAvg</th><td>-0.084655373</td></tr>\n",
       "\t<tr><th scope=row>Duration_Smoking</th><td>-0.272770492</td></tr>\n",
       "\t<tr><th scope=row>smoking_status</th><td> 0.103400328</td></tr>\n",
       "\t<tr><th scope=row>total_lung_capacity</th><td> 0.114357670</td></tr>\n",
       "\t<tr><th scope=row>pct_emphysema</th><td>-0.345922449</td></tr>\n",
       "\t<tr><th scope=row>functional_residual_capacity</th><td>-0.047424013</td></tr>\n",
       "\t<tr><th scope=row>pct_gastrapping</th><td>-0.371262141</td></tr>\n",
       "\t<tr><th scope=row>insp_meanatt</th><td>-0.006650881</td></tr>\n",
       "\t<tr><th scope=row>exp_meanatt</th><td> 0.053419032</td></tr>\n",
       "\t<tr><th scope=row>FEV1_FVC_ratio</th><td> 0.444309938</td></tr>\n",
       "\t<tr><th scope=row>FEV1</th><td> 0.888652672</td></tr>\n",
       "\t<tr><th scope=row>FVC</th><td> 0.707936835</td></tr>\n",
       "\t<tr><th scope=row>FEV1_phase2</th><td> 1.000000000</td></tr>\n",
       "</tbody>\n",
       "</table>\n"
      ],
      "text/latex": [
       "A data.frame: 32 × 1\n",
       "\\begin{tabular}{r|l}\n",
       "  & FEV1\\_phase2\\_cors\\\\\n",
       "  & <dbl>\\\\\n",
       "\\hline\n",
       "\tvisit\\_age & -0.311407468\\\\\n",
       "\tgender &  0.390244037\\\\\n",
       "\trace &  0.039703355\\\\\n",
       "\theight\\_cm &  0.467260928\\\\\n",
       "\tweight\\_kg &  0.192563466\\\\\n",
       "\tsysBP & -0.023800127\\\\\n",
       "\tdiasBP &  0.109013369\\\\\n",
       "\thr & -0.140985100\\\\\n",
       "\tO2\\_hours\\_day & -0.276774995\\\\\n",
       "\tbmi & -0.038716295\\\\\n",
       "\tasthma & -0.235716506\\\\\n",
       "\thay\\_fever & -0.035456032\\\\\n",
       "\tbronchitis\\_attack & -0.227823142\\\\\n",
       "\tpneumonia & -0.197688738\\\\\n",
       "\tchronic\\_bronchitis & -0.263396014\\\\\n",
       "\temphysema & -0.407301821\\\\\n",
       "\tcopd & -0.486687011\\\\\n",
       "\tsleep\\_apnea &           NA\\\\\n",
       "\tSmokStartAge & -0.021311515\\\\\n",
       "\tCigPerDaySmokAvg & -0.084655373\\\\\n",
       "\tDuration\\_Smoking & -0.272770492\\\\\n",
       "\tsmoking\\_status &  0.103400328\\\\\n",
       "\ttotal\\_lung\\_capacity &  0.114357670\\\\\n",
       "\tpct\\_emphysema & -0.345922449\\\\\n",
       "\tfunctional\\_residual\\_capacity & -0.047424013\\\\\n",
       "\tpct\\_gastrapping & -0.371262141\\\\\n",
       "\tinsp\\_meanatt & -0.006650881\\\\\n",
       "\texp\\_meanatt &  0.053419032\\\\\n",
       "\tFEV1\\_FVC\\_ratio &  0.444309938\\\\\n",
       "\tFEV1 &  0.888652672\\\\\n",
       "\tFVC &  0.707936835\\\\\n",
       "\tFEV1\\_phase2 &  1.000000000\\\\\n",
       "\\end{tabular}\n"
      ],
      "text/markdown": [
       "\n",
       "A data.frame: 32 × 1\n",
       "\n",
       "| <!--/--> | FEV1_phase2_cors &lt;dbl&gt; |\n",
       "|---|---|\n",
       "| visit_age | -0.311407468 |\n",
       "| gender |  0.390244037 |\n",
       "| race |  0.039703355 |\n",
       "| height_cm |  0.467260928 |\n",
       "| weight_kg |  0.192563466 |\n",
       "| sysBP | -0.023800127 |\n",
       "| diasBP |  0.109013369 |\n",
       "| hr | -0.140985100 |\n",
       "| O2_hours_day | -0.276774995 |\n",
       "| bmi | -0.038716295 |\n",
       "| asthma | -0.235716506 |\n",
       "| hay_fever | -0.035456032 |\n",
       "| bronchitis_attack | -0.227823142 |\n",
       "| pneumonia | -0.197688738 |\n",
       "| chronic_bronchitis | -0.263396014 |\n",
       "| emphysema | -0.407301821 |\n",
       "| copd | -0.486687011 |\n",
       "| sleep_apnea |           NA |\n",
       "| SmokStartAge | -0.021311515 |\n",
       "| CigPerDaySmokAvg | -0.084655373 |\n",
       "| Duration_Smoking | -0.272770492 |\n",
       "| smoking_status |  0.103400328 |\n",
       "| total_lung_capacity |  0.114357670 |\n",
       "| pct_emphysema | -0.345922449 |\n",
       "| functional_residual_capacity | -0.047424013 |\n",
       "| pct_gastrapping | -0.371262141 |\n",
       "| insp_meanatt | -0.006650881 |\n",
       "| exp_meanatt |  0.053419032 |\n",
       "| FEV1_FVC_ratio |  0.444309938 |\n",
       "| FEV1 |  0.888652672 |\n",
       "| FVC |  0.707936835 |\n",
       "| FEV1_phase2 |  1.000000000 |\n",
       "\n"
      ],
      "text/plain": [
       "                             FEV1_phase2_cors\n",
       "visit_age                    -0.311407468    \n",
       "gender                        0.390244037    \n",
       "race                          0.039703355    \n",
       "height_cm                     0.467260928    \n",
       "weight_kg                     0.192563466    \n",
       "sysBP                        -0.023800127    \n",
       "diasBP                        0.109013369    \n",
       "hr                           -0.140985100    \n",
       "O2_hours_day                 -0.276774995    \n",
       "bmi                          -0.038716295    \n",
       "asthma                       -0.235716506    \n",
       "hay_fever                    -0.035456032    \n",
       "bronchitis_attack            -0.227823142    \n",
       "pneumonia                    -0.197688738    \n",
       "chronic_bronchitis           -0.263396014    \n",
       "emphysema                    -0.407301821    \n",
       "copd                         -0.486687011    \n",
       "sleep_apnea                            NA    \n",
       "SmokStartAge                 -0.021311515    \n",
       "CigPerDaySmokAvg             -0.084655373    \n",
       "Duration_Smoking             -0.272770492    \n",
       "smoking_status                0.103400328    \n",
       "total_lung_capacity           0.114357670    \n",
       "pct_emphysema                -0.345922449    \n",
       "functional_residual_capacity -0.047424013    \n",
       "pct_gastrapping              -0.371262141    \n",
       "insp_meanatt                 -0.006650881    \n",
       "exp_meanatt                   0.053419032    \n",
       "FEV1_FVC_ratio                0.444309938    \n",
       "FEV1                          0.888652672    \n",
       "FVC                           0.707936835    \n",
       "FEV1_phase2                   1.000000000    "
      ]
     },
     "metadata": {},
     "output_type": "display_data"
    }
   ],
   "source": [
    "# Some Data Munging and EDA prior to task 7.\n",
    "# Remove non-relevant cols.\n",
    "dat1_subset = dat1 |>\n",
    "  select(-c(sid, visit_year, visit_date))\n",
    "\n",
    "# Encode Categorical Cols for cor() function and other that dont accept factors.\n",
    "yesnounknwon_cols = c(\"asthma\", \"bronchitis_attack\", \"pneumonia\", \"chronic_bronchitis\", \"emphysema\", \"copd\", \"sleep_apnea\")\n",
    "yesnounknown_encoding = c(\"Yes\" = 1, \"No\" = 0, \"unknown\" = 0.5)\n",
    "gender_encoding = c(\"Male\" = 1, \"Female\" = 0)\n",
    "race_encoding = c(\"White\" = 1, \"Black or African American\" = 0)\n",
    "smoking_status_encoding = c(\"Never smoked\" = 1, \"Current smoker\" = 0.5, \"Former smoker\" = 0)\n",
    "\n",
    "# Encode Yes No Unknown Cols.\n",
    "dat1_subset_encoded <- dat1_subset |>\n",
    "  mutate(across(all_of(yesnounknwon_cols), ~yesnounknown_encoding[.]))\n",
    "# Encode Hay_Fever Col.\n",
    "dat1_subset_encoded$hay_fever <- ifelse(dat1_subset_encoded$hay_fever == 1, 1,\n",
    "                                     ifelse(dat1_subset_encoded$hay_fever == 0, 0,\n",
    "                                            ifelse(dat1_subset_encoded$hay_fever == 3, 0.5, NA)))\n",
    "# Encode Gender Col.\n",
    "dat1_subset_encoded$gender = gender_encoding[dat1_subset_encoded$gender]\n",
    "# Encode Race Col.\n",
    "dat1_subset_encoded$race = race_encoding[dat1_subset_encoded$race]\n",
    "# Encode Smoking_Status_Col.\n",
    "dat1_subset_encoded$smoking_status = smoking_status_encoding[dat1_subset_encoded$smoking_status]\n",
    "\n",
    "# Check Encodings.\n",
    "head(dat1_subset[, c(2:3, 11:18, 22)])\n",
    "head(dat1_subset_encoded[, c(2:3, 11:18, 22)])\n",
    "\n",
    "correlations = cor(dat1_subset_encoded)\n",
    "FEV1_phase2_cors = correlations[, \"FEV1_phase2\"]\n",
    "data.frame(FEV1_phase2_cors)"
   ]
  },
  {
   "cell_type": "code",
   "execution_count": 9,
   "metadata": {
    "colab": {
     "base_uri": "https://localhost:8080/",
     "height": 1000
    },
    "id": "38B3R7JgGJBc",
    "outputId": "1c020fd9-877f-4ac5-fb37-1fddcdeb426f"
   },
   "outputs": [
    {
     "data": {
      "image/png": "[encoded data removed]",
      "text/plain": [
       "plot without title"
      ]
     },
     "metadata": {
      "image/png": {
       "height": 420,
       "width": 420
      }
     },
     "output_type": "display_data"
    },
    {
     "data": {
      "text/plain": [
       "\n",
       "Call:\n",
       "lm(formula = FEV1_phase2 ~ FEV1 + FVC + height_cm, data = dat1)\n",
       "\n",
       "Residuals:\n",
       "    Min      1Q  Median      3Q     Max \n",
       "-1.7178 -0.1888 -0.0140  0.1623  3.7346 \n",
       "\n",
       "Coefficients:\n",
       "              Estimate Std. Error t value Pr(>|t|)    \n",
       "(Intercept) -1.5042146  0.1157301  -13.00   <2e-16 ***\n",
       "FEV1         1.0287622  0.0126502   81.32   <2e-16 ***\n",
       "FVC         -0.2519033  0.0120566  -20.89   <2e-16 ***\n",
       "height_cm    0.0122794  0.0007569   16.22   <2e-16 ***\n",
       "---\n",
       "Signif. codes:  0 '***' 0.001 '**' 0.01 '*' 0.05 '.' 0.1 ' ' 1\n",
       "\n",
       "Residual standard error: 0.3575 on 3996 degrees of freedom\n",
       "Multiple R-squared:  0.8129,\tAdjusted R-squared:  0.8128 \n",
       "F-statistic:  5788 on 3 and 3996 DF,  p-value: < 2.2e-16\n"
      ]
     },
     "metadata": {},
     "output_type": "display_data"
    },
    {
     "data": {
      "text/html": [
       "<table class=\"dataframe\">\n",
       "<caption>A matrix: 4 × 2 of type dbl</caption>\n",
       "<thead>\n",
       "\t<tr><th></th><th scope=col>2.5 %</th><th scope=col>97.5 %</th></tr>\n",
       "</thead>\n",
       "<tbody>\n",
       "\t<tr><th scope=row>(Intercept)</th><td>-1.73111017</td><td>-1.27731900</td></tr>\n",
       "\t<tr><th scope=row>FEV1</th><td> 1.00396079</td><td> 1.05356365</td></tr>\n",
       "\t<tr><th scope=row>FVC</th><td>-0.27554107</td><td>-0.22826561</td></tr>\n",
       "\t<tr><th scope=row>height_cm</th><td> 0.01079551</td><td> 0.01376338</td></tr>\n",
       "</tbody>\n",
       "</table>\n"
      ],
      "text/latex": [
       "A matrix: 4 × 2 of type dbl\n",
       "\\begin{tabular}{r|ll}\n",
       "  & 2.5 \\% & 97.5 \\%\\\\\n",
       "\\hline\n",
       "\t(Intercept) & -1.73111017 & -1.27731900\\\\\n",
       "\tFEV1 &  1.00396079 &  1.05356365\\\\\n",
       "\tFVC & -0.27554107 & -0.22826561\\\\\n",
       "\theight\\_cm &  0.01079551 &  0.01376338\\\\\n",
       "\\end{tabular}\n"
      ],
      "text/markdown": [
       "\n",
       "A matrix: 4 × 2 of type dbl\n",
       "\n",
       "| <!--/--> | 2.5 % | 97.5 % |\n",
       "|---|---|---|\n",
       "| (Intercept) | -1.73111017 | -1.27731900 |\n",
       "| FEV1 |  1.00396079 |  1.05356365 |\n",
       "| FVC | -0.27554107 | -0.22826561 |\n",
       "| height_cm |  0.01079551 |  0.01376338 |\n",
       "\n"
      ],
      "text/plain": [
       "            2.5 %       97.5 %     \n",
       "(Intercept) -1.73111017 -1.27731900\n",
       "FEV1         1.00396079  1.05356365\n",
       "FVC         -0.27554107 -0.22826561\n",
       "height_cm    0.01079551  0.01376338"
      ]
     },
     "metadata": {},
     "output_type": "display_data"
    },
    {
     "data": {
      "image/png": "[encoded data removed]",
      "text/plain": [
       "plot without title"
      ]
     },
     "metadata": {
      "image/png": {
       "height": 420,
       "width": 420
      }
     },
     "output_type": "display_data"
    }
   ],
   "source": [
    "# 1.)\n",
    "# I chose FVC and height_cm as my 2nd and 3rd vars to explain FEV1_phase2 according to the correlations above.\n",
    "# Scatter of FEV1_phase2 vs FVC\n",
    "ggplot(data = dat1, mapping = aes(y = FEV1_phase2, x = FVC)) +\n",
    "  geom_point()\n",
    "\n",
    "# Scatter of FEV1_phase2 vs height_cm\n",
    "ggplot(data = dat1, mapping = aes(y = FEV1_phase2, x = height_cm)) +\n",
    "  geom_point()\n",
    "\n",
    "# 2.)\n",
    "# Add vars to model_1.\n",
    "model_2 = lm(FEV1_phase2 ~ FEV1 + FVC + height_cm, dat1)\n",
    "summary(model_2)\n",
    "\n",
    "# 3.)\n",
    "# Show 95% confidence interval for vars.\n",
    "confint(model_2)"
   ]
  },
  {
   "cell_type": "markdown",
   "metadata": {
    "id": "jCSWkAwwHGV5"
   },
   "source": [
    "1.) FEV1_phase2 vs FVC shows a strong positive linear correlation. FEV1_phase2 vs height_cm shows a moderate positive linear correlation.\n",
    "\n",
    "3.) After adding the variables FVC and height_cm, the slope estimates confidence intervals are as follows. FEV1: (1.00, 1.05), FVC: (-0.276, -0.228), and height_cm: (0.011, 0.0138). All these intervals do not contain zero meaning that they are statistically significantly correlated with FEV1_phase2 at the 0.05 level. Additionally the R^2 increased from 0.7897 to 0.8129."
   ]
  },
  {
   "cell_type": "markdown",
   "metadata": {
    "id": "x966bDAAB48g"
   },
   "source": [
    "<br>\n",
    "\n",
    "---\n",
    "\n",
    "<br>\n",
    "\n",
    "\n",
    "\n",
    "\n"
   ]
  },
  {
   "cell_type": "markdown",
   "metadata": {
    "id": "hP9YTR7nB48r"
   },
   "source": [
    "####<font color=red>Task 8</font> (5 points)\n",
    "\n",
    "1. Using your regression model with three variables from Task 7, predict the `FEV1_phase2`.\n",
    "2. Calculate the root mean squared error. Is this error large or small? Explain your answer.\n",
    "\n",
    "\n",
    "```\n",
    "# Hint\n",
    "y <- dat1$FEV1_phase2\n",
    "y_predicted <- fitted(lm(...))\n",
    "\n",
    "# root mean squared error\n",
    "rmse <- sqrt(mean((y - y_predicted)^2))\n",
    "```\n",
    "\n",
    "\n"
   ]
  },
  {
   "cell_type": "code",
   "execution_count": 10,
   "metadata": {
    "colab": {
     "base_uri": "https://localhost:8080/",
     "height": 321
    },
    "id": "TqclEjRpJE8r",
    "outputId": "1ad42e53-a449-4fab-81f4-29845e99174c"
   },
   "outputs": [
    {
     "data": {
      "text/html": [
       "<table class=\"dataframe\">\n",
       "<caption>A data.frame: 6 × 2</caption>\n",
       "<thead>\n",
       "\t<tr><th></th><th scope=col>y</th><th scope=col>y_predicted</th></tr>\n",
       "\t<tr><th></th><th scope=col>&lt;dbl&gt;</th><th scope=col>&lt;dbl&gt;</th></tr>\n",
       "</thead>\n",
       "<tbody>\n",
       "\t<tr><th scope=row>1</th><td>2.622</td><td>2.5057907</td></tr>\n",
       "\t<tr><th scope=row>3</th><td>1.087</td><td>1.0423921</td></tr>\n",
       "\t<tr><th scope=row>4</th><td>2.002</td><td>1.7624132</td></tr>\n",
       "\t<tr><th scope=row>5</th><td>2.178</td><td>2.3061350</td></tr>\n",
       "\t<tr><th scope=row>6</th><td>0.924</td><td>1.0370631</td></tr>\n",
       "\t<tr><th scope=row>7</th><td>0.596</td><td>0.6290515</td></tr>\n",
       "</tbody>\n",
       "</table>\n"
      ],
      "text/latex": [
       "A data.frame: 6 × 2\n",
       "\\begin{tabular}{r|ll}\n",
       "  & y & y\\_predicted\\\\\n",
       "  & <dbl> & <dbl>\\\\\n",
       "\\hline\n",
       "\t1 & 2.622 & 2.5057907\\\\\n",
       "\t3 & 1.087 & 1.0423921\\\\\n",
       "\t4 & 2.002 & 1.7624132\\\\\n",
       "\t5 & 2.178 & 2.3061350\\\\\n",
       "\t6 & 0.924 & 1.0370631\\\\\n",
       "\t7 & 0.596 & 0.6290515\\\\\n",
       "\\end{tabular}\n"
      ],
      "text/markdown": [
       "\n",
       "A data.frame: 6 × 2\n",
       "\n",
       "| <!--/--> | y &lt;dbl&gt; | y_predicted &lt;dbl&gt; |\n",
       "|---|---|---|\n",
       "| 1 | 2.622 | 2.5057907 |\n",
       "| 3 | 1.087 | 1.0423921 |\n",
       "| 4 | 2.002 | 1.7624132 |\n",
       "| 5 | 2.178 | 2.3061350 |\n",
       "| 6 | 0.924 | 1.0370631 |\n",
       "| 7 | 0.596 | 0.6290515 |\n",
       "\n"
      ],
      "text/plain": [
       "  y     y_predicted\n",
       "1 2.622 2.5057907  \n",
       "3 1.087 1.0423921  \n",
       "4 2.002 1.7624132  \n",
       "5 2.178 2.3061350  \n",
       "6 0.924 1.0370631  \n",
       "7 0.596 0.6290515  "
      ]
     },
     "metadata": {},
     "output_type": "display_data"
    },
    {
     "data": {
      "text/html": [
       "0.127673691773373"
      ],
      "text/latex": [
       "0.127673691773373"
      ],
      "text/markdown": [
       "0.127673691773373"
      ],
      "text/plain": [
       "[1] 0.1276737"
      ]
     },
     "metadata": {},
     "output_type": "display_data"
    },
    {
     "data": {
      "text/html": [
       "0.357314555781559"
      ],
      "text/latex": [
       "0.357314555781559"
      ],
      "text/markdown": [
       "0.357314555781559"
      ],
      "text/plain": [
       "[1] 0.3573146"
      ]
     },
     "metadata": {},
     "output_type": "display_data"
    }
   ],
   "source": [
    "# 1.)\n",
    "# Create df of true y and predicted y from model_2.\n",
    "model_analysis = data.frame(y = dat1$FEV1_phase2, y_predicted = predict(model_2))\n",
    "head(model_analysis)\n",
    "\n",
    "# 2.)\n",
    "# Calc Root mean squared error.\n",
    "mse = mean((model_analysis$y - model_analysis$y_predicted)^2)\n",
    "mse\n",
    "rmse = sqrt(mse)\n",
    "rmse"
   ]
  },
  {
   "cell_type": "markdown",
   "metadata": {
    "id": "rSlyumkyLDnS"
   },
   "source": [
    "2.) The rmse calculated was 0.357 which is less than half of the sd of FEV1_phase2 which was 0.826. I would consider this root mean squared error to be small relative to the range and sd of the response variable."
   ]
  },
  {
   "cell_type": "markdown",
   "metadata": {
    "id": "FEe6lMINC19w"
   },
   "source": [
    "<br>\n",
    "\n",
    "---\n",
    "\n",
    "<br>\n",
    "\n",
    "\n",
    "\n",
    "\n"
   ]
  },
  {
   "cell_type": "markdown",
   "metadata": {
    "id": "gBs_A2WdC1-M"
   },
   "source": [
    "####<font color=red>Task 9</font> Group Task (15 points)\n",
    "\n",
    "1. Using the statistical/machine learning concepts from class, build a model (regression or random forest) that best predicts the `FEV1_phase2` variable in the `dat2` dataframe.\n",
    "2. Submit your predictions as a csv file in the format presented in the `copd_predictions.csv` file on Canvas.\n",
    "\n",
    "<br>\n",
    "<br>\n",
    "\n",
    "* The group with the lowest prediction error will receive 10 points extra credit on their overall project grade.\n",
    "* The group with the second lowest prediction error will receive 5 points extra credit on their overall project grade.\n",
    "* The group with the third lowest prediction error will receive 2 points extra credit on their overall project grade."
   ]
  },
  {
   "cell_type": "code",
   "execution_count": 11,
   "metadata": {
    "colab": {
     "base_uri": "https://localhost:8080/"
    },
    "id": "ZmGd4ol2Oi0P",
    "outputId": "da8d2d11-27ab-4079-e1b6-6558be2097bd"
   },
   "outputs": [
    {
     "name": "stdout",
     "output_type": "stream",
     "text": [
      "Start:  AIC=-1526.15\n",
      "FEV1_phase2 ~ 1\n",
      "\n",
      "                               Df Sum of Sq     RSS     AIC\n",
      "+ FEV1                          1   2155.79  574.08 -7761.1\n",
      "+ FVC                           1   1368.15 1361.73 -4306.1\n",
      "+ copd                          2    649.65 2080.23 -2609.3\n",
      "+ height_cm                     1    596.02 2133.86 -2509.5\n",
      "+ FEV1_FVC_ratio                1    538.91 2190.97 -2403.8\n",
      "+ emphysema                     2    453.00 2276.87 -2248.0\n",
      "+ gender                        1    415.73 2314.14 -2185.0\n",
      "+ pct_gastrapping               1    376.27 2353.60 -2117.4\n",
      "+ pct_emphysema                 1    326.66 2403.21 -2033.9\n",
      "+ visit_age                     1    264.73 2465.15 -1932.2\n",
      "+ O2_hours_day                  1    209.12 2520.76 -1842.9\n",
      "+ Duration_Smoking              1    203.11 2526.76 -1833.4\n",
      "+ chronic_bronchitis            2    191.54 2538.34 -1813.1\n",
      "+ asthma                        2    161.50 2568.38 -1766.1\n",
      "+ bronchitis_attack             2    152.17 2577.71 -1751.6\n",
      "+ pneumonia                     2    107.62 2622.26 -1683.0\n",
      "+ weight_kg                     1    101.23 2628.65 -1675.3\n",
      "+ hr                            1     54.26 2675.62 -1604.5\n",
      "+ total_lung_capacity           1     35.70 2694.18 -1576.8\n",
      "+ smoking_status                2     36.85 2693.03 -1576.5\n",
      "+ diasBP                        1     32.44 2697.44 -1572.0\n",
      "+ CigPerDaySmokAvg              1     19.56 2710.31 -1552.9\n",
      "+ exp_meanatt                   1      7.79 2722.09 -1535.6\n",
      "+ functional_residual_capacity  1      6.14 2723.74 -1533.2\n",
      "+ race                          1      4.30 2725.57 -1530.5\n",
      "+ bmi                           1      4.09 2725.79 -1530.1\n",
      "+ sleep_apnea                   3      5.56 2724.32 -1528.3\n",
      "+ hay_fever                     1      2.74 2727.13 -1528.2\n",
      "+ sysBP                         1      1.55 2728.33 -1526.4\n",
      "<none>                                      2729.88 -1526.1\n",
      "+ SmokStartAge                  1      1.24 2728.64 -1526.0\n",
      "+ insp_meanatt                  1      0.12 2729.76 -1524.3\n",
      "\n",
      "Step:  AIC=-7761.1\n",
      "FEV1_phase2 ~ FEV1\n",
      "\n",
      "                               Df Sum of Sq     RSS     AIC\n",
      "+ FEV1_FVC_ratio                1     55.83  518.25 -8168.4\n",
      "+ FVC                           1     29.75  544.33 -7972.0\n",
      "+ copd                          2     19.32  554.76 -7894.1\n",
      "+ pct_gastrapping               1     14.50  559.58 -7861.5\n",
      "+ emphysema                     2     13.59  560.50 -7852.9\n",
      "+ pct_emphysema                 1     11.00  563.08 -7836.5\n",
      "+ height_cm                     1      7.60  566.48 -7812.4\n",
      "+ Duration_Smoking              1      6.12  567.96 -7802.0\n",
      "+ visit_age                     1      6.04  568.04 -7801.4\n",
      "+ weight_kg                     1      6.04  568.04 -7801.4\n",
      "+ gender                        1      4.72  569.36 -7792.1\n",
      "+ chronic_bronchitis            2      3.25  570.83 -7779.8\n",
      "+ CigPerDaySmokAvg              1      2.70  571.39 -7777.9\n",
      "+ asthma                        2      2.43  571.65 -7774.1\n",
      "+ pneumonia                     2      2.36  571.72 -7773.6\n",
      "+ O2_hours_day                  1      2.05  572.03 -7773.4\n",
      "+ bronchitis_attack             2      2.22  571.86 -7772.6\n",
      "+ bmi                           1      1.77  572.31 -7771.5\n",
      "+ hr                            1      0.75  573.33 -7764.4\n",
      "+ insp_meanatt                  1      0.51  573.57 -7762.7\n",
      "+ race                          1      0.46  573.63 -7762.3\n",
      "+ diasBP                        1      0.45  573.64 -7762.2\n",
      "+ total_lung_capacity           1      0.39  573.70 -7761.8\n",
      "+ functional_residual_capacity  1      0.29  573.79 -7761.1\n",
      "<none>                                       574.08 -7761.1\n",
      "+ hay_fever                     1      0.26  573.82 -7760.9\n",
      "+ smoking_status                2      0.40  573.69 -7759.9\n",
      "+ SmokStartAge                  1      0.02  574.07 -7759.2\n",
      "+ sysBP                         1      0.01  574.07 -7759.2\n",
      "+ exp_meanatt                   1      0.00  574.08 -7759.1\n",
      "+ sleep_apnea                   3      0.03  574.06 -7755.3\n",
      "- FEV1                          1   2155.79 2729.88 -1526.1\n",
      "\n",
      "Step:  AIC=-8168.37\n",
      "FEV1_phase2 ~ FEV1 + FEV1_FVC_ratio\n",
      "\n",
      "                               Df Sum of Sq     RSS     AIC\n",
      "+ FVC                           1    151.56  366.69 -9550.1\n",
      "+ pct_gastrapping               1     44.85  473.40 -8528.5\n",
      "+ pct_emphysema                 1     38.65  479.60 -8476.4\n",
      "+ copd                          2     34.95  483.30 -8443.7\n",
      "+ emphysema                     2     27.53  490.72 -8382.7\n",
      "+ Duration_Smoking              1      9.37  508.88 -8239.4\n",
      "+ bmi                           1      7.95  510.30 -8228.2\n",
      "+ visit_age                     1      7.50  510.75 -8224.7\n",
      "+ functional_residual_capacity  1      6.52  511.73 -8217.0\n",
      "+ weight_kg                     1      5.03  513.22 -8205.4\n",
      "+ CigPerDaySmokAvg              1      4.93  513.32 -8204.6\n",
      "+ O2_hours_day                  1      4.72  513.53 -8203.0\n",
      "+ chronic_bronchitis            2      4.95  513.30 -8202.8\n",
      "+ race                          1      4.17  514.08 -8198.7\n",
      "+ pneumonia                     2      3.28  514.97 -8189.8\n",
      "+ total_lung_capacity           1      2.52  515.73 -8185.9\n",
      "+ bronchitis_attack             2      2.43  515.82 -8183.2\n",
      "+ gender                        1      2.11  516.14 -8182.7\n",
      "+ asthma                        2      2.01  516.24 -8179.9\n",
      "+ exp_meanatt                   1      1.23  517.02 -8175.9\n",
      "+ hr                            1      0.96  517.29 -8173.8\n",
      "+ height_cm                     1      0.77  517.48 -8172.3\n",
      "+ smoking_status                2      0.81  517.44 -8170.6\n",
      "+ diasBP                        1      0.35  517.90 -8169.1\n",
      "<none>                                       518.25 -8168.4\n",
      "+ hay_fever                     1      0.17  518.08 -8167.7\n",
      "+ sysBP                         1      0.02  518.23 -8166.5\n",
      "+ SmokStartAge                  1      0.01  518.24 -8166.4\n",
      "+ insp_meanatt                  1      0.00  518.25 -8166.4\n",
      "+ sleep_apnea                   3      0.05  518.20 -8162.7\n",
      "- FEV1_FVC_ratio                1     55.83  574.08 -7761.1\n",
      "- FEV1                          1   1672.72 2190.97 -2403.8\n",
      "\n",
      "Step:  AIC=-9550.09\n",
      "FEV1_phase2 ~ FEV1 + FEV1_FVC_ratio + FVC\n",
      "\n",
      "                               Df Sum of Sq     RSS     AIC\n",
      "+ height_cm                     1      4.19  362.51 -9594.0\n",
      "+ pct_gastrapping               1      3.39  363.30 -9585.3\n",
      "+ copd                          2      3.31  363.38 -9582.4\n",
      "+ weight_kg                     1      2.88  363.81 -9579.6\n",
      "+ pct_emphysema                 1      2.34  364.35 -9573.7\n",
      "+ gender                        1      2.12  364.58 -9571.2\n",
      "+ hr                            1      1.61  365.08 -9565.7\n",
      "+ emphysema                     2      1.53  365.16 -9562.8\n",
      "+ Duration_Smoking              1      1.31  365.38 -9562.4\n",
      "+ total_lung_capacity           1      1.22  365.47 -9561.4\n",
      "+ bmi                           1      1.11  365.58 -9560.2\n",
      "+ insp_meanatt                  1      0.84  365.86 -9557.2\n",
      "+ smoking_status                2      0.99  365.70 -9556.9\n",
      "+ O2_hours_day                  1      0.64  366.05 -9555.1\n",
      "+ visit_age                     1      0.48  366.21 -9553.4\n",
      "+ pneumonia                     2      0.66  366.04 -9553.3\n",
      "+ chronic_bronchitis            2      0.50  366.19 -9551.6\n",
      "+ CigPerDaySmokAvg              1      0.27  366.42 -9551.1\n",
      "+ race                          1      0.19  366.50 -9550.2\n",
      "<none>                                       366.69 -9550.1\n",
      "+ SmokStartAge                  1      0.16  366.54 -9549.8\n",
      "+ exp_meanatt                   1      0.12  366.57 -9549.4\n",
      "+ functional_residual_capacity  1      0.10  366.59 -9549.2\n",
      "+ sysBP                         1      0.03  366.67 -9548.4\n",
      "+ diasBP                        1      0.00  366.69 -9548.1\n",
      "+ hay_fever                     1      0.00  366.69 -9548.1\n",
      "+ asthma                        2      0.17  366.53 -9547.9\n",
      "+ sleep_apnea                   3      0.24  366.45 -9546.7\n",
      "+ bronchitis_attack             2      0.04  366.65 -9546.5\n",
      "- FVC                           1    151.56  518.25 -8168.4\n",
      "- FEV1_FVC_ratio                1    177.64  544.33 -7972.0\n",
      "- FEV1                          1    831.23 1197.92 -4816.8\n",
      "\n",
      "Step:  AIC=-9594.02\n",
      "FEV1_phase2 ~ FEV1 + FEV1_FVC_ratio + FVC + height_cm\n",
      "\n",
      "                               Df Sum of Sq     RSS     AIC\n",
      "+ copd                          2      4.01  358.50 -9634.5\n",
      "+ pct_gastrapping               1      3.62  358.88 -9632.2\n",
      "+ pct_emphysema                 1      2.35  360.16 -9618.0\n",
      "+ Duration_Smoking              1      1.74  360.77 -9611.2\n",
      "+ emphysema                     2      1.73  360.78 -9609.1\n",
      "+ hr                            1      1.52  360.99 -9608.8\n",
      "+ insp_meanatt                  1      1.02  361.49 -9603.3\n",
      "+ total_lung_capacity           1      1.01  361.50 -9603.2\n",
      "+ smoking_status                2      1.16  361.35 -9602.8\n",
      "+ race                          1      0.85  361.66 -9601.4\n",
      "+ O2_hours_day                  1      0.74  361.76 -9600.2\n",
      "+ weight_kg                     1      0.66  361.85 -9599.3\n",
      "+ bmi                           1      0.64  361.87 -9599.1\n",
      "+ visit_age                     1      0.56  361.94 -9598.2\n",
      "+ pneumonia                     2      0.69  361.82 -9597.6\n",
      "+ CigPerDaySmokAvg              1      0.49  362.02 -9597.4\n",
      "+ chronic_bronchitis            2      0.49  362.02 -9595.4\n",
      "+ gender                        1      0.24  362.27 -9594.6\n",
      "+ exp_meanatt                   1      0.20  362.31 -9594.3\n",
      "<none>                                       362.51 -9594.0\n",
      "+ SmokStartAge                  1      0.17  362.34 -9593.9\n",
      "+ sysBP                         1      0.15  362.35 -9593.7\n",
      "+ diasBP                        1      0.11  362.40 -9593.2\n",
      "+ functional_residual_capacity  1      0.05  362.46 -9592.5\n",
      "+ hay_fever                     1      0.00  362.50 -9592.1\n",
      "+ asthma                        2      0.15  362.35 -9591.7\n",
      "+ bronchitis_attack             2      0.00  362.51 -9590.0\n",
      "+ sleep_apnea                   3      0.15  362.36 -9589.7\n",
      "- height_cm                     1      4.19  366.69 -9550.1\n",
      "- FEV1_FVC_ratio                1    148.19  510.69 -8225.1\n",
      "- FVC                           1    154.97  517.48 -8172.3\n",
      "- FEV1                          1    797.11 1159.62 -4944.8\n",
      "\n",
      "Step:  AIC=-9634.53\n",
      "FEV1_phase2 ~ FEV1 + FEV1_FVC_ratio + FVC + height_cm + copd\n",
      "\n",
      "                               Df Sum of Sq    RSS     AIC\n",
      "+ pct_gastrapping               1      2.89 355.60 -9664.9\n",
      "+ pct_emphysema                 1      1.66 356.84 -9651.1\n",
      "+ Duration_Smoking              1      1.51 356.99 -9649.4\n",
      "+ smoking_status                2      1.52 356.97 -9647.6\n",
      "+ total_lung_capacity           1      1.19 357.31 -9645.8\n",
      "+ hr                            1      1.12 357.38 -9645.0\n",
      "+ insp_meanatt                  1      1.12 357.38 -9645.0\n",
      "+ race                          1      1.02 357.48 -9643.9\n",
      "+ weight_kg                     1      1.00 357.50 -9643.7\n",
      "+ bmi                           1      0.99 357.51 -9643.5\n",
      "+ visit_age                     1      0.61 357.88 -9639.4\n",
      "+ gender                        1      0.36 358.14 -9636.5\n",
      "+ CigPerDaySmokAvg              1      0.26 358.24 -9635.4\n",
      "+ exp_meanatt                   1      0.26 358.24 -9635.4\n",
      "+ SmokStartAge                  1      0.24 358.26 -9635.2\n",
      "+ O2_hours_day                  1      0.22 358.28 -9635.0\n",
      "<none>                                      358.50 -9634.5\n",
      "+ sysBP                         1      0.13 358.37 -9634.0\n",
      "+ diasBP                        1      0.12 358.38 -9633.8\n",
      "+ functional_residual_capacity  1      0.09 358.41 -9633.5\n",
      "+ hay_fever                     1      0.07 358.42 -9633.3\n",
      "+ pneumonia                     2      0.25 358.25 -9633.3\n",
      "+ emphysema                     2      0.25 358.25 -9633.3\n",
      "+ bronchitis_attack             2      0.17 358.32 -9632.4\n",
      "+ sleep_apnea                   3      0.33 358.17 -9632.2\n",
      "+ asthma                        2      0.14 358.36 -9632.1\n",
      "+ chronic_bronchitis            2      0.02 358.47 -9630.8\n",
      "- copd                          2      4.01 362.51 -9594.0\n",
      "- height_cm                     1      4.89 363.38 -9582.4\n",
      "- FVC                           1    124.80 483.29 -8441.7\n",
      "- FEV1_FVC_ratio                1    143.75 502.25 -8287.8\n",
      "- FEV1                          1    607.50 966.00 -5671.5\n",
      "\n",
      "Step:  AIC=-9664.92\n",
      "FEV1_phase2 ~ FEV1 + FEV1_FVC_ratio + FVC + height_cm + copd + \n",
      "    pct_gastrapping\n",
      "\n",
      "                               Df Sum of Sq    RSS     AIC\n",
      "+ exp_meanatt                   1      5.64 349.96 -9726.9\n",
      "+ total_lung_capacity           1      5.49 350.11 -9725.2\n",
      "+ functional_residual_capacity  1      5.36 350.24 -9723.7\n",
      "+ insp_meanatt                  1      4.73 350.88 -9716.5\n",
      "+ smoking_status                2      2.32 353.28 -9687.2\n",
      "+ Duration_Smoking              1      1.54 354.06 -9680.3\n",
      "+ race                          1      1.47 354.13 -9679.5\n",
      "+ hr                            1      1.11 354.50 -9675.4\n",
      "+ weight_kg                     1      0.60 355.01 -9669.6\n",
      "+ bmi                           1      0.58 355.03 -9669.4\n",
      "+ gender                        1      0.47 355.14 -9668.2\n",
      "+ visit_age                     1      0.27 355.33 -9666.0\n",
      "+ SmokStartAge                  1      0.24 355.37 -9665.6\n",
      "+ CigPerDaySmokAvg              1      0.20 355.40 -9665.2\n",
      "<none>                                      355.60 -9664.9\n",
      "+ diasBP                        1      0.16 355.44 -9664.8\n",
      "+ sysBP                         1      0.14 355.46 -9664.5\n",
      "+ O2_hours_day                  1      0.12 355.48 -9664.3\n",
      "+ pct_emphysema                 1      0.06 355.54 -9663.6\n",
      "+ pneumonia                     2      0.23 355.37 -9663.6\n",
      "+ hay_fever                     1      0.05 355.55 -9663.5\n",
      "+ emphysema                     2      0.19 355.42 -9663.0\n",
      "+ bronchitis_attack             2      0.17 355.44 -9662.8\n",
      "+ asthma                        2      0.14 355.46 -9662.5\n",
      "+ sleep_apnea                   3      0.30 355.31 -9662.3\n",
      "+ chronic_bronchitis            2      0.02 355.59 -9661.1\n",
      "- pct_gastrapping               1      2.89 358.50 -9634.5\n",
      "- copd                          2      3.28 358.88 -9632.2\n",
      "- height_cm                     1      5.04 360.65 -9610.6\n",
      "- FVC                           1     97.37 452.97 -8698.9\n",
      "- FEV1_FVC_ratio                1    145.29 500.90 -8296.6\n",
      "- FEV1                          1    513.91 869.51 -6090.5\n",
      "\n",
      "Step:  AIC=-9726.92\n",
      "FEV1_phase2 ~ FEV1 + FEV1_FVC_ratio + FVC + height_cm + copd + \n",
      "    pct_gastrapping + exp_meanatt\n",
      "\n",
      "                               Df Sum of Sq    RSS     AIC\n",
      "+ smoking_status                2      2.47 347.49 -9751.3\n",
      "+ Duration_Smoking              1      1.56 348.40 -9742.8\n",
      "+ total_lung_capacity           1      1.20 348.76 -9738.7\n",
      "+ hr                            1      0.96 349.00 -9736.0\n",
      "+ race                          1      0.89 349.07 -9735.1\n",
      "+ gender                        1      0.80 349.16 -9734.0\n",
      "+ insp_meanatt                  1      0.67 349.29 -9732.6\n",
      "+ weight_kg                     1      0.33 349.63 -9728.7\n",
      "+ bmi                           1      0.31 349.65 -9728.5\n",
      "+ visit_age                     1      0.25 349.71 -9727.8\n",
      "+ sysBP                         1      0.21 349.75 -9727.3\n",
      "+ CigPerDaySmokAvg              1      0.20 349.76 -9727.2\n",
      "+ SmokStartAge                  1      0.19 349.77 -9727.0\n",
      "<none>                                      349.96 -9726.9\n",
      "+ pct_emphysema                 1      0.11 349.85 -9726.1\n",
      "+ diasBP                        1      0.10 349.86 -9726.1\n",
      "+ pneumonia                     2      0.27 349.69 -9726.0\n",
      "+ functional_residual_capacity  1      0.06 349.90 -9725.7\n",
      "+ O2_hours_day                  1      0.06 349.90 -9725.6\n",
      "+ hay_fever                     1      0.04 349.92 -9725.4\n",
      "+ asthma                        2      0.14 349.82 -9724.5\n",
      "+ emphysema                     2      0.11 349.85 -9724.2\n",
      "+ bronchitis_attack             2      0.08 349.88 -9723.8\n",
      "+ chronic_bronchitis            2      0.02 349.94 -9723.1\n",
      "+ sleep_apnea                   3      0.15 349.81 -9722.6\n",
      "- copd                          2      2.74 352.70 -9699.8\n",
      "- exp_meanatt                   1      5.64 355.60 -9664.9\n",
      "- height_cm                     1      6.04 356.00 -9660.5\n",
      "- pct_gastrapping               1      8.28 358.24 -9635.4\n",
      "- FVC                           1     85.11 435.07 -8858.2\n",
      "- FEV1_FVC_ratio                1    142.81 492.77 -8360.0\n",
      "- FEV1                          1    459.81 809.77 -6373.2\n",
      "\n",
      "Step:  AIC=-9751.27\n",
      "FEV1_phase2 ~ FEV1 + FEV1_FVC_ratio + FVC + height_cm + copd + \n",
      "    pct_gastrapping + exp_meanatt + smoking_status\n",
      "\n",
      "                               Df Sum of Sq    RSS     AIC\n",
      "+ visit_age                     1      1.78 345.71 -9769.8\n",
      "+ total_lung_capacity           1      1.02 346.47 -9761.0\n",
      "+ gender                        1      0.83 346.66 -9758.8\n",
      "+ insp_meanatt                  1      0.55 346.94 -9755.6\n",
      "+ Duration_Smoking              1      0.54 346.95 -9755.5\n",
      "+ CigPerDaySmokAvg              1      0.53 346.96 -9755.3\n",
      "+ hr                            1      0.52 346.97 -9755.3\n",
      "+ functional_residual_capacity  1      0.31 347.18 -9752.8\n",
      "+ pneumonia                     2      0.43 347.06 -9752.3\n",
      "+ sysBP                         1      0.22 347.27 -9751.8\n",
      "+ O2_hours_day                  1      0.18 347.31 -9751.3\n",
      "<none>                                      347.49 -9751.3\n",
      "+ weight_kg                     1      0.13 347.36 -9750.8\n",
      "+ SmokStartAge                  1      0.13 347.36 -9750.7\n",
      "+ bmi                           1      0.12 347.36 -9750.7\n",
      "+ race                          1      0.12 347.37 -9750.6\n",
      "+ pct_emphysema                 1      0.02 347.47 -9749.5\n",
      "+ hay_fever                     1      0.01 347.48 -9749.4\n",
      "+ diasBP                        1      0.01 347.48 -9749.3\n",
      "+ emphysema                     2      0.12 347.37 -9748.6\n",
      "+ asthma                        2      0.11 347.37 -9748.6\n",
      "+ chronic_bronchitis            2      0.03 347.46 -9747.6\n",
      "+ bronchitis_attack             2      0.03 347.46 -9747.6\n",
      "+ sleep_apnea                   3      0.07 347.42 -9746.1\n",
      "- smoking_status                2      2.47 349.96 -9726.9\n",
      "- copd                          2      3.05 350.54 -9720.4\n",
      "- exp_meanatt                   1      5.79 353.28 -9687.2\n",
      "- height_cm                     1      6.38 353.86 -9680.5\n",
      "- pct_gastrapping               1      9.33 356.82 -9647.3\n",
      "- FVC                           1     85.06 432.55 -8877.4\n",
      "- FEV1_FVC_ratio                1    143.07 490.56 -8374.0\n",
      "- FEV1                          1    457.30 804.79 -6393.9\n",
      "\n",
      "Step:  AIC=-9769.76\n",
      "FEV1_phase2 ~ FEV1 + FEV1_FVC_ratio + FVC + height_cm + copd + \n",
      "    pct_gastrapping + exp_meanatt + smoking_status + visit_age\n",
      "\n",
      "                               Df Sum of Sq    RSS     AIC\n",
      "+ total_lung_capacity           1      1.24 344.47 -9782.2\n",
      "+ gender                        1      1.23 344.48 -9782.1\n",
      "+ hr                            1      0.88 344.83 -9778.0\n",
      "+ race                          1      0.61 345.10 -9774.8\n",
      "+ insp_meanatt                  1      0.60 345.11 -9774.7\n",
      "+ CigPerDaySmokAvg              1      0.53 345.18 -9774.0\n",
      "+ functional_residual_capacity  1      0.34 345.37 -9771.7\n",
      "+ O2_hours_day                  1      0.22 345.50 -9770.3\n",
      "+ pneumonia                     2      0.38 345.33 -9770.2\n",
      "<none>                                      345.71 -9769.8\n",
      "+ sysBP                         1      0.14 345.57 -9769.4\n",
      "+ diasBP                        1      0.09 345.63 -9768.8\n",
      "+ weight_kg                     1      0.05 345.66 -9768.4\n",
      "+ bmi                           1      0.04 345.67 -9768.3\n",
      "+ Duration_Smoking              1      0.04 345.67 -9768.2\n",
      "+ SmokStartAge                  1      0.02 345.69 -9768.0\n",
      "+ hay_fever                     1      0.01 345.70 -9767.9\n",
      "+ pct_emphysema                 1      0.00 345.71 -9767.8\n",
      "+ asthma                        2      0.15 345.56 -9767.5\n",
      "+ emphysema                     2      0.13 345.58 -9767.2\n",
      "+ chronic_bronchitis            2      0.02 345.69 -9766.0\n",
      "+ bronchitis_attack             2      0.02 345.70 -9766.0\n",
      "+ sleep_apnea                   3      0.07 345.65 -9764.5\n",
      "- visit_age                     1      1.78 347.49 -9751.3\n",
      "- copd                          2      3.35 349.06 -9735.2\n",
      "- smoking_status                2      3.99 349.71 -9727.8\n",
      "- exp_meanatt                   1      5.80 351.51 -9705.2\n",
      "- height_cm                     1      6.70 352.41 -9695.0\n",
      "- pct_gastrapping               1      8.74 354.46 -9671.9\n",
      "- FVC                           1     81.88 427.59 -8921.5\n",
      "- FEV1_FVC_ratio                1    139.17 484.89 -8418.5\n",
      "- FEV1                          1    431.40 777.12 -6531.8\n",
      "\n",
      "Step:  AIC=-9782.18\n",
      "FEV1_phase2 ~ FEV1 + FEV1_FVC_ratio + FVC + height_cm + copd + \n",
      "    pct_gastrapping + exp_meanatt + smoking_status + visit_age + \n",
      "    total_lung_capacity\n",
      "\n",
      "                               Df Sum of Sq    RSS     AIC\n",
      "+ gender                        1      1.06 343.41 -9792.5\n",
      "+ hr                            1      0.96 343.51 -9791.4\n",
      "+ CigPerDaySmokAvg              1      0.51 343.96 -9786.1\n",
      "+ race                          1      0.48 343.99 -9785.8\n",
      "+ insp_meanatt                  1      0.32 344.15 -9783.9\n",
      "+ O2_hours_day                  1      0.23 344.24 -9782.8\n",
      "+ pneumonia                     2      0.39 344.08 -9782.6\n",
      "<none>                                      344.47 -9782.2\n",
      "+ pct_emphysema                 1      0.17 344.30 -9782.2\n",
      "+ sysBP                         1      0.13 344.34 -9781.6\n",
      "+ functional_residual_capacity  1      0.08 344.39 -9781.1\n",
      "+ diasBP                        1      0.07 344.40 -9780.9\n",
      "+ weight_kg                     1      0.06 344.41 -9780.9\n",
      "+ bmi                           1      0.05 344.42 -9780.8\n",
      "+ Duration_Smoking              1      0.04 344.43 -9780.7\n",
      "+ SmokStartAge                  1      0.02 344.45 -9780.4\n",
      "+ hay_fever                     1      0.02 344.45 -9780.4\n",
      "+ emphysema                     2      0.17 344.30 -9780.2\n",
      "+ asthma                        2      0.16 344.31 -9780.0\n",
      "+ chronic_bronchitis            2      0.02 344.45 -9778.4\n",
      "+ bronchitis_attack             2      0.01 344.46 -9778.3\n",
      "+ sleep_apnea                   3      0.07 344.40 -9776.9\n",
      "- total_lung_capacity           1      1.24 345.71 -9769.8\n",
      "- exp_meanatt                   1      1.37 345.84 -9768.2\n",
      "- visit_age                     1      2.00 346.47 -9761.0\n",
      "- copd                          2      3.48 347.95 -9746.0\n",
      "- smoking_status                2      3.92 348.39 -9741.0\n",
      "- height_cm                     1      5.90 350.37 -9716.2\n",
      "- pct_gastrapping               1      8.72 353.19 -9684.2\n",
      "- FVC                           1     83.12 427.59 -8919.6\n",
      "- FEV1_FVC_ratio                1    135.81 480.28 -8454.7\n",
      "- FEV1                          1    431.28 775.75 -6536.9\n",
      "\n",
      "Step:  AIC=-9792.54\n",
      "FEV1_phase2 ~ FEV1 + FEV1_FVC_ratio + FVC + height_cm + copd + \n",
      "    pct_gastrapping + exp_meanatt + smoking_status + visit_age + \n",
      "    total_lung_capacity + gender\n",
      "\n",
      "                               Df Sum of Sq    RSS     AIC\n",
      "+ hr                            1      1.00 342.40 -9802.2\n",
      "+ CigPerDaySmokAvg              1      0.68 342.73 -9798.4\n",
      "+ race                          1      0.67 342.74 -9798.3\n",
      "+ O2_hours_day                  1      0.25 343.16 -9793.4\n",
      "+ insp_meanatt                  1      0.20 343.21 -9792.9\n",
      "+ sysBP                         1      0.20 343.21 -9792.8\n",
      "<none>                                      343.41 -9792.5\n",
      "+ pct_emphysema                 1      0.16 343.25 -9792.4\n",
      "+ pneumonia                     2      0.33 343.08 -9792.4\n",
      "+ diasBP                        1      0.15 343.25 -9792.3\n",
      "+ Duration_Smoking              1      0.06 343.35 -9791.2\n",
      "+ hay_fever                     1      0.03 343.37 -9790.9\n",
      "+ weight_kg                     1      0.03 343.38 -9790.8\n",
      "+ functional_residual_capacity  1      0.02 343.39 -9790.8\n",
      "+ bmi                           1      0.02 343.39 -9790.7\n",
      "+ SmokStartAge                  1      0.01 343.40 -9790.7\n",
      "+ emphysema                     2      0.17 343.24 -9790.5\n",
      "+ asthma                        2      0.14 343.27 -9790.1\n",
      "+ bronchitis_attack             2      0.10 343.31 -9789.7\n",
      "+ chronic_bronchitis            2      0.00 343.40 -9788.6\n",
      "+ sleep_apnea                   3      0.04 343.36 -9787.0\n",
      "- gender                        1      1.06 344.47 -9782.2\n",
      "- total_lung_capacity           1      1.07 344.48 -9782.1\n",
      "- exp_meanatt                   1      1.65 345.05 -9775.4\n",
      "- visit_age                     1      2.37 345.78 -9767.0\n",
      "- height_cm                     1      2.64 346.05 -9763.9\n",
      "- copd                          2      3.67 347.08 -9754.0\n",
      "- smoking_status                2      4.20 347.61 -9747.9\n",
      "- pct_gastrapping               1      9.19 352.60 -9688.9\n",
      "- FVC                           1     83.77 427.18 -8921.4\n",
      "- FEV1_FVC_ratio                1    128.36 471.77 -8524.3\n",
      "- FEV1                          1    421.45 764.85 -6591.5\n",
      "\n",
      "Step:  AIC=-9802.23\n",
      "FEV1_phase2 ~ FEV1 + FEV1_FVC_ratio + FVC + height_cm + copd + \n",
      "    pct_gastrapping + exp_meanatt + smoking_status + visit_age + \n",
      "    total_lung_capacity + gender + hr\n",
      "\n",
      "                               Df Sum of Sq    RSS     AIC\n",
      "+ race                          1      0.66 341.75 -9807.9\n",
      "+ CigPerDaySmokAvg              1      0.65 341.76 -9807.8\n",
      "+ insp_meanatt                  1      0.22 342.18 -9802.8\n",
      "+ O2_hours_day                  1      0.18 342.22 -9802.3\n",
      "+ sysBP                         1      0.18 342.23 -9802.3\n",
      "<none>                                      342.40 -9802.2\n",
      "+ pneumonia                     2      0.34 342.07 -9802.2\n",
      "+ pct_emphysema                 1      0.14 342.27 -9801.9\n",
      "+ diasBP                        1      0.09 342.31 -9801.3\n",
      "+ Duration_Smoking              1      0.08 342.32 -9801.2\n",
      "+ weight_kg                     1      0.06 342.35 -9800.9\n",
      "+ bmi                           1      0.04 342.36 -9800.7\n",
      "+ hay_fever                     1      0.04 342.36 -9800.7\n",
      "+ functional_residual_capacity  1      0.03 342.38 -9800.5\n",
      "+ SmokStartAge                  1      0.00 342.40 -9800.3\n",
      "+ emphysema                     2      0.16 342.24 -9800.1\n",
      "+ asthma                        2      0.13 342.27 -9799.8\n",
      "+ bronchitis_attack             2      0.10 342.31 -9799.4\n",
      "+ chronic_bronchitis            2      0.00 342.40 -9798.3\n",
      "+ sleep_apnea                   3      0.04 342.36 -9796.7\n",
      "- hr                            1      1.00 343.41 -9792.5\n",
      "- gender                        1      1.10 343.51 -9791.4\n",
      "- total_lung_capacity           1      1.14 343.55 -9790.9\n",
      "- exp_meanatt                   1      1.53 343.93 -9786.4\n",
      "- height_cm                     1      2.52 344.92 -9774.9\n",
      "- visit_age                     1      2.82 345.23 -9771.4\n",
      "- copd                          2      3.32 345.72 -9767.6\n",
      "- smoking_status                2      3.82 346.22 -9761.9\n",
      "- pct_gastrapping               1      8.83 351.23 -9702.4\n",
      "- FVC                           1     84.36 426.77 -8923.3\n",
      "- FEV1_FVC_ratio                1    128.68 471.09 -8528.0\n",
      "- FEV1                          1    421.28 763.69 -6595.6\n",
      "\n",
      "Step:  AIC=-9807.92\n",
      "FEV1_phase2 ~ FEV1 + FEV1_FVC_ratio + FVC + height_cm + copd + \n",
      "    pct_gastrapping + exp_meanatt + smoking_status + visit_age + \n",
      "    total_lung_capacity + gender + hr + race\n",
      "\n",
      "                               Df Sum of Sq    RSS     AIC\n",
      "+ CigPerDaySmokAvg              1      0.81 340.94 -9815.4\n",
      "+ pneumonia                     2      0.44 341.31 -9809.1\n",
      "+ O2_hours_day                  1      0.19 341.56 -9808.2\n",
      "<none>                                      341.75 -9807.9\n",
      "+ sysBP                         1      0.13 341.62 -9807.4\n",
      "+ pct_emphysema                 1      0.11 341.63 -9807.2\n",
      "+ insp_meanatt                  1      0.09 341.66 -9806.9\n",
      "+ Duration_Smoking              1      0.08 341.66 -9806.9\n",
      "+ weight_kg                     1      0.05 341.70 -9806.5\n",
      "+ bmi                           1      0.04 341.71 -9806.4\n",
      "+ diasBP                        1      0.04 341.71 -9806.4\n",
      "+ emphysema                     2      0.20 341.54 -9806.3\n",
      "+ hay_fever                     1      0.03 341.72 -9806.3\n",
      "+ functional_residual_capacity  1      0.00 341.75 -9805.9\n",
      "+ SmokStartAge                  1      0.00 341.75 -9805.9\n",
      "+ asthma                        2      0.09 341.65 -9805.0\n",
      "+ bronchitis_attack             2      0.03 341.72 -9804.2\n",
      "+ chronic_bronchitis            2      0.01 341.74 -9804.0\n",
      "+ sleep_apnea                   3      0.06 341.69 -9802.6\n",
      "- race                          1      0.66 342.40 -9802.2\n",
      "- total_lung_capacity           1      0.99 342.74 -9798.4\n",
      "- hr                            1      0.99 342.74 -9798.3\n",
      "- gender                        1      1.29 343.04 -9794.9\n",
      "- exp_meanatt                   1      1.43 343.17 -9793.3\n",
      "- smoking_status                2      2.84 344.59 -9778.8\n",
      "- height_cm                     1      2.90 344.65 -9776.1\n",
      "- copd                          2      3.43 345.18 -9771.9\n",
      "- visit_age                     1      3.41 345.16 -9770.2\n",
      "- pct_gastrapping               1      8.46 350.21 -9712.1\n",
      "- FVC                           1     84.18 425.93 -8929.1\n",
      "- FEV1_FVC_ratio                1    123.56 465.31 -8575.4\n",
      "- FEV1                          1    420.56 762.31 -6600.8\n",
      "\n",
      "Step:  AIC=-9815.38\n",
      "FEV1_phase2 ~ FEV1 + FEV1_FVC_ratio + FVC + height_cm + copd + \n",
      "    pct_gastrapping + exp_meanatt + smoking_status + visit_age + \n",
      "    total_lung_capacity + gender + hr + race + CigPerDaySmokAvg\n",
      "\n",
      "                               Df Sum of Sq    RSS     AIC\n",
      "+ pneumonia                     2      0.41 340.53 -9816.2\n",
      "<none>                                      340.94 -9815.4\n",
      "+ O2_hours_day                  1      0.16 340.78 -9815.3\n",
      "+ sysBP                         1      0.12 340.82 -9814.7\n",
      "+ pct_emphysema                 1      0.11 340.83 -9814.6\n",
      "+ Duration_Smoking              1      0.10 340.84 -9814.5\n",
      "+ insp_meanatt                  1      0.10 340.84 -9814.5\n",
      "+ weight_kg                     1      0.09 340.85 -9814.5\n",
      "+ bmi                           1      0.08 340.86 -9814.3\n",
      "+ diasBP                        1      0.04 340.90 -9813.9\n",
      "+ hay_fever                     1      0.03 340.91 -9813.7\n",
      "+ SmokStartAge                  1      0.01 340.93 -9813.5\n",
      "+ functional_residual_capacity  1      0.00 340.94 -9813.4\n",
      "+ emphysema                     2      0.17 340.76 -9813.4\n",
      "+ asthma                        2      0.09 340.85 -9812.4\n",
      "+ bronchitis_attack             2      0.03 340.91 -9811.7\n",
      "+ chronic_bronchitis            2      0.00 340.93 -9811.4\n",
      "+ sleep_apnea                   3      0.08 340.86 -9810.4\n",
      "- CigPerDaySmokAvg              1      0.81 341.75 -9807.9\n",
      "- race                          1      0.82 341.76 -9807.8\n",
      "- total_lung_capacity           1      0.93 341.87 -9806.5\n",
      "- hr                            1      0.96 341.90 -9806.1\n",
      "- exp_meanatt                   1      1.47 342.41 -9800.2\n",
      "- gender                        1      1.51 342.45 -9799.7\n",
      "- height_cm                     1      3.01 343.95 -9782.2\n",
      "- copd                          2      3.19 344.13 -9782.1\n",
      "- smoking_status                2      3.21 344.15 -9781.9\n",
      "- visit_age                     1      3.56 344.50 -9775.8\n",
      "- pct_gastrapping               1      8.47 349.41 -9719.3\n",
      "- FVC                           1     83.57 424.51 -8940.5\n",
      "- FEV1_FVC_ratio                1    121.82 462.76 -8595.4\n",
      "- FEV1                          1    416.31 757.24 -6625.5\n",
      "\n",
      "Step:  AIC=-9816.22\n",
      "FEV1_phase2 ~ FEV1 + FEV1_FVC_ratio + FVC + height_cm + copd + \n",
      "    pct_gastrapping + exp_meanatt + smoking_status + visit_age + \n",
      "    total_lung_capacity + gender + hr + race + CigPerDaySmokAvg + \n",
      "    pneumonia\n",
      "\n",
      "                               Df Sum of Sq    RSS     AIC\n",
      "<none>                                      340.53 -9816.2\n",
      "+ O2_hours_day                  1      0.15 340.38 -9815.9\n",
      "+ sysBP                         1      0.13 340.40 -9815.7\n",
      "+ pct_emphysema                 1      0.11 340.42 -9815.5\n",
      "+ insp_meanatt                  1      0.10 340.42 -9815.4\n",
      "+ weight_kg                     1      0.10 340.42 -9815.4\n",
      "- pneumonia                     2      0.41 340.94 -9815.4\n",
      "+ Duration_Smoking              1      0.10 340.43 -9815.3\n",
      "+ bmi                           1      0.09 340.44 -9815.3\n",
      "+ diasBP                        1      0.05 340.48 -9814.8\n",
      "+ hay_fever                     1      0.04 340.48 -9814.7\n",
      "+ SmokStartAge                  1      0.01 340.51 -9814.4\n",
      "+ functional_residual_capacity  1      0.01 340.52 -9814.3\n",
      "+ emphysema                     2      0.15 340.37 -9814.0\n",
      "+ bronchitis_attack             2      0.09 340.44 -9813.3\n",
      "+ asthma                        2      0.08 340.44 -9813.2\n",
      "+ chronic_bronchitis            2      0.00 340.52 -9812.3\n",
      "+ sleep_apnea                   3      0.09 340.44 -9811.2\n",
      "- CigPerDaySmokAvg              1      0.78 341.31 -9809.1\n",
      "- race                          1      0.93 341.45 -9807.4\n",
      "- total_lung_capacity           1      0.93 341.46 -9807.3\n",
      "- hr                            1      0.97 341.50 -9806.9\n",
      "- gender                        1      1.44 341.97 -9801.3\n",
      "- exp_meanatt                   1      1.47 342.00 -9801.0\n",
      "- copd                          2      2.76 343.29 -9787.9\n",
      "- height_cm                     1      3.09 343.62 -9782.0\n",
      "- smoking_status                2      3.27 343.80 -9781.9\n",
      "- visit_age                     1      3.55 344.08 -9776.7\n",
      "- pct_gastrapping               1      8.49 349.02 -9719.7\n",
      "- FVC                           1     83.58 424.11 -8940.2\n",
      "- FEV1_FVC_ratio                1    121.42 461.94 -8598.4\n",
      "- FEV1                          1    414.39 754.92 -6633.7\n"
     ]
    }
   ],
   "source": [
    "# Create test train sets.\n",
    "# nvm\n",
    "\n",
    "# 1.)\n",
    "# Creating Linear Regression using steps by AIC Akaike's Information Criterion.\n",
    "mod0 = lm(FEV1_phase2 ~ 1, dat1)\n",
    "modstep = step(mod0, scope = .~. + visit_age + gender + race + height_cm + weight_kg + sysBP + diasBP + hr + O2_hours_day + bmi + asthma + hay_fever + bronchitis_attack + pneumonia + chronic_bronchitis + emphysema + copd + sleep_apnea + SmokStartAge + CigPerDaySmokAvg + Duration_Smoking + smoking_status + total_lung_capacity + pct_emphysema + functional_residual_capacity + pct_gastrapping + insp_meanatt + exp_meanatt + FEV1_FVC_ratio + FEV1 + FVC)"
   ]
  },
  {
   "cell_type": "code",
   "execution_count": 12,
   "metadata": {
    "colab": {
     "base_uri": "https://localhost:8080/",
     "height": 981
    },
    "id": "Kd9pATXQRnfL",
    "outputId": "f73c9920-85f7-4092-d18b-a9752aa07f76"
   },
   "outputs": [
    {
     "data": {
      "text/plain": [
       "\n",
       "Call:\n",
       "lm(formula = FEV1_phase2 ~ FEV1 + FEV1_FVC_ratio + FVC + height_cm + \n",
       "    copd + pct_gastrapping + exp_meanatt + smoking_status + visit_age + \n",
       "    total_lung_capacity + gender + hr + race + CigPerDaySmokAvg + \n",
       "    pneumonia, data = dat1)\n",
       "\n",
       "Residuals:\n",
       "     Min       1Q   Median       3Q      Max \n",
       "-1.75954 -0.16268 -0.00268  0.15970  2.49062 \n",
       "\n",
       "Coefficients:\n",
       "                              Estimate Std. Error t value Pr(>|t|)    \n",
       "(Intercept)                  9.653e-01  1.380e-01   6.993 3.13e-12 ***\n",
       "FEV1                         1.370e+00  1.968e-02  69.603  < 2e-16 ***\n",
       "FEV1_FVC_ratio              -1.612e+00  4.279e-02 -37.676  < 2e-16 ***\n",
       "FVC                         -4.186e-01  1.339e-02 -31.259  < 2e-16 ***\n",
       "height_cm                    4.620e-03  7.682e-04   6.014 1.98e-09 ***\n",
       "copdunknown                 -1.933e-02  1.883e-02  -1.027 0.304593    \n",
       "copdYes                     -7.607e-02  1.342e-02  -5.668 1.55e-08 ***\n",
       "pct_gastrapping             -4.667e-03  4.683e-04  -9.965  < 2e-16 ***\n",
       "exp_meanatt                 -1.089e-04  2.623e-05  -4.149 3.40e-05 ***\n",
       "smoking_statusFormer smoker  6.946e-02  1.124e-02   6.179 7.09e-10 ***\n",
       "smoking_statusNever smoked   4.425e-02  4.181e-02   1.058 0.289913    \n",
       "visit_age                   -4.480e-03  6.952e-04  -6.445 1.30e-10 ***\n",
       "total_lung_capacity          8.820e-03  2.674e-03   3.298 0.000981 ***\n",
       "genderMale                   5.756e-02  1.400e-02   4.110 4.03e-05 ***\n",
       "hr                          -1.328e-03  3.947e-04  -3.364 0.000775 ***\n",
       "raceWhite                    4.173e-02  1.268e-02   3.289 0.001012 ** \n",
       "CigPerDaySmokAvg            -1.322e-03  4.380e-04  -3.019 0.002551 ** \n",
       "pneumoniaunknown            -8.658e-03  2.189e-02  -0.395 0.692543    \n",
       "pneumoniaYes                -2.253e-02  1.027e-02  -2.194 0.028288 *  \n",
       "---\n",
       "Signif. codes:  0 '***' 0.001 '**' 0.01 '*' 0.05 '.' 0.1 ' ' 1\n",
       "\n",
       "Residual standard error: 0.2925 on 3981 degrees of freedom\n",
       "Multiple R-squared:  0.8753,\tAdjusted R-squared:  0.8747 \n",
       "F-statistic:  1552 on 18 and 3981 DF,  p-value: < 2.2e-16\n"
      ]
     },
     "metadata": {},
     "output_type": "display_data"
    },
    {
     "data": {
      "text/html": [
       "<table class=\"dataframe\">\n",
       "<caption>A data.frame: 6 × 2</caption>\n",
       "<thead>\n",
       "\t<tr><th></th><th scope=col>y</th><th scope=col>y_predicted</th></tr>\n",
       "\t<tr><th></th><th scope=col>&lt;dbl&gt;</th><th scope=col>&lt;dbl&gt;</th></tr>\n",
       "</thead>\n",
       "<tbody>\n",
       "\t<tr><th scope=row>1</th><td>2.622</td><td>2.5057907</td></tr>\n",
       "\t<tr><th scope=row>3</th><td>1.087</td><td>1.0423921</td></tr>\n",
       "\t<tr><th scope=row>4</th><td>2.002</td><td>1.7624132</td></tr>\n",
       "\t<tr><th scope=row>5</th><td>2.178</td><td>2.3061350</td></tr>\n",
       "\t<tr><th scope=row>6</th><td>0.924</td><td>1.0370631</td></tr>\n",
       "\t<tr><th scope=row>7</th><td>0.596</td><td>0.6290515</td></tr>\n",
       "</tbody>\n",
       "</table>\n"
      ],
      "text/latex": [
       "A data.frame: 6 × 2\n",
       "\\begin{tabular}{r|ll}\n",
       "  & y & y\\_predicted\\\\\n",
       "  & <dbl> & <dbl>\\\\\n",
       "\\hline\n",
       "\t1 & 2.622 & 2.5057907\\\\\n",
       "\t3 & 1.087 & 1.0423921\\\\\n",
       "\t4 & 2.002 & 1.7624132\\\\\n",
       "\t5 & 2.178 & 2.3061350\\\\\n",
       "\t6 & 0.924 & 1.0370631\\\\\n",
       "\t7 & 0.596 & 0.6290515\\\\\n",
       "\\end{tabular}\n"
      ],
      "text/markdown": [
       "\n",
       "A data.frame: 6 × 2\n",
       "\n",
       "| <!--/--> | y &lt;dbl&gt; | y_predicted &lt;dbl&gt; |\n",
       "|---|---|---|\n",
       "| 1 | 2.622 | 2.5057907 |\n",
       "| 3 | 1.087 | 1.0423921 |\n",
       "| 4 | 2.002 | 1.7624132 |\n",
       "| 5 | 2.178 | 2.3061350 |\n",
       "| 6 | 0.924 | 1.0370631 |\n",
       "| 7 | 0.596 | 0.6290515 |\n",
       "\n"
      ],
      "text/plain": [
       "  y     y_predicted\n",
       "1 2.622 2.5057907  \n",
       "3 1.087 1.0423921  \n",
       "4 2.002 1.7624132  \n",
       "5 2.178 2.3061350  \n",
       "6 0.924 1.0370631  \n",
       "7 0.596 0.6290515  "
      ]
     },
     "metadata": {},
     "output_type": "display_data"
    },
    {
     "data": {
      "text/html": [
       "0.0851318592956642"
      ],
      "text/latex": [
       "0.0851318592956642"
      ],
      "text/markdown": [
       "0.0851318592956642"
      ],
      "text/plain": [
       "[1] 0.08513186"
      ]
     },
     "metadata": {},
     "output_type": "display_data"
    },
    {
     "data": {
      "text/html": [
       "0.291773643935953"
      ],
      "text/latex": [
       "0.291773643935953"
      ],
      "text/markdown": [
       "0.291773643935953"
      ],
      "text/plain": [
       "[1] 0.2917736"
      ]
     },
     "metadata": {},
     "output_type": "display_data"
    }
   ],
   "source": [
    "summary(modstep)\n",
    "# Create df of true y and predicted y from model_2.\n",
    "model_analysis_2 = data.frame(y = dat1$FEV1_phase2, y_predicted = predict(modstep))\n",
    "head(model_analysis)\n",
    "\n",
    "# 2.)\n",
    "# Calc Root mean squared error.\n",
    "mse = mean((model_analysis_2$y - model_analysis_2$y_predicted)^2)\n",
    "mse\n",
    "rmse = sqrt(mse)\n",
    "rmse"
   ]
  },
  {
   "cell_type": "code",
   "execution_count": 13,
   "metadata": {
    "colab": {
     "base_uri": "https://localhost:8080/",
     "height": 304
    },
    "id": "wdOHyWecumM7",
    "outputId": "53fc9af0-8f6a-445d-efb2-e4a0f6ae9a9a"
   },
   "outputs": [
    {
     "data": {
      "text/html": [
       "<table class=\"dataframe\">\n",
       "<caption>A data.frame: 6 × 2</caption>\n",
       "<thead>\n",
       "\t<tr><th></th><th scope=col>sid</th><th scope=col>FEV1_phase2_predictions</th></tr>\n",
       "\t<tr><th></th><th scope=col>&lt;chr&gt;</th><th scope=col>&lt;dbl&gt;</th></tr>\n",
       "</thead>\n",
       "<tbody>\n",
       "\t<tr><th scope=row>1</th><td>10006S</td><td>1.173270</td></tr>\n",
       "\t<tr><th scope=row>2</th><td>10031R</td><td>1.976849</td></tr>\n",
       "\t<tr><th scope=row>3</th><td>10032T</td><td>1.327314</td></tr>\n",
       "\t<tr><th scope=row>4</th><td>10052Z</td><td>1.476226</td></tr>\n",
       "\t<tr><th scope=row>5</th><td>10055F</td><td>2.714539</td></tr>\n",
       "\t<tr><th scope=row>6</th><td>10057J</td><td>1.910481</td></tr>\n",
       "</tbody>\n",
       "</table>\n"
      ],
      "text/latex": [
       "A data.frame: 6 × 2\n",
       "\\begin{tabular}{r|ll}\n",
       "  & sid & FEV1\\_phase2\\_predictions\\\\\n",
       "  & <chr> & <dbl>\\\\\n",
       "\\hline\n",
       "\t1 & 10006S & 1.173270\\\\\n",
       "\t2 & 10031R & 1.976849\\\\\n",
       "\t3 & 10032T & 1.327314\\\\\n",
       "\t4 & 10052Z & 1.476226\\\\\n",
       "\t5 & 10055F & 2.714539\\\\\n",
       "\t6 & 10057J & 1.910481\\\\\n",
       "\\end{tabular}\n"
      ],
      "text/markdown": [
       "\n",
       "A data.frame: 6 × 2\n",
       "\n",
       "| <!--/--> | sid &lt;chr&gt; | FEV1_phase2_predictions &lt;dbl&gt; |\n",
       "|---|---|---|\n",
       "| 1 | 10006S | 1.173270 |\n",
       "| 2 | 10031R | 1.976849 |\n",
       "| 3 | 10032T | 1.327314 |\n",
       "| 4 | 10052Z | 1.476226 |\n",
       "| 5 | 10055F | 2.714539 |\n",
       "| 6 | 10057J | 1.910481 |\n",
       "\n"
      ],
      "text/plain": [
       "  sid    FEV1_phase2_predictions\n",
       "1 10006S 1.173270               \n",
       "2 10031R 1.976849               \n",
       "3 10032T 1.327314               \n",
       "4 10052Z 1.476226               \n",
       "5 10055F 2.714539               \n",
       "6 10057J 1.910481               "
      ]
     },
     "metadata": {},
     "output_type": "display_data"
    },
    {
     "data": {
      "text/html": [
       "<style>\n",
       ".list-inline {list-style: none; margin:0; padding: 0}\n",
       ".list-inline>li {display: inline-block}\n",
       ".list-inline>li:not(:last-child)::after {content: \"\\00b7\"; padding: 0 .5ex}\n",
       "</style>\n",
       "<ol class=list-inline><li>1747</li><li>2</li></ol>\n"
      ],
      "text/latex": [
       "\\begin{enumerate*}\n",
       "\\item 1747\n",
       "\\item 2\n",
       "\\end{enumerate*}\n"
      ],
      "text/markdown": [
       "1. 1747\n",
       "2. 2\n",
       "\n",
       "\n"
      ],
      "text/plain": [
       "[1] 1747    2"
      ]
     },
     "metadata": {},
     "output_type": "display_data"
    }
   ],
   "source": [
    "FEV1_phase2_predictions <- predict(modstep, dat2)\n",
    "preds <- data.frame(sid = dat2$sid, FEV1_phase2_predictions)\n",
    "head(preds)\n",
    "dim(preds)\n",
    "write.csv(preds, 'copd_predictions.csv')"
   ]
  },
  {
   "cell_type": "markdown",
   "metadata": {
    "id": "yN07p44f1Jd5"
   },
   "source": [
    "<br>\n",
    "\n",
    "---\n",
    "\n",
    "<br>\n",
    "\n",
    "\n",
    "\n",
    "\n"
   ]
  },
  {
   "cell_type": "markdown",
   "metadata": {
    "id": "Fn4-Lr7-1Jd-"
   },
   "source": [
    "####<font color=red>Task 10</font> (20 points)\n",
    "\n",
    "Write a 500-750 word abstract describing your analysis. Note this is a formal writeup and should be written with proper spelling and grammar. Imagine you are submitting this abstract to a conference for review. The writeup should include the following:\n",
    "\n",
    "* Introduction to the topic of COPD and motivation for the analysis\n",
    "* Description of the purpose of the study/report (what you were interested in finding)\n",
    "* Briefly describe the data used to perform the analysis\n",
    "* Description of the variables and methods used to conduct the analysis (data visualization, t-tests, regression, random forests, etc.)\n",
    "* Description of the major results (estimates, significance, etc.)\n",
    "* Major conclusions from the analysis in the context of the original application.\n",
    "\n"
   ]
  },
  {
   "cell_type": "markdown",
   "metadata": {
    "id": "zpyo5GVuNeL6"
   },
   "source": [
    "Dylan Watson<br>\n",
    "Professor Hasenstab<br>\n",
    "STAT 200: Introduction to Data Science with R<br>\n",
    "3 May 2024<br>\n",
    "Predicting Future Lung Forced Expiratory Volume with Methods of Statistical Modeling<br>\n",
    "\tIn this study we were provided with a .csv file containing 35 variables of health data for over 5747 patients. These variables include information such as age, gender, race, height, weight, systolic and diastolic blood pressure, lung capacity, expiratory volume, and many other lung related factors. However, 1747 patients did not have data on a variable name FEV1_phase2 which is expiratory volume at 5 years follow up. It is our goal in this study to use statistical modeling to create accurate predictions for this expiratory volume at follow up given the other patient health metrics.<br>\n",
    "\tWe began by exploring the distributions of certain numeric variables of our dataset such as our response variable of interest FEV1_phase2 among others. We concluded that FEV1_phase2 follows an approximately normal distribution with a mean of 2.12 liters volume and standard deviation of 0.826 liters.<br>\n",
    "\tProceeding, we decided to explore the relationships between FEV1_phase2 and other categorical variables. We found that forced expiratory volume at follow up was strongly correlated with smoking status and gender and not significantly correlated by race.<br>\n",
    "\tNext, we looked into correlations between FEV1_phase1 and other numeric variables. These included FEV1, FVC, and height. There was found to be strong positive linear correlations between FEV1_phase2 and FEV1 as well as FVC with R values of 0.8887 and 0.7079 respectively. Many other variables were found to have some correlations but not nearly as significant as those two.<br>\n",
    "\tThe next step came the phase of modeling. We decided to begin with simple linear regressions. First, we modeled FEV1_phase2 vs FVC and received an R^2 of 0.7897. This model was a strong start for its simplicity, but we decided to add in some other predictors to try to improve our model’s accuracy. With the addition of FVC and height_cm in a multiple linear regression model we increased the R^2 to 0.8129. This second model produced a RMSE of 0.357.<br>\n",
    "\tFor the final stage of modeling, we went with using the step() function which considers the Akaike Information Criterion when adding variables at each step. This function will start with a base regression and test adding each variable to the base to identify which variable improves the accuracy of the regression most without introducing too much complexity. The model will step forward through this process until no variable is left which results in a lower AIC score. In other words, until the complexity added outweighs the improvement in accuracy. In the end of this process, we got a regression which includes the following variables: FEV1, FEV1_FVC_ratio, FVC, height_cm, copd, pct_gastrapping, exp_meanatt, smoking_status, visit_age, total_lung_capacity, gender, hr, race, CigPerDaySmokAvg, and pneumonia. This final model has an R^2 of 0.8753 and RMSE of 0.292 which are solid improvements on the previous model.<br>\n",
    "\tFinally, we can use the predict() function to use the model we trained on the 4000 patients with FEV1_phase2 data to predict values for the remaining 1747 patients.<br>\n"
   ]
  },
  {
   "cell_type": "code",
   "execution_count": null,
   "metadata": {},
   "outputs": [],
   "source": []
  }
 ],
 "metadata": {
  "colab": {
   "provenance": []
  },
  "kernelspec": {
   "display_name": "R 4.3.3",
   "language": "R",
   "name": "ir433"
  },
  "language_info": {
   "codemirror_mode": "r",
   "file_extension": ".r",
   "mimetype": "text/x-r-source",
   "name": "R",
   "pygments_lexer": "r",
   "version": "4.3.3"
  }
 },
 "nbformat": 4,
 "nbformat_minor": 4
}
